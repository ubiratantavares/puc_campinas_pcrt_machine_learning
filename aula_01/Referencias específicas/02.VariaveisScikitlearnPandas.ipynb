{
 "cells": [
  {
   "cell_type": "markdown",
   "id": "a7a5d410",
   "metadata": {
    "slideshow": {
     "slide_type": "slide"
    }
   },
   "source": [
    "<img src=\"imagens/Boas vindas.png\">"
   ]
  },
  {
   "cell_type": "markdown",
   "id": "82997300",
   "metadata": {
    "slideshow": {
     "slide_type": "slide"
    }
   },
   "source": [
    "<img src=\"imagens/1.png\">"
   ]
  },
  {
   "cell_type": "markdown",
   "id": "bbae21f8",
   "metadata": {
    "slideshow": {
     "slide_type": "slide"
    }
   },
   "source": [
    "<img src=\"imagens/2.png\">"
   ]
  },
  {
   "cell_type": "markdown",
   "id": "7d4d278b",
   "metadata": {
    "slideshow": {
     "slide_type": "slide"
    }
   },
   "source": [
    "<img src=\"imagens/variaveis.png\">"
   ]
  },
  {
   "cell_type": "markdown",
   "id": "197ea598",
   "metadata": {
    "slideshow": {
     "slide_type": "subslide"
    }
   },
   "source": [
    "# 1. O que são variáveis?\n",
    "\n",
    "**Programação de Sistemas** <br>\n",
    "* As variáveis são nomes usados para armazenar um ou mais valores. Sendo assim, ao invés de repetir esses valores em vários lugares do seu código, podemos recuperados a partir do nome da variável que armazena este valor.\n",
    "<br><br>\n",
    "* As variáveis são elementos básicos na programação, pois armazenam os dados que precisamos utilizar em nosso algoritmo."
   ]
  },
  {
   "cell_type": "markdown",
   "id": "6adcb294",
   "metadata": {
    "slideshow": {
     "slide_type": "subslide"
    }
   },
   "source": [
    "<img src=\"imagens/variaveis_prog.png\">"
   ]
  },
  {
   "cell_type": "markdown",
   "id": "d33bbf3f",
   "metadata": {
    "slideshow": {
     "slide_type": "subslide"
    }
   },
   "source": [
    "**Estatística** \n",
    "* As variáveis são valores que representam determinadas características dentro de uma base de dados. Esses valores podem variar de um elemento para outro.<br><br>\n",
    "* As Variáveis estão relacionadas as medidas de cada elemento de uma amostra ou população e elas podem ter valores numéricos ou não numéricos."
   ]
  },
  {
   "cell_type": "markdown",
   "id": "7e50cb39",
   "metadata": {
    "slideshow": {
     "slide_type": "subslide"
    }
   },
   "source": [
    "# 1.1. Tipos de Variáveis ?"
   ]
  },
  {
   "cell_type": "markdown",
   "id": "dd6a7913",
   "metadata": {
    "slideshow": {
     "slide_type": "subslide"
    }
   },
   "source": [
    "<img src=\"imagens/variaveis_tipos.png\">"
   ]
  },
  {
   "cell_type": "markdown",
   "id": "774abdf7",
   "metadata": {
    "slideshow": {
     "slide_type": "subslide"
    }
   },
   "source": [
    "**Variáveis Quantitativas ou Numéricas**:<br>\n",
    "São representadas por meio de números resultantes de uma contagem ou mensuração. Elas podem ser de dois tipos:\n",
    "<br>\n",
    "* **Variáveis discretas:** os valores representam um conjunto finito ou enumerável de números, e que resultam de uma contagem, por exemplo: Número de filhos (0,1,2,…), número de bactérias por amostra, número de copos de cerveja tomados por dia.\n",
    "<br><br>\n",
    "* **Variáveis contínuas:** os valores pertencem a um intervalo de números reais e representam uma mensuração como por exemplo altura ou peso de uma pessoa. Nesses casos números fracionais fazem sentido. Exemplo: tempo (relógio) e pressão arterial, salário, altura, etc.\n",
    "<br><br>"
   ]
  },
  {
   "cell_type": "markdown",
   "id": "a27a5070",
   "metadata": {
    "slideshow": {
     "slide_type": "subslide"
    }
   },
   "source": [
    "**Variáveis Qualitativas ou Categóricas:** <br>\n",
    "Representam uma qualidade (ou atributo) de um indivíduo pesquisado, são definidas por várias categorias. São características que não possuem valores quantitativos. Essas variáveis podem ser de dois tipos:\n",
    "<br>\n",
    "* **Variável nominal:** quando não existe nenhuma ordenação nas possíveis representações. Exemplos: sexo, cor dos olhos, cor do cabelo, fumante/não fumante, profissão.\n",
    "<br><br>\n",
    "* **Variável ordinal:** quando apresentam uma ordem nos seus resultados. Exemplos: escolaridade (1, 2, 3 graus), mês de observação (janeiro, fevereiro, …, dezembro.), grau de complexidade (alto, médio, baixo)."
   ]
  },
  {
   "cell_type": "code",
   "execution_count": 2,
   "id": "785e736f",
   "metadata": {
    "slideshow": {
     "slide_type": "subslide"
    }
   },
   "outputs": [],
   "source": [
    "#bibliotecas utilizadas na Parte I desta aula\n",
    "import pandas as pd\n",
    "import warnings\n",
    "import os\n",
    "\n",
    "%matplotlib inline\n",
    "warnings.filterwarnings('ignore')\n",
    "\n",
    "# Remover notação científica do DataFrame\n",
    "pd.set_option('display.float_format', lambda x: '%.2f' % x)\n",
    "\n",
    "# Mostrar todas as colunas\n",
    "pd.options.display.max_columns = None "
   ]
  },
  {
   "cell_type": "code",
   "execution_count": 3,
   "id": "05922833",
   "metadata": {
    "slideshow": {
     "slide_type": "subslide"
    }
   },
   "outputs": [
    {
     "data": {
      "text/plain": [
       "['FuelConsumptionCo2.csv',\n",
       " 'FuelConsumptionRatings2021.csv',\n",
       " 'FuelConsumptionRatings2023.csv']"
      ]
     },
     "execution_count": 3,
     "metadata": {},
     "output_type": "execute_result"
    }
   ],
   "source": [
    "# Path do dataset na máquina\n",
    "path = r'C:\\Work\\ALAN\\UNIVERSITY\\PUC\\01. DISCIPLINAS\\00001 - EAD MACHINE LEARNING\\Aula02\\dataset'\n",
    "os.chdir(path)\n",
    "os.listdir()"
   ]
  },
  {
   "cell_type": "code",
   "execution_count": 4,
   "id": "39c34dff",
   "metadata": {
    "slideshow": {
     "slide_type": "subslide"
    }
   },
   "outputs": [],
   "source": [
    "# Carregando o Dataset\n",
    "df = pd.read_csv(\"FuelConsumptionCo2.csv\")"
   ]
  },
  {
   "cell_type": "code",
   "execution_count": 5,
   "id": "4a1fdbc9",
   "metadata": {
    "slideshow": {
     "slide_type": "subslide"
    }
   },
   "outputs": [
    {
     "data": {
      "text/html": [
       "<div>\n",
       "<style scoped>\n",
       "    .dataframe tbody tr th:only-of-type {\n",
       "        vertical-align: middle;\n",
       "    }\n",
       "\n",
       "    .dataframe tbody tr th {\n",
       "        vertical-align: top;\n",
       "    }\n",
       "\n",
       "    .dataframe thead th {\n",
       "        text-align: right;\n",
       "    }\n",
       "</style>\n",
       "<table border=\"1\" class=\"dataframe\">\n",
       "  <thead>\n",
       "    <tr style=\"text-align: right;\">\n",
       "      <th></th>\n",
       "      <th>MODELYEAR</th>\n",
       "      <th>MAKE</th>\n",
       "      <th>MODEL</th>\n",
       "      <th>VEHICLECLASS</th>\n",
       "      <th>ENGINESIZE</th>\n",
       "      <th>CYLINDERS</th>\n",
       "      <th>TRANSMISSION</th>\n",
       "      <th>FUELTYPE</th>\n",
       "      <th>FUELCONSUMPTION_CITY</th>\n",
       "      <th>FUELCONSUMPTION_HWY</th>\n",
       "      <th>FUELCONSUMPTION_COMB</th>\n",
       "      <th>FUELCONSUMPTION_COMB_MPG</th>\n",
       "      <th>CO2EMISSIONS</th>\n",
       "    </tr>\n",
       "  </thead>\n",
       "  <tbody>\n",
       "    <tr>\n",
       "      <th>0</th>\n",
       "      <td>2014</td>\n",
       "      <td>ACURA</td>\n",
       "      <td>ILX</td>\n",
       "      <td>COMPACT</td>\n",
       "      <td>2.00</td>\n",
       "      <td>4</td>\n",
       "      <td>AS5</td>\n",
       "      <td>Z</td>\n",
       "      <td>9.90</td>\n",
       "      <td>6.70</td>\n",
       "      <td>8.50</td>\n",
       "      <td>33</td>\n",
       "      <td>196</td>\n",
       "    </tr>\n",
       "    <tr>\n",
       "      <th>1</th>\n",
       "      <td>2014</td>\n",
       "      <td>ACURA</td>\n",
       "      <td>ILX</td>\n",
       "      <td>COMPACT</td>\n",
       "      <td>2.40</td>\n",
       "      <td>4</td>\n",
       "      <td>M6</td>\n",
       "      <td>Z</td>\n",
       "      <td>11.20</td>\n",
       "      <td>7.70</td>\n",
       "      <td>9.60</td>\n",
       "      <td>29</td>\n",
       "      <td>221</td>\n",
       "    </tr>\n",
       "    <tr>\n",
       "      <th>2</th>\n",
       "      <td>2014</td>\n",
       "      <td>ACURA</td>\n",
       "      <td>ILX HYBRID</td>\n",
       "      <td>COMPACT</td>\n",
       "      <td>1.50</td>\n",
       "      <td>4</td>\n",
       "      <td>AV7</td>\n",
       "      <td>Z</td>\n",
       "      <td>6.00</td>\n",
       "      <td>5.80</td>\n",
       "      <td>5.90</td>\n",
       "      <td>48</td>\n",
       "      <td>136</td>\n",
       "    </tr>\n",
       "    <tr>\n",
       "      <th>3</th>\n",
       "      <td>2014</td>\n",
       "      <td>ACURA</td>\n",
       "      <td>MDX 4WD</td>\n",
       "      <td>SUV - SMALL</td>\n",
       "      <td>3.50</td>\n",
       "      <td>6</td>\n",
       "      <td>AS6</td>\n",
       "      <td>Z</td>\n",
       "      <td>12.70</td>\n",
       "      <td>9.10</td>\n",
       "      <td>11.10</td>\n",
       "      <td>25</td>\n",
       "      <td>255</td>\n",
       "    </tr>\n",
       "    <tr>\n",
       "      <th>4</th>\n",
       "      <td>2014</td>\n",
       "      <td>ACURA</td>\n",
       "      <td>RDX AWD</td>\n",
       "      <td>SUV - SMALL</td>\n",
       "      <td>3.50</td>\n",
       "      <td>6</td>\n",
       "      <td>AS6</td>\n",
       "      <td>Z</td>\n",
       "      <td>12.10</td>\n",
       "      <td>8.70</td>\n",
       "      <td>10.60</td>\n",
       "      <td>27</td>\n",
       "      <td>244</td>\n",
       "    </tr>\n",
       "  </tbody>\n",
       "</table>\n",
       "</div>"
      ],
      "text/plain": [
       "   MODELYEAR   MAKE       MODEL VEHICLECLASS  ENGINESIZE  CYLINDERS  \\\n",
       "0       2014  ACURA         ILX      COMPACT        2.00          4   \n",
       "1       2014  ACURA         ILX      COMPACT        2.40          4   \n",
       "2       2014  ACURA  ILX HYBRID      COMPACT        1.50          4   \n",
       "3       2014  ACURA     MDX 4WD  SUV - SMALL        3.50          6   \n",
       "4       2014  ACURA     RDX AWD  SUV - SMALL        3.50          6   \n",
       "\n",
       "  TRANSMISSION FUELTYPE  FUELCONSUMPTION_CITY  FUELCONSUMPTION_HWY  \\\n",
       "0          AS5        Z                  9.90                 6.70   \n",
       "1           M6        Z                 11.20                 7.70   \n",
       "2          AV7        Z                  6.00                 5.80   \n",
       "3          AS6        Z                 12.70                 9.10   \n",
       "4          AS6        Z                 12.10                 8.70   \n",
       "\n",
       "   FUELCONSUMPTION_COMB  FUELCONSUMPTION_COMB_MPG  CO2EMISSIONS  \n",
       "0                  8.50                        33           196  \n",
       "1                  9.60                        29           221  \n",
       "2                  5.90                        48           136  \n",
       "3                 11.10                        25           255  \n",
       "4                 10.60                        27           244  "
      ]
     },
     "execution_count": 5,
     "metadata": {},
     "output_type": "execute_result"
    }
   ],
   "source": [
    "df.head()"
   ]
  },
  {
   "cell_type": "code",
   "execution_count": 25,
   "id": "2e3bc1eb",
   "metadata": {
    "slideshow": {
     "slide_type": "subslide"
    }
   },
   "outputs": [
    {
     "data": {
      "text/plain": [
       "Index(['MODELYEAR', 'MAKE', 'MODEL', 'VEHICLECLASS', 'ENGINESIZE', 'CYLINDERS',\n",
       "       'TRANSMISSION', 'FUELTYPE', 'FUELCONSUMPTION_CITY',\n",
       "       'FUELCONSUMPTION_HWY', 'FUELCONSUMPTION_COMB',\n",
       "       'FUELCONSUMPTION_COMB_MPG', 'CO2EMISSIONS'],\n",
       "      dtype='object')"
      ]
     },
     "execution_count": 25,
     "metadata": {},
     "output_type": "execute_result"
    }
   ],
   "source": [
    "# Exibe todas as colunas que pertencem ao dataset\n",
    "df.columns"
   ]
  },
  {
   "cell_type": "code",
   "execution_count": 26,
   "id": "ba93ca7b",
   "metadata": {
    "slideshow": {
     "slide_type": "subslide"
    }
   },
   "outputs": [
    {
     "data": {
      "text/plain": [
       "MODELYEAR                     int64\n",
       "MAKE                         object\n",
       "MODEL                        object\n",
       "VEHICLECLASS                 object\n",
       "ENGINESIZE                  float64\n",
       "CYLINDERS                     int64\n",
       "TRANSMISSION                 object\n",
       "FUELTYPE                     object\n",
       "FUELCONSUMPTION_CITY        float64\n",
       "FUELCONSUMPTION_HWY         float64\n",
       "FUELCONSUMPTION_COMB        float64\n",
       "FUELCONSUMPTION_COMB_MPG      int64\n",
       "CO2EMISSIONS                  int64\n",
       "dtype: object"
      ]
     },
     "execution_count": 26,
     "metadata": {},
     "output_type": "execute_result"
    }
   ],
   "source": [
    "\"\"\" \n",
    "Este comando dtypes retorna os Tipos de Dados para cada campo em um Dataframe. \n",
    "Descreve os aspectos dos dados: Tipo dos dados (inteiro, float, objeto Python, etc.)\n",
    "\n",
    "\"\"\"\n",
    "\n",
    "df.dtypes"
   ]
  },
  {
   "cell_type": "markdown",
   "id": "9b1eca20",
   "metadata": {
    "slideshow": {
     "slide_type": "subslide"
    }
   },
   "source": [
    "# 1.2. Conversão de Tipos de Variáveis Numéricas int e float"
   ]
  },
  {
   "cell_type": "markdown",
   "id": "7e14a8f3",
   "metadata": {
    "slideshow": {
     "slide_type": "subslide"
    }
   },
   "source": [
    "Existem dois tipos de dados numéricos que geralmente passam por processos de transformação:\n",
    "<br>\n",
    "* Números de **Tipos Inteiros** (int) <br>\n",
    "* Números de Tipos de **Ponto flutuante** (float).<br>\n",
    "\n",
    "Em algumas situações será necessário converter um inteiro para float ou vice-versa. Em outros casos, você pode estar usando um inteiro quando o que realmente precisa é de um float.<br>\n",
    "\n",
    "Para isso, o Python possui métodos integrados para permitir a conversão de inteiros em floats e floats em inteiros."
   ]
  },
  {
   "cell_type": "code",
   "execution_count": 26,
   "id": "4a6f0349",
   "metadata": {
    "slideshow": {
     "slide_type": "subslide"
    }
   },
   "outputs": [
    {
     "name": "stdout",
     "output_type": "stream",
     "text": [
      "Neste caso, o valor float = 369.89 será convertido em int 369\n"
     ]
    }
   ],
   "source": [
    "# O método int()  - Converte Float para Int \n",
    "\"\"\"\n",
    "Através da função int() é possível realizar a conversar de um valor de número flutuante \n",
    "para um número Inteiro\n",
    "\n",
    "\"\"\"\n",
    "print (\"Neste caso, o valor float = 369.89 será convertido em int\", int(369.89))"
   ]
  },
  {
   "cell_type": "code",
   "execution_count": 43,
   "id": "508b5c20",
   "metadata": {
    "slideshow": {
     "slide_type": "subslide"
    }
   },
   "outputs": [
    {
     "name": "stdout",
     "output_type": "stream",
     "text": [
      "<class 'float'>\n",
      "<class 'float'>\n",
      "125\n",
      "390\n",
      "<class 'int'>\n",
      "<class 'int'>\n"
     ]
    }
   ],
   "source": [
    "# O método int()  - Converte Float para Int com o uso de variáveis \n",
    "\"\"\"\n",
    "Também podemos a técnica com as variáveis. Vamos declarar b como igual a 256.0, e c como igual a 390.8, \n",
    "e então imprimir os novos floats:\n",
    "\n",
    "\"\"\"\n",
    "\n",
    "# Antes da conversão\n",
    "b = 125.0\n",
    "c = 390.8\n",
    "\n",
    "print(type(b))\n",
    "print(type(c))\n",
    "\n",
    "\n",
    "# Conversão do tipo\n",
    "b = int(b)\n",
    "c= int(c)\n",
    "\n",
    "\n",
    "# Depois da conversão\n",
    "print(int(b))\n",
    "print(int(c))\n",
    "\n",
    "print(type(b))\n",
    "print(type(c))"
   ]
  },
  {
   "cell_type": "code",
   "execution_count": 30,
   "id": "c5750901",
   "metadata": {
    "slideshow": {
     "slide_type": "subslide"
    }
   },
   "outputs": [
    {
     "name": "stdout",
     "output_type": "stream",
     "text": [
      "Neste caso, o valor int = 154 será convertido em float = 154.00\n"
     ]
    }
   ],
   "source": [
    "# O método float()  - Converte Inteiro para Float \n",
    "\"\"\"\n",
    "Para usar essa função, adicione um inteiro dentro dos parênteses\n",
    "\n",
    "\"\"\"\n",
    "\n",
    "print (\"Neste caso, o valor int = 154 será convertido em float = %3.2f\" %float(154))"
   ]
  },
  {
   "cell_type": "code",
   "execution_count": 18,
   "id": "81147d05",
   "metadata": {
    "slideshow": {
     "slide_type": "subslide"
    }
   },
   "outputs": [
    {
     "name": "stdout",
     "output_type": "stream",
     "text": [
      "165.0  - Neste caso, o valor int 165 será convertido em float = 165.00\n"
     ]
    }
   ],
   "source": [
    "# Também é possível usar essa técnica com uma variável. \n",
    "# Vamos declarar value como igual a 165, e então imprimir o novo float:\n",
    "\n",
    "value = 165\n",
    "print (float(value),\" - Neste caso, o valor int\", value , \"será convertido em float = %3.2f\" %value)"
   ]
  },
  {
   "cell_type": "markdown",
   "id": "3489f7a6",
   "metadata": {
    "slideshow": {
     "slide_type": "subslide"
    }
   },
   "source": [
    "# 1.3. Conversão de Tipos de Variáveis Strings em Números (int e float)"
   ]
  },
  {
   "cell_type": "markdown",
   "id": "3d540b71",
   "metadata": {
    "slideshow": {
     "slide_type": "subslide"
    }
   },
   "source": [
    "As strings podem ser convertidas em números usando os métodos int() e float().\n",
    "\n",
    "Se sua string não tiver casas decimais, você provavelmente vai querer convertê-la em um número inteiro, usando o método int()."
   ]
  },
  {
   "cell_type": "code",
   "execution_count": 34,
   "id": "2a63e45e",
   "metadata": {
    "slideshow": {
     "slide_type": "subslide"
    }
   },
   "outputs": [
    {
     "ename": "TypeError",
     "evalue": "unsupported operand type(s) for -: 'str' and 'str'",
     "output_type": "error",
     "traceback": [
      "\u001b[1;31m---------------------------------------------------------------------------\u001b[0m",
      "\u001b[1;31mTypeError\u001b[0m                                 Traceback (most recent call last)",
      "\u001b[1;32m~\\AppData\\Local\\Temp\\ipykernel_67132\\2381243623.py\u001b[0m in \u001b[0;36m<module>\u001b[1;34m\u001b[0m\n\u001b[0;32m      4\u001b[0m \u001b[0mlines_today\u001b[0m \u001b[1;33m=\u001b[0m \u001b[1;34m\"108\"\u001b[0m\u001b[1;33m\u001b[0m\u001b[1;33m\u001b[0m\u001b[0m\n\u001b[0;32m      5\u001b[0m \u001b[1;33m\u001b[0m\u001b[0m\n\u001b[1;32m----> 6\u001b[1;33m \u001b[0mlines_more\u001b[0m \u001b[1;33m=\u001b[0m \u001b[0mlines_today\u001b[0m \u001b[1;33m-\u001b[0m \u001b[0mlines_yesterday\u001b[0m\u001b[1;33m\u001b[0m\u001b[1;33m\u001b[0m\u001b[0m\n\u001b[0m\u001b[0;32m      7\u001b[0m \u001b[1;33m\u001b[0m\u001b[0m\n\u001b[0;32m      8\u001b[0m \u001b[0mprint\u001b[0m\u001b[1;33m(\u001b[0m\u001b[0mlines_more\u001b[0m\u001b[1;33m)\u001b[0m\u001b[1;33m\u001b[0m\u001b[1;33m\u001b[0m\u001b[0m\n",
      "\u001b[1;31mTypeError\u001b[0m: unsupported operand type(s) for -: 'str' and 'str'"
     ]
    }
   ],
   "source": [
    "# Variáveis Strings\n",
    "\n",
    "lines_yesterday = \"50\"\n",
    "lines_today = \"108\"\n",
    "\n",
    "lines_more = lines_today - lines_yesterday\n",
    "\n",
    "print(lines_more)"
   ]
  },
  {
   "cell_type": "code",
   "execution_count": 35,
   "id": "338ecf8c",
   "metadata": {
    "slideshow": {
     "slide_type": "subslide"
    }
   },
   "outputs": [
    {
     "name": "stdout",
     "output_type": "stream",
     "text": [
      "58\n"
     ]
    }
   ],
   "source": [
    "# Trabailhando com conversão para int\n",
    "\n",
    "\"\"\"\n",
    "Como os dois valores numéricos foram armazenados em strings, um erro foi emitido. \n",
    "O operando - para a subtração não é um operando válido para dois valores de string.\n",
    "\n",
    "O código a seguir inclui o método int() que converterá as strings em inteiros, \n",
    "permitindo, assim, fazer operações matemáticas com os valores que eram originalmente strings.\n",
    "\n",
    "\"\"\"\n",
    "\n",
    "lines_yesterday = \"50\"\n",
    "lines_today = \"108\"\n",
    "\n",
    "lines_more = int(lines_today) - int(lines_yesterday)\n",
    "\n",
    "print(lines_more)"
   ]
  },
  {
   "cell_type": "code",
   "execution_count": 36,
   "id": "7dc8c2b0",
   "metadata": {
    "slideshow": {
     "slide_type": "subslide"
    }
   },
   "outputs": [
    {
     "name": "stdout",
     "output_type": "stream",
     "text": [
      "5524.5345.30\n"
     ]
    }
   ],
   "source": [
    "# Trabailhando com conversão para float\n",
    "\n",
    "\"\"\"\n",
    "Podemos converter os números no exemplo a seguir em valores float usando o método float().\n",
    "O sinal de + quando operando com valores Strings, no nosso exemplo irá concatenar as strings\n",
    "e nós não queremos concatenar, mas realizar uma operação de adição.\n",
    "\n",
    "Então, nosso resultado parece não convencional, pois apenas coloca os dois valores um ao lado do outro\n",
    "\n",
    "\"\"\"\n",
    "\n",
    "total_points = \"5524.53\"\n",
    "new_points = \"45.30\"\n",
    "\n",
    "new_total_points = total_points + new_points\n",
    "\n",
    "print(new_total_points)"
   ]
  },
  {
   "cell_type": "code",
   "execution_count": 37,
   "id": "24ed8038",
   "metadata": {
    "slideshow": {
     "slide_type": "subslide"
    }
   },
   "outputs": [
    {
     "name": "stdout",
     "output_type": "stream",
     "text": [
      "5569.83\n"
     ]
    }
   ],
   "source": [
    "# Convertendo para Float\n",
    "\n",
    "\"\"\"\n",
    "Precisamos converter essas strings em floats antes de executar qualquer operação matemática com o método float():\n",
    "\n",
    "\"\"\"\n",
    "\n",
    "total_points = \"5524.53\"\n",
    "new_points = \"45.30\"\n",
    "\n",
    "new_total_points = float(total_points) + float(new_points)\n",
    "\n",
    "print(new_total_points)"
   ]
  },
  {
   "cell_type": "markdown",
   "id": "a6296b0f",
   "metadata": {
    "slideshow": {
     "slide_type": "subslide"
    }
   },
   "source": [
    "# 1.4. Erros comuns com variáveis"
   ]
  },
  {
   "cell_type": "markdown",
   "id": "2aca56d5",
   "metadata": {
    "slideshow": {
     "slide_type": "subslide"
    }
   },
   "source": [
    "Entre os erros mais comuns que acontecem principalmente com quem está iniciando estão os **famosos TypeError**!\n",
    "\n",
    "Qual o erro que encontramos no exemplo abaixo? \n",
    "\n",
    "\n",
    "peso = 65.55\n",
    "altura = '1.7'\n",
    "\n",
    "imc = peso/altura**2"
   ]
  },
  {
   "cell_type": "code",
   "execution_count": 46,
   "id": "7a334445",
   "metadata": {
    "slideshow": {
     "slide_type": "slide"
    }
   },
   "outputs": [
    {
     "ename": "TypeError",
     "evalue": "unsupported operand type(s) for ** or pow(): 'str' and 'int'",
     "output_type": "error",
     "traceback": [
      "\u001b[1;31m---------------------------------------------------------------------------\u001b[0m",
      "\u001b[1;31mTypeError\u001b[0m                                 Traceback (most recent call last)",
      "\u001b[1;32m~\\AppData\\Local\\Temp\\ipykernel_67132\\3858805075.py\u001b[0m in \u001b[0;36m<module>\u001b[1;34m\u001b[0m\n\u001b[0;32m      4\u001b[0m \u001b[0maltura\u001b[0m \u001b[1;33m=\u001b[0m \u001b[1;34m'1.7'\u001b[0m\u001b[1;33m\u001b[0m\u001b[1;33m\u001b[0m\u001b[0m\n\u001b[0;32m      5\u001b[0m \u001b[1;33m\u001b[0m\u001b[0m\n\u001b[1;32m----> 6\u001b[1;33m \u001b[0mimc\u001b[0m \u001b[1;33m=\u001b[0m \u001b[0mpeso\u001b[0m\u001b[1;33m/\u001b[0m\u001b[0maltura\u001b[0m\u001b[1;33m**\u001b[0m\u001b[1;36m2\u001b[0m\u001b[1;33m\u001b[0m\u001b[1;33m\u001b[0m\u001b[0m\n\u001b[0m",
      "\u001b[1;31mTypeError\u001b[0m: unsupported operand type(s) for ** or pow(): 'str' and 'int'"
     ]
    }
   ],
   "source": [
    "# O seguinte erro será lançado:\n",
    "\n",
    "\"\"\"\n",
    "TypeError: unsupported operand type(s) for ** or pow(): 'str' and 'int'\n",
    "\n",
    "\"\"\"\n",
    "    \n",
    "peso = 65.55 \n",
    "altura = '1.7'\n",
    "\n",
    "imc = peso/altura**2"
   ]
  },
  {
   "cell_type": "code",
   "execution_count": 50,
   "id": "2cb7e2d9",
   "metadata": {},
   "outputs": [
    {
     "name": "stdout",
     "output_type": "stream",
     "text": [
      "22.6817\n"
     ]
    }
   ],
   "source": [
    "\"\"\"\n",
    "Para fazer esse cálculo corretamente a altura não pode ser string, podendo ser float ou inteiro \n",
    "(caso não fosse um valor decimal). \n",
    "\n",
    "Uma forma correta de realizar esse cálculo seria da seguinte maneira:\n",
    "\n",
    "\"\"\"\n",
    "\n",
    "peso = 65.55\n",
    "altura = 1.7\n",
    "\n",
    "imc = peso/altura**2\n",
    "\n",
    "print(\"%3.4f\" %imc)"
   ]
  },
  {
   "cell_type": "markdown",
   "id": "9f2152cc",
   "metadata": {
    "slideshow": {
     "slide_type": "subslide"
    }
   },
   "source": [
    "### Conclusão\n",
    "\n",
    "Importante reforçar que nosso objetivo aquin não é cobrir todos os tipos de dados existentes, até porque muitos desses têm suas próprias subclassificações e o assunto é muito extenso. Mas conseguimos cobrir aqueles tipos de dados que são mais comuns no mercado e entre as pessoas técnicas da área de estatística e Data Science. \n",
    "\n",
    "O mais importante de tudo é entender como navegar entre esses conceitos na hora de tomar decisões, sejam elas de formatação de banco de dados ou até mesmo nos modelos de coleta e armazenagem, não confundindo ou misturando tipos de dados distintos e correndo o risco de inviabilizar determinadas análises por conta disso."
   ]
  },
  {
   "cell_type": "markdown",
   "id": "bacd00ae",
   "metadata": {
    "slideshow": {
     "slide_type": "slide"
    }
   },
   "source": [
    "<img src=\"imagens/pandas.png\">"
   ]
  },
  {
   "cell_type": "markdown",
   "id": "0bbce8a1",
   "metadata": {
    "slideshow": {
     "slide_type": "subslide"
    }
   },
   "source": [
    "# 1. O que é o Pandas ?"
   ]
  },
  {
   "cell_type": "markdown",
   "id": "03a37ead",
   "metadata": {
    "slideshow": {
     "slide_type": "subslide"
    }
   },
   "source": [
    "<img src=\"imagens/pandas_pet.png\">"
   ]
  },
  {
   "cell_type": "markdown",
   "id": "86fc36fe",
   "metadata": {
    "slideshow": {
     "slide_type": "subslide"
    }
   },
   "source": [
    "<img src=\"imagens/pandas_conceito.png\">"
   ]
  },
  {
   "cell_type": "markdown",
   "id": "75fd52ae",
   "metadata": {},
   "source": [
    "<img src=\"imagens/pandas_PanelData.png\">"
   ]
  },
  {
   "cell_type": "markdown",
   "id": "f20e4e92",
   "metadata": {
    "slideshow": {
     "slide_type": "subslide"
    }
   },
   "source": [
    "# 2. Como Funciona o pandas ?"
   ]
  },
  {
   "cell_type": "markdown",
   "id": "8e2190d4",
   "metadata": {
    "slideshow": {
     "slide_type": "subslide"
    }
   },
   "source": [
    "<img src=\"imagens/pandas_como.png\">"
   ]
  },
  {
   "cell_type": "code",
   "execution_count": null,
   "id": "4cc999ef",
   "metadata": {
    "slideshow": {
     "slide_type": "subslide"
    }
   },
   "outputs": [],
   "source": [
    "#bibliotecas utilizadas nesta aula\n",
    "import pandas as pd\n",
    "import warnings\n",
    "import os\n",
    "\n",
    "%matplotlib inline\n",
    "warnings.filterwarnings('ignore')\n",
    "\n",
    "# Remover notação científica do DataFrame\n",
    "pd.set_option('display.float_format', lambda x: '%.2f' % x)\n",
    "\n",
    "# Mostrar todas as colunas\n",
    "pd.options.display.max_columns = None "
   ]
  },
  {
   "cell_type": "code",
   "execution_count": null,
   "id": "9e6ae6c8",
   "metadata": {
    "slideshow": {
     "slide_type": "subslide"
    }
   },
   "outputs": [],
   "source": []
  },
  {
   "cell_type": "markdown",
   "id": "a86c24e8",
   "metadata": {
    "slideshow": {
     "slide_type": "slide"
    }
   },
   "source": [
    "<img src=\"imagens/scikitlearn.png\">"
   ]
  },
  {
   "cell_type": "markdown",
   "id": "9ba5562e",
   "metadata": {
    "slideshow": {
     "slide_type": "subslide"
    }
   },
   "source": [
    "# 1. O que é o ScikitLearn?"
   ]
  },
  {
   "cell_type": "markdown",
   "id": "77c29150",
   "metadata": {
    "slideshow": {
     "slide_type": "subslide"
    }
   },
   "source": [
    "<img src=\"imagens/ScikitLearn_conceito.png\">"
   ]
  },
  {
   "cell_type": "code",
   "execution_count": 14,
   "id": "7a255a16",
   "metadata": {
    "slideshow": {
     "slide_type": "subslide"
    }
   },
   "outputs": [],
   "source": [
    "#bibliotecas utilizadas nesta aula\n",
    "import pandas as pd\n",
    "import warnings\n",
    "import os\n",
    "\n",
    "%matplotlib inline\n",
    "warnings.filterwarnings('ignore')\n",
    "\n",
    "# Remover notação científica do DataFrame\n",
    "pd.set_option('display.float_format', lambda x: '%.2f' % x)\n",
    "\n",
    "# Mostrar todas as colunas\n",
    "pd.options.display.max_columns = None "
   ]
  }
 ],
 "metadata": {
  "celltoolbar": "Slideshow",
  "kernelspec": {
   "display_name": "Python 3 (ipykernel)",
   "language": "python",
   "name": "python3"
  },
  "language_info": {
   "codemirror_mode": {
    "name": "ipython",
    "version": 3
   },
   "file_extension": ".py",
   "mimetype": "text/x-python",
   "name": "python",
   "nbconvert_exporter": "python",
   "pygments_lexer": "ipython3",
   "version": "3.9.13"
  }
 },
 "nbformat": 4,
 "nbformat_minor": 5
}
