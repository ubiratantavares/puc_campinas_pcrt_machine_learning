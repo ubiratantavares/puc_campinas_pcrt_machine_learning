{
 "cells": [
  {
   "cell_type": "markdown",
   "id": "a7a5d410",
   "metadata": {
    "slideshow": {
     "slide_type": "slide"
    }
   },
   "source": [
    "<img src=\"imagens/Boas vindas.png\">"
   ]
  },
  {
   "cell_type": "markdown",
   "id": "bbae21f8",
   "metadata": {
    "slideshow": {
     "slide_type": "slide"
    }
   },
   "source": [
    "<img src=\"imagens/2.png\">"
   ]
  },
  {
   "cell_type": "markdown",
   "id": "e95b554c",
   "metadata": {
    "slideshow": {
     "slide_type": "slide"
    }
   },
   "source": [
    "# Parte 1: Variáveis"
   ]
  },
  {
   "cell_type": "markdown",
   "id": "7d4d278b",
   "metadata": {
    "slideshow": {
     "slide_type": "subslide"
    }
   },
   "source": [
    "<img src=\"imagens/variaveis.png\">"
   ]
  },
  {
   "cell_type": "markdown",
   "id": "197ea598",
   "metadata": {
    "slideshow": {
     "slide_type": "subslide"
    }
   },
   "source": [
    "# 1.1. O que são variáveis?\n",
    "\n",
    "**Programação de Sistemas** <br>\n",
    "* As variáveis são nomes usados para armazenar um ou mais valores. Sendo assim, ao invés de repetir esses valores em vários lugares do seu código, podemos recuperá-los a partir do nome da variável que armazena este valor.\n",
    "<br><br>\n",
    "* As variáveis são elementos básicos na programação, pois armazenam os dados que precisamos utilizar em nosso algoritmo."
   ]
  },
  {
   "cell_type": "markdown",
   "id": "6adcb294",
   "metadata": {
    "slideshow": {
     "slide_type": "subslide"
    }
   },
   "source": [
    "<img src=\"imagens/variaveis_prog.png\">"
   ]
  },
  {
   "cell_type": "markdown",
   "id": "d33bbf3f",
   "metadata": {
    "slideshow": {
     "slide_type": "subslide"
    }
   },
   "source": [
    "**Estatística** \n",
    "* As variáveis são valores que representam determinadas características dentro de uma base de dados. Esses valores podem variar de um elemento para outro.<br><br>\n",
    "* As Variáveis estão relacionadas as medidas de cada elemento de uma amostra ou população e elas podem ter valores numéricos ou não numéricos."
   ]
  },
  {
   "cell_type": "markdown",
   "id": "7e50cb39",
   "metadata": {
    "slideshow": {
     "slide_type": "subslide"
    }
   },
   "source": [
    "# 1.2. Tipos de Variáveis ?"
   ]
  },
  {
   "cell_type": "markdown",
   "id": "dd6a7913",
   "metadata": {
    "slideshow": {
     "slide_type": "subslide"
    }
   },
   "source": [
    "<img src=\"imagens/variaveis_tipos.png\">"
   ]
  },
  {
   "cell_type": "markdown",
   "id": "774abdf7",
   "metadata": {
    "slideshow": {
     "slide_type": "subslide"
    }
   },
   "source": [
    "**Variáveis Quantitativas ou Numéricas**:<br>\n",
    "São representadas por meio de números resultantes de uma contagem ou mensuração. Elas podem ser de dois tipos:\n",
    "<br>\n",
    "* **Variáveis discretas:** os valores representam um conjunto finito ou enumerável de números, e que resultam de uma contagem, por exemplo: Número de filhos (0,1,2,…), número de bactérias por amostra, número de copos de cerveja tomados por dia.\n",
    "<br><br>\n",
    "* **Variáveis contínuas:** os valores pertencem a um intervalo de números reais e representam uma mensuração como por exemplo altura ou peso de uma pessoa. Nesses casos números fracionais fazem sentido. Exemplo: tempo (relógio) e pressão arterial, salário, altura, etc.\n",
    "<br><br>"
   ]
  },
  {
   "cell_type": "markdown",
   "id": "a27a5070",
   "metadata": {
    "slideshow": {
     "slide_type": "subslide"
    }
   },
   "source": [
    "**Variáveis Qualitativas ou Categóricas:** <br>\n",
    "Representam uma qualidade (ou atributo) de um indivíduo pesquisado, são definidas por várias categorias. São características que não possuem valores quantitativos. Essas variáveis podem ser de dois tipos:\n",
    "<br>\n",
    "* **Variável nominal:** quando não existe nenhuma ordenação nas possíveis representações. Exemplos: sexo, cor dos olhos, cor do cabelo, fumante/não fumante, profissão.\n",
    "<br><br>\n",
    "* **Variável ordinal:** quando apresentam uma ordem nos seus resultados. Exemplos: escolaridade (1, 2, 3 graus), mês de observação (janeiro, fevereiro, …, dezembro.), grau de complexidade (alto, médio, baixo)."
   ]
  },
  {
   "cell_type": "code",
   "execution_count": 55,
   "id": "785e736f",
   "metadata": {
    "slideshow": {
     "slide_type": "subslide"
    }
   },
   "outputs": [],
   "source": [
    "#bibliotecas utilizadas na Parte I desta aula\n",
    "import pandas as pd\n",
    "import warnings\n",
    "import os\n",
    "\n",
    "%matplotlib inline\n",
    "warnings.filterwarnings('ignore')\n",
    "\n",
    "# Remover notação científica do DataFrame\n",
    "pd.set_option('display.float_format', lambda x: '%.2f' % x)\n",
    "\n",
    "# Mostrar todas as colunas\n",
    "pd.options.display.max_columns = None "
   ]
  },
  {
   "cell_type": "code",
   "execution_count": 56,
   "id": "05922833",
   "metadata": {
    "slideshow": {
     "slide_type": "subslide"
    }
   },
   "outputs": [
    {
     "data": {
      "text/plain": [
       "['FuelConsumptionCo2.csv',\n",
       " 'FuelConsumptionRatings2021.csv',\n",
       " 'FuelConsumptionRatings2023.csv']"
      ]
     },
     "execution_count": 56,
     "metadata": {},
     "output_type": "execute_result"
    }
   ],
   "source": [
    "# Path do dataset na máquina\n",
    "path = r'C:\\Work\\ALAN\\UNIVERSITY\\PUC\\01. DISCIPLINAS\\00001 - EAD MACHINE LEARNING\\Aula02\\dataset'\n",
    "os.chdir(path)\n",
    "os.listdir()"
   ]
  },
  {
   "cell_type": "code",
   "execution_count": 57,
   "id": "39c34dff",
   "metadata": {
    "slideshow": {
     "slide_type": "subslide"
    }
   },
   "outputs": [],
   "source": [
    "# Carregando o Dataset\n",
    "df = pd.read_csv(\"FuelConsumptionCo2.csv\")"
   ]
  },
  {
   "cell_type": "code",
   "execution_count": 58,
   "id": "4a1fdbc9",
   "metadata": {
    "slideshow": {
     "slide_type": "subslide"
    }
   },
   "outputs": [
    {
     "data": {
      "text/html": [
       "<div>\n",
       "<style scoped>\n",
       "    .dataframe tbody tr th:only-of-type {\n",
       "        vertical-align: middle;\n",
       "    }\n",
       "\n",
       "    .dataframe tbody tr th {\n",
       "        vertical-align: top;\n",
       "    }\n",
       "\n",
       "    .dataframe thead th {\n",
       "        text-align: right;\n",
       "    }\n",
       "</style>\n",
       "<table border=\"1\" class=\"dataframe\">\n",
       "  <thead>\n",
       "    <tr style=\"text-align: right;\">\n",
       "      <th></th>\n",
       "      <th>MODELYEAR</th>\n",
       "      <th>MAKE</th>\n",
       "      <th>MODEL</th>\n",
       "      <th>VEHICLECLASS</th>\n",
       "      <th>ENGINESIZE</th>\n",
       "      <th>CYLINDERS</th>\n",
       "      <th>TRANSMISSION</th>\n",
       "      <th>FUELTYPE</th>\n",
       "      <th>FUELCONSUMPTION_CITY</th>\n",
       "      <th>FUELCONSUMPTION_HWY</th>\n",
       "      <th>FUELCONSUMPTION_COMB</th>\n",
       "      <th>FUELCONSUMPTION_COMB_MPG</th>\n",
       "      <th>CO2EMISSIONS</th>\n",
       "    </tr>\n",
       "  </thead>\n",
       "  <tbody>\n",
       "    <tr>\n",
       "      <th>0</th>\n",
       "      <td>2014</td>\n",
       "      <td>ACURA</td>\n",
       "      <td>ILX</td>\n",
       "      <td>COMPACT</td>\n",
       "      <td>2.00</td>\n",
       "      <td>4</td>\n",
       "      <td>AS5</td>\n",
       "      <td>Z</td>\n",
       "      <td>9.90</td>\n",
       "      <td>6.70</td>\n",
       "      <td>8.50</td>\n",
       "      <td>33</td>\n",
       "      <td>196</td>\n",
       "    </tr>\n",
       "    <tr>\n",
       "      <th>1</th>\n",
       "      <td>2014</td>\n",
       "      <td>ACURA</td>\n",
       "      <td>ILX</td>\n",
       "      <td>COMPACT</td>\n",
       "      <td>2.40</td>\n",
       "      <td>4</td>\n",
       "      <td>M6</td>\n",
       "      <td>Z</td>\n",
       "      <td>11.20</td>\n",
       "      <td>7.70</td>\n",
       "      <td>9.60</td>\n",
       "      <td>29</td>\n",
       "      <td>221</td>\n",
       "    </tr>\n",
       "    <tr>\n",
       "      <th>2</th>\n",
       "      <td>2014</td>\n",
       "      <td>ACURA</td>\n",
       "      <td>ILX HYBRID</td>\n",
       "      <td>COMPACT</td>\n",
       "      <td>1.50</td>\n",
       "      <td>4</td>\n",
       "      <td>AV7</td>\n",
       "      <td>Z</td>\n",
       "      <td>6.00</td>\n",
       "      <td>5.80</td>\n",
       "      <td>5.90</td>\n",
       "      <td>48</td>\n",
       "      <td>136</td>\n",
       "    </tr>\n",
       "    <tr>\n",
       "      <th>3</th>\n",
       "      <td>2014</td>\n",
       "      <td>ACURA</td>\n",
       "      <td>MDX 4WD</td>\n",
       "      <td>SUV - SMALL</td>\n",
       "      <td>3.50</td>\n",
       "      <td>6</td>\n",
       "      <td>AS6</td>\n",
       "      <td>Z</td>\n",
       "      <td>12.70</td>\n",
       "      <td>9.10</td>\n",
       "      <td>11.10</td>\n",
       "      <td>25</td>\n",
       "      <td>255</td>\n",
       "    </tr>\n",
       "    <tr>\n",
       "      <th>4</th>\n",
       "      <td>2014</td>\n",
       "      <td>ACURA</td>\n",
       "      <td>RDX AWD</td>\n",
       "      <td>SUV - SMALL</td>\n",
       "      <td>3.50</td>\n",
       "      <td>6</td>\n",
       "      <td>AS6</td>\n",
       "      <td>Z</td>\n",
       "      <td>12.10</td>\n",
       "      <td>8.70</td>\n",
       "      <td>10.60</td>\n",
       "      <td>27</td>\n",
       "      <td>244</td>\n",
       "    </tr>\n",
       "  </tbody>\n",
       "</table>\n",
       "</div>"
      ],
      "text/plain": [
       "   MODELYEAR   MAKE       MODEL VEHICLECLASS  ENGINESIZE  CYLINDERS  \\\n",
       "0       2014  ACURA         ILX      COMPACT        2.00          4   \n",
       "1       2014  ACURA         ILX      COMPACT        2.40          4   \n",
       "2       2014  ACURA  ILX HYBRID      COMPACT        1.50          4   \n",
       "3       2014  ACURA     MDX 4WD  SUV - SMALL        3.50          6   \n",
       "4       2014  ACURA     RDX AWD  SUV - SMALL        3.50          6   \n",
       "\n",
       "  TRANSMISSION FUELTYPE  FUELCONSUMPTION_CITY  FUELCONSUMPTION_HWY  \\\n",
       "0          AS5        Z                  9.90                 6.70   \n",
       "1           M6        Z                 11.20                 7.70   \n",
       "2          AV7        Z                  6.00                 5.80   \n",
       "3          AS6        Z                 12.70                 9.10   \n",
       "4          AS6        Z                 12.10                 8.70   \n",
       "\n",
       "   FUELCONSUMPTION_COMB  FUELCONSUMPTION_COMB_MPG  CO2EMISSIONS  \n",
       "0                  8.50                        33           196  \n",
       "1                  9.60                        29           221  \n",
       "2                  5.90                        48           136  \n",
       "3                 11.10                        25           255  \n",
       "4                 10.60                        27           244  "
      ]
     },
     "execution_count": 58,
     "metadata": {},
     "output_type": "execute_result"
    }
   ],
   "source": [
    "df.head()"
   ]
  },
  {
   "cell_type": "code",
   "execution_count": 59,
   "id": "2e3bc1eb",
   "metadata": {
    "slideshow": {
     "slide_type": "subslide"
    }
   },
   "outputs": [
    {
     "data": {
      "text/plain": [
       "Index(['MODELYEAR', 'MAKE', 'MODEL', 'VEHICLECLASS', 'ENGINESIZE', 'CYLINDERS',\n",
       "       'TRANSMISSION', 'FUELTYPE', 'FUELCONSUMPTION_CITY',\n",
       "       'FUELCONSUMPTION_HWY', 'FUELCONSUMPTION_COMB',\n",
       "       'FUELCONSUMPTION_COMB_MPG', 'CO2EMISSIONS'],\n",
       "      dtype='object')"
      ]
     },
     "execution_count": 59,
     "metadata": {},
     "output_type": "execute_result"
    }
   ],
   "source": [
    "# Exibe todas as colunas que pertencem ao dataset\n",
    "df.columns"
   ]
  },
  {
   "cell_type": "code",
   "execution_count": 60,
   "id": "ba93ca7b",
   "metadata": {
    "slideshow": {
     "slide_type": "subslide"
    }
   },
   "outputs": [
    {
     "data": {
      "text/plain": [
       "MODELYEAR                     int64\n",
       "MAKE                         object\n",
       "MODEL                        object\n",
       "VEHICLECLASS                 object\n",
       "ENGINESIZE                  float64\n",
       "CYLINDERS                     int64\n",
       "TRANSMISSION                 object\n",
       "FUELTYPE                     object\n",
       "FUELCONSUMPTION_CITY        float64\n",
       "FUELCONSUMPTION_HWY         float64\n",
       "FUELCONSUMPTION_COMB        float64\n",
       "FUELCONSUMPTION_COMB_MPG      int64\n",
       "CO2EMISSIONS                  int64\n",
       "dtype: object"
      ]
     },
     "execution_count": 60,
     "metadata": {},
     "output_type": "execute_result"
    }
   ],
   "source": [
    "\"\"\" \n",
    "Este comando dtypes retorna os Tipos de Dados para cada campo em um Dataframe. \n",
    "Descreve os aspectos dos dados: Tipo dos dados (inteiro, float, objeto Python, etc.)\n",
    "\n",
    "\"\"\"\n",
    "\n",
    "df.dtypes"
   ]
  },
  {
   "cell_type": "markdown",
   "id": "9b1eca20",
   "metadata": {
    "slideshow": {
     "slide_type": "subslide"
    }
   },
   "source": [
    "# 1.3. Conversão de Tipos de Variáveis Numéricas int e float"
   ]
  },
  {
   "cell_type": "markdown",
   "id": "7e14a8f3",
   "metadata": {
    "slideshow": {
     "slide_type": "subslide"
    }
   },
   "source": [
    "Existem dois tipos de dados numéricos que geralmente passam por processos de transformação:\n",
    "<br>\n",
    "* Números de **Tipos Inteiros** (int) <br>\n",
    "* Números de Tipos de **Ponto flutuante** (float).<br>\n",
    "\n",
    "Em algumas situações será necessário converter um inteiro para float ou vice-versa. Em outros casos, você pode estar usando um inteiro quando o que realmente precisa é de um float.<br>\n",
    "\n",
    "Para isso, o Python possui métodos integrados para permitir a conversão de inteiros em floats e floats em inteiros."
   ]
  },
  {
   "cell_type": "code",
   "execution_count": 61,
   "id": "4a6f0349",
   "metadata": {
    "slideshow": {
     "slide_type": "subslide"
    }
   },
   "outputs": [
    {
     "name": "stdout",
     "output_type": "stream",
     "text": [
      "Neste caso, o valor float = 369.89 será convertido em int 369\n"
     ]
    }
   ],
   "source": [
    "# O método int()  - Converte Float para Int \n",
    "\"\"\"\n",
    "Através da função int() é possível realizar a conversar de um valor de número flutuante \n",
    "para um número Inteiro\n",
    "\n",
    "\"\"\"\n",
    "print (\"Neste caso, o valor float = 369.89 será convertido em int\", int(369.89))"
   ]
  },
  {
   "cell_type": "code",
   "execution_count": 62,
   "id": "508b5c20",
   "metadata": {
    "slideshow": {
     "slide_type": "subslide"
    }
   },
   "outputs": [
    {
     "name": "stdout",
     "output_type": "stream",
     "text": [
      "<class 'float'>\n",
      "<class 'float'>\n",
      "125\n",
      "390\n",
      "<class 'int'>\n",
      "<class 'int'>\n"
     ]
    }
   ],
   "source": [
    "# O método int()  - Converte Float para Int com o uso de variáveis \n",
    "\"\"\"\n",
    "Também podemos a técnica com as variáveis. Vamos declarar b como igual a 256.0, e c como igual a 390.8, \n",
    "e então imprimir os novos floats:\n",
    "\n",
    "\"\"\"\n",
    "\n",
    "# Antes da conversão\n",
    "b = 125.0\n",
    "c = 390.8\n",
    "\n",
    "print(type(b))\n",
    "print(type(c))\n",
    "\n",
    "\n",
    "# Conversão do tipo\n",
    "b = int(b)\n",
    "c= int(c)\n",
    "\n",
    "\n",
    "# Depois da conversão\n",
    "print(int(b))\n",
    "print(int(c))\n",
    "\n",
    "print(type(b))\n",
    "print(type(c))"
   ]
  },
  {
   "cell_type": "code",
   "execution_count": 63,
   "id": "c5750901",
   "metadata": {
    "slideshow": {
     "slide_type": "subslide"
    }
   },
   "outputs": [
    {
     "name": "stdout",
     "output_type": "stream",
     "text": [
      "Neste caso, o valor int = 154 será convertido em float = 154.00\n"
     ]
    }
   ],
   "source": [
    "# O método float()  - Converte Inteiro para Float \n",
    "\"\"\"\n",
    "Para usar essa função, adicione um inteiro dentro dos parênteses\n",
    "\n",
    "\"\"\"\n",
    "\n",
    "print (\"Neste caso, o valor int = 154 será convertido em float = %3.2f\" %float(154))"
   ]
  },
  {
   "cell_type": "code",
   "execution_count": 64,
   "id": "81147d05",
   "metadata": {
    "slideshow": {
     "slide_type": "subslide"
    }
   },
   "outputs": [
    {
     "name": "stdout",
     "output_type": "stream",
     "text": [
      "165.0  - Neste caso, o valor int 165 será convertido em float = 165.00\n"
     ]
    }
   ],
   "source": [
    "# Também é possível usar essa técnica com uma variável. \n",
    "# Vamos declarar value como igual a 165, e então imprimir o novo float:\n",
    "\n",
    "value = 165\n",
    "print (float(value),\" - Neste caso, o valor int\", value , \"será convertido em float = %3.2f\" %value)"
   ]
  },
  {
   "cell_type": "markdown",
   "id": "3489f7a6",
   "metadata": {
    "slideshow": {
     "slide_type": "subslide"
    }
   },
   "source": [
    "# 1.4. Conversão de Tipos de Variáveis Strings em Números (int e float)"
   ]
  },
  {
   "cell_type": "markdown",
   "id": "3d540b71",
   "metadata": {
    "slideshow": {
     "slide_type": "subslide"
    }
   },
   "source": [
    "As strings podem ser convertidas em números usando os métodos int() e float().\n",
    "\n",
    "Se sua string não tiver casas decimais, você provavelmente vai querer convertê-la em um número inteiro, usando o método int()."
   ]
  },
  {
   "cell_type": "code",
   "execution_count": 65,
   "id": "2a63e45e",
   "metadata": {
    "slideshow": {
     "slide_type": "subslide"
    }
   },
   "outputs": [
    {
     "ename": "TypeError",
     "evalue": "unsupported operand type(s) for -: 'str' and 'str'",
     "output_type": "error",
     "traceback": [
      "\u001b[1;31m---------------------------------------------------------------------------\u001b[0m",
      "\u001b[1;31mTypeError\u001b[0m                                 Traceback (most recent call last)",
      "\u001b[1;32m~\\AppData\\Local\\Temp\\ipykernel_67132\\2381243623.py\u001b[0m in \u001b[0;36m<module>\u001b[1;34m\u001b[0m\n\u001b[0;32m      4\u001b[0m \u001b[0mlines_today\u001b[0m \u001b[1;33m=\u001b[0m \u001b[1;34m\"108\"\u001b[0m\u001b[1;33m\u001b[0m\u001b[1;33m\u001b[0m\u001b[0m\n\u001b[0;32m      5\u001b[0m \u001b[1;33m\u001b[0m\u001b[0m\n\u001b[1;32m----> 6\u001b[1;33m \u001b[0mlines_more\u001b[0m \u001b[1;33m=\u001b[0m \u001b[0mlines_today\u001b[0m \u001b[1;33m-\u001b[0m \u001b[0mlines_yesterday\u001b[0m\u001b[1;33m\u001b[0m\u001b[1;33m\u001b[0m\u001b[0m\n\u001b[0m\u001b[0;32m      7\u001b[0m \u001b[1;33m\u001b[0m\u001b[0m\n\u001b[0;32m      8\u001b[0m \u001b[0mprint\u001b[0m\u001b[1;33m(\u001b[0m\u001b[0mlines_more\u001b[0m\u001b[1;33m)\u001b[0m\u001b[1;33m\u001b[0m\u001b[1;33m\u001b[0m\u001b[0m\n",
      "\u001b[1;31mTypeError\u001b[0m: unsupported operand type(s) for -: 'str' and 'str'"
     ]
    }
   ],
   "source": [
    "# Variáveis Strings\n",
    "\n",
    "lines_yesterday = \"50\"\n",
    "lines_today = \"108\"\n",
    "\n",
    "lines_more = lines_today - lines_yesterday\n",
    "\n",
    "print(lines_more)"
   ]
  },
  {
   "cell_type": "code",
   "execution_count": 66,
   "id": "338ecf8c",
   "metadata": {
    "slideshow": {
     "slide_type": "subslide"
    }
   },
   "outputs": [
    {
     "name": "stdout",
     "output_type": "stream",
     "text": [
      "58\n"
     ]
    }
   ],
   "source": [
    "# Trabailhando com conversão para int\n",
    "\n",
    "\"\"\"\n",
    "Como os dois valores numéricos foram armazenados em strings, um erro foi emitido. \n",
    "O operando - para a subtração não é um operando válido para dois valores de string.\n",
    "\n",
    "O código a seguir inclui o método int() que converterá as strings em inteiros, \n",
    "permitindo, assim, fazer operações matemáticas com os valores que eram originalmente strings.\n",
    "\n",
    "\"\"\"\n",
    "\n",
    "lines_yesterday = \"50\"\n",
    "lines_today = \"108\"\n",
    "\n",
    "lines_more = int(lines_today) - int(lines_yesterday)\n",
    "\n",
    "print(lines_more)"
   ]
  },
  {
   "cell_type": "code",
   "execution_count": 67,
   "id": "7dc8c2b0",
   "metadata": {
    "slideshow": {
     "slide_type": "subslide"
    }
   },
   "outputs": [
    {
     "name": "stdout",
     "output_type": "stream",
     "text": [
      "5524.5345.30\n"
     ]
    }
   ],
   "source": [
    "# Trabailhando com conversão para float\n",
    "\n",
    "\"\"\"\n",
    "Podemos converter os números no exemplo a seguir em valores float usando o método float().\n",
    "O sinal de + quando operando com valores Strings, no nosso exemplo irá concatenar as strings\n",
    "e nós não queremos concatenar, mas realizar uma operação de adição.\n",
    "\n",
    "Então, nosso resultado parece não convencional, pois apenas coloca os dois valores um ao lado do outro\n",
    "\n",
    "\"\"\"\n",
    "\n",
    "total_points = \"5524.53\"\n",
    "new_points = \"45.30\"\n",
    "\n",
    "new_total_points = total_points + new_points\n",
    "\n",
    "print(new_total_points)"
   ]
  },
  {
   "cell_type": "code",
   "execution_count": 68,
   "id": "24ed8038",
   "metadata": {
    "slideshow": {
     "slide_type": "subslide"
    }
   },
   "outputs": [
    {
     "name": "stdout",
     "output_type": "stream",
     "text": [
      "5569.83\n"
     ]
    }
   ],
   "source": [
    "# Convertendo para Float\n",
    "\n",
    "\"\"\"\n",
    "Precisamos converter essas strings em floats antes de executar qualquer operação matemática com o método float():\n",
    "\n",
    "\"\"\"\n",
    "\n",
    "total_points = \"5524.53\"\n",
    "new_points = \"45.30\"\n",
    "\n",
    "new_total_points = float(total_points) + float(new_points)\n",
    "\n",
    "print(new_total_points)"
   ]
  },
  {
   "cell_type": "markdown",
   "id": "a6296b0f",
   "metadata": {
    "slideshow": {
     "slide_type": "subslide"
    }
   },
   "source": [
    "# 1.5. Erros comuns com variáveis"
   ]
  },
  {
   "cell_type": "markdown",
   "id": "2aca56d5",
   "metadata": {
    "slideshow": {
     "slide_type": "subslide"
    }
   },
   "source": [
    "Entre os erros mais comuns que acontecem principalmente com quem está iniciando estão os **famosos TypeError**!\n",
    "\n",
    "Qual o erro que encontramos no exemplo abaixo? \n",
    "\n",
    "\n",
    "peso = 65.55\n",
    "altura = '1.7'\n",
    "\n",
    "imc = peso/altura**2"
   ]
  },
  {
   "cell_type": "code",
   "execution_count": 69,
   "id": "7a334445",
   "metadata": {
    "slideshow": {
     "slide_type": "subslide"
    }
   },
   "outputs": [
    {
     "ename": "TypeError",
     "evalue": "unsupported operand type(s) for ** or pow(): 'str' and 'int'",
     "output_type": "error",
     "traceback": [
      "\u001b[1;31m---------------------------------------------------------------------------\u001b[0m",
      "\u001b[1;31mTypeError\u001b[0m                                 Traceback (most recent call last)",
      "\u001b[1;32m~\\AppData\\Local\\Temp\\ipykernel_67132\\1302527287.py\u001b[0m in \u001b[0;36m<module>\u001b[1;34m\u001b[0m\n\u001b[0;32m      9\u001b[0m \u001b[0maltura\u001b[0m \u001b[1;33m=\u001b[0m \u001b[1;34m'1.7'\u001b[0m\u001b[1;33m\u001b[0m\u001b[1;33m\u001b[0m\u001b[0m\n\u001b[0;32m     10\u001b[0m \u001b[1;33m\u001b[0m\u001b[0m\n\u001b[1;32m---> 11\u001b[1;33m \u001b[0mimc\u001b[0m \u001b[1;33m=\u001b[0m \u001b[0mpeso\u001b[0m\u001b[1;33m/\u001b[0m\u001b[0maltura\u001b[0m\u001b[1;33m**\u001b[0m\u001b[1;36m2\u001b[0m\u001b[1;33m\u001b[0m\u001b[1;33m\u001b[0m\u001b[0m\n\u001b[0m",
      "\u001b[1;31mTypeError\u001b[0m: unsupported operand type(s) for ** or pow(): 'str' and 'int'"
     ]
    }
   ],
   "source": [
    "# O seguinte erro será lançado:\n",
    "\n",
    "\"\"\"\n",
    "TypeError: unsupported operand type(s) for ** or pow(): 'str' and 'int'\n",
    "\n",
    "\"\"\"\n",
    "    \n",
    "peso = 65.55 \n",
    "altura = '1.7'\n",
    "\n",
    "imc = peso/altura**2"
   ]
  },
  {
   "cell_type": "code",
   "execution_count": 70,
   "id": "2cb7e2d9",
   "metadata": {
    "slideshow": {
     "slide_type": "subslide"
    }
   },
   "outputs": [
    {
     "name": "stdout",
     "output_type": "stream",
     "text": [
      "22.6817\n"
     ]
    }
   ],
   "source": [
    "\"\"\"\n",
    "Para fazer esse cálculo corretamente a altura não pode ser string, podendo ser float ou inteiro \n",
    "(caso não fosse um valor decimal). \n",
    "\n",
    "Uma forma correta de realizar esse cálculo seria da seguinte maneira:\n",
    "\n",
    "\"\"\"\n",
    "\n",
    "peso = 65.55\n",
    "altura = 1.7\n",
    "\n",
    "imc = peso/altura**2\n",
    "\n",
    "print(\"%3.4f\" %imc)"
   ]
  },
  {
   "cell_type": "markdown",
   "id": "9f2152cc",
   "metadata": {
    "slideshow": {
     "slide_type": "subslide"
    }
   },
   "source": [
    "# 1.6. Conclusão\n",
    "\n",
    "Importante reforçar que nosso objetivo aqui não é cobrir todos os tipos de dados existentes, até porque muitos desses têm suas próprias subclassificações e o assunto é muito extenso. Mas conseguimos cobrir aqueles tipos de dados que são mais comuns no mercado e entre as pessoas técnicas da área de estatística e Data Science. \n",
    "\n",
    "O mais importante de tudo é entender como navegar entre esses conceitos na hora de tomar decisões, sejam elas de formatação de banco de dados ou até mesmo nos modelos de coleta e armazenagem, não confundindo ou misturando tipos de dados distintos e correndo o risco de inviabilizar determinadas análises por conta disso."
   ]
  },
  {
   "cell_type": "markdown",
   "id": "1f2af27b",
   "metadata": {
    "slideshow": {
     "slide_type": "slide"
    }
   },
   "source": [
    "# Parte 2: Pandas"
   ]
  },
  {
   "cell_type": "markdown",
   "id": "bacd00ae",
   "metadata": {
    "slideshow": {
     "slide_type": "subslide"
    }
   },
   "source": [
    "<img src=\"imagens/pandas.png\">"
   ]
  },
  {
   "cell_type": "markdown",
   "id": "0bbce8a1",
   "metadata": {
    "slideshow": {
     "slide_type": "subslide"
    }
   },
   "source": [
    "## 2.1. O que é o Pandas ?"
   ]
  },
  {
   "cell_type": "markdown",
   "id": "03a37ead",
   "metadata": {
    "slideshow": {
     "slide_type": "subslide"
    }
   },
   "source": [
    "<img src=\"imagens/pandas_pet.png\">"
   ]
  },
  {
   "cell_type": "markdown",
   "id": "86fc36fe",
   "metadata": {
    "slideshow": {
     "slide_type": "subslide"
    }
   },
   "source": [
    "<img src=\"imagens/pandas_conceito.png\">"
   ]
  },
  {
   "cell_type": "markdown",
   "id": "75fd52ae",
   "metadata": {
    "slideshow": {
     "slide_type": "subslide"
    }
   },
   "source": [
    "<img src=\"imagens/pandas_PanelData.png\">"
   ]
  },
  {
   "cell_type": "markdown",
   "id": "f20e4e92",
   "metadata": {
    "slideshow": {
     "slide_type": "subslide"
    }
   },
   "source": [
    "# 2.2. Como funciona o Pandas ?"
   ]
  },
  {
   "cell_type": "code",
   "execution_count": 1,
   "id": "4cc999ef",
   "metadata": {
    "slideshow": {
     "slide_type": "subslide"
    }
   },
   "outputs": [],
   "source": [
    "#bibliotecas utilizadas nesta aula\n",
    "import pandas as pd\n",
    "import warnings as wn\n",
    "\n",
    "wn.filterwarnings('ignore')"
   ]
  },
  {
   "cell_type": "code",
   "execution_count": 3,
   "id": "a1514bc6",
   "metadata": {
    "slideshow": {
     "slide_type": "subslide"
    }
   },
   "outputs": [
    {
     "data": {
      "text/plain": [
       "'1.4.4'"
      ]
     },
     "execution_count": 3,
     "metadata": {},
     "output_type": "execute_result"
    }
   ],
   "source": [
    "# Verificar a versão do Módulo instalado\n",
    "pd.__version__"
   ]
  },
  {
   "cell_type": "code",
   "execution_count": 11,
   "id": "7b59dadf",
   "metadata": {
    "slideshow": {
     "slide_type": "subslide"
    }
   },
   "outputs": [
    {
     "name": "stdout",
     "output_type": "stream",
     "text": [
      "Requirement already satisfied: pandas in c:\\users\\famil\\anaconda3\\lib\\site-packages (1.4.4)\n",
      "Requirement already satisfied: numpy>=1.18.5 in c:\\users\\famil\\anaconda3\\lib\\site-packages (from pandas) (1.21.5)\n",
      "Requirement already satisfied: python-dateutil>=2.8.1 in c:\\users\\famil\\anaconda3\\lib\\site-packages (from pandas) (2.8.2)\n",
      "Requirement already satisfied: pytz>=2020.1 in c:\\users\\famil\\anaconda3\\lib\\site-packages (from pandas) (2022.1)\n",
      "Requirement already satisfied: six>=1.5 in c:\\users\\famil\\anaconda3\\lib\\site-packages (from python-dateutil>=2.8.1->pandas) (1.16.0)\n",
      "Note: you may need to restart the kernel to use updated packages.\n"
     ]
    }
   ],
   "source": [
    "pip install pandas"
   ]
  },
  {
   "cell_type": "markdown",
   "id": "8e2190d4",
   "metadata": {
    "slideshow": {
     "slide_type": "subslide"
    }
   },
   "source": [
    "<img src=\"imagens/pandas_como.png\">"
   ]
  },
  {
   "cell_type": "markdown",
   "id": "1ab836b4",
   "metadata": {
    "slideshow": {
     "slide_type": "subslide"
    }
   },
   "source": [
    "# Series\n",
    "\n",
    "* As Series são objetos de tipo array **unidimensional**, com um eixo de rótulos, também chamado de index, que é responsável por identificar cada registro. \n",
    "<br><br>\n",
    "* Um exemplo de Series no Pandas é encontrado no dataset FuelConsumptionCo2 quando isolamos uma das variáveis para exibição, por exemplo o o índice de Emissão de CO2, onde podemos observar o seguinte formato:"
   ]
  },
  {
   "cell_type": "code",
   "execution_count": 81,
   "id": "417b5254",
   "metadata": {
    "slideshow": {
     "slide_type": "subslide"
    }
   },
   "outputs": [
    {
     "data": {
      "text/plain": [
       "0       196\n",
       "1       221\n",
       "2       136\n",
       "3       255\n",
       "4       244\n",
       "       ... \n",
       "1062    271\n",
       "1063    264\n",
       "1064    271\n",
       "1065    260\n",
       "1066    294\n",
       "Name: CO2EMISSIONS, Length: 1067, dtype: int64"
      ]
     },
     "execution_count": 81,
     "metadata": {},
     "output_type": "execute_result"
    }
   ],
   "source": [
    "# Definindo uma Serie\n",
    "\n",
    "\"\"\"\n",
    "A coluna de números antes dos espaços à esquerda é o index, e os dados são apresentados à direita. \n",
    "No final da apresentação, há uma pequena descrição de nome, formato e tipo de dados presentes na Series.\n",
    "\n",
    "\"\"\"\n",
    "dfCO2 = df['CO2EMISSIONS']\n",
    "\n",
    "dfCO2\n"
   ]
  },
  {
   "cell_type": "markdown",
   "id": "846e0424",
   "metadata": {
    "slideshow": {
     "slide_type": "subslide"
    }
   },
   "source": [
    "# Dataframes\n",
    "\n",
    "* Os DataFrames são objetos **bidimensionais**, de tamanho variável. O seu formato é de uma tabela, onde os dados são organizados em linhas e colunas. \n",
    "<br><br>\n",
    "* Além disso, enquanto podemos pensar a Series como uma única coluna, o DataFrame seria uma união de várias Series sob um mesmo index. \n",
    "<br><br>\n",
    "* A estrutura do DataFrame é apresentada a seguir:"
   ]
  },
  {
   "cell_type": "code",
   "execution_count": 77,
   "id": "6396763e",
   "metadata": {
    "slideshow": {
     "slide_type": "subslide"
    }
   },
   "outputs": [
    {
     "data": {
      "text/html": [
       "<div>\n",
       "<style scoped>\n",
       "    .dataframe tbody tr th:only-of-type {\n",
       "        vertical-align: middle;\n",
       "    }\n",
       "\n",
       "    .dataframe tbody tr th {\n",
       "        vertical-align: top;\n",
       "    }\n",
       "\n",
       "    .dataframe thead th {\n",
       "        text-align: right;\n",
       "    }\n",
       "</style>\n",
       "<table border=\"1\" class=\"dataframe\">\n",
       "  <thead>\n",
       "    <tr style=\"text-align: right;\">\n",
       "      <th></th>\n",
       "      <th>MODELYEAR</th>\n",
       "      <th>MAKE</th>\n",
       "      <th>MODEL</th>\n",
       "      <th>VEHICLECLASS</th>\n",
       "      <th>ENGINESIZE</th>\n",
       "      <th>CYLINDERS</th>\n",
       "      <th>TRANSMISSION</th>\n",
       "      <th>FUELTYPE</th>\n",
       "      <th>FUELCONSUMPTION_CITY</th>\n",
       "      <th>FUELCONSUMPTION_HWY</th>\n",
       "      <th>FUELCONSUMPTION_COMB</th>\n",
       "      <th>FUELCONSUMPTION_COMB_MPG</th>\n",
       "      <th>CO2EMISSIONS</th>\n",
       "    </tr>\n",
       "  </thead>\n",
       "  <tbody>\n",
       "    <tr>\n",
       "      <th>0</th>\n",
       "      <td>2014</td>\n",
       "      <td>ACURA</td>\n",
       "      <td>ILX</td>\n",
       "      <td>COMPACT</td>\n",
       "      <td>2.00</td>\n",
       "      <td>4</td>\n",
       "      <td>AS5</td>\n",
       "      <td>Z</td>\n",
       "      <td>9.90</td>\n",
       "      <td>6.70</td>\n",
       "      <td>8.50</td>\n",
       "      <td>33</td>\n",
       "      <td>196</td>\n",
       "    </tr>\n",
       "    <tr>\n",
       "      <th>1</th>\n",
       "      <td>2014</td>\n",
       "      <td>ACURA</td>\n",
       "      <td>ILX</td>\n",
       "      <td>COMPACT</td>\n",
       "      <td>2.40</td>\n",
       "      <td>4</td>\n",
       "      <td>M6</td>\n",
       "      <td>Z</td>\n",
       "      <td>11.20</td>\n",
       "      <td>7.70</td>\n",
       "      <td>9.60</td>\n",
       "      <td>29</td>\n",
       "      <td>221</td>\n",
       "    </tr>\n",
       "    <tr>\n",
       "      <th>2</th>\n",
       "      <td>2014</td>\n",
       "      <td>ACURA</td>\n",
       "      <td>ILX HYBRID</td>\n",
       "      <td>COMPACT</td>\n",
       "      <td>1.50</td>\n",
       "      <td>4</td>\n",
       "      <td>AV7</td>\n",
       "      <td>Z</td>\n",
       "      <td>6.00</td>\n",
       "      <td>5.80</td>\n",
       "      <td>5.90</td>\n",
       "      <td>48</td>\n",
       "      <td>136</td>\n",
       "    </tr>\n",
       "    <tr>\n",
       "      <th>3</th>\n",
       "      <td>2014</td>\n",
       "      <td>ACURA</td>\n",
       "      <td>MDX 4WD</td>\n",
       "      <td>SUV - SMALL</td>\n",
       "      <td>3.50</td>\n",
       "      <td>6</td>\n",
       "      <td>AS6</td>\n",
       "      <td>Z</td>\n",
       "      <td>12.70</td>\n",
       "      <td>9.10</td>\n",
       "      <td>11.10</td>\n",
       "      <td>25</td>\n",
       "      <td>255</td>\n",
       "    </tr>\n",
       "    <tr>\n",
       "      <th>4</th>\n",
       "      <td>2014</td>\n",
       "      <td>ACURA</td>\n",
       "      <td>RDX AWD</td>\n",
       "      <td>SUV - SMALL</td>\n",
       "      <td>3.50</td>\n",
       "      <td>6</td>\n",
       "      <td>AS6</td>\n",
       "      <td>Z</td>\n",
       "      <td>12.10</td>\n",
       "      <td>8.70</td>\n",
       "      <td>10.60</td>\n",
       "      <td>27</td>\n",
       "      <td>244</td>\n",
       "    </tr>\n",
       "  </tbody>\n",
       "</table>\n",
       "</div>"
      ],
      "text/plain": [
       "   MODELYEAR   MAKE       MODEL VEHICLECLASS  ENGINESIZE  CYLINDERS  \\\n",
       "0       2014  ACURA         ILX      COMPACT        2.00          4   \n",
       "1       2014  ACURA         ILX      COMPACT        2.40          4   \n",
       "2       2014  ACURA  ILX HYBRID      COMPACT        1.50          4   \n",
       "3       2014  ACURA     MDX 4WD  SUV - SMALL        3.50          6   \n",
       "4       2014  ACURA     RDX AWD  SUV - SMALL        3.50          6   \n",
       "\n",
       "  TRANSMISSION FUELTYPE  FUELCONSUMPTION_CITY  FUELCONSUMPTION_HWY  \\\n",
       "0          AS5        Z                  9.90                 6.70   \n",
       "1           M6        Z                 11.20                 7.70   \n",
       "2          AV7        Z                  6.00                 5.80   \n",
       "3          AS6        Z                 12.70                 9.10   \n",
       "4          AS6        Z                 12.10                 8.70   \n",
       "\n",
       "   FUELCONSUMPTION_COMB  FUELCONSUMPTION_COMB_MPG  CO2EMISSIONS  \n",
       "0                  8.50                        33           196  \n",
       "1                  9.60                        29           221  \n",
       "2                  5.90                        48           136  \n",
       "3                 11.10                        25           255  \n",
       "4                 10.60                        27           244  "
      ]
     },
     "execution_count": 77,
     "metadata": {},
     "output_type": "execute_result"
    }
   ],
   "source": [
    "df.head()"
   ]
  },
  {
   "cell_type": "markdown",
   "id": "552c0645",
   "metadata": {
    "slideshow": {
     "slide_type": "subslide"
    }
   },
   "source": [
    "Podemos trabalhar com a criação de cada uma dessas estruturas usando os métodos do Pandas (abaixo), sobre estruturas nativas do Python (como listas, arrays e dicionários)\n",
    "\n",
    "* pandas.DataFrame e \n",
    "* pandas.Series \n",
    "\n",
    "O Pandas também permite que trabalhemos com a leitura e escrita de vários tipos de arquivos de dados, tais como:\n",
    "\n",
    "* CSV\n",
    "* Planilhas Excel\n",
    "* SQL\n",
    "* HTML\n",
    "* JSON\n",
    "* XML\n",
    "* Entre outros."
   ]
  },
  {
   "cell_type": "code",
   "execution_count": 79,
   "id": "1300ded4",
   "metadata": {
    "slideshow": {
     "slide_type": "subslide"
    }
   },
   "outputs": [],
   "source": [
    "# Carregando o Dataset\n",
    "ds = pd.read_csv(\"FuelConsumptionCo2.csv\")"
   ]
  },
  {
   "cell_type": "code",
   "execution_count": 80,
   "id": "69b07f64",
   "metadata": {
    "slideshow": {
     "slide_type": "subslide"
    }
   },
   "outputs": [
    {
     "data": {
      "text/html": [
       "<div>\n",
       "<style scoped>\n",
       "    .dataframe tbody tr th:only-of-type {\n",
       "        vertical-align: middle;\n",
       "    }\n",
       "\n",
       "    .dataframe tbody tr th {\n",
       "        vertical-align: top;\n",
       "    }\n",
       "\n",
       "    .dataframe thead th {\n",
       "        text-align: right;\n",
       "    }\n",
       "</style>\n",
       "<table border=\"1\" class=\"dataframe\">\n",
       "  <thead>\n",
       "    <tr style=\"text-align: right;\">\n",
       "      <th></th>\n",
       "      <th>MODELYEAR</th>\n",
       "      <th>MAKE</th>\n",
       "      <th>MODEL</th>\n",
       "      <th>VEHICLECLASS</th>\n",
       "      <th>ENGINESIZE</th>\n",
       "      <th>CYLINDERS</th>\n",
       "      <th>TRANSMISSION</th>\n",
       "      <th>FUELTYPE</th>\n",
       "      <th>FUELCONSUMPTION_CITY</th>\n",
       "      <th>FUELCONSUMPTION_HWY</th>\n",
       "      <th>FUELCONSUMPTION_COMB</th>\n",
       "      <th>FUELCONSUMPTION_COMB_MPG</th>\n",
       "      <th>CO2EMISSIONS</th>\n",
       "    </tr>\n",
       "  </thead>\n",
       "  <tbody>\n",
       "    <tr>\n",
       "      <th>0</th>\n",
       "      <td>2014</td>\n",
       "      <td>ACURA</td>\n",
       "      <td>ILX</td>\n",
       "      <td>COMPACT</td>\n",
       "      <td>2.00</td>\n",
       "      <td>4</td>\n",
       "      <td>AS5</td>\n",
       "      <td>Z</td>\n",
       "      <td>9.90</td>\n",
       "      <td>6.70</td>\n",
       "      <td>8.50</td>\n",
       "      <td>33</td>\n",
       "      <td>196</td>\n",
       "    </tr>\n",
       "    <tr>\n",
       "      <th>1</th>\n",
       "      <td>2014</td>\n",
       "      <td>ACURA</td>\n",
       "      <td>ILX</td>\n",
       "      <td>COMPACT</td>\n",
       "      <td>2.40</td>\n",
       "      <td>4</td>\n",
       "      <td>M6</td>\n",
       "      <td>Z</td>\n",
       "      <td>11.20</td>\n",
       "      <td>7.70</td>\n",
       "      <td>9.60</td>\n",
       "      <td>29</td>\n",
       "      <td>221</td>\n",
       "    </tr>\n",
       "    <tr>\n",
       "      <th>2</th>\n",
       "      <td>2014</td>\n",
       "      <td>ACURA</td>\n",
       "      <td>ILX HYBRID</td>\n",
       "      <td>COMPACT</td>\n",
       "      <td>1.50</td>\n",
       "      <td>4</td>\n",
       "      <td>AV7</td>\n",
       "      <td>Z</td>\n",
       "      <td>6.00</td>\n",
       "      <td>5.80</td>\n",
       "      <td>5.90</td>\n",
       "      <td>48</td>\n",
       "      <td>136</td>\n",
       "    </tr>\n",
       "    <tr>\n",
       "      <th>3</th>\n",
       "      <td>2014</td>\n",
       "      <td>ACURA</td>\n",
       "      <td>MDX 4WD</td>\n",
       "      <td>SUV - SMALL</td>\n",
       "      <td>3.50</td>\n",
       "      <td>6</td>\n",
       "      <td>AS6</td>\n",
       "      <td>Z</td>\n",
       "      <td>12.70</td>\n",
       "      <td>9.10</td>\n",
       "      <td>11.10</td>\n",
       "      <td>25</td>\n",
       "      <td>255</td>\n",
       "    </tr>\n",
       "    <tr>\n",
       "      <th>4</th>\n",
       "      <td>2014</td>\n",
       "      <td>ACURA</td>\n",
       "      <td>RDX AWD</td>\n",
       "      <td>SUV - SMALL</td>\n",
       "      <td>3.50</td>\n",
       "      <td>6</td>\n",
       "      <td>AS6</td>\n",
       "      <td>Z</td>\n",
       "      <td>12.10</td>\n",
       "      <td>8.70</td>\n",
       "      <td>10.60</td>\n",
       "      <td>27</td>\n",
       "      <td>244</td>\n",
       "    </tr>\n",
       "    <tr>\n",
       "      <th>...</th>\n",
       "      <td>...</td>\n",
       "      <td>...</td>\n",
       "      <td>...</td>\n",
       "      <td>...</td>\n",
       "      <td>...</td>\n",
       "      <td>...</td>\n",
       "      <td>...</td>\n",
       "      <td>...</td>\n",
       "      <td>...</td>\n",
       "      <td>...</td>\n",
       "      <td>...</td>\n",
       "      <td>...</td>\n",
       "      <td>...</td>\n",
       "    </tr>\n",
       "    <tr>\n",
       "      <th>1062</th>\n",
       "      <td>2014</td>\n",
       "      <td>VOLVO</td>\n",
       "      <td>XC60 AWD</td>\n",
       "      <td>SUV - SMALL</td>\n",
       "      <td>3.00</td>\n",
       "      <td>6</td>\n",
       "      <td>AS6</td>\n",
       "      <td>X</td>\n",
       "      <td>13.40</td>\n",
       "      <td>9.80</td>\n",
       "      <td>11.80</td>\n",
       "      <td>24</td>\n",
       "      <td>271</td>\n",
       "    </tr>\n",
       "    <tr>\n",
       "      <th>1063</th>\n",
       "      <td>2014</td>\n",
       "      <td>VOLVO</td>\n",
       "      <td>XC60 AWD</td>\n",
       "      <td>SUV - SMALL</td>\n",
       "      <td>3.20</td>\n",
       "      <td>6</td>\n",
       "      <td>AS6</td>\n",
       "      <td>X</td>\n",
       "      <td>13.20</td>\n",
       "      <td>9.50</td>\n",
       "      <td>11.50</td>\n",
       "      <td>25</td>\n",
       "      <td>264</td>\n",
       "    </tr>\n",
       "    <tr>\n",
       "      <th>1064</th>\n",
       "      <td>2014</td>\n",
       "      <td>VOLVO</td>\n",
       "      <td>XC70 AWD</td>\n",
       "      <td>SUV - SMALL</td>\n",
       "      <td>3.00</td>\n",
       "      <td>6</td>\n",
       "      <td>AS6</td>\n",
       "      <td>X</td>\n",
       "      <td>13.40</td>\n",
       "      <td>9.80</td>\n",
       "      <td>11.80</td>\n",
       "      <td>24</td>\n",
       "      <td>271</td>\n",
       "    </tr>\n",
       "    <tr>\n",
       "      <th>1065</th>\n",
       "      <td>2014</td>\n",
       "      <td>VOLVO</td>\n",
       "      <td>XC70 AWD</td>\n",
       "      <td>SUV - SMALL</td>\n",
       "      <td>3.20</td>\n",
       "      <td>6</td>\n",
       "      <td>AS6</td>\n",
       "      <td>X</td>\n",
       "      <td>12.90</td>\n",
       "      <td>9.30</td>\n",
       "      <td>11.30</td>\n",
       "      <td>25</td>\n",
       "      <td>260</td>\n",
       "    </tr>\n",
       "    <tr>\n",
       "      <th>1066</th>\n",
       "      <td>2014</td>\n",
       "      <td>VOLVO</td>\n",
       "      <td>XC90 AWD</td>\n",
       "      <td>SUV - STANDARD</td>\n",
       "      <td>3.20</td>\n",
       "      <td>6</td>\n",
       "      <td>AS6</td>\n",
       "      <td>X</td>\n",
       "      <td>14.90</td>\n",
       "      <td>10.20</td>\n",
       "      <td>12.80</td>\n",
       "      <td>22</td>\n",
       "      <td>294</td>\n",
       "    </tr>\n",
       "  </tbody>\n",
       "</table>\n",
       "<p>1067 rows × 13 columns</p>\n",
       "</div>"
      ],
      "text/plain": [
       "      MODELYEAR   MAKE       MODEL    VEHICLECLASS  ENGINESIZE  CYLINDERS  \\\n",
       "0          2014  ACURA         ILX         COMPACT        2.00          4   \n",
       "1          2014  ACURA         ILX         COMPACT        2.40          4   \n",
       "2          2014  ACURA  ILX HYBRID         COMPACT        1.50          4   \n",
       "3          2014  ACURA     MDX 4WD     SUV - SMALL        3.50          6   \n",
       "4          2014  ACURA     RDX AWD     SUV - SMALL        3.50          6   \n",
       "...         ...    ...         ...             ...         ...        ...   \n",
       "1062       2014  VOLVO    XC60 AWD     SUV - SMALL        3.00          6   \n",
       "1063       2014  VOLVO    XC60 AWD     SUV - SMALL        3.20          6   \n",
       "1064       2014  VOLVO    XC70 AWD     SUV - SMALL        3.00          6   \n",
       "1065       2014  VOLVO    XC70 AWD     SUV - SMALL        3.20          6   \n",
       "1066       2014  VOLVO    XC90 AWD  SUV - STANDARD        3.20          6   \n",
       "\n",
       "     TRANSMISSION FUELTYPE  FUELCONSUMPTION_CITY  FUELCONSUMPTION_HWY  \\\n",
       "0             AS5        Z                  9.90                 6.70   \n",
       "1              M6        Z                 11.20                 7.70   \n",
       "2             AV7        Z                  6.00                 5.80   \n",
       "3             AS6        Z                 12.70                 9.10   \n",
       "4             AS6        Z                 12.10                 8.70   \n",
       "...           ...      ...                   ...                  ...   \n",
       "1062          AS6        X                 13.40                 9.80   \n",
       "1063          AS6        X                 13.20                 9.50   \n",
       "1064          AS6        X                 13.40                 9.80   \n",
       "1065          AS6        X                 12.90                 9.30   \n",
       "1066          AS6        X                 14.90                10.20   \n",
       "\n",
       "      FUELCONSUMPTION_COMB  FUELCONSUMPTION_COMB_MPG  CO2EMISSIONS  \n",
       "0                     8.50                        33           196  \n",
       "1                     9.60                        29           221  \n",
       "2                     5.90                        48           136  \n",
       "3                    11.10                        25           255  \n",
       "4                    10.60                        27           244  \n",
       "...                    ...                       ...           ...  \n",
       "1062                 11.80                        24           271  \n",
       "1063                 11.50                        25           264  \n",
       "1064                 11.80                        24           271  \n",
       "1065                 11.30                        25           260  \n",
       "1066                 12.80                        22           294  \n",
       "\n",
       "[1067 rows x 13 columns]"
      ]
     },
     "execution_count": 80,
     "metadata": {},
     "output_type": "execute_result"
    }
   ],
   "source": [
    "ds"
   ]
  },
  {
   "cell_type": "markdown",
   "id": "6f2385a6",
   "metadata": {
    "slideshow": {
     "slide_type": "subslide"
    }
   },
   "source": [
    "# Criando um Dataframe utilizando Listas\n",
    "\n",
    "* Uma forma simples de se criar um DataFrame, é utilizando listas.\n",
    "<br><br>\n",
    "* Podemos montar um DataFrame com os estados da região norte do Brasil com uma lista"
   ]
  },
  {
   "cell_type": "code",
   "execution_count": 5,
   "id": "507878d1",
   "metadata": {
    "slideshow": {
     "slide_type": "subslide"
    }
   },
   "outputs": [
    {
     "name": "stdout",
     "output_type": "stream",
     "text": [
      "           0\n",
      "0       Acre\n",
      "1      Amapá\n",
      "2   Amazonas\n",
      "3       Pará\n",
      "4   Rondônia\n",
      "5    Roraima\n",
      "6  Tocantins\n"
     ]
    }
   ],
   "source": [
    "#Criando um Dataframe sem header na coluna\n",
    "\n",
    "estados = ['Acre',\n",
    "           'Amapá',\n",
    "           'Amazonas',\n",
    "           'Pará',\n",
    "           'Rondônia',\n",
    "           'Roraima',\n",
    "           'Tocantins']\n",
    "\n",
    "df2 = pd.DataFrame(estados)\n",
    "\n",
    "print(df2)"
   ]
  },
  {
   "cell_type": "code",
   "execution_count": 6,
   "id": "63c81270",
   "metadata": {
    "slideshow": {
     "slide_type": "subslide"
    }
   },
   "outputs": [
    {
     "name": "stdout",
     "output_type": "stream",
     "text": [
      "     estados\n",
      "0       Acre\n",
      "1      Amapá\n",
      "2   Amazonas\n",
      "3       Pará\n",
      "4   Rondônia\n",
      "5    Roraima\n",
      "6  Tocantins\n"
     ]
    }
   ],
   "source": [
    "# Poderíamos definir o nome da coluna com o argumento columns\n",
    "\n",
    "estados = ['Acre',\n",
    "           'Amapá',\n",
    "           'Amazonas',\n",
    "           'Pará',\n",
    "           'Rondônia',\n",
    "           'Roraima',\n",
    "           'Tocantins']\n",
    "\n",
    "df3 = pd.DataFrame(estados, columns=['estados'])\n",
    "\n",
    "print(df3)"
   ]
  },
  {
   "cell_type": "code",
   "execution_count": 2,
   "id": "04bdfad9",
   "metadata": {
    "slideshow": {
     "slide_type": "subslide"
    }
   },
   "outputs": [
    {
     "name": "stdout",
     "output_type": "stream",
     "text": [
      "      Estado Sigla    População      Capital Aniversario\n",
      "0       Acre    AC    803,5 mil   Rio Branco  13/04/1882\n",
      "1      Amapá    AP    776,6 mil       Macapá  02/06/1876\n",
      "2   Amazonas    AM  3,9 milhões       Manaus  18/09/1906\n",
      "3       Pará    PA  8,1 milhões        Belém  19/07/1856\n",
      "4   Rondônia    RO   1,7 milhão  Porto Velho  22/02/1816\n",
      "5    Roraima    RR    505,6 mil    Boa Vista  11/05/1926\n",
      "6  Tocantins    TO   1,5 milhão       Palmas  09/03/1776\n"
     ]
    }
   ],
   "source": [
    "#  Utilizar uma lista de listas para montar um DataFrame com várias colunas:\n",
    "\n",
    "capitais = [['Acre', 'AC', '803,5 mil', 'Rio Branco','13/04/1882'],\n",
    "            ['Amapá', 'AP', '776,6 mil', 'Macapá','02/06/1876'],\n",
    "            ['Amazonas', 'AM', '3,9 milhões', 'Manaus','18/09/1906'],\n",
    "            ['Pará', 'PA', '8,1 milhões', 'Belém','19/07/1856'],\n",
    "            ['Rondônia', 'RO', '1,7 milhão', 'Porto Velho','22/02/1816'],\n",
    "            ['Roraima', 'RR', '505,6 mil', 'Boa Vista','11/05/1926'],\n",
    "            ['Tocantins', 'TO', '1,5 milhão', 'Palmas','09/03/1776']]\n",
    "\n",
    "df4 = pd.DataFrame(capitais, columns=['Estado', 'Sigla', 'População', 'Capital', 'Aniversario'])\n",
    "\n",
    "print(df4)"
   ]
  },
  {
   "cell_type": "code",
   "execution_count": 15,
   "id": "2b0e1cdc",
   "metadata": {
    "slideshow": {
     "slide_type": "subslide"
    }
   },
   "outputs": [
    {
     "data": {
      "text/plain": [
       "Estado         object\n",
       "Sigla          object\n",
       "População      object\n",
       "Capital        object\n",
       "Aniversario    object\n",
       "dtype: object"
      ]
     },
     "execution_count": 15,
     "metadata": {},
     "output_type": "execute_result"
    }
   ],
   "source": [
    "\"\"\"\n",
    "A coluna Data não foi reconhecida com o tipo datetime, e sim como object que é o equivalente a string, \n",
    "nesse caso, teremos que transformá-la para o tipo datetime.\n",
    "\n",
    "\"\"\"\n",
    "\n",
    "df4.dtypes"
   ]
  },
  {
   "cell_type": "code",
   "execution_count": 3,
   "id": "f9ea8b24",
   "metadata": {
    "slideshow": {
     "slide_type": "subslide"
    }
   },
   "outputs": [
    {
     "data": {
      "text/plain": [
       "Estado                 object\n",
       "Sigla                  object\n",
       "População              object\n",
       "Capital                object\n",
       "Aniversario    datetime64[ns]\n",
       "dtype: object"
      ]
     },
     "execution_count": 3,
     "metadata": {},
     "output_type": "execute_result"
    }
   ],
   "source": [
    "# Alterar o tipo de dado da Data\n",
    "\n",
    "\"\"\"\n",
    "Para isso, utilizamos a função to_datetime do Pandas e passamos a coluna Data do nosso DataFrame.\n",
    "Assim, agora já temos a coluna data no formato correto \n",
    "\n",
    "\"\"\"\n",
    "\n",
    "df4['Aniversario'] = pd.to_datetime(df4['Aniversario'])\n",
    "\n",
    "df4.dtypes"
   ]
  },
  {
   "cell_type": "code",
   "execution_count": 4,
   "id": "7e5954f7",
   "metadata": {
    "slideshow": {
     "slide_type": "subslide"
    }
   },
   "outputs": [
    {
     "data": {
      "text/html": [
       "<div>\n",
       "<style scoped>\n",
       "    .dataframe tbody tr th:only-of-type {\n",
       "        vertical-align: middle;\n",
       "    }\n",
       "\n",
       "    .dataframe tbody tr th {\n",
       "        vertical-align: top;\n",
       "    }\n",
       "\n",
       "    .dataframe thead th {\n",
       "        text-align: right;\n",
       "    }\n",
       "</style>\n",
       "<table border=\"1\" class=\"dataframe\">\n",
       "  <thead>\n",
       "    <tr style=\"text-align: right;\">\n",
       "      <th></th>\n",
       "      <th>Estado</th>\n",
       "      <th>Sigla</th>\n",
       "      <th>População</th>\n",
       "      <th>Capital</th>\n",
       "      <th>Aniversario</th>\n",
       "    </tr>\n",
       "  </thead>\n",
       "  <tbody>\n",
       "    <tr>\n",
       "      <th>0</th>\n",
       "      <td>Acre</td>\n",
       "      <td>AC</td>\n",
       "      <td>803,5 mil</td>\n",
       "      <td>Rio Branco</td>\n",
       "      <td>1882-04-13</td>\n",
       "    </tr>\n",
       "    <tr>\n",
       "      <th>1</th>\n",
       "      <td>Amapá</td>\n",
       "      <td>AP</td>\n",
       "      <td>776,6 mil</td>\n",
       "      <td>Macapá</td>\n",
       "      <td>1876-02-06</td>\n",
       "    </tr>\n",
       "    <tr>\n",
       "      <th>2</th>\n",
       "      <td>Amazonas</td>\n",
       "      <td>AM</td>\n",
       "      <td>3,9 milhões</td>\n",
       "      <td>Manaus</td>\n",
       "      <td>1906-09-18</td>\n",
       "    </tr>\n",
       "    <tr>\n",
       "      <th>3</th>\n",
       "      <td>Pará</td>\n",
       "      <td>PA</td>\n",
       "      <td>8,1 milhões</td>\n",
       "      <td>Belém</td>\n",
       "      <td>1856-07-19</td>\n",
       "    </tr>\n",
       "    <tr>\n",
       "      <th>4</th>\n",
       "      <td>Rondônia</td>\n",
       "      <td>RO</td>\n",
       "      <td>1,7 milhão</td>\n",
       "      <td>Porto Velho</td>\n",
       "      <td>1816-02-22</td>\n",
       "    </tr>\n",
       "  </tbody>\n",
       "</table>\n",
       "</div>"
      ],
      "text/plain": [
       "     Estado Sigla    População      Capital Aniversario\n",
       "0      Acre    AC    803,5 mil   Rio Branco  1882-04-13\n",
       "1     Amapá    AP    776,6 mil       Macapá  1876-02-06\n",
       "2  Amazonas    AM  3,9 milhões       Manaus  1906-09-18\n",
       "3      Pará    PA  8,1 milhões        Belém  1856-07-19\n",
       "4  Rondônia    RO   1,7 milhão  Porto Velho  1816-02-22"
      ]
     },
     "execution_count": 4,
     "metadata": {},
     "output_type": "execute_result"
    }
   ],
   "source": [
    "# Exibindo os cinco primeiros registros do Dataframe\n",
    "\n",
    "df4.head()"
   ]
  },
  {
   "cell_type": "markdown",
   "id": "89294578",
   "metadata": {
    "slideshow": {
     "slide_type": "subslide"
    }
   },
   "source": [
    "# Criando um Dataframe utilizando Dicionários\n",
    "\n",
    "* Outra forma de se criar um DataFrame é utilizando dicionários.\n",
    "<br><br>\n",
    "* Dicionários são uma estrutura formada por um conjunto de chave e valor, onde:\n",
    "    * **Chave:** É única em cada objeto e serve para mapear o valor, funciona como um identificador.\n",
    "    * **Valor:** É um dado que pode ser de qualquer tipo, como, por exemplo: inteiros , listas, textos, reais e até outros dicionários.\n",
    "<br><br>\n",
    "* Podemos fazer um dicionário, onde cada chave representa uma coluna, com as linhas sendo representadas por outro dicionário onde cada chave representa o indice da linha."
   ]
  },
  {
   "cell_type": "code",
   "execution_count": 8,
   "id": "141ca4ed",
   "metadata": {
    "slideshow": {
     "slide_type": "subslide"
    }
   },
   "outputs": [
    {
     "name": "stdout",
     "output_type": "stream",
     "text": [
      "      Estado Sigla    População      Capital\n",
      "0       Acre    AC    803,5 mil   Rio Branco\n",
      "1      Amapá    AP    776,6 mil       Macapá\n",
      "2   Amazonas    AM  3,9 milhões       Manaus\n",
      "3       Pará    PA  8,1 milhões        Belém\n",
      "4   Rondônia    RO   1,7 milhão  Porto Velho\n",
      "5    Roraima    RR    505,6 mil    Boa Vista\n",
      "6  Tocantins    TO   1,5 milhão       Palmas\n"
     ]
    }
   ],
   "source": [
    "# Criando Dataframe a partir de um dicionário de dados\n",
    "\n",
    "capitais = {'Estado': {0: 'Acre',\n",
    "                       1: 'Amapá',\n",
    "                       2: 'Amazonas',\n",
    "                       3: 'Pará',\n",
    "                       4: 'Rondônia',\n",
    "                       5: 'Roraima',\n",
    "                       6: 'Tocantins'},\n",
    "            'Sigla': {0: 'AC',\n",
    "                      1: 'AP',\n",
    "                      2: 'AM',\n",
    "                      3: 'PA',\n",
    "                      4: 'RO',\n",
    "                      5: 'RR',\n",
    "                      6: 'TO'},\n",
    "            'População': {0: '803,5 mil',\n",
    "                          1: '776,6 mil',\n",
    "                          2: '3,9 milhões',\n",
    "                          3: '8,1 milhões',\n",
    "                          4: '1,7 milhão',\n",
    "                          5: '505,6 mil',\n",
    "                          6: '1,5 milhão'},\n",
    "            'Capital': {0: 'Rio Branco',\n",
    "                        1: 'Macapá',\n",
    "                        2: 'Manaus',\n",
    "                        3: 'Belém',\n",
    "                        4: 'Porto Velho',\n",
    "                        5: 'Boa Vista',\n",
    "                        6: 'Palmas'}}\n",
    "\n",
    "df5 = pd.DataFrame(capitais)\n",
    "\n",
    "print(df5)"
   ]
  },
  {
   "cell_type": "markdown",
   "id": "81804705",
   "metadata": {
    "slideshow": {
     "slide_type": "subslide"
    }
   },
   "source": [
    "# 2.3. Documentação"
   ]
  },
  {
   "cell_type": "markdown",
   "id": "81169f0f",
   "metadata": {
    "slideshow": {
     "slide_type": "subslide"
    }
   },
   "source": [
    "<img src=\"imagens/pandas_userguide.png\">"
   ]
  },
  {
   "cell_type": "markdown",
   "id": "4cab4222",
   "metadata": {
    "slideshow": {
     "slide_type": "subslide"
    }
   },
   "source": [
    "# Sobre o Guia do Usuário\n",
    "* **URL:** https://pandas.pydata.org/docs/user_guide/index.html\n",
    "<br><br>\n",
    "* O Guia do Usuário abrange o pandas por área de tópico. \n",
    "<br><br>\n",
    "* Cada uma das subseções apresenta um tópico e discute como o pandas aborda o problema, com muitos exemplos."
   ]
  },
  {
   "cell_type": "markdown",
   "id": "b48fcfa5",
   "metadata": {
    "slideshow": {
     "slide_type": "subslide"
    }
   },
   "source": [
    "<img src=\"imagens/documentacao.png\">"
   ]
  },
  {
   "cell_type": "markdown",
   "id": "4dd65803",
   "metadata": {
    "slideshow": {
     "slide_type": "slide"
    }
   },
   "source": [
    "# Parte 3: Scikitlearn"
   ]
  },
  {
   "cell_type": "markdown",
   "id": "a86c24e8",
   "metadata": {
    "slideshow": {
     "slide_type": "skip"
    }
   },
   "source": [
    "<img src=\"imagens/scikitlearn.png\">"
   ]
  },
  {
   "cell_type": "markdown",
   "id": "9ba5562e",
   "metadata": {
    "slideshow": {
     "slide_type": "subslide"
    }
   },
   "source": [
    "# 1. O que é o ScikitLearn?"
   ]
  },
  {
   "cell_type": "markdown",
   "id": "77c29150",
   "metadata": {
    "slideshow": {
     "slide_type": "subslide"
    }
   },
   "source": [
    "<img src=\"imagens/ScikitLearn_conceito.png\">"
   ]
  },
  {
   "cell_type": "markdown",
   "id": "638d6e35",
   "metadata": {
    "slideshow": {
     "slide_type": "subslide"
    }
   },
   "source": [
    "# https://scikit-learn.org/stable/#"
   ]
  },
  {
   "cell_type": "markdown",
   "id": "706752df",
   "metadata": {
    "slideshow": {
     "slide_type": "fragment"
    }
   },
   "source": [
    "**Scikit-learn** é uma biblioteca de aprendizado de máquina em Python, que fornece uma ampla gama de ferramentas para análise de dados e modelagem estatística, incluindo classificação, regressão, clustering e pré-processamento. construída sobre as bibliotecas NumPy, SciPy e matplotlib.\n",
    "\n",
    "Oferece apoio para:\n",
    "* SVM (Máquinas de Vetores de Suporte)\n",
    "* Random Forests (Florestas Aleatórias)\n",
    "* Naive Bayes (Bayes Ingênuo)\n",
    "* Regressão Linear\n",
    "* Regressão Logística \n",
    "* Outros"
   ]
  },
  {
   "cell_type": "code",
   "execution_count": 2,
   "id": "a028674d",
   "metadata": {
    "slideshow": {
     "slide_type": "slide"
    }
   },
   "outputs": [],
   "source": [
    "#bibliotecas utilizadas nesta aula\n",
    "import pandas as pd\n",
    "import warnings\n",
    "import os\n",
    "import numpy as np\n",
    "from sklearn.svm import SVC\n",
    "from sklearn.metrics import accuracy_score\n",
    "from sklearn.cluster import KMeans\n",
    "from sklearn.datasets import load_iris\n",
    "from sklearn.model_selection import train_test_split\n",
    "from sklearn.metrics import accuracy_score\n",
    "import matplotlib.pyplot as plt"
   ]
  },
  {
   "cell_type": "markdown",
   "id": "84b2cc57",
   "metadata": {
    "slideshow": {
     "slide_type": "slide"
    }
   },
   "source": [
    "<img src=\"imagens/iris.png\">"
   ]
  },
  {
   "cell_type": "markdown",
   "id": "012d9fcb",
   "metadata": {
    "slideshow": {
     "slide_type": "subslide"
    }
   },
   "source": [
    "- O dataset iris é um conjunto de dados muito famoso e amplamente utilizado em aprendizado de máquina e estatística. Ele consiste em informações sobre três espécies diferentes de flores íris (Iris setosa, Iris versicolor e Iris virginica), incluindo medidas de comprimento e largura das sépalas e pétalas."
   ]
  },
  {
   "cell_type": "markdown",
   "id": "e31aa534",
   "metadata": {
    "slideshow": {
     "slide_type": "fragment"
    }
   },
   "source": [
    "- O conjunto de dados iris contém 150 exemplos, com 50 exemplos de cada espécie de íris. Cada exemplo tem quatro atributos (comprimento da sépala, largura da sépala, comprimento da pétala e largura da pétala) e uma variável de destino que indica a espécie da íris correspondente. É um bom conjunto de dados para tarefas de classificação, pois as espécies de íris têm características distintas que podem ser usadas para distinguir uma da outra."
   ]
  },
  {
   "cell_type": "markdown",
   "id": "80d47236",
   "metadata": {
    "slideshow": {
     "slide_type": "fragment"
    }
   },
   "source": [
    "- O conjunto de dados iris foi introduzido pela primeira vez em 1936 pelo estatístico britânico Ronald Fisher em seu artigo \"The use of multiple measurements in taxonomic problems\". Desde então, tornou-se um conjunto de dados clássico em aprendizado de máquina e é frequentemente usado para demonstrar algoritmos de classificação e visualização de dados. O conjunto de dados iris pode ser encontrado na biblioteca scikit-learn do Python e em vários outros lugares na web."
   ]
  },
  {
   "cell_type": "code",
   "execution_count": 4,
   "id": "e9813ee7",
   "metadata": {
    "scrolled": true,
    "slideshow": {
     "slide_type": "slide"
    }
   },
   "outputs": [
    {
     "data": {
      "text/html": [
       "<div>\n",
       "<style scoped>\n",
       "    .dataframe tbody tr th:only-of-type {\n",
       "        vertical-align: middle;\n",
       "    }\n",
       "\n",
       "    .dataframe tbody tr th {\n",
       "        vertical-align: top;\n",
       "    }\n",
       "\n",
       "    .dataframe thead th {\n",
       "        text-align: right;\n",
       "    }\n",
       "</style>\n",
       "<table border=\"1\" class=\"dataframe\">\n",
       "  <thead>\n",
       "    <tr style=\"text-align: right;\">\n",
       "      <th></th>\n",
       "      <th>sepal length (cm)</th>\n",
       "      <th>sepal width (cm)</th>\n",
       "      <th>petal length (cm)</th>\n",
       "      <th>petal width (cm)</th>\n",
       "      <th>target</th>\n",
       "    </tr>\n",
       "  </thead>\n",
       "  <tbody>\n",
       "    <tr>\n",
       "      <th>20</th>\n",
       "      <td>5.4</td>\n",
       "      <td>3.4</td>\n",
       "      <td>1.7</td>\n",
       "      <td>0.2</td>\n",
       "      <td>0.0</td>\n",
       "    </tr>\n",
       "    <tr>\n",
       "      <th>85</th>\n",
       "      <td>6.0</td>\n",
       "      <td>3.4</td>\n",
       "      <td>4.5</td>\n",
       "      <td>1.6</td>\n",
       "      <td>1.0</td>\n",
       "    </tr>\n",
       "    <tr>\n",
       "      <th>133</th>\n",
       "      <td>6.3</td>\n",
       "      <td>2.8</td>\n",
       "      <td>5.1</td>\n",
       "      <td>1.5</td>\n",
       "      <td>2.0</td>\n",
       "    </tr>\n",
       "    <tr>\n",
       "      <th>108</th>\n",
       "      <td>6.7</td>\n",
       "      <td>2.5</td>\n",
       "      <td>5.8</td>\n",
       "      <td>1.8</td>\n",
       "      <td>2.0</td>\n",
       "    </tr>\n",
       "    <tr>\n",
       "      <th>33</th>\n",
       "      <td>5.5</td>\n",
       "      <td>4.2</td>\n",
       "      <td>1.4</td>\n",
       "      <td>0.2</td>\n",
       "      <td>0.0</td>\n",
       "    </tr>\n",
       "    <tr>\n",
       "      <th>54</th>\n",
       "      <td>6.5</td>\n",
       "      <td>2.8</td>\n",
       "      <td>4.6</td>\n",
       "      <td>1.5</td>\n",
       "      <td>1.0</td>\n",
       "    </tr>\n",
       "    <tr>\n",
       "      <th>139</th>\n",
       "      <td>6.9</td>\n",
       "      <td>3.1</td>\n",
       "      <td>5.4</td>\n",
       "      <td>2.1</td>\n",
       "      <td>2.0</td>\n",
       "    </tr>\n",
       "    <tr>\n",
       "      <th>11</th>\n",
       "      <td>4.8</td>\n",
       "      <td>3.4</td>\n",
       "      <td>1.6</td>\n",
       "      <td>0.2</td>\n",
       "      <td>0.0</td>\n",
       "    </tr>\n",
       "    <tr>\n",
       "      <th>136</th>\n",
       "      <td>6.3</td>\n",
       "      <td>3.4</td>\n",
       "      <td>5.6</td>\n",
       "      <td>2.4</td>\n",
       "      <td>2.0</td>\n",
       "    </tr>\n",
       "    <tr>\n",
       "      <th>32</th>\n",
       "      <td>5.2</td>\n",
       "      <td>4.1</td>\n",
       "      <td>1.5</td>\n",
       "      <td>0.1</td>\n",
       "      <td>0.0</td>\n",
       "    </tr>\n",
       "  </tbody>\n",
       "</table>\n",
       "</div>"
      ],
      "text/plain": [
       "     sepal length (cm)  sepal width (cm)  petal length (cm)  petal width (cm)  \\\n",
       "20                 5.4               3.4                1.7               0.2   \n",
       "85                 6.0               3.4                4.5               1.6   \n",
       "133                6.3               2.8                5.1               1.5   \n",
       "108                6.7               2.5                5.8               1.8   \n",
       "33                 5.5               4.2                1.4               0.2   \n",
       "54                 6.5               2.8                4.6               1.5   \n",
       "139                6.9               3.1                5.4               2.1   \n",
       "11                 4.8               3.4                1.6               0.2   \n",
       "136                6.3               3.4                5.6               2.4   \n",
       "32                 5.2               4.1                1.5               0.1   \n",
       "\n",
       "     target  \n",
       "20      0.0  \n",
       "85      1.0  \n",
       "133     2.0  \n",
       "108     2.0  \n",
       "33      0.0  \n",
       "54      1.0  \n",
       "139     2.0  \n",
       "11      0.0  \n",
       "136     2.0  \n",
       "32      0.0  "
      ]
     },
     "execution_count": 4,
     "metadata": {},
     "output_type": "execute_result"
    }
   ],
   "source": [
    "# carrega o conjunto de dados iris\n",
    "iris = datasets.load_iris()\n",
    "\n",
    "data1 = pd.DataFrame(data = np.c_[iris['data'], iris['target']],\n",
    "                     columns = iris['feature_names'] + ['target']) \n",
    "\n",
    "data1.sample(n = 10)"
   ]
  },
  {
   "cell_type": "code",
   "execution_count": 5,
   "id": "623275fa",
   "metadata": {
    "slideshow": {
     "slide_type": "subslide"
    }
   },
   "outputs": [
    {
     "data": {
      "image/png": "[encoded data removed]",
      "text/plain": [
       "<Figure size 640x480 with 1 Axes>"
      ]
     },
     "metadata": {},
     "output_type": "display_data"
    }
   ],
   "source": [
    "# seleciona as características (features) a serem plotadas\n",
    "x_index = 0 # seleciona a primeira característica (comprimento da sépala)\n",
    "y_index = 1 # seleciona a segunda característica (largura da sépala)\n",
    "\n",
    "# cria um gráfico de dispersão das características selecionadas\n",
    "plt.scatter(iris.data[:, x_index], iris.data[:, y_index], c=iris.target)\n",
    "plt.xlabel(iris.feature_names[x_index])\n",
    "plt.ylabel(iris.feature_names[y_index])\n",
    "plt.show()"
   ]
  },
  {
   "cell_type": "markdown",
   "id": "fbc699c6",
   "metadata": {
    "slideshow": {
     "slide_type": "slide"
    }
   },
   "source": [
    "### Classificação com SVM:\n",
    "\n",
    "O SVM (Máquinas de Vetores de Suporte) é um algoritmo de aprendizado de máquina que pode ser usado para classificação e regressão. Aqui está um exemplo simples de como usar o SVM para classificação com a biblioteca Scikit-learn:"
   ]
  },
  {
   "cell_type": "code",
   "execution_count": 11,
   "id": "9f74ff0f",
   "metadata": {
    "slideshow": {
     "slide_type": "subslide"
    }
   },
   "outputs": [
    {
     "data": {
      "image/png": "[encoded data removed]",
      "text/plain": [
       "<Figure size 640x480 with 1 Axes>"
      ]
     },
     "metadata": {},
     "output_type": "display_data"
    },
    {
     "name": "stdout",
     "output_type": "stream",
     "text": [
      "Acurácia de Classificação: 97.78\n"
     ]
    }
   ],
   "source": [
    "# separa o conjunto de dados em treinamento e teste\n",
    "X_train, X_test, y_train, y_test = train_test_split(iris.data, iris.target, test_size=0.3, random_state=0)\n",
    "\n",
    "# cria um classificador SVM com kernel linear\n",
    "clf = svm.SVC(kernel='linear', C=1)\n",
    "\n",
    "# treina o modelo com o conjunto de treinamento\n",
    "clf.fit(X_train, y_train)\n",
    "\n",
    "# faz a previsão com o conjunto de teste\n",
    "y_pred = clf.predict(X_test)\n",
    "\n",
    "# plota os resultados\n",
    "plt.scatter(X_test[:, 0], X_test[:, 1], c=y_pred)\n",
    "plt.xlabel('Comprimento da Sépala')\n",
    "plt.ylabel('Largura da Sépala')\n",
    "plt.show()\n",
    "\n",
    "print(\"Acurácia de Classificação:\", round(accuracy_score(y_pred, y_test)*100,2))"
   ]
  },
  {
   "cell_type": "markdown",
   "id": "ab361e84",
   "metadata": {
    "slideshow": {
     "slide_type": "slide"
    }
   },
   "source": [
    "### Clustering com K-Means:\n",
    "\n",
    "O K-Means é um algoritmo de clustering que pode ser usado para agrupar dados em diferentes clusters com base em sua similaridade. Aqui está um exemplo simples de como usar o K-Means para clustering com a biblioteca Scikit-learn:"
   ]
  },
  {
   "cell_type": "code",
   "execution_count": 8,
   "id": "01ab9e25",
   "metadata": {
    "slideshow": {
     "slide_type": "subslide"
    }
   },
   "outputs": [
    {
     "data": {
      "image/png": "[encoded data removed]",
      "text/plain": [
       "<Figure size 640x480 with 1 Axes>"
      ]
     },
     "metadata": {},
     "output_type": "display_data"
    }
   ],
   "source": [
    "# cria um classificador K-Means com 3 clusters\n",
    "kmeans = KMeans(n_clusters=3, random_state=0, n_init = 'auto')\n",
    "\n",
    "# treina o modelo com o conjunto de dados iris\n",
    "kmeans.fit(iris.data)\n",
    "\n",
    "# plota os resultados\n",
    "plt.scatter(iris.data[:, 0], iris.data[:, 1], c=kmeans.labels_)\n",
    "plt.xlabel('Comprimento da Sépala')\n",
    "plt.ylabel('Largura da Sépala')\n",
    "plt.show()"
   ]
  }
 ],
 "metadata": {
  "celltoolbar": "Slideshow",
  "kernelspec": {
   "display_name": "Python 3 (ipykernel)",
   "language": "python",
   "name": "python3"
  },
  "language_info": {
   "codemirror_mode": {
    "name": "ipython",
    "version": 3
   },
   "file_extension": ".py",
   "mimetype": "text/x-python",
   "name": "python",
   "nbconvert_exporter": "python",
   "pygments_lexer": "ipython3",
   "version": "3.9.12"
  }
 },
 "nbformat": 4,
 "nbformat_minor": 5
}
