{
 "cells": [
  {
   "cell_type": "markdown",
   "id": "5e9e07c0",
   "metadata": {
    "slideshow": {
     "slide_type": "slide"
    }
   },
   "source": [
    "<img src=\"imagens/Boas Vindas.png\">"
   ]
  },
  {
   "cell_type": "markdown",
   "id": "f7ac1d3f",
   "metadata": {
    "slideshow": {
     "slide_type": "slide"
    }
   },
   "source": [
    "# Sumário\n",
    "\n",
    "1. Otimização Linear\n",
    "\n",
    "2. Otimização Não-Linear\n",
    "\n",
    "3. Convexidade de Funções\n",
    "\n",
    "4. Derivadas"
   ]
  },
  {
   "cell_type": "markdown",
   "id": "2a64fa16",
   "metadata": {
    "slideshow": {
     "slide_type": "slide"
    }
   },
   "source": [
    "<img src=\"imagens/3.png\">"
   ]
  },
  {
   "cell_type": "markdown",
   "id": "67a45308",
   "metadata": {
    "slideshow": {
     "slide_type": "subslide"
    }
   },
   "source": [
    "<img src=\"imagens/4.png\">"
   ]
  },
  {
   "cell_type": "markdown",
   "id": "a4dc354b",
   "metadata": {
    "slideshow": {
     "slide_type": "subslide"
    }
   },
   "source": [
    "<img src=\"imagens/5.png\">"
   ]
  },
  {
   "cell_type": "markdown",
   "id": "2d8d2d59",
   "metadata": {
    "slideshow": {
     "slide_type": "subslide"
    }
   },
   "source": [
    "<img src=\"imagens/6.png\">"
   ]
  },
  {
   "cell_type": "markdown",
   "id": "36a04b65",
   "metadata": {
    "slideshow": {
     "slide_type": "subslide"
    }
   },
   "source": [
    "<img src=\"imagens/7.png\">"
   ]
  },
  {
   "cell_type": "markdown",
   "id": "71f42e80",
   "metadata": {
    "slideshow": {
     "slide_type": "subslide"
    }
   },
   "source": [
    "<img src=\"imagens/8.png\">"
   ]
  },
  {
   "cell_type": "markdown",
   "id": "0f02dcd3",
   "metadata": {
    "slideshow": {
     "slide_type": "slide"
    }
   },
   "source": [
    "<img src=\"imagens/9.png\">"
   ]
  },
  {
   "cell_type": "markdown",
   "id": "8c462675",
   "metadata": {
    "slideshow": {
     "slide_type": "subslide"
    }
   },
   "source": [
    "<img src=\"imagens/10.png\">"
   ]
  },
  {
   "cell_type": "markdown",
   "id": "844c775b",
   "metadata": {
    "slideshow": {
     "slide_type": "subslide"
    }
   },
   "source": [
    "<img src=\"imagens/11.png\">"
   ]
  },
  {
   "cell_type": "markdown",
   "id": "bd6f93d4",
   "metadata": {
    "slideshow": {
     "slide_type": "subslide"
    }
   },
   "source": [
    "<img src=\"imagens/12.png\">"
   ]
  },
  {
   "cell_type": "markdown",
   "id": "cc695c43",
   "metadata": {
    "slideshow": {
     "slide_type": "subslide"
    }
   },
   "source": [
    "<img src=\"imagens/13.png\">"
   ]
  },
  {
   "cell_type": "markdown",
   "id": "b7105646",
   "metadata": {
    "slideshow": {
     "slide_type": "subslide"
    }
   },
   "source": [
    "<img src=\"imagens/14.png\">"
   ]
  },
  {
   "cell_type": "markdown",
   "id": "db4edbe6",
   "metadata": {
    "slideshow": {
     "slide_type": "subslide"
    }
   },
   "source": [
    "<img src=\"imagens/15.png\">"
   ]
  },
  {
   "cell_type": "markdown",
   "id": "035fdddf",
   "metadata": {
    "slideshow": {
     "slide_type": "subslide"
    }
   },
   "source": [
    "<img src=\"imagens/16.png\">"
   ]
  },
  {
   "cell_type": "markdown",
   "id": "4b4f49e0",
   "metadata": {
    "slideshow": {
     "slide_type": "subslide"
    }
   },
   "source": [
    "<img src=\"imagens/17.png\">"
   ]
  },
  {
   "cell_type": "markdown",
   "id": "cb72fcc5",
   "metadata": {
    "slideshow": {
     "slide_type": "subslide"
    }
   },
   "source": [
    "<img src=\"imagens/18.png\">"
   ]
  },
  {
   "cell_type": "markdown",
   "id": "b4eaee38",
   "metadata": {
    "slideshow": {
     "slide_type": "skip"
    }
   },
   "source": [
    "<img src=\"imagens/19.png\">"
   ]
  },
  {
   "cell_type": "markdown",
   "id": "be163364",
   "metadata": {
    "slideshow": {
     "slide_type": "subslide"
    }
   },
   "source": [
    "<img src=\"imagens/20.png\">"
   ]
  },
  {
   "cell_type": "markdown",
   "id": "6097be4f",
   "metadata": {
    "slideshow": {
     "slide_type": "subslide"
    }
   },
   "source": [
    "<img src=\"imagens/21.png\">"
   ]
  },
  {
   "cell_type": "markdown",
   "id": "ccd6bc61",
   "metadata": {
    "slideshow": {
     "slide_type": "subslide"
    }
   },
   "source": [
    "<img src=\"imagens/23.png\">"
   ]
  },
  {
   "cell_type": "markdown",
   "id": "1d58e7ca",
   "metadata": {
    "slideshow": {
     "slide_type": "subslide"
    }
   },
   "source": [
    "<img src=\"imagens/24.png\">"
   ]
  },
  {
   "cell_type": "markdown",
   "id": "280501c9",
   "metadata": {
    "slideshow": {
     "slide_type": "subslide"
    }
   },
   "source": [
    "<img src=\"imagens/25.png\">"
   ]
  },
  {
   "cell_type": "markdown",
   "id": "d7fe2cae",
   "metadata": {
    "slideshow": {
     "slide_type": "subslide"
    }
   },
   "source": [
    "<img src=\"imagens/26.png\">"
   ]
  },
  {
   "cell_type": "markdown",
   "id": "acf4c06b",
   "metadata": {
    "slideshow": {
     "slide_type": "subslide"
    }
   },
   "source": [
    "<img src=\"imagens/27.png\">"
   ]
  },
  {
   "cell_type": "markdown",
   "id": "ce78200e",
   "metadata": {
    "slideshow": {
     "slide_type": "subslide"
    }
   },
   "source": [
    "<img src=\"imagens/28.png\">"
   ]
  },
  {
   "cell_type": "markdown",
   "id": "8ded7313",
   "metadata": {
    "slideshow": {
     "slide_type": "subslide"
    }
   },
   "source": [
    "<img src=\"imagens/tab_otim.png\" style=\"width:800px; height:300px; margin:auto\">"
   ]
  },
  {
   "cell_type": "markdown",
   "id": "20a3591c",
   "metadata": {
    "slideshow": {
     "slide_type": "subslide"
    }
   },
   "source": [
    "<img src=\"imagens/30.png\">"
   ]
  },
  {
   "cell_type": "markdown",
   "id": "1cee3924",
   "metadata": {
    "slideshow": {
     "slide_type": "subslide"
    }
   },
   "source": [
    "<img src=\"imagens/31.png\">"
   ]
  },
  {
   "cell_type": "markdown",
   "id": "8b6bb469",
   "metadata": {
    "slideshow": {
     "slide_type": "subslide"
    }
   },
   "source": [
    "<img src=\"imagens/32.png\">"
   ]
  },
  {
   "cell_type": "markdown",
   "id": "4572c851",
   "metadata": {
    "slideshow": {
     "slide_type": "subslide"
    }
   },
   "source": [
    "<img src=\"imagens/tab_otim.png\" style=\"width:800px; height:300px; margin:auto\">"
   ]
  },
  {
   "cell_type": "markdown",
   "id": "325ff836",
   "metadata": {
    "slideshow": {
     "slide_type": "subslide"
    }
   },
   "source": [
    "<img src=\"imagens/33.png\">"
   ]
  },
  {
   "cell_type": "markdown",
   "id": "20384753",
   "metadata": {
    "slideshow": {
     "slide_type": "subslide"
    }
   },
   "source": [
    "<img src=\"imagens/34.png\">"
   ]
  },
  {
   "cell_type": "markdown",
   "id": "7fefb813",
   "metadata": {
    "slideshow": {
     "slide_type": "subslide"
    }
   },
   "source": [
    "## Existem várias bibliotecas em Python que suportam a programação linear.\n",
    "\n",
    "## Cada biblioteca tem suas próprias vantagens e desvantagens, e a escolha dependerá dos requisitos específicos do seu problema e das suas preferências pessoais."
   ]
  },
  {
   "cell_type": "markdown",
   "id": "282f9f5a",
   "metadata": {
    "slideshow": {
     "slide_type": "subslide"
    }
   },
   "source": [
    "- PuLP: é uma biblioteca de código aberto para modelagem e resolução de problemas de otimização lineares, de programação inteira e mista inteira. É fácil de usar e suporta várias solvers.\n",
    "\n",
    "- Pyomo: é uma biblioteca de modelagem de otimização baseada em Python que suporta uma variedade de solvers de otimização, incluindo solvers lineares.\n",
    "\n",
    "- CVXPY: é uma biblioteca de programação convexa em Python que suporta problemas de programação linear, além de problemas de programação convexa mais complexos."
   ]
  },
  {
   "cell_type": "markdown",
   "id": "c48e5c27",
   "metadata": {
    "slideshow": {
     "slide_type": "subslide"
    }
   },
   "source": [
    "- scipy.optimize.linprog: é uma biblioteca do SciPy para resolução de problemas de programação linear.\n",
    "\n",
    "- CyLP: é uma interface Python para o COIN-OR Linear Programming solver (CLP) e o COIN-OR Branch-and-Cut solver (CBC).\n",
    "\n",
    "- GLPK: é uma biblioteca de software livre para resolver problemas de programação linear e inteira mista.\n",
    "\n",
    "- Gurobi: é uma biblioteca comercial de programação linear que oferece uma interface Python.\n",
    "\n",
    "- CPLEX: é uma biblioteca comercial de programação linear que também oferece uma interface Python."
   ]
  },
  {
   "cell_type": "code",
   "execution_count": 1,
   "id": "8ab8d680",
   "metadata": {
    "slideshow": {
     "slide_type": "subslide"
    }
   },
   "outputs": [],
   "source": [
    "# Importando a biblioteca PuLP\n",
    "#!pip install pulp\n",
    "import pulp\n",
    "\n",
    "import warnings\n",
    "\n",
    "warnings.filterwarnings('ignore')"
   ]
  },
  {
   "cell_type": "code",
   "execution_count": 2,
   "id": "a2a37c96",
   "metadata": {
    "slideshow": {
     "slide_type": "subslide"
    }
   },
   "outputs": [],
   "source": [
    "# Criando um objeto do tipo problema de minimização\n",
    "problema = pulp.LpProblem(\"Problema de Minimização\", pulp.LpMinimize)\n",
    "\n",
    "# Definindo as variáveis de decisão\n",
    "xF = pulp.LpVariable('xF', lowBound=0, cat='Continuous')\n",
    "xS = pulp.LpVariable('xS', lowBound=0, cat='Continuous')"
   ]
  },
  {
   "cell_type": "code",
   "execution_count": 3,
   "id": "132dfb41",
   "metadata": {
    "slideshow": {
     "slide_type": "subslide"
    }
   },
   "outputs": [],
   "source": [
    "# Definindo a função objetivo\n",
    "problema += 5.78*xF + 4.85*xS\n",
    "\n",
    "# Definindo as restrições\n",
    "problema += 5*xF + 25*xS >= 50\n",
    "problema += 25*xF + 10*xS >= 100\n",
    "problema += 10*xF + 10*xS >= 60"
   ]
  },
  {
   "cell_type": "code",
   "execution_count": 4,
   "id": "a0239cce",
   "metadata": {
    "slideshow": {
     "slide_type": "subslide"
    }
   },
   "outputs": [
    {
     "name": "stdout",
     "output_type": "stream",
     "text": [
      "Welcome to the CBC MILP Solver \n",
      "Version: 2.10.3 \n",
      "Build Date: Dec 15 2019 \n",
      "\n",
      "command line - /Users/gutomendes/opt/anaconda3/lib/python3.9/site-packages/pulp/solverdir/cbc/osx/64/cbc /var/folders/pd/xpv9r_4d3_gcfqcszhs3xvrm0000gn/T/e3d5f10fbf4a45f7ba5169cdb2d2e4b6-pulp.mps timeMode elapsed branch printingOptions all solution /var/folders/pd/xpv9r_4d3_gcfqcszhs3xvrm0000gn/T/e3d5f10fbf4a45f7ba5169cdb2d2e4b6-pulp.sol (default strategy 1)\n",
      "At line 2 NAME          MODEL\n",
      "At line 3 ROWS\n",
      "At line 8 COLUMNS\n",
      "At line 17 RHS\n",
      "At line 21 BOUNDS\n",
      "At line 22 ENDATA\n",
      "Problem MODEL has 3 rows, 2 columns and 6 elements\n",
      "Coin0008I MODEL read with 0 errors\n",
      "Option for timeMode changed from cpu to elapsed\n",
      "Presolve 3 (0) rows, 2 (0) columns and 6 (0) elements\n",
      "0  Obj 0 Primal inf 12 (3)\n",
      "2  Obj 31.58\n",
      "Optimal - objective value 31.58\n",
      "Optimal objective 31.58 - 2 iterations time 0.002\n",
      "Option for printingOptions changed from normal to all\n",
      "Total time (CPU seconds):       0.00   (Wallclock seconds):       0.01\n",
      "\n",
      "Status da solução:  Optimal\n",
      "xF =  2.6666667\n",
      "xS =  3.3333333\n",
      "Valor ótimo da função objetivo:  31.580000030999997\n"
     ]
    }
   ],
   "source": [
    "#Resolvendo o problema\n",
    "status = problema.solve()\n",
    "\n",
    "# Imprimindo o status da solução\n",
    "print(\"Status da solução: \", pulp.LpStatus[status])\n",
    "\n",
    "# Imprimindo os valores das variáveis de decisão\n",
    "print(\"xF = \", pulp.value(xF))\n",
    "print(\"xS = \", pulp.value(xS))\n",
    "\n",
    "# Imprimindo o valor ótimo da função objetivo\n",
    "print(\"Valor ótimo da função objetivo: \", pulp.value(problema.objective))"
   ]
  },
  {
   "cell_type": "markdown",
   "id": "00c1fe01",
   "metadata": {
    "slideshow": {
     "slide_type": "slide"
    }
   },
   "source": [
    "# Exercício 01"
   ]
  },
  {
   "cell_type": "markdown",
   "id": "c0650c48",
   "metadata": {
    "slideshow": {
     "slide_type": "subslide"
    }
   },
   "source": [
    "**Suponha que você tenha um portfólio de investimentos com várias classes de ativos, como ações, títulos, fundos imobiliários, entre outros, e que você queira determinar quanto investir em cada um desses ativos para obter o maior retorno possível com o menor risco possível.**\n",
    "\n",
    "\n",
    "**Para resolver esse problema, podemos modelar o problema como um problema de programação linear.**\n"
   ]
  },
  {
   "cell_type": "markdown",
   "id": "dfd1a7be",
   "metadata": {
    "slideshow": {
     "slide_type": "subslide"
    }
   },
   "source": [
    "**Suponha que você tenha um capital inicial de R**$ 1.000,00 **e que existam três classes de ativos disponíveis para investimento: Ações (A), Títulos (T) e Fundos Imobiliários (FI). As taxas de retorno esperadas para cada classe de ativos são as seguintes:**\n",
    "\n",
    "- Ações: 15% ao ano\n",
    "\n",
    "- Títulos: 10% ao ano\n",
    "\n",
    "- Fundos Imobiliários: 12% ao ano"
   ]
  },
  {
   "cell_type": "markdown",
   "id": "9dd3970c",
   "metadata": {
    "slideshow": {
     "slide_type": "subslide"
    }
   },
   "source": [
    "No entanto, existem algumas restrições que você precisa levar em conta ao alocar seus investimentos.\n",
    "- Você pode não querer investir mais do que 50% do seu capital em ações \n",
    "- ou mais do que 30% em fundos imobiliários. \n",
    "- Você pode querer investir pelo menos 10% do seu capital em títulos para mitigar o risco."
   ]
  },
  {
   "cell_type": "markdown",
   "id": "d5dc5231",
   "metadata": {
    "slideshow": {
     "slide_type": "subslide"
    }
   },
   "source": [
    "Para modelar esse problema como um problema de programação linear, podemos definir as seguintes variáveis de decisão:\n",
    "\n",
    "- xA: quantidade de dinheiro a ser investido em ações\n",
    "- xT: quantidade de dinheiro a ser investido em títulos\n",
    "- xFI: quantidade de dinheiro a ser investido em fundos imobiliários\n"
   ]
  },
  {
   "cell_type": "markdown",
   "id": "48cc4ccf",
   "metadata": {
    "slideshow": {
     "slide_type": "skip"
    }
   },
   "source": [
    "Sujeito a:\n",
    "\n",
    "- xA + xT + xFI <= 1000 (não podemos investir mais do que o capital inicial)\n",
    "- xA <= 0.5*1000 (não podemos investir mais do que 50% do capital em ações)\n",
    "- xFI <= 0.3*1000 (não podemos investir mais do que 30% do capital em fundos imobiliários)\n",
    "- xT >= 0.1*1000 (devemos investir pelo menos 10% do capital em títulos)"
   ]
  },
  {
   "cell_type": "markdown",
   "id": "e7a1f291",
   "metadata": {
    "slideshow": {
     "slide_type": "skip"
    }
   },
   "source": [
    "Função objetivo:\n",
    "\n",
    "- Max 0.15xA + 0.1xT + 0.12*xFI (maximizar o retorno esperado)"
   ]
  },
  {
   "cell_type": "markdown",
   "id": "ce0a5871",
   "metadata": {
    "slideshow": {
     "slide_type": "slide"
    }
   },
   "source": [
    "<img src=\"imagens/35.png\">"
   ]
  },
  {
   "cell_type": "markdown",
   "id": "a3a22462",
   "metadata": {
    "slideshow": {
     "slide_type": "subslide"
    }
   },
   "source": [
    "<img src=\"imagens/36.png\">"
   ]
  },
  {
   "cell_type": "markdown",
   "id": "6bb7b82b",
   "metadata": {
    "slideshow": {
     "slide_type": "subslide"
    }
   },
   "source": [
    "<img src=\"imagens/37.png\">"
   ]
  },
  {
   "cell_type": "markdown",
   "id": "bc5fbb97",
   "metadata": {
    "slideshow": {
     "slide_type": "subslide"
    }
   },
   "source": [
    "<img src=\"imagens/38.png\">"
   ]
  },
  {
   "cell_type": "markdown",
   "id": "40057e6a",
   "metadata": {
    "slideshow": {
     "slide_type": "subslide"
    }
   },
   "source": [
    "<img src=\"imagens/39.png\">"
   ]
  },
  {
   "cell_type": "markdown",
   "id": "e66f4723",
   "metadata": {
    "slideshow": {
     "slide_type": "subslide"
    }
   },
   "source": [
    "<img src=\"imagens/40.png\">"
   ]
  },
  {
   "cell_type": "markdown",
   "id": "90976a60",
   "metadata": {
    "slideshow": {
     "slide_type": "subslide"
    }
   },
   "source": [
    "<img src=\"imagens/41.png\">"
   ]
  },
  {
   "cell_type": "markdown",
   "id": "90fb96d4",
   "metadata": {
    "slideshow": {
     "slide_type": "subslide"
    }
   },
   "source": [
    "<img src=\"imagens/42.png\">"
   ]
  },
  {
   "cell_type": "markdown",
   "id": "71ebff74",
   "metadata": {
    "slideshow": {
     "slide_type": "slide"
    }
   },
   "source": [
    "<img src=\"imagens/43.png\">"
   ]
  },
  {
   "cell_type": "code",
   "execution_count": 5,
   "id": "fb529480",
   "metadata": {
    "slideshow": {
     "slide_type": "subslide"
    }
   },
   "outputs": [],
   "source": [
    "from scipy.optimize import minimize\n",
    "\n",
    "# Definindo a função objetivo\n",
    "def objective(x):\n",
    "    return -64*x[0] + 16*x[0]**2 - 36*x[1] + 9*x[1]**2"
   ]
  },
  {
   "cell_type": "code",
   "execution_count": 6,
   "id": "a0a24182",
   "metadata": {
    "slideshow": {
     "slide_type": "subslide"
    }
   },
   "outputs": [],
   "source": [
    "# Definindo as restrições\n",
    "def constraint1(x):\n",
    "    return x[0] - 5\n",
    "\n",
    "def constraint2(x):\n",
    "    return 2*x[1] - 14\n",
    "\n",
    "def constraint3(x):\n",
    "    return 3*x[0] + 2*x[1] - 17\n",
    "\n",
    "# Definindo os limites das variáveis\n",
    "bnds = ((0, None), (0, None))\n",
    "\n"
   ]
  },
  {
   "cell_type": "code",
   "execution_count": 7,
   "id": "c79132d2",
   "metadata": {
    "slideshow": {
     "slide_type": "subslide"
    }
   },
   "outputs": [
    {
     "name": "stdout",
     "output_type": "stream",
     "text": [
      "     fun: 268.999999999953\n",
      "     jac: array([96., 90.])\n",
      " message: 'Optimization terminated successfully'\n",
      "    nfev: 11\n",
      "     nit: 3\n",
      "    njev: 3\n",
      "  status: 0\n",
      " success: True\n",
      "       x: array([5., 7.])\n"
     ]
    }
   ],
   "source": [
    "# Definindo as restrições e limites das variáveis em um dicionário\n",
    "con1 = {'type': 'ineq', 'fun': constraint1}\n",
    "con2 = {'type': 'ineq', 'fun': constraint2}\n",
    "con3 = {'type': 'ineq', 'fun': constraint3}\n",
    "cons = [con1, con2, con3]\n",
    "\n",
    "# Resolvendo o problema de otimização\n",
    "solution = minimize(objective, (0, 0), method='SLSQP', bounds=bnds, constraints=cons)\n",
    "\n",
    "# Imprimindo a solução\n",
    "print(solution)\n"
   ]
  },
  {
   "cell_type": "code",
   "execution_count": 8,
   "id": "8c4da9bf",
   "metadata": {
    "slideshow": {
     "slide_type": "subslide"
    }
   },
   "outputs": [
    {
     "name": "stdout",
     "output_type": "stream",
     "text": [
      "Valor de x1:  5.000000000004325\n",
      "Valor de x2:  6.999999999994864\n"
     ]
    }
   ],
   "source": [
    "print(\"Valor de x1: \", solution.x[0])\n",
    "print(\"Valor de x2: \", solution.x[1])"
   ]
  },
  {
   "cell_type": "markdown",
   "id": "8c6324b6",
   "metadata": {
    "slideshow": {
     "slide_type": "slide"
    }
   },
   "source": [
    "<img src=\"imagens/44.png\">"
   ]
  },
  {
   "cell_type": "markdown",
   "id": "e8859260",
   "metadata": {
    "slideshow": {
     "slide_type": "subslide"
    }
   },
   "source": [
    "Em geral, uma função é considerada convexa se a linha que liga dois pontos quaisquer do gráfico da função estiver sempre acima ou no mesmo nível que o próprio gráfico da função entre esses pontos. \n",
    "\n",
    "Em outras palavras, uma função é convexa se o segmento de reta que liga dois pontos do seu gráfico está sempre \"por cima\" da curva, ou não desce abaixo dela."
   ]
  },
  {
   "cell_type": "code",
   "execution_count": 9,
   "id": "f5948c64",
   "metadata": {
    "slideshow": {
     "slide_type": "skip"
    }
   },
   "outputs": [],
   "source": [
    "import matplotlib.pyplot as plt\n",
    "import matplotlib.pylab as pylab\n",
    "\n",
    "params = {'legend.fontsize': 20,\n",
    "          'figure.figsize': (15,5),\n",
    "         'axes.labelsize': 20,\n",
    "         'axes.titlesize': 20,\n",
    "         'xtick.labelsize': 20,\n",
    "         'ytick.labelsize': 20}"
   ]
  },
  {
   "cell_type": "code",
   "execution_count": 10,
   "id": "937dc4cc",
   "metadata": {
    "slideshow": {
     "slide_type": "subslide"
    }
   },
   "outputs": [],
   "source": [
    "import numpy as np\n",
    "\n",
    "# Definindo a função\n",
    "def f(x):\n",
    "    return x**2\n",
    "\n",
    "# Gerando os pontos para o gráfico\n",
    "x = np.linspace(-5, 5, 100)\n",
    "y = f(x)"
   ]
  },
  {
   "cell_type": "code",
   "execution_count": 11,
   "id": "ea10c5b3",
   "metadata": {
    "slideshow": {
     "slide_type": "subslide"
    }
   },
   "outputs": [
    {
     "data": {
      "image/png": "[encoded data removed]",
      "text/plain": [
       "<Figure size 1080x360 with 1 Axes>"
      ]
     },
     "metadata": {
      "needs_background": "light"
     },
     "output_type": "display_data"
    }
   ],
   "source": [
    "pylab.rcParams.update(params)\n",
    "# Plotando o gráfico\n",
    "plt.plot(x, y)\n",
    "plt.xlabel('x')\n",
    "plt.ylabel('f(x)')\n",
    "plt.title('Função Convexa: x^2')\n",
    "plt.show()"
   ]
  },
  {
   "cell_type": "code",
   "execution_count": 12,
   "id": "38a2987b",
   "metadata": {
    "slideshow": {
     "slide_type": "subslide"
    }
   },
   "outputs": [],
   "source": [
    "import numpy as np\n",
    "\n",
    "# Definindo a função\n",
    "def f(x):\n",
    "    return x**3 - 2*x\n",
    "\n",
    "# Gerando os pontos para o gráfico\n",
    "x = np.linspace(-5, 5, 100)\n",
    "y = f(x)"
   ]
  },
  {
   "cell_type": "code",
   "execution_count": 13,
   "id": "5836afc5",
   "metadata": {
    "slideshow": {
     "slide_type": "subslide"
    }
   },
   "outputs": [
    {
     "data": {
      "image/png": "[encoded data removed]",
      "text/plain": [
       "<Figure size 1080x360 with 1 Axes>"
      ]
     },
     "metadata": {
      "needs_background": "light"
     },
     "output_type": "display_data"
    }
   ],
   "source": [
    "# Plotando o gráfico\n",
    "plt.plot(x, y)\n",
    "plt.xlabel('x')\n",
    "plt.ylabel('f(x)')\n",
    "plt.title('Função Não-Convexa: x^3 - 2x')\n",
    "plt.show()"
   ]
  },
  {
   "cell_type": "markdown",
   "id": "352739d2",
   "metadata": {
    "slideshow": {
     "slide_type": "subslide"
    }
   },
   "source": [
    "Em machine learning, muitas vezes precisamos encontrar os parâmetros ideais para um modelo que melhor ajusta nossos dados.\n",
    "\n",
    "- Para isso, usamos algoritmos de otimização que procuram minimizar uma função de perda que mede a diferença entre as previsões do modelo e os valores verdadeiros dos dados"
   ]
  },
  {
   "cell_type": "markdown",
   "id": "6f6ff8fb",
   "metadata": {
    "slideshow": {
     "slide_type": "subslide"
    }
   },
   "source": [
    "O gradiente descendente é um dos algoritmos de otimização mais comuns em machine learning. \n",
    "\n",
    "- Deve-se ajustar iterativamente os parâmetros do modelo na direção oposta do gradiente da função de perda até atingir um mínimo. \n",
    "- A escolha da função de perda é crucial para garantir que o algoritmo de otimização converja para o mínimo global."
   ]
  },
  {
   "cell_type": "markdown",
   "id": "d987a82c",
   "metadata": {
    "slideshow": {
     "slide_type": "subslide"
    }
   },
   "source": [
    "**Funções convexas são especialmente importantes em machine learning porque, em uma função convexa, o gradiente aumenta ou permanece constante à medida que nos movemos para longe do mínimo global.**\n",
    "\n",
    "**O gradiente descendente é capaz de encontrar o mínimo global de uma função convexa de forma mais rápida e confiável do que em uma função não-convexa**\n",
    "\n",
    "\n"
   ]
  },
  {
   "cell_type": "markdown",
   "id": "ca415eb5",
   "metadata": {
    "slideshow": {
     "slide_type": "subslide"
    }
   },
   "source": [
    "Por exemplo, suponha que estamos ajustando um modelo de regressão linear aos nossos dados e usando o erro quadrático médio como nossa função de perda. \n",
    "\n",
    "O erro quadrático médio é uma função convexa em relação aos parâmetros do modelo, o que significa que o gradiente descendente pode ser usado para encontrar o mínimo global de forma eficiente e confiável. \n",
    "\n",
    "Por outro lado, se estivéssemos usando uma função de perda não-convexa, como o erro absoluto médio, o gradiente descendente poderia ter dificuldades em encontrar o mínimo global, já que a função pode ter vários mínimos locais."
   ]
  },
  {
   "cell_type": "code",
   "execution_count": 14,
   "id": "20907cda",
   "metadata": {
    "slideshow": {
     "slide_type": "subslide"
    }
   },
   "outputs": [],
   "source": [
    "import numpy as np\n",
    "import matplotlib.pyplot as plt\n",
    "\n",
    "# definir os dados de entrada (x) e saída (y)\n",
    "x = np.array([1, 2, 3, 4, 5])\n",
    "y = np.array([3, 5, 7, 9, 11])\n",
    "\n",
    "# definir a função de perda (erro quadrático médio)\n",
    "def mse_loss(y_true, y_pred):\n",
    "    return np.mean((y_true - y_pred)**2)\n",
    "\n",
    "# definir a função que atualiza os parâmetros do modelo\n",
    "def update_params(x, y_true, y_pred, lr, w, b):\n",
    "    dw = np.mean((y_pred - y_true) * x)\n",
    "    db = np.mean(y_pred - y_true)\n",
    "    w = w - lr * dw\n",
    "    b = b - lr * db\n",
    "    return w, b"
   ]
  },
  {
   "cell_type": "code",
   "execution_count": 15,
   "id": "5f4935c2",
   "metadata": {
    "scrolled": true,
    "slideshow": {
     "slide_type": "subslide"
    }
   },
   "outputs": [
    {
     "name": "stdout",
     "output_type": "stream",
     "text": [
      "Iteration 0: loss=57.0000\n",
      "Iteration 100: loss=0.0223\n",
      "Iteration 200: loss=0.0159\n",
      "Iteration 300: loss=0.0113\n",
      "Iteration 400: loss=0.0081\n",
      "Iteration 500: loss=0.0058\n",
      "Iteration 600: loss=0.0041\n",
      "Iteration 700: loss=0.0029\n",
      "Iteration 800: loss=0.0021\n",
      "Iteration 900: loss=0.0015\n"
     ]
    }
   ],
   "source": [
    "# definir os parâmetros iniciais do modelo\n",
    "w = 0.0\n",
    "b = 0.0\n",
    "lr = 0.01 # taxa de aprendizado\n",
    "\n",
    "# número de iterações para atualizar os parâmetros\n",
    "epochs = 1000\n",
    "\n",
    "# arrays para armazenar a perda e os parâmetros do modelo em cada iteração\n",
    "losses = []\n",
    "weights = []\n",
    "biases = []\n",
    "\n",
    "# loop de treinamento\n",
    "for i in range(epochs):\n",
    "    # prever a saída com os parâmetros atuais\n",
    "    y_pred = w * x + b\n",
    "    \n",
    "    # calcular a perda\n",
    "    loss = mse_loss(y, y_pred)\n",
    "    losses.append(loss)\n",
    "    \n",
    "    # atualizar os parâmetros do modelo\n",
    "    w, b = update_params(x, y, y_pred, lr, w, b)\n",
    "    weights.append(w)\n",
    "    biases.append(b)\n",
    "    \n",
    "    # imprimir a perda a cada 100 iterações\n",
    "    if i % 100 == 0:\n",
    "        print(f\"Iteration {i}: loss={loss:.4f}\")\n",
    "        \n"
   ]
  },
  {
   "cell_type": "code",
   "execution_count": 16,
   "id": "d3a3321f",
   "metadata": {
    "slideshow": {
     "slide_type": "subslide"
    }
   },
   "outputs": [
    {
     "name": "stdout",
     "output_type": "stream",
     "text": [
      "Final parameters: w=2.0211, b=0.9237\n"
     ]
    }
   ],
   "source": [
    "# imprimir os parâmetros finais do modelo\n",
    "print(f\"Final parameters: w={w:.4f}, b={b:.4f}\")"
   ]
  },
  {
   "cell_type": "code",
   "execution_count": 17,
   "id": "589184ab",
   "metadata": {
    "slideshow": {
     "slide_type": "subslide"
    }
   },
   "outputs": [
    {
     "data": {
      "image/png": "[encoded data removed]",
      "text/plain": [
       "<Figure size 1080x360 with 1 Axes>"
      ]
     },
     "metadata": {
      "needs_background": "light"
     },
     "output_type": "display_data"
    }
   ],
   "source": [
    "# plotar a perda ao longo das iterações\n",
    "plt.plot(losses)\n",
    "plt.title(\"Loss over iterations\")\n",
    "plt.xlabel(\"Iteration\")\n",
    "plt.ylabel(\"Loss\")\n",
    "plt.show()"
   ]
  },
  {
   "cell_type": "code",
   "execution_count": 18,
   "id": "c3f34216",
   "metadata": {
    "slideshow": {
     "slide_type": "subslide"
    }
   },
   "outputs": [
    {
     "data": {
      "image/png": "[encoded data removed]",
      "text/plain": [
       "<Figure size 1080x360 with 1 Axes>"
      ]
     },
     "metadata": {
      "needs_background": "light"
     },
     "output_type": "display_data"
    }
   ],
   "source": [
    "# plotar os parâmetros do modelo ao longo das iterações\n",
    "plt.plot(weights, label=\"Weights\")\n",
    "plt.plot(biases, label=\"Biases\")\n",
    "plt.title(\"Model parameters over iterations\")\n",
    "plt.xlabel(\"Iteration\")\n",
    "plt.legend()\n",
    "plt.show()"
   ]
  },
  {
   "cell_type": "code",
   "execution_count": 19,
   "id": "c433288e",
   "metadata": {
    "slideshow": {
     "slide_type": "subslide"
    }
   },
   "outputs": [
    {
     "data": {
      "text/plain": [
       "<matplotlib.legend.Legend at 0x7fb8b971afd0>"
      ]
     },
     "execution_count": 19,
     "metadata": {},
     "output_type": "execute_result"
    },
    {
     "data": {
      "image/png": "[encoded data removed]",
      "text/plain": [
       "<Figure size 1080x360 with 1 Axes>"
      ]
     },
     "metadata": {
      "needs_background": "light"
     },
     "output_type": "display_data"
    }
   ],
   "source": [
    "# plotar as previsões do modelo em relação aos dados\n",
    "plt.scatter(x, y, label=\"True values\")\n",
    "plt.plot(x, w*x + b, color=\"r\", label=\"Predictions\")\n",
    "plt.title(\"Linear regression\")\n",
    "plt.xlabel(\"Input\")\n",
    "plt.ylabel(\"Output\")\n",
    "plt.legend()"
   ]
  },
  {
   "cell_type": "markdown",
   "id": "4f9e3443",
   "metadata": {
    "slideshow": {
     "slide_type": "slide"
    }
   },
   "source": [
    "<img src=\"imagens/45.png\">"
   ]
  },
  {
   "cell_type": "markdown",
   "id": "97809ce3",
   "metadata": {
    "slideshow": {
     "slide_type": "subslide"
    }
   },
   "source": [
    "A derivada é uma medida da taxa de variação de uma função em relação a uma variável. Em outras palavras, a derivada indica o quão rápido a função está mudando em um ponto específico. É frequentemente usada para encontrar os pontos de mínimo ou máximo de uma função, bem como para modelar o comportamento de sistemas dinâmicos."
   ]
  },
  {
   "cell_type": "markdown",
   "id": "bdb062cf",
   "metadata": {
    "slideshow": {
     "slide_type": "subslide"
    }
   },
   "source": [
    "No contexto de machine learning, a derivada é utilizada para calcular a taxa de variação de uma função de custo em relação aos parâmetros do modelo. Isso é necessário porque, em geral, o objetivo do aprendizado de máquina é encontrar um conjunto de parâmetros que minimize a função de custo."
   ]
  },
  {
   "cell_type": "markdown",
   "id": "3b92fdc4",
   "metadata": {
    "slideshow": {
     "slide_type": "subslide"
    }
   },
   "source": [
    "Esses parâmetros são ajustados iterativamente através do processo de otimização, como o Gradiente Descendente, que é um algoritmo comum de otimização em machine learning. O Gradiente Descendente utiliza a derivada da função de custo em relação a cada parâmetro do modelo para ajustar esses parâmetros em direção ao ponto de mínimo da função de custo."
   ]
  },
  {
   "cell_type": "code",
   "execution_count": 20,
   "id": "c404befd",
   "metadata": {
    "slideshow": {
     "slide_type": "subslide"
    }
   },
   "outputs": [
    {
     "data": {
      "image/png": "[encoded data removed]",
      "text/plain": [
       "<Figure size 1080x360 with 1 Axes>"
      ]
     },
     "metadata": {
      "needs_background": "light"
     },
     "output_type": "display_data"
    }
   ],
   "source": [
    "import numpy as np\n",
    "import matplotlib.pyplot as plt\n",
    "\n",
    "# Dados sintéticos\n",
    "x = np.linspace(0, 1, 50)\n",
    "y = 2 * x + 1 + np.random.randn(50) * 0.2  # adiciona ruído aos dados\n",
    "plt.scatter(x, y)\n",
    "plt.show()"
   ]
  },
  {
   "cell_type": "code",
   "execution_count": 21,
   "id": "9b8643d0",
   "metadata": {
    "slideshow": {
     "slide_type": "subslide"
    }
   },
   "outputs": [],
   "source": [
    "#vamos definir a função de custo que queremos minimizar\n",
    "def mse_loss(y_pred, y_true):\n",
    "    return np.mean((y_pred - y_true)**2)"
   ]
  },
  {
   "cell_type": "code",
   "execution_count": 22,
   "id": "71f859d2",
   "metadata": {
    "slideshow": {
     "slide_type": "subslide"
    }
   },
   "outputs": [],
   "source": [
    "# Função que calcula a derivada da função de custo em relação aos parâmetros do modelo.\n",
    "def gradient(x, y, w, b):\n",
    "    y_pred = w * x + b\n",
    "    dw = np.mean(2 * (y_pred - y) * x)\n",
    "    db = np.mean(2 * (y_pred - y))\n",
    "    return dw, db"
   ]
  },
  {
   "cell_type": "code",
   "execution_count": 23,
   "id": "b633a058",
   "metadata": {
    "slideshow": {
     "slide_type": "subslide"
    }
   },
   "outputs": [
    {
     "name": "stdout",
     "output_type": "stream",
     "text": [
      "Iteration 0: w=0.24, b=0.41, loss=2.59\n",
      "Iteration 1: w=0.42, b=0.71, loss=1.50\n",
      "Iteration 2: w=0.56, b=0.93, loss=0.90\n",
      "Iteration 3: w=0.66, b=1.10, loss=0.56\n",
      "Iteration 4: w=0.75, b=1.22, loss=0.37\n",
      "Iteration 5: w=0.81, b=1.31, loss=0.27\n",
      "Iteration 6: w=0.87, b=1.37, loss=0.21\n",
      "Iteration 7: w=0.91, b=1.42, loss=0.17\n",
      "Iteration 8: w=0.94, b=1.45, loss=0.15\n",
      "Iteration 9: w=0.97, b=1.47, loss=0.14\n",
      "Iteration 10: w=1.00, b=1.49, loss=0.13\n",
      "Iteration 11: w=1.02, b=1.50, loss=0.13\n",
      "Iteration 12: w=1.04, b=1.50, loss=0.12\n",
      "Iteration 13: w=1.06, b=1.50, loss=0.12\n",
      "Iteration 14: w=1.07, b=1.51, loss=0.12\n",
      "Iteration 15: w=1.09, b=1.50, loss=0.12\n",
      "Iteration 16: w=1.10, b=1.50, loss=0.11\n",
      "Iteration 17: w=1.12, b=1.50, loss=0.11\n",
      "Iteration 18: w=1.13, b=1.49, loss=0.11\n",
      "Iteration 19: w=1.14, b=1.49, loss=0.11\n"
     ]
    }
   ],
   "source": [
    "# Parâmetros iniciais\n",
    "w = 0\n",
    "b = 0\n",
    "\n",
    "# Hiperparâmetros\n",
    "learning_rate = 0.1\n",
    "n_iterations = 20\n",
    "\n",
    "# Treinamento do modelo\n",
    "for i in range(n_iterations):\n",
    "    dw, db = gradient(x, y, w, b)\n",
    "    w -= learning_rate * dw\n",
    "    b -= learning_rate * db\n",
    "    loss = mse_loss(w * x + b, y)\n",
    "    print(f\"Iteration {i}: w={w:.2f}, b={b:.2f}, loss={loss:.2f}\")"
   ]
  },
  {
   "cell_type": "code",
   "execution_count": 24,
   "id": "fc50c49e",
   "metadata": {
    "slideshow": {
     "slide_type": "subslide"
    }
   },
   "outputs": [
    {
     "data": {
      "image/png": "[encoded data removed]",
      "text/plain": [
       "<Figure size 1080x360 with 1 Axes>"
      ]
     },
     "metadata": {
      "needs_background": "light"
     },
     "output_type": "display_data"
    }
   ],
   "source": [
    "# Plotando a linha ajustada\n",
    "plt.scatter(x, y)\n",
    "plt.plot(x, w * x + b, color='red')\n",
    "plt.show()"
   ]
  },
  {
   "cell_type": "markdown",
   "id": "e8320cce",
   "metadata": {
    "slideshow": {
     "slide_type": "subslide"
    }
   },
   "source": [
    "O Gradiente Descendente é um algoritmo de otimização usado para ajustar os parâmetros de um modelo em direção ao mínimo local da função de custo. Em machine learning, o objetivo é minimizar a função de custo para que o modelo possa fazer previsões mais precisas nos dados de teste."
   ]
  },
  {
   "cell_type": "markdown",
   "id": "e5dcafa6",
   "metadata": {
    "slideshow": {
     "slide_type": "subslide"
    }
   },
   "source": [
    "O algoritmo do Gradiente Descendente é baseado no cálculo da derivada da função de custo em relação a cada um dos parâmetros do modelo. A partir dessa derivada, é possível descobrir a direção em que a função de custo está diminuindo mais rapidamente. Em seguida, os parâmetros do modelo são atualizados nessa direção, de modo que a função de custo seja minimizada."
   ]
  },
  {
   "cell_type": "markdown",
   "id": "169de006",
   "metadata": {
    "slideshow": {
     "slide_type": "subslide"
    }
   },
   "source": [
    "O processo de atualização dos parâmetros é repetido várias vezes, até que a função de custo atinja um mínimo local ou até que seja atingido um número máximo de iterações. A taxa de aprendizado (learning rate) é um hiperparâmetro que controla o tamanho dos passos que são dados na direção do gradiente, e pode afetar a velocidade e a estabilidade da convergência do algoritmo."
   ]
  },
  {
   "cell_type": "markdown",
   "id": "ea5ad5dc",
   "metadata": {
    "slideshow": {
     "slide_type": "subslide"
    }
   },
   "source": [
    "O Gradiente Descendente é um dos algoritmos de otimização mais populares em machine learning e é usado para ajustar os parâmetros de muitos modelos diferentes, como redes neurais, regressão linear, regressão logística, entre outros. Ele é simples e eficiente, mas pode apresentar problemas, como ficar preso em mínimos locais ou platôs da função de custo. Existem variações do Gradiente Descendente, como o Gradiente Descendente Estocástico (SGD) e o Adam, que buscam solucionar esses problemas."
   ]
  }
 ],
 "metadata": {
  "celltoolbar": "Slideshow",
  "kernelspec": {
   "display_name": "Python 3 (ipykernel)",
   "language": "python",
   "name": "python3"
  },
  "language_info": {
   "codemirror_mode": {
    "name": "ipython",
    "version": 3
   },
   "file_extension": ".py",
   "mimetype": "text/x-python",
   "name": "python",
   "nbconvert_exporter": "python",
   "pygments_lexer": "ipython3",
   "version": "3.9.12"
  }
 },
 "nbformat": 4,
 "nbformat_minor": 5
}
