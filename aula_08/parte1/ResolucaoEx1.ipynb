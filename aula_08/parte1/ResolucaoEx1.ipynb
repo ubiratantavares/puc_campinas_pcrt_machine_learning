{
 "cells": [
  {
   "cell_type": "code",
   "execution_count": 2,
   "id": "e55a3a5e",
   "metadata": {},
   "outputs": [
    {
     "name": "stdout",
     "output_type": "stream",
     "text": [
      "Requirement already satisfied: pulp in c:\\users\\djdou\\anaconda3\\lib\\site-packages (2.7.0)\n",
      "Status da solução: Optimal\n",
      "Valor ótimo da função objetivo: 131.0\n",
      "xA: 500.0\n",
      "xT: 200.0\n",
      "xFI: 300.0\n"
     ]
    }
   ],
   "source": [
    "!pip install pulp\n",
    "from pulp import *\n",
    "import warnings\n",
    "\n",
    "warnings.filterwarnings('ignore')\n",
    "\n",
    "# Criação do problema\n",
    "prob = LpProblem(\"Alocação de Ativos\", LpMaximize)\n",
    "\n",
    "# Variáveis de decisão\n",
    "xA = LpVariable(\"xA\", 0, None)\n",
    "xT = LpVariable(\"xT\", 0, None)\n",
    "xFI = LpVariable(\"xFI\", 0, None)\n",
    "\n",
    "# Função objetivo\n",
    "prob += 0.15*xA + 0.1*xT + 0.12*xFI, \"Retorno Esperado\"\n",
    "\n",
    "# Restrições\n",
    "prob += xA + xT + xFI <= 1000, \"Capital Disponível\"\n",
    "prob += xA <= 0.5*1000, \"Restrição de Ações\"\n",
    "prob += xFI <= 0.3*1000, \"Restrição de Fundos Imobiliários\"\n",
    "prob += xT >= 0.1*1000, \"Restrição de Títulos\"\n",
    "\n",
    "# Resolução do problema\n",
    "prob.solve()\n",
    "\n",
    "# Impressão da solução\n",
    "print(\"Status da solução:\", LpStatus[prob.status])\n",
    "print(\"Valor ótimo da função objetivo:\", value(prob.objective))\n",
    "print(\"xA:\", value(xA.varValue))\n",
    "print(\"xT:\", value(xT.varValue))\n",
    "print(\"xFI:\", value(xFI.varValue))"
   ]
  },
  {
   "cell_type": "code",
   "execution_count": null,
   "id": "cd657693",
   "metadata": {},
   "outputs": [],
   "source": []
  }
 ],
 "metadata": {
  "kernelspec": {
   "display_name": "Python 3 (ipykernel)",
   "language": "python",
   "name": "python3"
  },
  "language_info": {
   "codemirror_mode": {
    "name": "ipython",
    "version": 3
   },
   "file_extension": ".py",
   "mimetype": "text/x-python",
   "name": "python",
   "nbconvert_exporter": "python",
   "pygments_lexer": "ipython3",
   "version": "3.9.12"
  }
 },
 "nbformat": 4,
 "nbformat_minor": 5
}
