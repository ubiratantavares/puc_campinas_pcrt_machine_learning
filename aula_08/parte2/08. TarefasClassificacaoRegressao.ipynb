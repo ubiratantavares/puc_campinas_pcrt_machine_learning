{
 "cells": [
  {
   "cell_type": "markdown",
   "id": "a7a5d410",
   "metadata": {
    "slideshow": {
     "slide_type": "slide"
    }
   },
   "source": [
    "<img src=\"imagens/Boas vindas.png\">"
   ]
  },
  {
   "cell_type": "markdown",
   "id": "754c68ac",
   "metadata": {
    "slideshow": {
     "slide_type": "slide"
    }
   },
   "source": [
    "# Parte 1: Introdução\n",
    "\n",
    "* Em Aprendizado de Máquina, tarefas de classificação e regressão são dois dos principais tipos de problemas que podemos resolver. "
   ]
  },
  {
   "cell_type": "markdown",
   "id": "6f4d9d64",
   "metadata": {
    "slideshow": {
     "slide_type": "subslide"
    }
   },
   "source": [
    "<img src=\"imagens/introducao.png\">"
   ]
  },
  {
   "cell_type": "markdown",
   "id": "876384fa",
   "metadata": {
    "slideshow": {
     "slide_type": "subslide"
    }
   },
   "source": [
    "Conforme mostrado na **Aula 01**, utilizamos a imagem abaixo como referência sobre as áreas onde a Aprendizagem de máquina tem sido amplamente utilizada, visando resolver problemas que envolvem o nosso dia-a-dia. "
   ]
  },
  {
   "cell_type": "markdown",
   "id": "6d079986",
   "metadata": {
    "slideshow": {
     "slide_type": "subslide"
    }
   },
   "source": [
    "<img src=\"imagens/ml.png\">"
   ]
  },
  {
   "cell_type": "markdown",
   "id": "4f814009",
   "metadata": {
    "slideshow": {
     "slide_type": "subslide"
    }
   },
   "source": [
    "# 1.1. Classificação e Regressão\n",
    "* Olhando de uma forma mais resumida em relação a proposta macro na imagem anterior, identificamos dentro do **Aprendizado Supervisionado** estas duas abordagens: \n",
    "    * Classificação\n",
    "    * Regressão"
   ]
  },
  {
   "cell_type": "markdown",
   "id": "136d89c4",
   "metadata": {
    "slideshow": {
     "slide_type": "subslide"
    }
   },
   "source": [
    "<img src=\"imagens/ml_02.png\">"
   ]
  },
  {
   "cell_type": "markdown",
   "id": "e10035f5",
   "metadata": {
    "slideshow": {
     "slide_type": "subslide"
    }
   },
   "source": [
    "# 1.2. Como reconhecer as tarefas de Classficação e Regressão ?\n",
    "\n",
    "Para reconhecer se uma tarefa de aprendizagem de máquina é de classificação ou regressão, é necessário analisar o tipo de saída que a tarefa requer, ou seja, é necessário entender a natureza do problema a ser resolvido e o tipo de saída esperado. \n",
    "* Se a saída for uma **classe** ou **categoria discreta**, então trata-se de um tarefa de **Classificação**. \n",
    "* Se a saída for um **valor numérico contínuo**, então trata-se de uma tarefa de **Regressão**."
   ]
  },
  {
   "cell_type": "markdown",
   "id": "70052a9f",
   "metadata": {
    "slideshow": {
     "slide_type": "subslide"
    }
   },
   "source": [
    "1. **Tarefa de Classificação:**\n",
    "\n",
    "* A tarefa de classificação é usada para prever uma classe, categoria ou rótulo para um determinado exemplo de entrada.\n",
    "* Exemplos de tarefas de classificação incluem prever se um e-mail é spam ou não, se uma imagem é um gato ou um cachorro ou se uma transação financeira é fraudulenta ou não.\n",
    "* As saídas da tarefa de classificação são valores discretos e não contínuos."
   ]
  },
  {
   "cell_type": "markdown",
   "id": "27ee6d14",
   "metadata": {
    "slideshow": {
     "slide_type": "subslide"
    }
   },
   "source": [
    "2. **Tarefa de Regressão:**\n",
    "\n",
    "* A tarefa de regressão é usada para prever um valor numérico para uma determinada entrada.\n",
    "* Exemplos de tarefas de regressão incluem prever o preço de uma casa com base em suas características, prever a temperatura para amanhã ou prever a receita para um determinado produto.\n",
    "* As saídas da tarefa de regressão são valores contínuos e não discretos."
   ]
  },
  {
   "cell_type": "markdown",
   "id": "e95b554c",
   "metadata": {
    "slideshow": {
     "slide_type": "slide"
    }
   },
   "source": [
    "# Parte 2: Classificação"
   ]
  },
  {
   "cell_type": "markdown",
   "id": "7d4d278b",
   "metadata": {
    "slideshow": {
     "slide_type": "subslide"
    }
   },
   "source": [
    "<img src=\"imagens/classificacao.png\">"
   ]
  },
  {
   "cell_type": "markdown",
   "id": "197ea598",
   "metadata": {
    "slideshow": {
     "slide_type": "subslide"
    }
   },
   "source": [
    "# 2.1. O que é classificação ?\n",
    "\n",
    "* As tarefas de classificação em aprendizagem de máquina são um conjunto de técnicas que visam atribuir uma ou mais classes a um conjunto de dados. <br><br>\n",
    "\n",
    "* Em geral, as tarefas de classificação são supervisionadas, o que significa que o modelo é treinado em um conjunto de dados rotulados, onde a classe correta para cada instância é conhecida. O objetivo é criar um modelo que possa generalizar para novas instâncias de dados e classificá-las corretamente. <br><br>\n",
    "\n",
    "* Essas tarefas podem ser divididas em três tipos principais:"
   ]
  },
  {
   "cell_type": "markdown",
   "id": "da1ed0bb",
   "metadata": {
    "slideshow": {
     "slide_type": "subslide"
    }
   },
   "source": [
    "1. **Classificação binária:**\n",
    "\n",
    "* É uma tarefa de classificação onde o modelo deve atribuir apenas uma entre duas possíveis classes a cada instância de dados.<br><br>\n",
    "    * **Exemplos:** \n",
    "    1. Determinar se um e-mail é spam ou não-spam; \n",
    "    2. Prever se um cliente irá cancelar ou não um serviço;\n",
    "    3. Determinar se um tumor é benigno ou maligno."
   ]
  },
  {
   "cell_type": "markdown",
   "id": "f970ac40",
   "metadata": {
    "slideshow": {
     "slide_type": "subslide"
    }
   },
   "source": [
    "2. **Classificação multiclasse:**\n",
    "\n",
    "* É uma tarefa de classificação onde o modelo deve atribuir uma entre três ou mais classes possíveis a cada instância de dados.<br><br>\n",
    "    * **Exemplos:**  \n",
    "    1. Determinar a espécie de uma planta com base em suas características; \n",
    "    2. Classificar imagens em diferentes categorias (por exemplo, carro, bicicleta, ônibus); \n",
    "    3. prever o vencedor de uma eleição com base em pesquisas de opinião."
   ]
  },
  {
   "cell_type": "markdown",
   "id": "e8adb77d",
   "metadata": {
    "slideshow": {
     "slide_type": "subslide"
    }
   },
   "source": [
    "3. **Classificação multirrótulo:**\n",
    "\n",
    "* É uma tarefa de classificação onde o modelo deve atribuir mais de uma classe a cada instância de dados. <br><br>\n",
    "    * **Exemplos:** \n",
    "    1. Classificar um artigo em várias categorias (por exemplo, política, esporte, cultura); \n",
    "    2. Identificar várias doenças em uma imagem de tomografia computadorizada."
   ]
  },
  {
   "cell_type": "markdown",
   "id": "0fdaa387",
   "metadata": {
    "slideshow": {
     "slide_type": "subslide"
    }
   },
   "source": [
    "## Áreas de aplicação<br>\n",
    "\n",
    "1. **Reconhecimento de imagem:**<br>\n",
    "Classificação de imagens em categorias, como reconhecimento de faces, identificação de objetos, entre outros.<br><br>\n",
    "\n",
    "2. **Processamento de linguagem natural:**<br>\n",
    "Classificação de texto em categorias, como análise de sentimento, categorização de tópicos, identificação de spam, entre outros.<br><br>\n",
    "\n",
    "3. **Medicina:**<br>\n",
    "Classificação de dados médicos para diagnóstico, previsão de doenças, análise de imagem médica, entre outros.<br><br>"
   ]
  },
  {
   "cell_type": "markdown",
   "id": "bee13863",
   "metadata": {
    "slideshow": {
     "slide_type": "subslide"
    }
   },
   "source": [
    "## Áreas de aplicação<br>\n",
    "\n",
    "4. **Finanças:**<br>\n",
    "Classificação de dados financeiros para previsão de investimentos, detecção de fraudes, análise de crédito, entre outros.<br><br>\n",
    "\n",
    "5. **Marketing:**<br>\n",
    "Classificação de dados de comportamento do consumidor para segmentação de mercado, análise de campanhas publicitárias, entre outros.<br><br>\n",
    "\n",
    "6. **Segurança:**<br>\n",
    "Classificação de dados para detecção de anomalias, previsão de riscos, identificação de atividades suspeitas, entre outros."
   ]
  },
  {
   "cell_type": "markdown",
   "id": "c80cf548",
   "metadata": {
    "slideshow": {
     "slide_type": "subslide"
    }
   },
   "source": [
    "## 2.1.1. Classificação Binária com Regressão Logística\n",
    "\n",
    "* Um exemplo simples de algoritmo de classificação binária de aprendizagem de máquina é o algoritmo de **Regressão Logística**. <br><br>\n",
    "* Este algoritmo é frequentemente utilizado em problemas de **classificação binária**, onde o objetivo é prever uma saída binária (0 ou 1) com base em um conjunto de variáveis de entrada."
   ]
  },
  {
   "cell_type": "markdown",
   "id": "aa0d903f",
   "metadata": {
    "slideshow": {
     "slide_type": "subslide"
    }
   },
   "source": [
    "<img src=\"imagens/exemplo_pratico.png\">"
   ]
  },
  {
   "cell_type": "markdown",
   "id": "5326dd37",
   "metadata": {
    "slideshow": {
     "slide_type": "skip"
    }
   },
   "source": [
    "<img src=\"imagens/scikitlearn.png\">"
   ]
  },
  {
   "cell_type": "markdown",
   "id": "1bed81e7",
   "metadata": {
    "slideshow": {
     "slide_type": "skip"
    }
   },
   "source": [
    "# https://scikit-learn.org/stable/#"
   ]
  },
  {
   "cell_type": "markdown",
   "id": "61799c7f",
   "metadata": {
    "slideshow": {
     "slide_type": "subslide"
    }
   },
   "source": [
    "**Scikit-learn** é uma biblioteca de aprendizado de máquina em Python, que fornece uma ampla gama de ferramentas para análise de dados e modelagem estatística, incluindo classificação, regressão, clustering e pré-processamento. construída sobre as bibliotecas NumPy, SciPy e matplotlib.\n",
    "\n",
    "Oferece apoio para:\n",
    "* SVM (Máquinas de Vetores de Suporte)\n",
    "* Random Forests (Florestas Aleatórias)\n",
    "* Naive Bayes (Bayes Ingênuo)\n",
    "* Regressão Linear\n",
    "* Regressão Logística \n",
    "* Outros"
   ]
  },
  {
   "cell_type": "markdown",
   "id": "51076d3d",
   "metadata": {
    "slideshow": {
     "slide_type": "skip"
    }
   },
   "source": [
    "<img src=\"imagens/ds_Iris_01.png\">"
   ]
  },
  {
   "cell_type": "markdown",
   "id": "c0558e6d",
   "metadata": {
    "slideshow": {
     "slide_type": "subslide"
    }
   },
   "source": [
    "* Os dados **\"Iris\"** são comumente usados em aprendizado de máquina e estatística para fins de classificação.<br><br> \n",
    "\n",
    "* Eles incluem medidas de comprimento e largura de **sépalas** e **pétalas** em centímetros de cada uma das três espécies de íris (setosa, versicolor e virginica).<br><br>\n",
    "\n",
    "* Esses dados foram coletados pelo botânico britânico Ronald Fisher em 1936 em seu artigo \"The use of multiple measurements in taxonomic problems\" e foram amplamente utilizados desde então para fins de treinamento e teste de algoritmos de classificação.<br><br>\n",
    "\n",
    "* O conjunto de dados iris pode ser encontrado na biblioteca scikit-learn do Python e em vários outros lugares na web."
   ]
  },
  {
   "cell_type": "markdown",
   "id": "4ad8f7be",
   "metadata": {
    "slideshow": {
     "slide_type": "subslide"
    }
   },
   "source": [
    "<img src=\"imagens/ds_Iris_02.png\">"
   ]
  },
  {
   "cell_type": "markdown",
   "id": "97cba795",
   "metadata": {
    "slideshow": {
     "slide_type": "subslide"
    }
   },
   "source": [
    "* Os dados **\"Iris setosa\"**, **\"Iris versicolor\"** e **\"Iris virginica\"** se referem às três espécies de plantas de íris.<br><br>\n",
    "* Essas espécies são frequentemente usadas como exemplos em estudos de classificação e análise de dados."
   ]
  },
  {
   "cell_type": "code",
   "execution_count": 16,
   "id": "b9f35f75",
   "metadata": {
    "slideshow": {
     "slide_type": "subslide"
    }
   },
   "outputs": [],
   "source": [
    "#bibliotecas utilizadas\n",
    "import pandas as pd\n",
    "import numpy as np\n",
    "import warnings\n",
    "import os\n",
    "\n",
    "# O Scikit-learn é uma biblioteca popular em Python para aprendizado de máquina e inclui o conjunto de dados Iris\n",
    "from sklearn.neighbors import KNeighborsClassifier\n",
    "\n",
    "%matplotlib inline\n",
    "warnings.filterwarnings('ignore')\n",
    "\n",
    "# Remover notação científica do DataFrame\n",
    "pd.set_option('display.float_format', lambda x: '%.2f' % x)\n",
    "\n",
    "# Mostrar todas as colunas\n",
    "pd.options.display.max_columns = None "
   ]
  },
  {
   "cell_type": "markdown",
   "id": "a65618ae",
   "metadata": {
    "slideshow": {
     "slide_type": "subslide"
    }
   },
   "source": [
    "## 2.2. Obter os Dados\n",
    "\n",
    "1. Fazer o download do aquivo\n",
    "2. Carregar o dataset a partir da biblioteca scikitlearn"
   ]
  },
  {
   "cell_type": "markdown",
   "id": "c06f07ce",
   "metadata": {
    "slideshow": {
     "slide_type": "subslide"
    }
   },
   "source": [
    "### 2.2.2. Carregar o dataset a partir da biblioteca scikitlearn"
   ]
  },
  {
   "cell_type": "code",
   "execution_count": 5,
   "id": "a0763d96",
   "metadata": {
    "slideshow": {
     "slide_type": "subslide"
    }
   },
   "outputs": [],
   "source": [
    "# O conjunto de dados Iris é uma das bases de dados mais comuns e populares na área de aprendizado de máquina. \n",
    "from sklearn.datasets import load_iris\n",
    "\n",
    "# Carrega os dados de exemplo do conjunto de dados iris\n",
    "iris = load_iris()"
   ]
  },
  {
   "cell_type": "code",
   "execution_count": 13,
   "id": "c65744e1",
   "metadata": {
    "slideshow": {
     "slide_type": "subslide"
    }
   },
   "outputs": [],
   "source": [
    "# Acessando as características\n",
    "\"\"\"\n",
    "A variável X conterá as quatro colunas correspondentes às características do conjunto de dados Iris, \n",
    "\n",
    "\"\"\"\n",
    "X = iris.data"
   ]
  },
  {
   "cell_type": "code",
   "execution_count": 14,
   "id": "5d3e321a",
   "metadata": {
    "slideshow": {
     "slide_type": "subslide"
    }
   },
   "outputs": [
    {
     "name": "stdout",
     "output_type": "stream",
     "text": [
      "(150, 4)\n"
     ]
    }
   ],
   "source": [
    "# Verificando a dimensionalidade do banco de dados\n",
    "print(X.shape)"
   ]
  },
  {
   "cell_type": "code",
   "execution_count": 15,
   "id": "28029a35",
   "metadata": {
    "slideshow": {
     "slide_type": "subslide"
    }
   },
   "outputs": [
    {
     "name": "stdout",
     "output_type": "stream",
     "text": [
      "[[5.1 3.5 1.4 0.2]\n",
      " [4.9 3.  1.4 0.2]\n",
      " [4.7 3.2 1.3 0.2]\n",
      " [4.6 3.1 1.5 0.2]\n",
      " [5.  3.6 1.4 0.2]\n",
      " [5.4 3.9 1.7 0.4]\n",
      " [4.6 3.4 1.4 0.3]\n",
      " [5.  3.4 1.5 0.2]\n",
      " [4.4 2.9 1.4 0.2]\n",
      " [4.9 3.1 1.5 0.1]\n",
      " [5.4 3.7 1.5 0.2]\n",
      " [4.8 3.4 1.6 0.2]\n",
      " [4.8 3.  1.4 0.1]\n",
      " [4.3 3.  1.1 0.1]\n",
      " [5.8 4.  1.2 0.2]\n",
      " [5.7 4.4 1.5 0.4]\n",
      " [5.4 3.9 1.3 0.4]\n",
      " [5.1 3.5 1.4 0.3]\n",
      " [5.7 3.8 1.7 0.3]\n",
      " [5.1 3.8 1.5 0.3]\n",
      " [5.4 3.4 1.7 0.2]\n",
      " [5.1 3.7 1.5 0.4]\n",
      " [4.6 3.6 1.  0.2]\n",
      " [5.1 3.3 1.7 0.5]\n",
      " [4.8 3.4 1.9 0.2]\n",
      " [5.  3.  1.6 0.2]\n",
      " [5.  3.4 1.6 0.4]\n",
      " [5.2 3.5 1.5 0.2]\n",
      " [5.2 3.4 1.4 0.2]\n",
      " [4.7 3.2 1.6 0.2]\n",
      " [4.8 3.1 1.6 0.2]\n",
      " [5.4 3.4 1.5 0.4]\n",
      " [5.2 4.1 1.5 0.1]\n",
      " [5.5 4.2 1.4 0.2]\n",
      " [4.9 3.1 1.5 0.2]\n",
      " [5.  3.2 1.2 0.2]\n",
      " [5.5 3.5 1.3 0.2]\n",
      " [4.9 3.6 1.4 0.1]\n",
      " [4.4 3.  1.3 0.2]\n",
      " [5.1 3.4 1.5 0.2]\n",
      " [5.  3.5 1.3 0.3]\n",
      " [4.5 2.3 1.3 0.3]\n",
      " [4.4 3.2 1.3 0.2]\n",
      " [5.  3.5 1.6 0.6]\n",
      " [5.1 3.8 1.9 0.4]\n",
      " [4.8 3.  1.4 0.3]\n",
      " [5.1 3.8 1.6 0.2]\n",
      " [4.6 3.2 1.4 0.2]\n",
      " [5.3 3.7 1.5 0.2]\n",
      " [5.  3.3 1.4 0.2]\n",
      " [7.  3.2 4.7 1.4]\n",
      " [6.4 3.2 4.5 1.5]\n",
      " [6.9 3.1 4.9 1.5]\n",
      " [5.5 2.3 4.  1.3]\n",
      " [6.5 2.8 4.6 1.5]\n",
      " [5.7 2.8 4.5 1.3]\n",
      " [6.3 3.3 4.7 1.6]\n",
      " [4.9 2.4 3.3 1. ]\n",
      " [6.6 2.9 4.6 1.3]\n",
      " [5.2 2.7 3.9 1.4]\n",
      " [5.  2.  3.5 1. ]\n",
      " [5.9 3.  4.2 1.5]\n",
      " [6.  2.2 4.  1. ]\n",
      " [6.1 2.9 4.7 1.4]\n",
      " [5.6 2.9 3.6 1.3]\n",
      " [6.7 3.1 4.4 1.4]\n",
      " [5.6 3.  4.5 1.5]\n",
      " [5.8 2.7 4.1 1. ]\n",
      " [6.2 2.2 4.5 1.5]\n",
      " [5.6 2.5 3.9 1.1]\n",
      " [5.9 3.2 4.8 1.8]\n",
      " [6.1 2.8 4.  1.3]\n",
      " [6.3 2.5 4.9 1.5]\n",
      " [6.1 2.8 4.7 1.2]\n",
      " [6.4 2.9 4.3 1.3]\n",
      " [6.6 3.  4.4 1.4]\n",
      " [6.8 2.8 4.8 1.4]\n",
      " [6.7 3.  5.  1.7]\n",
      " [6.  2.9 4.5 1.5]\n",
      " [5.7 2.6 3.5 1. ]\n",
      " [5.5 2.4 3.8 1.1]\n",
      " [5.5 2.4 3.7 1. ]\n",
      " [5.8 2.7 3.9 1.2]\n",
      " [6.  2.7 5.1 1.6]\n",
      " [5.4 3.  4.5 1.5]\n",
      " [6.  3.4 4.5 1.6]\n",
      " [6.7 3.1 4.7 1.5]\n",
      " [6.3 2.3 4.4 1.3]\n",
      " [5.6 3.  4.1 1.3]\n",
      " [5.5 2.5 4.  1.3]\n",
      " [5.5 2.6 4.4 1.2]\n",
      " [6.1 3.  4.6 1.4]\n",
      " [5.8 2.6 4.  1.2]\n",
      " [5.  2.3 3.3 1. ]\n",
      " [5.6 2.7 4.2 1.3]\n",
      " [5.7 3.  4.2 1.2]\n",
      " [5.7 2.9 4.2 1.3]\n",
      " [6.2 2.9 4.3 1.3]\n",
      " [5.1 2.5 3.  1.1]\n",
      " [5.7 2.8 4.1 1.3]\n",
      " [6.3 3.3 6.  2.5]\n",
      " [5.8 2.7 5.1 1.9]\n",
      " [7.1 3.  5.9 2.1]\n",
      " [6.3 2.9 5.6 1.8]\n",
      " [6.5 3.  5.8 2.2]\n",
      " [7.6 3.  6.6 2.1]\n",
      " [4.9 2.5 4.5 1.7]\n",
      " [7.3 2.9 6.3 1.8]\n",
      " [6.7 2.5 5.8 1.8]\n",
      " [7.2 3.6 6.1 2.5]\n",
      " [6.5 3.2 5.1 2. ]\n",
      " [6.4 2.7 5.3 1.9]\n",
      " [6.8 3.  5.5 2.1]\n",
      " [5.7 2.5 5.  2. ]\n",
      " [5.8 2.8 5.1 2.4]\n",
      " [6.4 3.2 5.3 2.3]\n",
      " [6.5 3.  5.5 1.8]\n",
      " [7.7 3.8 6.7 2.2]\n",
      " [7.7 2.6 6.9 2.3]\n",
      " [6.  2.2 5.  1.5]\n",
      " [6.9 3.2 5.7 2.3]\n",
      " [5.6 2.8 4.9 2. ]\n",
      " [7.7 2.8 6.7 2. ]\n",
      " [6.3 2.7 4.9 1.8]\n",
      " [6.7 3.3 5.7 2.1]\n",
      " [7.2 3.2 6.  1.8]\n",
      " [6.2 2.8 4.8 1.8]\n",
      " [6.1 3.  4.9 1.8]\n",
      " [6.4 2.8 5.6 2.1]\n",
      " [7.2 3.  5.8 1.6]\n",
      " [7.4 2.8 6.1 1.9]\n",
      " [7.9 3.8 6.4 2. ]\n",
      " [6.4 2.8 5.6 2.2]\n",
      " [6.3 2.8 5.1 1.5]\n",
      " [6.1 2.6 5.6 1.4]\n",
      " [7.7 3.  6.1 2.3]\n",
      " [6.3 3.4 5.6 2.4]\n",
      " [6.4 3.1 5.5 1.8]\n",
      " [6.  3.  4.8 1.8]\n",
      " [6.9 3.1 5.4 2.1]\n",
      " [6.7 3.1 5.6 2.4]\n",
      " [6.9 3.1 5.1 2.3]\n",
      " [5.8 2.7 5.1 1.9]\n",
      " [6.8 3.2 5.9 2.3]\n",
      " [6.7 3.3 5.7 2.5]\n",
      " [6.7 3.  5.2 2.3]\n",
      " [6.3 2.5 5.  1.9]\n",
      " [6.5 3.  5.2 2. ]\n",
      " [6.2 3.4 5.4 2.3]\n",
      " [5.9 3.  5.1 1.8]]\n"
     ]
    }
   ],
   "source": [
    "print(X)"
   ]
  },
  {
   "cell_type": "code",
   "execution_count": 9,
   "id": "b34dfde2",
   "metadata": {
    "slideshow": {
     "slide_type": "subslide"
    }
   },
   "outputs": [],
   "source": [
    "# Acessando os rótulos\n",
    "\n",
    "\"\"\"\n",
    "A variável y conterá os rótulos das classes correspondentes a cada amostra, ou seja, o tipo de flor Iris.\n",
    "\n",
    "\"\"\"\n",
    "y = iris.target"
   ]
  },
  {
   "cell_type": "code",
   "execution_count": 10,
   "id": "c5d99e82",
   "metadata": {
    "slideshow": {
     "slide_type": "subslide"
    }
   },
   "outputs": [
    {
     "name": "stdout",
     "output_type": "stream",
     "text": [
      "[0 0 0 0 0 0 0 0 0 0 0 0 0 0 0 0 0 0 0 0 0 0 0 0 0 0 0 0 0 0 0 0 0 0 0 0 0\n",
      " 0 0 0 0 0 0 0 0 0 0 0 0 0 1 1 1 1 1 1 1 1 1 1 1 1 1 1 1 1 1 1 1 1 1 1 1 1\n",
      " 1 1 1 1 1 1 1 1 1 1 1 1 1 1 1 1 1 1 1 1 1 1 1 1 1 1 2 2 2 2 2 2 2 2 2 2 2\n",
      " 2 2 2 2 2 2 2 2 2 2 2 2 2 2 2 2 2 2 2 2 2 2 2 2 2 2 2 2 2 2 2 2 2 2 2 2 2\n",
      " 2 2]\n"
     ]
    }
   ],
   "source": [
    "print(y)"
   ]
  },
  {
   "cell_type": "code",
   "execution_count": 12,
   "id": "c788d2bb",
   "metadata": {
    "slideshow": {
     "slide_type": "subslide"
    }
   },
   "outputs": [
    {
     "name": "stdout",
     "output_type": "stream",
     "text": [
      "[0 1 2]\n"
     ]
    }
   ],
   "source": [
    "print(np.unique(y))"
   ]
  },
  {
   "cell_type": "markdown",
   "id": "7119ecab",
   "metadata": {
    "slideshow": {
     "slide_type": "subslide"
    }
   },
   "source": [
    "## 2.3. Rodar o Modelo de Regressão Logística"
   ]
  },
  {
   "cell_type": "markdown",
   "id": "1cdc8ce2",
   "metadata": {
    "slideshow": {
     "slide_type": "subslide"
    }
   },
   "source": [
    "1. Neste exemplo, assumimos que os dados estão armazenados em um arquivo CSV chamado \"iris.data\".\n",
    "\n",
    "2. A coluna *target* contém a variável de saída e as colunas de \"iris.data\" contêm as variáveis de entrada. \n",
    "\n",
    "3. Criamos o objeto do modelo de Regressão Logística\n",
    "\n",
    "4. O algoritmo é então treinado no conjunto de treinamento usando o método \"fit()\"\n",
    "\n",
    "5. As previsões são feitas nos dados de teste usando o método \"predict()\". \n",
    "\n",
    "6. Finalmente, o desempenho do modelo é avaliado usando a métrica de acurácia."
   ]
  },
  {
   "cell_type": "code",
   "execution_count": 17,
   "id": "fc375c2b",
   "metadata": {
    "slideshow": {
     "slide_type": "subslide"
    }
   },
   "outputs": [],
   "source": [
    "# 02. Dividindo os dados em conjuntos de treinamento e teste\n",
    "from sklearn.model_selection import train_test_split\n",
    "\n",
    "df_test_size = 0.3\n",
    "\n",
    "X_train, X_test, y_train, y_test = train_test_split(X, y, test_size = df_test_size, random_state=0)"
   ]
  },
  {
   "cell_type": "code",
   "execution_count": 18,
   "id": "dff8aaf1",
   "metadata": {
    "slideshow": {
     "slide_type": "subslide"
    }
   },
   "outputs": [],
   "source": [
    "# Definicao do numero de vizinhos de forma arbitraria\n",
    "k = 2\n",
    "\n",
    "# Criacao do modelo\n",
    "model = KNeighborsClassifier(k)"
   ]
  },
  {
   "cell_type": "code",
   "execution_count": 19,
   "id": "0174b20d",
   "metadata": {
    "slideshow": {
     "slide_type": "subslide"
    }
   },
   "outputs": [
    {
     "data": {
      "text/plain": [
       "KNeighborsClassifier(n_neighbors=2)"
      ]
     },
     "execution_count": 19,
     "metadata": {},
     "output_type": "execute_result"
    }
   ],
   "source": [
    "# 04. Treinando o modelo nos dados de treinamento\n",
    "model.fit(X_train, y_train)"
   ]
  },
  {
   "cell_type": "code",
   "execution_count": 20,
   "id": "988ee818",
   "metadata": {
    "slideshow": {
     "slide_type": "subslide"
    }
   },
   "outputs": [],
   "source": [
    "# 05. Fazendo as previsões nos dados de teste\n",
    "y_pred = model.predict(X_test)"
   ]
  },
  {
   "cell_type": "code",
   "execution_count": 23,
   "id": "1742e5fc",
   "metadata": {
    "slideshow": {
     "slide_type": "subslide"
    }
   },
   "outputs": [
    {
     "name": "stdout",
     "output_type": "stream",
     "text": [
      "Acurácia do modelo:  97.78\n"
     ]
    }
   ],
   "source": [
    "# 06. Avaliando o desempenho do modelo\n",
    "from sklearn.metrics import accuracy_score\n",
    "\n",
    "accuracy = accuracy_score(y_test, y_pred)\n",
    "print('Acurácia do modelo: ', round(accuracy*100,2))"
   ]
  },
  {
   "cell_type": "markdown",
   "id": "97f225d6",
   "metadata": {
    "slideshow": {
     "slide_type": "slide"
    }
   },
   "source": [
    "# Parte 3: Regressão"
   ]
  },
  {
   "cell_type": "markdown",
   "id": "6adcb294",
   "metadata": {
    "slideshow": {
     "slide_type": "subslide"
    }
   },
   "source": [
    "<img src=\"imagens/regressao.png\">"
   ]
  },
  {
   "cell_type": "markdown",
   "id": "939a6966",
   "metadata": {
    "slideshow": {
     "slide_type": "subslide"
    }
   },
   "source": [
    "# 3.1. O que é Regressão ?\n",
    "\n",
    "* As tarefas de regressão em aprendizado de máquina são usadas para prever valores numéricos contínuos, a partir de um conjunto de dados de entrada.<br><br>\n",
    "\n",
    "* É um tipo de aprendizagem de máquina supervisionada, assim como a classificação, que consiste em prever um valor numérico com base em uma entrada. Por exemplo, um algoritmo de regressão pode ser treinado para prever o preço de uma casa com base em seus atributos, como o número de quartos, banheiros e área construída.<br><br>\n",
    "\n",
    "* Em geral, a regressão é usada para modelar relações entre variáveis independentes e dependentes, a fim de entender e prever o comportamento de um sistema."
   ]
  },
  {
   "cell_type": "markdown",
   "id": "e86f6d04",
   "metadata": {
    "slideshow": {
     "slide_type": "subslide"
    }
   },
   "source": [
    "## Áreas de aplicação<br>\n",
    "\n",
    "1. **Análise de dados financeiros:**<br>\n",
    "a regressão pode ser usada para prever preços de ações, preços de imóveis e outros dados financeiros.<br><br>\n",
    "\n",
    "2. **Marketing e publicidade:**<br>\n",
    "a regressão pode ser usada para prever o impacto de uma campanha publicitária em vendas, bem como para identificar segmentos de clientes para os quais um produto ou serviço é mais atraente.<br><br>\n",
    "\n",
    "3. **Ciência dos materiais:**<br>\n",
    "a regressão pode ser usada para prever propriedades de novos materiais, como a resistência e a durabilidade.<br><br>"
   ]
  },
  {
   "cell_type": "markdown",
   "id": "b5d6c566",
   "metadata": {
    "slideshow": {
     "slide_type": "subslide"
    }
   },
   "source": [
    "## Áreas de aplicação<br>\n",
    "\n",
    "4. **Biologia e medicina:**<br>\n",
    "a regressão pode ser usada para prever a eficácia de um medicamento em pacientes com determinadas características, bem como para prever o risco de uma doença com base em fatores de risco.<br><br>\n",
    "\n",
    "5. **Engenharia:**<br>\n",
    "a regressão pode ser usada para prever o desempenho de sistemas mecânicos e elétricos, bem como para prever a resistência de materiais."
   ]
  },
  {
   "cell_type": "markdown",
   "id": "b4100b57",
   "metadata": {
    "slideshow": {
     "slide_type": "subslide"
    }
   },
   "source": [
    "## Algumas das tarefas de regressão mais comuns em aprendizado de máquina:<br>\n",
    "\n",
    "1. **Regressão Linear:**<br>\n",
    "É uma técnica de regressão que se baseia em encontrar a linha que melhor se ajusta aos dados para prever um valor numérico contínuo.<br><br>\n",
    "\n",
    "2. **Regressão Logística:**<br>\n",
    "É uma técnica de regressão usada para prever uma variável categórica (como sim ou não, verdadeiro ou falso), com base em um conjunto de variáveis explicativas.<br><br>\n",
    "\n",
    "3. **Regressão de Séries Temporais:**<br>\n",
    "É uma técnica de regressão usada para prever valores futuros de uma série temporal, como a temperatura média de uma cidade ou o preço de uma ação ao longo do tempo.<br><br>\n",
    "\n"
   ]
  },
  {
   "cell_type": "markdown",
   "id": "6aa05d9c",
   "metadata": {
    "slideshow": {
     "slide_type": "subslide"
    }
   },
   "source": [
    "## Algumas das tarefas de regressão mais comuns em aprendizado de máquina:<br>\n",
    "\n",
    "4. **Regressão Não-linear:**<br>\n",
    "É uma técnica de regressão que se baseia em encontrar a melhor curva que se ajusta aos dados, para prever um valor numérico contínuo.<br><br>\n",
    "\n",
    "5. **Regressão de Árvore de Decisão:**<br>\n",
    "É uma técnica de regressão que usa uma árvore de decisão para prever um valor numérico contínuo.<br><br>\n",
    "\n",
    "6. **Regressão de Redes Neurais:**<br>\n",
    "É uma técnica de regressão que usa uma rede neural artificial para prever um valor numérico contínuo.\n",
    "\n",
    "\n",
    "Essas técnicas de regressão são usadas em uma variedade de aplicações de aprendizado de máquina, desde previsão de demanda e análise de mercado até previsão de valores imobiliários e diagnóstico médico."
   ]
  },
  {
   "cell_type": "markdown",
   "id": "b649ef16",
   "metadata": {
    "slideshow": {
     "slide_type": "subslide"
    }
   },
   "source": [
    "## 3.1.1. Regressão Linear\n",
    "\n",
    "* Regressão linear é uma técnica de aprendizado supervisionado em machine learning que busca estabelecer uma relação linear entre uma variável de saída (também chamada de variável dependente) e uma ou mais variáveis de entrada (também chamadas de variáveis independentes).<br><br>\n",
    "\n",
    "* A regressão linear pode ser utilizada para fins diversos, como previsão de vendas, análise de tendências de mercado, previsão de preços, entre outros.<br><br>\n",
    "\n",
    "* O objetivo da regressão linear é encontrar a equação que melhor representa essa relação linear entre as variáveis. Essa equação pode ser utilizada para fazer previsões sobre os valores da variável de saída a partir dos valores das variáveis independentes.<br><br>\n",
    "\n",
    "* Existem vários tipos de regressão linear, incluindo:\n",
    "    * A regressão linear simples (que envolve apenas uma variável independente) \n",
    "    * A regressão linear múltipla (que envolve várias variáveis independentes).\n",
    "    \n"
   ]
  },
  {
   "cell_type": "markdown",
   "id": "314ec1ab",
   "metadata": {
    "slideshow": {
     "slide_type": "subslide"
    }
   },
   "source": [
    "<img src=\"imagens/exemplo_pratico.png\">"
   ]
  },
  {
   "cell_type": "markdown",
   "id": "cae38e2e",
   "metadata": {
    "slideshow": {
     "slide_type": "subslide"
    }
   },
   "source": [
    "## Entendendo os Dados\n",
    "---\n",
    "\n",
    "**FuelConsumption.csv**\n",
    "\n",
    "Utilizaremos um conjunto de dados de consumo de combustível conhecido como **FuelConsumption.csv**, que contém classificações de consumo de combustível específicas do modelo e emissões estimadas de dióxido de carbono para novos veículos leves para venda no varejo no Canadá.\n",
    "\n",
    "*   **MODELYEAR** e.g. 2014\n",
    "*   **MAKE** e.g. Acura\n",
    "*   **MODEL** e.g. ILX\n",
    "*   **VEHICLE CLASS** e.g. SUV\n",
    "*   **ENGINE SIZE** e.g. 4.7\n",
    "*   **CYLINDERS** e.g 6\n",
    "*   **TRANSMISSION** e.g. A6\n",
    "*   **FUEL CONSUMPTION in CITY(L/100 km)** e.g. 9.9\n",
    "*   **FUEL CONSUMPTION in HWY (L/100 km)** e.g. 8.9\n",
    "*   **FUEL CONSUMPTION COMB (L/100 km)** e.g. 9.2\n",
    "*   **CO2 EMISSIONS (g/km)** e.g. 182   --> low --> 0"
   ]
  },
  {
   "cell_type": "code",
   "execution_count": 27,
   "id": "4a9d8ae8",
   "metadata": {
    "slideshow": {
     "slide_type": "subslide"
    }
   },
   "outputs": [],
   "source": [
    "# Carrega os dados de exemplo do conjunto de dados\n",
    "# header=None\n",
    "df = pd.read_csv(\"dataset/Regression/FuelConsumptionCo2.csv\")"
   ]
  },
  {
   "cell_type": "code",
   "execution_count": 28,
   "id": "9eba8c35",
   "metadata": {
    "slideshow": {
     "slide_type": "subslide"
    }
   },
   "outputs": [
    {
     "data": {
      "text/html": [
       "<div>\n",
       "<style scoped>\n",
       "    .dataframe tbody tr th:only-of-type {\n",
       "        vertical-align: middle;\n",
       "    }\n",
       "\n",
       "    .dataframe tbody tr th {\n",
       "        vertical-align: top;\n",
       "    }\n",
       "\n",
       "    .dataframe thead th {\n",
       "        text-align: right;\n",
       "    }\n",
       "</style>\n",
       "<table border=\"1\" class=\"dataframe\">\n",
       "  <thead>\n",
       "    <tr style=\"text-align: right;\">\n",
       "      <th></th>\n",
       "      <th>MODELYEAR</th>\n",
       "      <th>MAKE</th>\n",
       "      <th>MODEL</th>\n",
       "      <th>VEHICLECLASS</th>\n",
       "      <th>ENGINESIZE</th>\n",
       "      <th>CYLINDERS</th>\n",
       "      <th>TRANSMISSION</th>\n",
       "      <th>FUELTYPE</th>\n",
       "      <th>FUELCONSUMPTION_CITY</th>\n",
       "      <th>FUELCONSUMPTION_HWY</th>\n",
       "      <th>FUELCONSUMPTION_COMB</th>\n",
       "      <th>FUELCONSUMPTION_COMB_MPG</th>\n",
       "      <th>CO2EMISSIONS</th>\n",
       "    </tr>\n",
       "  </thead>\n",
       "  <tbody>\n",
       "    <tr>\n",
       "      <th>0</th>\n",
       "      <td>2014</td>\n",
       "      <td>ACURA</td>\n",
       "      <td>ILX</td>\n",
       "      <td>COMPACT</td>\n",
       "      <td>2.00</td>\n",
       "      <td>4</td>\n",
       "      <td>AS5</td>\n",
       "      <td>Z</td>\n",
       "      <td>9.90</td>\n",
       "      <td>6.70</td>\n",
       "      <td>8.50</td>\n",
       "      <td>33</td>\n",
       "      <td>196</td>\n",
       "    </tr>\n",
       "    <tr>\n",
       "      <th>1</th>\n",
       "      <td>2014</td>\n",
       "      <td>ACURA</td>\n",
       "      <td>ILX</td>\n",
       "      <td>COMPACT</td>\n",
       "      <td>2.40</td>\n",
       "      <td>4</td>\n",
       "      <td>M6</td>\n",
       "      <td>Z</td>\n",
       "      <td>11.20</td>\n",
       "      <td>7.70</td>\n",
       "      <td>9.60</td>\n",
       "      <td>29</td>\n",
       "      <td>221</td>\n",
       "    </tr>\n",
       "    <tr>\n",
       "      <th>2</th>\n",
       "      <td>2014</td>\n",
       "      <td>ACURA</td>\n",
       "      <td>ILX HYBRID</td>\n",
       "      <td>COMPACT</td>\n",
       "      <td>1.50</td>\n",
       "      <td>4</td>\n",
       "      <td>AV7</td>\n",
       "      <td>Z</td>\n",
       "      <td>6.00</td>\n",
       "      <td>5.80</td>\n",
       "      <td>5.90</td>\n",
       "      <td>48</td>\n",
       "      <td>136</td>\n",
       "    </tr>\n",
       "    <tr>\n",
       "      <th>3</th>\n",
       "      <td>2014</td>\n",
       "      <td>ACURA</td>\n",
       "      <td>MDX 4WD</td>\n",
       "      <td>SUV - SMALL</td>\n",
       "      <td>3.50</td>\n",
       "      <td>6</td>\n",
       "      <td>AS6</td>\n",
       "      <td>Z</td>\n",
       "      <td>12.70</td>\n",
       "      <td>9.10</td>\n",
       "      <td>11.10</td>\n",
       "      <td>25</td>\n",
       "      <td>255</td>\n",
       "    </tr>\n",
       "    <tr>\n",
       "      <th>4</th>\n",
       "      <td>2014</td>\n",
       "      <td>ACURA</td>\n",
       "      <td>RDX AWD</td>\n",
       "      <td>SUV - SMALL</td>\n",
       "      <td>3.50</td>\n",
       "      <td>6</td>\n",
       "      <td>AS6</td>\n",
       "      <td>Z</td>\n",
       "      <td>12.10</td>\n",
       "      <td>8.70</td>\n",
       "      <td>10.60</td>\n",
       "      <td>27</td>\n",
       "      <td>244</td>\n",
       "    </tr>\n",
       "    <tr>\n",
       "      <th>5</th>\n",
       "      <td>2014</td>\n",
       "      <td>ACURA</td>\n",
       "      <td>RLX</td>\n",
       "      <td>MID-SIZE</td>\n",
       "      <td>3.50</td>\n",
       "      <td>6</td>\n",
       "      <td>AS6</td>\n",
       "      <td>Z</td>\n",
       "      <td>11.90</td>\n",
       "      <td>7.70</td>\n",
       "      <td>10.00</td>\n",
       "      <td>28</td>\n",
       "      <td>230</td>\n",
       "    </tr>\n",
       "    <tr>\n",
       "      <th>6</th>\n",
       "      <td>2014</td>\n",
       "      <td>ACURA</td>\n",
       "      <td>TL</td>\n",
       "      <td>MID-SIZE</td>\n",
       "      <td>3.50</td>\n",
       "      <td>6</td>\n",
       "      <td>AS6</td>\n",
       "      <td>Z</td>\n",
       "      <td>11.80</td>\n",
       "      <td>8.10</td>\n",
       "      <td>10.10</td>\n",
       "      <td>28</td>\n",
       "      <td>232</td>\n",
       "    </tr>\n",
       "    <tr>\n",
       "      <th>7</th>\n",
       "      <td>2014</td>\n",
       "      <td>ACURA</td>\n",
       "      <td>TL AWD</td>\n",
       "      <td>MID-SIZE</td>\n",
       "      <td>3.70</td>\n",
       "      <td>6</td>\n",
       "      <td>AS6</td>\n",
       "      <td>Z</td>\n",
       "      <td>12.80</td>\n",
       "      <td>9.00</td>\n",
       "      <td>11.10</td>\n",
       "      <td>25</td>\n",
       "      <td>255</td>\n",
       "    </tr>\n",
       "    <tr>\n",
       "      <th>8</th>\n",
       "      <td>2014</td>\n",
       "      <td>ACURA</td>\n",
       "      <td>TL AWD</td>\n",
       "      <td>MID-SIZE</td>\n",
       "      <td>3.70</td>\n",
       "      <td>6</td>\n",
       "      <td>M6</td>\n",
       "      <td>Z</td>\n",
       "      <td>13.40</td>\n",
       "      <td>9.50</td>\n",
       "      <td>11.60</td>\n",
       "      <td>24</td>\n",
       "      <td>267</td>\n",
       "    </tr>\n",
       "    <tr>\n",
       "      <th>9</th>\n",
       "      <td>2014</td>\n",
       "      <td>ACURA</td>\n",
       "      <td>TSX</td>\n",
       "      <td>COMPACT</td>\n",
       "      <td>2.40</td>\n",
       "      <td>4</td>\n",
       "      <td>AS5</td>\n",
       "      <td>Z</td>\n",
       "      <td>10.60</td>\n",
       "      <td>7.50</td>\n",
       "      <td>9.20</td>\n",
       "      <td>31</td>\n",
       "      <td>212</td>\n",
       "    </tr>\n",
       "  </tbody>\n",
       "</table>\n",
       "</div>"
      ],
      "text/plain": [
       "   MODELYEAR   MAKE       MODEL VEHICLECLASS  ENGINESIZE  CYLINDERS  \\\n",
       "0       2014  ACURA         ILX      COMPACT        2.00          4   \n",
       "1       2014  ACURA         ILX      COMPACT        2.40          4   \n",
       "2       2014  ACURA  ILX HYBRID      COMPACT        1.50          4   \n",
       "3       2014  ACURA     MDX 4WD  SUV - SMALL        3.50          6   \n",
       "4       2014  ACURA     RDX AWD  SUV - SMALL        3.50          6   \n",
       "5       2014  ACURA         RLX     MID-SIZE        3.50          6   \n",
       "6       2014  ACURA          TL     MID-SIZE        3.50          6   \n",
       "7       2014  ACURA      TL AWD     MID-SIZE        3.70          6   \n",
       "8       2014  ACURA      TL AWD     MID-SIZE        3.70          6   \n",
       "9       2014  ACURA         TSX      COMPACT        2.40          4   \n",
       "\n",
       "  TRANSMISSION FUELTYPE  FUELCONSUMPTION_CITY  FUELCONSUMPTION_HWY  \\\n",
       "0          AS5        Z                  9.90                 6.70   \n",
       "1           M6        Z                 11.20                 7.70   \n",
       "2          AV7        Z                  6.00                 5.80   \n",
       "3          AS6        Z                 12.70                 9.10   \n",
       "4          AS6        Z                 12.10                 8.70   \n",
       "5          AS6        Z                 11.90                 7.70   \n",
       "6          AS6        Z                 11.80                 8.10   \n",
       "7          AS6        Z                 12.80                 9.00   \n",
       "8           M6        Z                 13.40                 9.50   \n",
       "9          AS5        Z                 10.60                 7.50   \n",
       "\n",
       "   FUELCONSUMPTION_COMB  FUELCONSUMPTION_COMB_MPG  CO2EMISSIONS  \n",
       "0                  8.50                        33           196  \n",
       "1                  9.60                        29           221  \n",
       "2                  5.90                        48           136  \n",
       "3                 11.10                        25           255  \n",
       "4                 10.60                        27           244  \n",
       "5                 10.00                        28           230  \n",
       "6                 10.10                        28           232  \n",
       "7                 11.10                        25           255  \n",
       "8                 11.60                        24           267  \n",
       "9                  9.20                        31           212  "
      ]
     },
     "execution_count": 28,
     "metadata": {},
     "output_type": "execute_result"
    }
   ],
   "source": [
    "# Viewing Dataset Data\n",
    "df.head(10)"
   ]
  },
  {
   "cell_type": "code",
   "execution_count": 29,
   "id": "410ef401",
   "metadata": {
    "slideshow": {
     "slide_type": "subslide"
    }
   },
   "outputs": [
    {
     "data": {
      "text/plain": [
       "MODELYEAR                     int64\n",
       "MAKE                         object\n",
       "MODEL                        object\n",
       "VEHICLECLASS                 object\n",
       "ENGINESIZE                  float64\n",
       "CYLINDERS                     int64\n",
       "TRANSMISSION                 object\n",
       "FUELTYPE                     object\n",
       "FUELCONSUMPTION_CITY        float64\n",
       "FUELCONSUMPTION_HWY         float64\n",
       "FUELCONSUMPTION_COMB        float64\n",
       "FUELCONSUMPTION_COMB_MPG      int64\n",
       "CO2EMISSIONS                  int64\n",
       "dtype: object"
      ]
     },
     "execution_count": 29,
     "metadata": {},
     "output_type": "execute_result"
    }
   ],
   "source": [
    "# Identifica os tipos de dados\n",
    "df.dtypes"
   ]
  },
  {
   "cell_type": "markdown",
   "id": "3bbdf28e",
   "metadata": {
    "slideshow": {
     "slide_type": "subslide"
    }
   },
   "source": [
    "## 2.3. Rodar o Modelo de Regressão Linear Simples"
   ]
  },
  {
   "cell_type": "markdown",
   "id": "97342024",
   "metadata": {
    "slideshow": {
     "slide_type": "subslide"
    }
   },
   "source": [
    "A divisão de treinamento/teste envolve a divisão do conjunto de dados em conjuntos de treinamento e teste que são mutuamente exclusivos. Depois disso, você treina com o conjunto de treinamento e testa com o conjunto de teste.<br>\n",
    "\n",
    "Isso fornecerá uma avaliação mais precisa da precisão fora da amostra porque o conjunto de dados de teste não faz parte do conjunto de dados que foi usado para treinar o modelo. Portanto, isso nos dá uma melhor compreensão de quão bem nosso modelo generaliza em novos dados.<br>\n",
    "\n",
    "Isso significa que sabemos o resultado de cada ponto de dados no conjunto de dados de teste, tornando-o ótimo para testar! Como esses dados não foram usados para treinar o modelo, o modelo não tem conhecimento do resultado desses pontos de dados. Então, em essência, é realmente um teste fora da amostra.<br>\n",
    "\n",
    "     Vamos dividir nosso conjunto de dados em conjuntos de treinamento e teste\n",
    "         70% de todo o conjunto de dados será usado para treinamento e\n",
    "         30% para teste.\n",
    "\n",
    "**Obs.:** Criamos uma máscara para selecionar linhas aleatórias usando a função: np.random.rand():"
   ]
  },
  {
   "cell_type": "code",
   "execution_count": 30,
   "id": "b41d2ae0",
   "metadata": {
    "slideshow": {
     "slide_type": "subslide"
    }
   },
   "outputs": [
    {
     "data": {
      "text/html": [
       "<style type=\"text/css\">\n",
       "#T_422ba_row0_col0, #T_422ba_row1_col1, #T_422ba_row2_col2, #T_422ba_row2_col4, #T_422ba_row3_col3, #T_422ba_row4_col2, #T_422ba_row4_col4, #T_422ba_row5_col5, #T_422ba_row6_col6 {\n",
       "  background-color: #00441b;\n",
       "  color: #f1f1f1;\n",
       "}\n",
       "#T_422ba_row0_col1, #T_422ba_row1_col0 {\n",
       "  background-color: #005020;\n",
       "  color: #f1f1f1;\n",
       "}\n",
       "#T_422ba_row0_col2 {\n",
       "  background-color: #006027;\n",
       "  color: #f1f1f1;\n",
       "}\n",
       "#T_422ba_row0_col3, #T_422ba_row1_col4, #T_422ba_row2_col1 {\n",
       "  background-color: #00692a;\n",
       "  color: #f1f1f1;\n",
       "}\n",
       "#T_422ba_row0_col4, #T_422ba_row2_col0 {\n",
       "  background-color: #006227;\n",
       "  color: #f1f1f1;\n",
       "}\n",
       "#T_422ba_row0_col5 {\n",
       "  background-color: #eef8fb;\n",
       "  color: #000000;\n",
       "}\n",
       "#T_422ba_row0_col6 {\n",
       "  background-color: #005924;\n",
       "  color: #f1f1f1;\n",
       "}\n",
       "#T_422ba_row1_col2 {\n",
       "  background-color: #006529;\n",
       "  color: #f1f1f1;\n",
       "}\n",
       "#T_422ba_row1_col3 {\n",
       "  background-color: #067230;\n",
       "  color: #f1f1f1;\n",
       "}\n",
       "#T_422ba_row1_col5 {\n",
       "  background-color: #ebf7fa;\n",
       "  color: #000000;\n",
       "}\n",
       "#T_422ba_row1_col6 {\n",
       "  background-color: #005e26;\n",
       "  color: #f1f1f1;\n",
       "}\n",
       "#T_422ba_row2_col3, #T_422ba_row3_col2 {\n",
       "  background-color: #00491d;\n",
       "  color: #f1f1f1;\n",
       "}\n",
       "#T_422ba_row2_col5, #T_422ba_row5_col0, #T_422ba_row5_col1, #T_422ba_row5_col2, #T_422ba_row5_col3, #T_422ba_row5_col4, #T_422ba_row5_col6 {\n",
       "  background-color: #f7fcfd;\n",
       "  color: #000000;\n",
       "}\n",
       "#T_422ba_row2_col6, #T_422ba_row6_col2 {\n",
       "  background-color: #005522;\n",
       "  color: #f1f1f1;\n",
       "}\n",
       "#T_422ba_row3_col0 {\n",
       "  background-color: #006c2c;\n",
       "  color: #f1f1f1;\n",
       "}\n",
       "#T_422ba_row3_col1 {\n",
       "  background-color: #087432;\n",
       "  color: #f1f1f1;\n",
       "}\n",
       "#T_422ba_row3_col4, #T_422ba_row4_col3 {\n",
       "  background-color: #00451c;\n",
       "  color: #f1f1f1;\n",
       "}\n",
       "#T_422ba_row3_col5 {\n",
       "  background-color: #f4fbfc;\n",
       "  color: #000000;\n",
       "}\n",
       "#T_422ba_row3_col6, #T_422ba_row6_col3 {\n",
       "  background-color: #005b25;\n",
       "  color: #f1f1f1;\n",
       "}\n",
       "#T_422ba_row4_col0 {\n",
       "  background-color: #006428;\n",
       "  color: #f1f1f1;\n",
       "}\n",
       "#T_422ba_row4_col1 {\n",
       "  background-color: #006d2c;\n",
       "  color: #f1f1f1;\n",
       "}\n",
       "#T_422ba_row4_col5 {\n",
       "  background-color: #f6fcfd;\n",
       "  color: #000000;\n",
       "}\n",
       "#T_422ba_row4_col6, #T_422ba_row6_col4 {\n",
       "  background-color: #005622;\n",
       "  color: #f1f1f1;\n",
       "}\n",
       "#T_422ba_row6_col0 {\n",
       "  background-color: #005a24;\n",
       "  color: #f1f1f1;\n",
       "}\n",
       "#T_422ba_row6_col1 {\n",
       "  background-color: #005f26;\n",
       "  color: #f1f1f1;\n",
       "}\n",
       "#T_422ba_row6_col5 {\n",
       "  background-color: #f5fbfd;\n",
       "  color: #000000;\n",
       "}\n",
       "</style>\n",
       "<table id=\"T_422ba\">\n",
       "  <thead>\n",
       "    <tr>\n",
       "      <th class=\"blank level0\" >&nbsp;</th>\n",
       "      <th id=\"T_422ba_level0_col0\" class=\"col_heading level0 col0\" >ENGINESIZE</th>\n",
       "      <th id=\"T_422ba_level0_col1\" class=\"col_heading level0 col1\" >CYLINDERS</th>\n",
       "      <th id=\"T_422ba_level0_col2\" class=\"col_heading level0 col2\" >FUELCONSUMPTION_CITY</th>\n",
       "      <th id=\"T_422ba_level0_col3\" class=\"col_heading level0 col3\" >FUELCONSUMPTION_HWY</th>\n",
       "      <th id=\"T_422ba_level0_col4\" class=\"col_heading level0 col4\" >FUELCONSUMPTION_COMB</th>\n",
       "      <th id=\"T_422ba_level0_col5\" class=\"col_heading level0 col5\" >FUELCONSUMPTION_COMB_MPG</th>\n",
       "      <th id=\"T_422ba_level0_col6\" class=\"col_heading level0 col6\" >CO2EMISSIONS</th>\n",
       "    </tr>\n",
       "  </thead>\n",
       "  <tbody>\n",
       "    <tr>\n",
       "      <th id=\"T_422ba_level0_row0\" class=\"row_heading level0 row0\" >ENGINESIZE</th>\n",
       "      <td id=\"T_422ba_row0_col0\" class=\"data row0 col0\" >1.00</td>\n",
       "      <td id=\"T_422ba_row0_col1\" class=\"data row0 col1\" >0.93</td>\n",
       "      <td id=\"T_422ba_row0_col2\" class=\"data row0 col2\" >0.83</td>\n",
       "      <td id=\"T_422ba_row0_col3\" class=\"data row0 col3\" >0.78</td>\n",
       "      <td id=\"T_422ba_row0_col4\" class=\"data row0 col4\" >0.82</td>\n",
       "      <td id=\"T_422ba_row0_col5\" class=\"data row0 col5\" >-0.81</td>\n",
       "      <td id=\"T_422ba_row0_col6\" class=\"data row0 col6\" >0.87</td>\n",
       "    </tr>\n",
       "    <tr>\n",
       "      <th id=\"T_422ba_level0_row1\" class=\"row_heading level0 row1\" >CYLINDERS</th>\n",
       "      <td id=\"T_422ba_row1_col0\" class=\"data row1 col0\" >0.93</td>\n",
       "      <td id=\"T_422ba_row1_col1\" class=\"data row1 col1\" >1.00</td>\n",
       "      <td id=\"T_422ba_row1_col2\" class=\"data row1 col2\" >0.80</td>\n",
       "      <td id=\"T_422ba_row1_col3\" class=\"data row1 col3\" >0.72</td>\n",
       "      <td id=\"T_422ba_row1_col4\" class=\"data row1 col4\" >0.78</td>\n",
       "      <td id=\"T_422ba_row1_col5\" class=\"data row1 col5\" >-0.77</td>\n",
       "      <td id=\"T_422ba_row1_col6\" class=\"data row1 col6\" >0.85</td>\n",
       "    </tr>\n",
       "    <tr>\n",
       "      <th id=\"T_422ba_level0_row2\" class=\"row_heading level0 row2\" >FUELCONSUMPTION_CITY</th>\n",
       "      <td id=\"T_422ba_row2_col0\" class=\"data row2 col0\" >0.83</td>\n",
       "      <td id=\"T_422ba_row2_col1\" class=\"data row2 col1\" >0.80</td>\n",
       "      <td id=\"T_422ba_row2_col2\" class=\"data row2 col2\" >1.00</td>\n",
       "      <td id=\"T_422ba_row2_col3\" class=\"data row2 col3\" >0.97</td>\n",
       "      <td id=\"T_422ba_row2_col4\" class=\"data row2 col4\" >1.00</td>\n",
       "      <td id=\"T_422ba_row2_col5\" class=\"data row2 col5\" >-0.94</td>\n",
       "      <td id=\"T_422ba_row2_col6\" class=\"data row2 col6\" >0.90</td>\n",
       "    </tr>\n",
       "    <tr>\n",
       "      <th id=\"T_422ba_level0_row3\" class=\"row_heading level0 row3\" >FUELCONSUMPTION_HWY</th>\n",
       "      <td id=\"T_422ba_row3_col0\" class=\"data row3 col0\" >0.78</td>\n",
       "      <td id=\"T_422ba_row3_col1\" class=\"data row3 col1\" >0.72</td>\n",
       "      <td id=\"T_422ba_row3_col2\" class=\"data row3 col2\" >0.97</td>\n",
       "      <td id=\"T_422ba_row3_col3\" class=\"data row3 col3\" >1.00</td>\n",
       "      <td id=\"T_422ba_row3_col4\" class=\"data row3 col4\" >0.99</td>\n",
       "      <td id=\"T_422ba_row3_col5\" class=\"data row3 col5\" >-0.89</td>\n",
       "      <td id=\"T_422ba_row3_col6\" class=\"data row3 col6\" >0.86</td>\n",
       "    </tr>\n",
       "    <tr>\n",
       "      <th id=\"T_422ba_level0_row4\" class=\"row_heading level0 row4\" >FUELCONSUMPTION_COMB</th>\n",
       "      <td id=\"T_422ba_row4_col0\" class=\"data row4 col0\" >0.82</td>\n",
       "      <td id=\"T_422ba_row4_col1\" class=\"data row4 col1\" >0.78</td>\n",
       "      <td id=\"T_422ba_row4_col2\" class=\"data row4 col2\" >1.00</td>\n",
       "      <td id=\"T_422ba_row4_col3\" class=\"data row4 col3\" >0.99</td>\n",
       "      <td id=\"T_422ba_row4_col4\" class=\"data row4 col4\" >1.00</td>\n",
       "      <td id=\"T_422ba_row4_col5\" class=\"data row4 col5\" >-0.93</td>\n",
       "      <td id=\"T_422ba_row4_col6\" class=\"data row4 col6\" >0.89</td>\n",
       "    </tr>\n",
       "    <tr>\n",
       "      <th id=\"T_422ba_level0_row5\" class=\"row_heading level0 row5\" >FUELCONSUMPTION_COMB_MPG</th>\n",
       "      <td id=\"T_422ba_row5_col0\" class=\"data row5 col0\" >-0.81</td>\n",
       "      <td id=\"T_422ba_row5_col1\" class=\"data row5 col1\" >-0.77</td>\n",
       "      <td id=\"T_422ba_row5_col2\" class=\"data row5 col2\" >-0.94</td>\n",
       "      <td id=\"T_422ba_row5_col3\" class=\"data row5 col3\" >-0.89</td>\n",
       "      <td id=\"T_422ba_row5_col4\" class=\"data row5 col4\" >-0.93</td>\n",
       "      <td id=\"T_422ba_row5_col5\" class=\"data row5 col5\" >1.00</td>\n",
       "      <td id=\"T_422ba_row5_col6\" class=\"data row5 col6\" >-0.91</td>\n",
       "    </tr>\n",
       "    <tr>\n",
       "      <th id=\"T_422ba_level0_row6\" class=\"row_heading level0 row6\" >CO2EMISSIONS</th>\n",
       "      <td id=\"T_422ba_row6_col0\" class=\"data row6 col0\" >0.87</td>\n",
       "      <td id=\"T_422ba_row6_col1\" class=\"data row6 col1\" >0.85</td>\n",
       "      <td id=\"T_422ba_row6_col2\" class=\"data row6 col2\" >0.90</td>\n",
       "      <td id=\"T_422ba_row6_col3\" class=\"data row6 col3\" >0.86</td>\n",
       "      <td id=\"T_422ba_row6_col4\" class=\"data row6 col4\" >0.89</td>\n",
       "      <td id=\"T_422ba_row6_col5\" class=\"data row6 col5\" >-0.91</td>\n",
       "      <td id=\"T_422ba_row6_col6\" class=\"data row6 col6\" >1.00</td>\n",
       "    </tr>\n",
       "  </tbody>\n",
       "</table>\n"
      ],
      "text/plain": [
       "<pandas.io.formats.style.Styler at 0x7fb83bf6dcd0>"
      ]
     },
     "metadata": {},
     "output_type": "display_data"
    }
   ],
   "source": [
    "# Correlations Matrix (Pearson)\n",
    "corr = df.iloc[:, 1:].corr() \n",
    "display(corr.style.background_gradient(cmap='BuGn').set_precision(2))"
   ]
  },
  {
   "cell_type": "code",
   "execution_count": 31,
   "id": "580e12cf",
   "metadata": {
    "slideshow": {
     "slide_type": "subslide"
    }
   },
   "outputs": [],
   "source": [
    "# Update column Names\n",
    "df.rename(columns={'FUELCONSUMPTION_CITY': 'FUELCONSCITY',\n",
    "                   'FUELCONSUMPTION_HWY': 'FUELCONSHWY',\n",
    "                   'FUELCONSUMPTION_COMB': 'FUELCONSCOMB', \n",
    "                   'FUELCONSUMPTION_COMB_MPG': 'FUELCONSCOMBMPG'}, inplace=True)"
   ]
  },
  {
   "cell_type": "code",
   "execution_count": 32,
   "id": "4557709c",
   "metadata": {
    "slideshow": {
     "slide_type": "subslide"
    }
   },
   "outputs": [
    {
     "data": {
      "text/html": [
       "<style type=\"text/css\">\n",
       "#T_95d61_row0_col0, #T_95d61_row1_col1, #T_95d61_row2_col2, #T_95d61_row2_col4, #T_95d61_row3_col3, #T_95d61_row4_col2, #T_95d61_row4_col4, #T_95d61_row5_col5, #T_95d61_row6_col6 {\n",
       "  background-color: #00441b;\n",
       "  color: #f1f1f1;\n",
       "}\n",
       "#T_95d61_row0_col1, #T_95d61_row1_col0 {\n",
       "  background-color: #005020;\n",
       "  color: #f1f1f1;\n",
       "}\n",
       "#T_95d61_row0_col2 {\n",
       "  background-color: #006027;\n",
       "  color: #f1f1f1;\n",
       "}\n",
       "#T_95d61_row0_col3, #T_95d61_row1_col4, #T_95d61_row2_col1 {\n",
       "  background-color: #00692a;\n",
       "  color: #f1f1f1;\n",
       "}\n",
       "#T_95d61_row0_col4, #T_95d61_row2_col0 {\n",
       "  background-color: #006227;\n",
       "  color: #f1f1f1;\n",
       "}\n",
       "#T_95d61_row0_col5 {\n",
       "  background-color: #eef8fb;\n",
       "  color: #000000;\n",
       "}\n",
       "#T_95d61_row0_col6 {\n",
       "  background-color: #005924;\n",
       "  color: #f1f1f1;\n",
       "}\n",
       "#T_95d61_row1_col2 {\n",
       "  background-color: #006529;\n",
       "  color: #f1f1f1;\n",
       "}\n",
       "#T_95d61_row1_col3 {\n",
       "  background-color: #067230;\n",
       "  color: #f1f1f1;\n",
       "}\n",
       "#T_95d61_row1_col5 {\n",
       "  background-color: #ebf7fa;\n",
       "  color: #000000;\n",
       "}\n",
       "#T_95d61_row1_col6 {\n",
       "  background-color: #005e26;\n",
       "  color: #f1f1f1;\n",
       "}\n",
       "#T_95d61_row2_col3, #T_95d61_row3_col2 {\n",
       "  background-color: #00491d;\n",
       "  color: #f1f1f1;\n",
       "}\n",
       "#T_95d61_row2_col5, #T_95d61_row5_col0, #T_95d61_row5_col1, #T_95d61_row5_col2, #T_95d61_row5_col3, #T_95d61_row5_col4, #T_95d61_row5_col6 {\n",
       "  background-color: #f7fcfd;\n",
       "  color: #000000;\n",
       "}\n",
       "#T_95d61_row2_col6, #T_95d61_row6_col2 {\n",
       "  background-color: #005522;\n",
       "  color: #f1f1f1;\n",
       "}\n",
       "#T_95d61_row3_col0 {\n",
       "  background-color: #006c2c;\n",
       "  color: #f1f1f1;\n",
       "}\n",
       "#T_95d61_row3_col1 {\n",
       "  background-color: #087432;\n",
       "  color: #f1f1f1;\n",
       "}\n",
       "#T_95d61_row3_col4, #T_95d61_row4_col3 {\n",
       "  background-color: #00451c;\n",
       "  color: #f1f1f1;\n",
       "}\n",
       "#T_95d61_row3_col5 {\n",
       "  background-color: #f4fbfc;\n",
       "  color: #000000;\n",
       "}\n",
       "#T_95d61_row3_col6, #T_95d61_row6_col3 {\n",
       "  background-color: #005b25;\n",
       "  color: #f1f1f1;\n",
       "}\n",
       "#T_95d61_row4_col0 {\n",
       "  background-color: #006428;\n",
       "  color: #f1f1f1;\n",
       "}\n",
       "#T_95d61_row4_col1 {\n",
       "  background-color: #006d2c;\n",
       "  color: #f1f1f1;\n",
       "}\n",
       "#T_95d61_row4_col5 {\n",
       "  background-color: #f6fcfd;\n",
       "  color: #000000;\n",
       "}\n",
       "#T_95d61_row4_col6, #T_95d61_row6_col4 {\n",
       "  background-color: #005622;\n",
       "  color: #f1f1f1;\n",
       "}\n",
       "#T_95d61_row6_col0 {\n",
       "  background-color: #005a24;\n",
       "  color: #f1f1f1;\n",
       "}\n",
       "#T_95d61_row6_col1 {\n",
       "  background-color: #005f26;\n",
       "  color: #f1f1f1;\n",
       "}\n",
       "#T_95d61_row6_col5 {\n",
       "  background-color: #f5fbfd;\n",
       "  color: #000000;\n",
       "}\n",
       "</style>\n",
       "<table id=\"T_95d61\">\n",
       "  <thead>\n",
       "    <tr>\n",
       "      <th class=\"blank level0\" >&nbsp;</th>\n",
       "      <th id=\"T_95d61_level0_col0\" class=\"col_heading level0 col0\" >ENGINESIZE</th>\n",
       "      <th id=\"T_95d61_level0_col1\" class=\"col_heading level0 col1\" >CYLINDERS</th>\n",
       "      <th id=\"T_95d61_level0_col2\" class=\"col_heading level0 col2\" >FUELCONSCITY</th>\n",
       "      <th id=\"T_95d61_level0_col3\" class=\"col_heading level0 col3\" >FUELCONSHWY</th>\n",
       "      <th id=\"T_95d61_level0_col4\" class=\"col_heading level0 col4\" >FUELCONSCOMB</th>\n",
       "      <th id=\"T_95d61_level0_col5\" class=\"col_heading level0 col5\" >FUELCONSCOMBMPG</th>\n",
       "      <th id=\"T_95d61_level0_col6\" class=\"col_heading level0 col6\" >CO2EMISSIONS</th>\n",
       "    </tr>\n",
       "  </thead>\n",
       "  <tbody>\n",
       "    <tr>\n",
       "      <th id=\"T_95d61_level0_row0\" class=\"row_heading level0 row0\" >ENGINESIZE</th>\n",
       "      <td id=\"T_95d61_row0_col0\" class=\"data row0 col0\" >1.00</td>\n",
       "      <td id=\"T_95d61_row0_col1\" class=\"data row0 col1\" >0.93</td>\n",
       "      <td id=\"T_95d61_row0_col2\" class=\"data row0 col2\" >0.83</td>\n",
       "      <td id=\"T_95d61_row0_col3\" class=\"data row0 col3\" >0.78</td>\n",
       "      <td id=\"T_95d61_row0_col4\" class=\"data row0 col4\" >0.82</td>\n",
       "      <td id=\"T_95d61_row0_col5\" class=\"data row0 col5\" >-0.81</td>\n",
       "      <td id=\"T_95d61_row0_col6\" class=\"data row0 col6\" >0.87</td>\n",
       "    </tr>\n",
       "    <tr>\n",
       "      <th id=\"T_95d61_level0_row1\" class=\"row_heading level0 row1\" >CYLINDERS</th>\n",
       "      <td id=\"T_95d61_row1_col0\" class=\"data row1 col0\" >0.93</td>\n",
       "      <td id=\"T_95d61_row1_col1\" class=\"data row1 col1\" >1.00</td>\n",
       "      <td id=\"T_95d61_row1_col2\" class=\"data row1 col2\" >0.80</td>\n",
       "      <td id=\"T_95d61_row1_col3\" class=\"data row1 col3\" >0.72</td>\n",
       "      <td id=\"T_95d61_row1_col4\" class=\"data row1 col4\" >0.78</td>\n",
       "      <td id=\"T_95d61_row1_col5\" class=\"data row1 col5\" >-0.77</td>\n",
       "      <td id=\"T_95d61_row1_col6\" class=\"data row1 col6\" >0.85</td>\n",
       "    </tr>\n",
       "    <tr>\n",
       "      <th id=\"T_95d61_level0_row2\" class=\"row_heading level0 row2\" >FUELCONSCITY</th>\n",
       "      <td id=\"T_95d61_row2_col0\" class=\"data row2 col0\" >0.83</td>\n",
       "      <td id=\"T_95d61_row2_col1\" class=\"data row2 col1\" >0.80</td>\n",
       "      <td id=\"T_95d61_row2_col2\" class=\"data row2 col2\" >1.00</td>\n",
       "      <td id=\"T_95d61_row2_col3\" class=\"data row2 col3\" >0.97</td>\n",
       "      <td id=\"T_95d61_row2_col4\" class=\"data row2 col4\" >1.00</td>\n",
       "      <td id=\"T_95d61_row2_col5\" class=\"data row2 col5\" >-0.94</td>\n",
       "      <td id=\"T_95d61_row2_col6\" class=\"data row2 col6\" >0.90</td>\n",
       "    </tr>\n",
       "    <tr>\n",
       "      <th id=\"T_95d61_level0_row3\" class=\"row_heading level0 row3\" >FUELCONSHWY</th>\n",
       "      <td id=\"T_95d61_row3_col0\" class=\"data row3 col0\" >0.78</td>\n",
       "      <td id=\"T_95d61_row3_col1\" class=\"data row3 col1\" >0.72</td>\n",
       "      <td id=\"T_95d61_row3_col2\" class=\"data row3 col2\" >0.97</td>\n",
       "      <td id=\"T_95d61_row3_col3\" class=\"data row3 col3\" >1.00</td>\n",
       "      <td id=\"T_95d61_row3_col4\" class=\"data row3 col4\" >0.99</td>\n",
       "      <td id=\"T_95d61_row3_col5\" class=\"data row3 col5\" >-0.89</td>\n",
       "      <td id=\"T_95d61_row3_col6\" class=\"data row3 col6\" >0.86</td>\n",
       "    </tr>\n",
       "    <tr>\n",
       "      <th id=\"T_95d61_level0_row4\" class=\"row_heading level0 row4\" >FUELCONSCOMB</th>\n",
       "      <td id=\"T_95d61_row4_col0\" class=\"data row4 col0\" >0.82</td>\n",
       "      <td id=\"T_95d61_row4_col1\" class=\"data row4 col1\" >0.78</td>\n",
       "      <td id=\"T_95d61_row4_col2\" class=\"data row4 col2\" >1.00</td>\n",
       "      <td id=\"T_95d61_row4_col3\" class=\"data row4 col3\" >0.99</td>\n",
       "      <td id=\"T_95d61_row4_col4\" class=\"data row4 col4\" >1.00</td>\n",
       "      <td id=\"T_95d61_row4_col5\" class=\"data row4 col5\" >-0.93</td>\n",
       "      <td id=\"T_95d61_row4_col6\" class=\"data row4 col6\" >0.89</td>\n",
       "    </tr>\n",
       "    <tr>\n",
       "      <th id=\"T_95d61_level0_row5\" class=\"row_heading level0 row5\" >FUELCONSCOMBMPG</th>\n",
       "      <td id=\"T_95d61_row5_col0\" class=\"data row5 col0\" >-0.81</td>\n",
       "      <td id=\"T_95d61_row5_col1\" class=\"data row5 col1\" >-0.77</td>\n",
       "      <td id=\"T_95d61_row5_col2\" class=\"data row5 col2\" >-0.94</td>\n",
       "      <td id=\"T_95d61_row5_col3\" class=\"data row5 col3\" >-0.89</td>\n",
       "      <td id=\"T_95d61_row5_col4\" class=\"data row5 col4\" >-0.93</td>\n",
       "      <td id=\"T_95d61_row5_col5\" class=\"data row5 col5\" >1.00</td>\n",
       "      <td id=\"T_95d61_row5_col6\" class=\"data row5 col6\" >-0.91</td>\n",
       "    </tr>\n",
       "    <tr>\n",
       "      <th id=\"T_95d61_level0_row6\" class=\"row_heading level0 row6\" >CO2EMISSIONS</th>\n",
       "      <td id=\"T_95d61_row6_col0\" class=\"data row6 col0\" >0.87</td>\n",
       "      <td id=\"T_95d61_row6_col1\" class=\"data row6 col1\" >0.85</td>\n",
       "      <td id=\"T_95d61_row6_col2\" class=\"data row6 col2\" >0.90</td>\n",
       "      <td id=\"T_95d61_row6_col3\" class=\"data row6 col3\" >0.86</td>\n",
       "      <td id=\"T_95d61_row6_col4\" class=\"data row6 col4\" >0.89</td>\n",
       "      <td id=\"T_95d61_row6_col5\" class=\"data row6 col5\" >-0.91</td>\n",
       "      <td id=\"T_95d61_row6_col6\" class=\"data row6 col6\" >1.00</td>\n",
       "    </tr>\n",
       "  </tbody>\n",
       "</table>\n"
      ],
      "text/plain": [
       "<pandas.io.formats.style.Styler at 0x7fb83bf0cb50>"
      ]
     },
     "metadata": {},
     "output_type": "display_data"
    }
   ],
   "source": [
    "# Correlations Matrix (Pearson)\n",
    "corr = df.iloc[:, 1:].corr() \n",
    "display(corr.style.background_gradient(cmap='BuGn').set_precision(2))"
   ]
  },
  {
   "cell_type": "code",
   "execution_count": 33,
   "id": "4c9bfc33",
   "metadata": {
    "slideshow": {
     "slide_type": "subslide"
    }
   },
   "outputs": [
    {
     "data": {
      "text/html": [
       "<div>\n",
       "<style scoped>\n",
       "    .dataframe tbody tr th:only-of-type {\n",
       "        vertical-align: middle;\n",
       "    }\n",
       "\n",
       "    .dataframe tbody tr th {\n",
       "        vertical-align: top;\n",
       "    }\n",
       "\n",
       "    .dataframe thead th {\n",
       "        text-align: right;\n",
       "    }\n",
       "</style>\n",
       "<table border=\"1\" class=\"dataframe\">\n",
       "  <thead>\n",
       "    <tr style=\"text-align: right;\">\n",
       "      <th></th>\n",
       "      <th>ENGINESIZE</th>\n",
       "      <th>CYLINDERS</th>\n",
       "      <th>FUELCONSCOMB</th>\n",
       "      <th>CO2EMISSIONS</th>\n",
       "    </tr>\n",
       "  </thead>\n",
       "  <tbody>\n",
       "    <tr>\n",
       "      <th>0</th>\n",
       "      <td>2.00</td>\n",
       "      <td>4</td>\n",
       "      <td>8.50</td>\n",
       "      <td>196</td>\n",
       "    </tr>\n",
       "    <tr>\n",
       "      <th>1</th>\n",
       "      <td>2.40</td>\n",
       "      <td>4</td>\n",
       "      <td>9.60</td>\n",
       "      <td>221</td>\n",
       "    </tr>\n",
       "    <tr>\n",
       "      <th>2</th>\n",
       "      <td>1.50</td>\n",
       "      <td>4</td>\n",
       "      <td>5.90</td>\n",
       "      <td>136</td>\n",
       "    </tr>\n",
       "    <tr>\n",
       "      <th>3</th>\n",
       "      <td>3.50</td>\n",
       "      <td>6</td>\n",
       "      <td>11.10</td>\n",
       "      <td>255</td>\n",
       "    </tr>\n",
       "    <tr>\n",
       "      <th>4</th>\n",
       "      <td>3.50</td>\n",
       "      <td>6</td>\n",
       "      <td>10.60</td>\n",
       "      <td>244</td>\n",
       "    </tr>\n",
       "  </tbody>\n",
       "</table>\n",
       "</div>"
      ],
      "text/plain": [
       "   ENGINESIZE  CYLINDERS  FUELCONSCOMB  CO2EMISSIONS\n",
       "0        2.00          4          8.50           196\n",
       "1        2.40          4          9.60           221\n",
       "2        1.50          4          5.90           136\n",
       "3        3.50          6         11.10           255\n",
       "4        3.50          6         10.60           244"
      ]
     },
     "execution_count": 33,
     "metadata": {},
     "output_type": "execute_result"
    }
   ],
   "source": [
    "cdf = df[['ENGINESIZE','CYLINDERS','FUELCONSCOMB','CO2EMISSIONS']]\n",
    "cdf.head(5)"
   ]
  },
  {
   "cell_type": "code",
   "execution_count": 34,
   "id": "039d72cf",
   "metadata": {
    "slideshow": {
     "slide_type": "subslide"
    }
   },
   "outputs": [
    {
     "data": {
      "text/plain": [
       "(1067, 4)"
      ]
     },
     "execution_count": 34,
     "metadata": {},
     "output_type": "execute_result"
    }
   ],
   "source": [
    "cdf.shape"
   ]
  },
  {
   "cell_type": "code",
   "execution_count": 35,
   "id": "74a82c9a",
   "metadata": {
    "slideshow": {
     "slide_type": "subslide"
    }
   },
   "outputs": [],
   "source": [
    "# 01. Separando os dados de treino e teste\n",
    "msk = np.random.rand(len(df)) < 0.80\n",
    "dfTrain = cdf[msk]\n",
    "dfTest = cdf[~msk]"
   ]
  },
  {
   "cell_type": "code",
   "execution_count": 36,
   "id": "37ac3e98",
   "metadata": {
    "slideshow": {
     "slide_type": "subslide"
    }
   },
   "outputs": [
    {
     "name": "stdout",
     "output_type": "stream",
     "text": [
      "Dataset de Treino =  (849, 4)\n",
      "Dataset de Test   =  (218, 4)\n"
     ]
    }
   ],
   "source": [
    "print('Dataset de Treino = ', dfTrain.shape)\n",
    "print('Dataset de Test   = ', dfTest.shape)"
   ]
  },
  {
   "cell_type": "code",
   "execution_count": 39,
   "id": "3904302f",
   "metadata": {
    "slideshow": {
     "slide_type": "subslide"
    }
   },
   "outputs": [
    {
     "name": "stdout",
     "output_type": "stream",
     "text": [
      "Coefficients:  [[39.05759421]]\n",
      "Intercept:  [125.44574518]\n"
     ]
    }
   ],
   "source": [
    "# Import sklearn library\n",
    "from sklearn import linear_model\n",
    "import seaborn as sns\n",
    "import matplotlib.pyplot as plt\n",
    "import matplotlib.pylab as pylab\n",
    "from scipy import stats\n",
    "\n",
    "# Linear Regression Model\n",
    "regr = linear_model.LinearRegression()\n",
    "\n",
    "# Training X values (Var Independent - Explanatory)  e Y (Var Dependent - Target)\n",
    "train_x = np.asanyarray(dfTrain[['ENGINESIZE']])\n",
    "train_y = np.asanyarray(dfTrain[['CO2EMISSIONS']])\n",
    "\n",
    "# Performing Line Adjustment\n",
    "regr.fit(train_x, train_y)\n",
    "\n",
    "# Defining the values for coefficients - Theta 0: Intercepto e Theta 1: Coeficiente\n",
    "print ('Coefficients: ', regr.coef_)\n",
    "print ('Intercept: ', regr.intercept_)"
   ]
  },
  {
   "cell_type": "code",
   "execution_count": 40,
   "id": "52f6c2f5",
   "metadata": {
    "slideshow": {
     "slide_type": "skip"
    }
   },
   "outputs": [],
   "source": [
    "params = {'legend.fontsize': 20,\n",
    "          'figure.figsize': (15,5),\n",
    "         'axes.labelsize': 20,\n",
    "         'axes.titlesize': 20,\n",
    "         'xtick.labelsize': 20,\n",
    "         'ytick.labelsize': 20}"
   ]
  },
  {
   "cell_type": "markdown",
   "id": "538e8528",
   "metadata": {
    "slideshow": {
     "slide_type": "subslide"
    }
   },
   "source": [
    "O Coeficiente e Interceptação na regressão linear simples são os parâmetros da linha de ajuste.\n",
    "\n",
    "Como esta é uma regressão linear simples, com apenas 2 parâmetros, e sabendo que os parâmetros são o intercepto e a inclinação da linha, o sklearn pode estimá-los diretamente de nossos dados.\n",
    "\n",
    "Observe que todos os dados devem estar disponíveis para percorrer e calcular os parâmetros."
   ]
  },
  {
   "cell_type": "code",
   "execution_count": 38,
   "id": "db09dd45",
   "metadata": {
    "slideshow": {
     "slide_type": "subslide"
    }
   },
   "outputs": [
    {
     "data": {
      "text/plain": [
       "<seaborn.axisgrid.FacetGrid at 0x7fb83bf9a400>"
      ]
     },
     "execution_count": 38,
     "metadata": {},
     "output_type": "execute_result"
    },
    {
     "data": {
      "image/png": "[encoded data removed]",
      "text/plain": [
       "<Figure size 360x360 with 1 Axes>"
      ]
     },
     "metadata": {
      "needs_background": "light"
     },
     "output_type": "display_data"
    }
   ],
   "source": [
    "sns.lmplot(x='ENGINESIZE', y='CO2EMISSIONS', line_kws={\"color\": \"C1\"}, data=dfTrain)"
   ]
  },
  {
   "cell_type": "code",
   "execution_count": 43,
   "id": "b6728a70",
   "metadata": {
    "slideshow": {
     "slide_type": "subslide"
    }
   },
   "outputs": [
    {
     "data": {
      "image/png": "[encoded data removed]",
      "text/plain": [
       "<Figure size 1080x360 with 1 Axes>"
      ]
     },
     "metadata": {
      "needs_background": "light"
     },
     "output_type": "display_data"
    }
   ],
   "source": [
    "# get coeffs of linear fit\n",
    "slope, intercept, r_value, p_value, std_err = stats.linregress(dfTrain['ENGINESIZE'],dfTrain['CO2EMISSIONS'])\n",
    "\n",
    "# use line_kws to set line label for legend\n",
    "ax = sns.regplot(x=\"ENGINESIZE\", \n",
    "                 y=\"CO2EMISSIONS\", \n",
    "                 data=dfTrain, color='b',\n",
    "                 line_kws={'label':\"y={0:.1f}x + {1:.1f}\".format(slope,intercept),\"color\": \"C1\"})\n",
    "\n",
    "# plot legend\n",
    "pylab.rcParams.update(params)\n",
    "ax.legend()\n",
    "plt.show()"
   ]
  },
  {
   "cell_type": "markdown",
   "id": "3f23a9b5",
   "metadata": {
    "slideshow": {
     "slide_type": "subslide"
    }
   },
   "source": [
    "### Avaliação\n",
    "\n",
    "Comparamos os valores reais e os valores previstos para calcular a precisão de um modelo de regressão. As métricas de avaliação fornecem um papel fundamental no desenvolvimento de um modelo, pois fornecem informações sobre as áreas que precisam ser melhoradas.\n",
    "\n",
    "Existem diferentes métricas de avaliação do modelo, vamos usar o MSE aqui para calcular a precisão do nosso modelo com base no conjunto de teste:\n",
    "\n",
    "**Mean Absolute Error (MAE):**<br>\n",
    "É a média do valor absoluto dos erros. Essa é a métrica mais fácil de entender, pois é apenas o erro médio.<br>\n",
    "\n",
    "**Mean Squared Error (MSE):**<br>\n",
    "É a média do erro quadrado. É mais popular do que o erro absoluto médio porque o foco é mais voltado para erros grandes. Isso se deve ao fato de o termo ao quadrado aumentar exponencialmente os erros maiores em comparação aos menores.<br>\n",
    "\n",
    "**R-Squared:**<br>\n",
    "Não é um erro, mas sim uma métrica popular para medir o desempenho do seu modelo de regressão. Representa o quão perto os pontos de dados estão da linha de regressão ajustada. Quanto maior o valor de R ao quadrado, melhor o modelo ajusta seus dados. A melhor pontuação possível é 1,0 e pode ser negativa (porque o modelo pode ser arbitrariamente pior).\n",
    "\n"
   ]
  },
  {
   "cell_type": "code",
   "execution_count": 44,
   "id": "7d11f697",
   "metadata": {
    "slideshow": {
     "slide_type": "subslide"
    }
   },
   "outputs": [
    {
     "name": "stdout",
     "output_type": "stream",
     "text": [
      "Mean Absolute Error: 24.42\n",
      "Residual sum of squares (MSE): 1069.71\n",
      "R2-score: 0.73\n"
     ]
    }
   ],
   "source": [
    "from sklearn.metrics import r2_score\n",
    "\n",
    "# Testando os valores de X (Var Independente - Explicativa)  e Y (Var Dependente - Alvo/Target)\n",
    "test_x = np.asanyarray(dfTest[['ENGINESIZE']])\n",
    "test_y = np.asanyarray(dfTest[['CO2EMISSIONS']])\n",
    "\n",
    "# Cálculo do Modelo de Previsão\n",
    "test_y_ = regr.predict(test_x)\n",
    "\n",
    "# Verificando os Scores de relação entre as variáveis\n",
    "print(\"Mean Absolute Error: %.2f\" % np.mean(np.absolute(test_y_ - test_y)))\n",
    "print(\"Residual sum of squares (MSE): %.2f\" % np.mean((test_y_ - test_y) ** 2))\n",
    "print(\"R2-score: %.2f\" % r2_score(test_y , test_y_) )"
   ]
  },
  {
   "cell_type": "markdown",
   "id": "19485942",
   "metadata": {
    "slideshow": {
     "slide_type": "slide"
    }
   },
   "source": [
    "# Parte 4: Características das Variáveis de Saída"
   ]
  },
  {
   "cell_type": "markdown",
   "id": "de5780bd",
   "metadata": {
    "slideshow": {
     "slide_type": "subslide"
    }
   },
   "source": [
    "<img src=\"imagens/caracteristicas.png\">"
   ]
  },
  {
   "cell_type": "markdown",
   "id": "31e995d3",
   "metadata": {
    "slideshow": {
     "slide_type": "subslide"
    }
   },
   "source": [
    "## 4.1. Variáveis Contínuas\n",
    "\n",
    "Como já foi comentado, as variáveis contínuas são aquelas que podem assumir valores infinitos dentro de um intervalo. Em geral, suas características de saída são:"
   ]
  },
  {
   "cell_type": "markdown",
   "id": "087d1669",
   "metadata": {
    "slideshow": {
     "slide_type": "fragment"
    }
   },
   "source": [
    "1. **Valores fracionários:**<br> \n",
    "As variáveis contínuas podem assumir valores fracionários, como 1,5 ou 3,1416, por exemplo.<br> <br> \n",
    "\n",
    "2. **Valores ilimitados:**<br> \n",
    "As variáveis contínuas não possuem um limite superior ou inferior definido. Isso significa que elas podem assumir valores muito grandes ou muito pequenos.<br> <br> \n",
    "\n",
    "3. **Valores infinitos:**<br> \n",
    "As variáveis contínuas podem assumir valores infinitos, como é o caso da variável \"tempo\", que pode teoricamente assumir valores infinitos.<br>"
   ]
  },
  {
   "cell_type": "markdown",
   "id": "92243fc1",
   "metadata": {
    "slideshow": {
     "slide_type": "subslide"
    }
   },
   "source": [
    "4. **Distribuição de probabilidade:**<br> \n",
    "As variáveis contínuas têm uma distribuição de probabilidade associada a elas. Essa distribuição indica a probabilidade de se obter determinados valores da variável. Geralmente, a distribuição de probabilidade de uma variável contínua é representada por uma função contínua, como a distribuição normal.<br> <br> \n",
    "\n",
    "5. **Medidas de tendência central:**<br> \n",
    "As medidas de tendência central, como a média e a mediana, são frequentemente utilizadas para descrever as variáveis contínuas. A média representa o valor médio da variável, enquanto a mediana representa o valor que divide a distribuição em duas partes iguais.<br> <br> \n",
    "\n",
    "6. **Intervalos de confiança:**<br> \n",
    "Os intervalos de confiança são frequentemente utilizados para indicar a incerteza associada à estimativa de uma variável contínua. Esses intervalos indicam uma faixa de valores que provavelmente contém o valor verdadeiro da variável com um certo nível de confiança"
   ]
  },
  {
   "cell_type": "markdown",
   "id": "c08f97f6",
   "metadata": {
    "slideshow": {
     "slide_type": "subslide"
    }
   },
   "source": [
    "## 4.2. Variáveis Discretas\n",
    "\n",
    "As variáveis discretas são aquelas que podem assumir um número finito ou contável de valores possíveis. As características de saída dessas variáveis dependem do tipo específico de variável. Aqui estão algumas características comuns das variáveis discretas:"
   ]
  },
  {
   "cell_type": "markdown",
   "id": "6e6e4121",
   "metadata": {
    "slideshow": {
     "slide_type": "fragment"
    }
   },
   "source": [
    "1. **Valores específicos:**<br> \n",
    "As variáveis discretas só podem assumir valores específicos e não podem assumir valores contínuos entre esses valores. Por exemplo, o número de filhos em uma família só pode ser um número inteiro, como 0, 1, 2, 3, etc.<br> <br> \n",
    "\n",
    "2. **Contáveis:**<br> \n",
    "As variáveis discretas podem ser contadas ou enumeradas, porque seus valores são distintos e separados um do outro. Por exemplo, o número de alunos em uma sala de aula é uma variável discreta, pois você pode contar o número exato de alunos.<br> <br> \n",
    "\n",
    "3. **Limitados:**<br> \n",
    "As variáveis discretas têm limites inferiores e superiores em relação aos seus valores possíveis. Por exemplo, o número de gols marcados em um jogo de futebol só pode variar de 0 a um número finito."
   ]
  },
  {
   "cell_type": "markdown",
   "id": "3707fbe0",
   "metadata": {
    "slideshow": {
     "slide_type": "subslide"
    }
   },
   "source": [
    "4. **Não pode ser medido:**<br> \n",
    "As variáveis discretas não podem ser medidas com precisão em uma escala contínua. Por exemplo, não faz sentido falar sobre a distância entre 0 e 1 filho em uma família, já que o número de filhos é uma variável discreta.<br><br> \n",
    "\n",
    "5. **Pode ser representado graficamente:**<br> \n",
    "As variáveis discretas podem ser representadas graficamente em gráficos de barras ou histogramas, em que cada valor possível é mostrado como uma barra separada."
   ]
  }
 ],
 "metadata": {
  "celltoolbar": "Slideshow",
  "kernelspec": {
   "display_name": "Python 3 (ipykernel)",
   "language": "python",
   "name": "python3"
  },
  "language_info": {
   "codemirror_mode": {
    "name": "ipython",
    "version": 3
   },
   "file_extension": ".py",
   "mimetype": "text/x-python",
   "name": "python",
   "nbconvert_exporter": "python",
   "pygments_lexer": "ipython3",
   "version": "3.9.12"
  }
 },
 "nbformat": 4,
 "nbformat_minor": 5
}
