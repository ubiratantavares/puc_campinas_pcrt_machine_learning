{
 "cells": [
  {
   "cell_type": "markdown",
   "id": "3d5d96e4",
   "metadata": {
    "slideshow": {
     "slide_type": "slide"
    }
   },
   "source": [
    "<img src=\"imagens/Boas vindas.png\">"
   ]
  },
  {
   "cell_type": "markdown",
   "id": "b9717a7b",
   "metadata": {
    "slideshow": {
     "slide_type": "slide"
    }
   },
   "source": [
    "# Sumário - Revisão de Python\n",
    "\n",
    "1 - Tipos de Dados\n",
    "\n",
    "2 - Estrutura Condicional\n",
    "\n",
    "3 - Listas\n",
    "\n",
    "4 - Tuplas\n",
    "\n",
    "5 - Laços de Repetição: *While* e *for*"
   ]
  },
  {
   "cell_type": "markdown",
   "id": "ad8ef997",
   "metadata": {
    "slideshow": {
     "slide_type": "slide"
    }
   },
   "source": [
    "# 1. Tipos de Dados "
   ]
  },
  {
   "cell_type": "markdown",
   "id": "302cdce4",
   "metadata": {
    "slideshow": {
     "slide_type": "subslide"
    }
   },
   "source": [
    "Dados comuns do nosso dia-a-dia podem ser classificados em 4 tipos:\n",
    "\n",
    "- Numéricos: \n",
    "      - Inteiros: números sem casa decimal: 10, 5, -4\n",
    "      - Reais: números com casa decima: 3.14, 1075.18, 0.0"
   ]
  },
  {
   "cell_type": "markdown",
   "id": "fcb4d991",
   "metadata": {
    "slideshow": {
     "slide_type": "subslide"
    }
   },
   "source": [
    "- Não-Numéricos:\n",
    "         - Lógicos: True ou False\n",
    "         - Texto (cadeia de caracteres): \"Python\", \"José Maria da Silva\", \"34567-890\"\n",
    "         \n",
    "O Python possui tipos primitivos para cada um desses tipos de dados. São eles o **int**, **float**, **bool** e o **str**.    "
   ]
  },
  {
   "cell_type": "markdown",
   "id": "8afce162",
   "metadata": {
    "slideshow": {
     "slide_type": "subslide"
    }
   },
   "source": [
    "# Operadores aritméticos\n",
    "\n",
    "\n",
    "| Operador | Significado   | Exemplo                    |\n",
    "|:---|:---|:---|\n",
    "|     +    | Adição        | a = 3 + 2                  |\n",
    "|     -    | Subtração     | b = 7 - a                  |\n",
    "|     *    | Multiplicação | c = a * b                  |\n",
    "|     /    | Divisão       | d = 10/3                   |\n",
    "|    //    | Quociente     | e = 10//3                  |\n",
    "|     %    | Resto         | f = 10%3                   |\n",
    "|    **    | Exponenciação | g = 2 ** 3                 |\n",
    "|    **    | Radiciação    | h = 16 ** (1/2)            |"
   ]
  },
  {
   "cell_type": "markdown",
   "id": "c93e2071",
   "metadata": {
    "slideshow": {
     "slide_type": "subslide"
    }
   },
   "source": [
    "## Precedência de Operadores\n",
    "\n",
    "1. Parênteses\n",
    "2. Potenciação\n",
    "3. Multiplicação e divisão\n",
    "4. Soma e substração"
   ]
  },
  {
   "cell_type": "code",
   "execution_count": 1,
   "id": "54f74d1a",
   "metadata": {
    "slideshow": {
     "slide_type": "subslide"
    }
   },
   "outputs": [
    {
     "data": {
      "text/plain": [
       "5"
      ]
     },
     "execution_count": 1,
     "metadata": {},
     "output_type": "execute_result"
    }
   ],
   "source": [
    "# Adição\n",
    "\n",
    "3 + 2"
   ]
  },
  {
   "cell_type": "code",
   "execution_count": 2,
   "id": "671dc50a",
   "metadata": {
    "slideshow": {
     "slide_type": "subslide"
    }
   },
   "outputs": [
    {
     "data": {
      "text/plain": [
       "2"
      ]
     },
     "execution_count": 2,
     "metadata": {},
     "output_type": "execute_result"
    }
   ],
   "source": [
    "# Subtração\n",
    "\n",
    "7 - 5"
   ]
  },
  {
   "cell_type": "code",
   "execution_count": 3,
   "id": "e6542079",
   "metadata": {
    "slideshow": {
     "slide_type": "subslide"
    }
   },
   "outputs": [
    {
     "data": {
      "text/plain": [
       "6"
      ]
     },
     "execution_count": 3,
     "metadata": {},
     "output_type": "execute_result"
    }
   ],
   "source": [
    "# Multiplicação\n",
    "\n",
    "2 * 3"
   ]
  },
  {
   "cell_type": "code",
   "execution_count": 4,
   "id": "865b6732",
   "metadata": {
    "slideshow": {
     "slide_type": "fragment"
    }
   },
   "outputs": [
    {
     "data": {
      "text/plain": [
       "10.5"
      ]
     },
     "execution_count": 4,
     "metadata": {},
     "output_type": "execute_result"
    }
   ],
   "source": [
    "3 * 3.5"
   ]
  },
  {
   "cell_type": "code",
   "execution_count": 5,
   "id": "ff21b026",
   "metadata": {
    "slideshow": {
     "slide_type": "subslide"
    }
   },
   "outputs": [
    {
     "data": {
      "text/plain": [
       "3.0"
      ]
     },
     "execution_count": 5,
     "metadata": {},
     "output_type": "execute_result"
    }
   ],
   "source": [
    "# Divisão\n",
    "\n",
    "9 / 3"
   ]
  },
  {
   "cell_type": "code",
   "execution_count": 6,
   "id": "56d31997",
   "metadata": {
    "slideshow": {
     "slide_type": "fragment"
    }
   },
   "outputs": [
    {
     "data": {
      "text/plain": [
       "3.3333333333333335"
      ]
     },
     "execution_count": 6,
     "metadata": {},
     "output_type": "execute_result"
    }
   ],
   "source": [
    "10 / 3"
   ]
  },
  {
   "cell_type": "code",
   "execution_count": 7,
   "id": "8b41fe8d",
   "metadata": {
    "slideshow": {
     "slide_type": "fragment"
    }
   },
   "outputs": [
    {
     "data": {
      "text/plain": [
       "3.0"
      ]
     },
     "execution_count": 7,
     "metadata": {},
     "output_type": "execute_result"
    }
   ],
   "source": [
    "9 / 3.0"
   ]
  },
  {
   "cell_type": "code",
   "execution_count": 8,
   "id": "0b6f6359",
   "metadata": {
    "slideshow": {
     "slide_type": "subslide"
    }
   },
   "outputs": [
    {
     "data": {
      "text/plain": [
       "2"
      ]
     },
     "execution_count": 8,
     "metadata": {},
     "output_type": "execute_result"
    }
   ],
   "source": [
    "# Divisão - calculando o quociente\n",
    "\n",
    "5 // 2"
   ]
  },
  {
   "cell_type": "code",
   "execution_count": 9,
   "id": "5ce781cd",
   "metadata": {
    "slideshow": {
     "slide_type": "fragment"
    }
   },
   "outputs": [
    {
     "data": {
      "text/plain": [
       "2.0"
      ]
     },
     "execution_count": 9,
     "metadata": {},
     "output_type": "execute_result"
    }
   ],
   "source": [
    "5.0 // 2"
   ]
  },
  {
   "cell_type": "code",
   "execution_count": 10,
   "id": "00210cdf",
   "metadata": {
    "slideshow": {
     "slide_type": "fragment"
    }
   },
   "outputs": [
    {
     "data": {
      "text/plain": [
       "3.0"
      ]
     },
     "execution_count": 10,
     "metadata": {},
     "output_type": "execute_result"
    }
   ],
   "source": [
    "4 // 1.2"
   ]
  },
  {
   "cell_type": "code",
   "execution_count": 11,
   "id": "46f4f69b",
   "metadata": {
    "slideshow": {
     "slide_type": "subslide"
    }
   },
   "outputs": [
    {
     "data": {
      "text/plain": [
       "1"
      ]
     },
     "execution_count": 11,
     "metadata": {},
     "output_type": "execute_result"
    }
   ],
   "source": [
    "# Divisão - calculando o resto da divisão\n",
    "\n",
    "5 % 2"
   ]
  },
  {
   "cell_type": "code",
   "execution_count": 12,
   "id": "0a08ebb1",
   "metadata": {
    "slideshow": {
     "slide_type": "fragment"
    }
   },
   "outputs": [
    {
     "data": {
      "text/plain": [
       "1.5"
      ]
     },
     "execution_count": 12,
     "metadata": {},
     "output_type": "execute_result"
    }
   ],
   "source": [
    "9 % 2.5"
   ]
  },
  {
   "cell_type": "code",
   "execution_count": 13,
   "id": "d54f9d79",
   "metadata": {
    "slideshow": {
     "slide_type": "subslide"
    }
   },
   "outputs": [
    {
     "data": {
      "text/plain": [
       "9"
      ]
     },
     "execution_count": 13,
     "metadata": {},
     "output_type": "execute_result"
    }
   ],
   "source": [
    "# Potenciação: (1) Exponenciação e (2) Radiciação\n",
    "\n",
    "# (1) Exponenciação\n",
    "3 ** 2"
   ]
  },
  {
   "cell_type": "code",
   "execution_count": 14,
   "id": "a5e693a5",
   "metadata": {
    "slideshow": {
     "slide_type": "fragment"
    }
   },
   "outputs": [
    {
     "data": {
      "text/plain": [
       "1024"
      ]
     },
     "execution_count": 14,
     "metadata": {},
     "output_type": "execute_result"
    }
   ],
   "source": [
    "2 ** 10"
   ]
  },
  {
   "cell_type": "code",
   "execution_count": 15,
   "id": "127d264a",
   "metadata": {
    "slideshow": {
     "slide_type": "subslide"
    }
   },
   "outputs": [
    {
     "data": {
      "text/plain": [
       "3.0"
      ]
     },
     "execution_count": 15,
     "metadata": {},
     "output_type": "execute_result"
    }
   ],
   "source": [
    "# (2) Radiciação\n",
    "\n",
    "# Raiz quadrada de 9\n",
    "9 ** (1/2)"
   ]
  },
  {
   "cell_type": "code",
   "execution_count": 16,
   "id": "9f7f041c",
   "metadata": {
    "slideshow": {
     "slide_type": "fragment"
    }
   },
   "outputs": [
    {
     "data": {
      "text/plain": [
       "4.0"
      ]
     },
     "execution_count": 16,
     "metadata": {},
     "output_type": "execute_result"
    }
   ],
   "source": [
    "# Raiz quadrada de 16 (elevando a 0.5 ao invés da fração 1/2)\n",
    "\n",
    "16 ** 0.5"
   ]
  },
  {
   "cell_type": "markdown",
   "id": "f045c92a",
   "metadata": {
    "slideshow": {
     "slide_type": "subslide"
    }
   },
   "source": [
    "## Variáveis e o comando de atribuição\n",
    "\n",
    "### Conceito\n",
    "O que é uma [variável](https://pt.wikipedia.org/wiki/Variável_\\(programação\\) \"Conceito de variável no Wikipedia\")? De forma bem simples e objetiva, uma **variável** é um espaço na memória (*memória RAM*) do seu computador, utilizada por um programa para armazenar dados. "
   ]
  },
  {
   "cell_type": "markdown",
   "id": "a1f4d0a3",
   "metadata": {
    "slideshow": {
     "slide_type": "subslide"
    }
   },
   "source": [
    "### Identificadores\n",
    "\n",
    "Uma variável precisa necessariamente de um nome, o qual chamamos de **identificador**. Em Python, um identificador é formado apenas por letras (_de A a Z, maiúsculas ou minúsculas, sem acentuação_), dígitos (_0 a 9_) e o _underscore_ ( \\_ ). Um identificador deve começar **obrigatoriamente** com uma letra ou *underscore*, e não pode conter espaços, caracteres especiais (@, !, \\*, -, &, ˜, etc) ou caracteres acentuados (é, à, ã, ç, í, ö, ü, û, etc..). \n",
    "\n",
    "Portanto, os caracteres permitidos em identificadores são:\n",
    "\n",
    "`ABCDEFGHIJKLMNOPQRSTUVWXYZabcdefghijklmnopqrstuvwxyz_0123456789`"
   ]
  },
  {
   "cell_type": "markdown",
   "id": "7af915b3",
   "metadata": {
    "slideshow": {
     "slide_type": "subslide"
    }
   },
   "source": [
    "### Identificadores válidos e inválidos\n",
    "Portanto podemos considerar os seguintes identificadores como nomes válidos para variáveis:\n",
    "\n",
    "* nome\n",
    "* Salario\n",
    "* NUMERO10\n",
    "* i23ER21\n",
    "* \\_data\\_de\\_nascimento\\_"
   ]
  },
  {
   "cell_type": "markdown",
   "id": "a3d5812b",
   "metadata": {
    "slideshow": {
     "slide_type": "subslide"
    }
   },
   "source": [
    "### Identificadores inválidos\n",
    "\n",
    "Já os identificadores abaixo não são nomes válidos para variáveis:\n",
    "* nome do aluno (*identificadores não podem conter espaços*)\n",
    "* Salário (*contém uma letra acentuada*)\n",
    "* 10NUMERO (*começa com dígito*)\n",
    "* !23ER21 (_possui um caractere especial **!**_)\n",
    "* data-de-nascimento (_possui um caractere especial **-**_)"
   ]
  },
  {
   "cell_type": "markdown",
   "id": "d313ef88",
   "metadata": {
    "slideshow": {
     "slide_type": "subslide"
    }
   },
   "source": [
    "### Identificadores significativos\n",
    "\n",
    "Além de serem válidos, como nos exemplos acima, os **identificadores** precisam ter nomes significativos. Ou seja, ao ver um identificador, o programador deve conseguir perceber que dado está armazenado na variável.\n",
    "\n",
    "Os identificadores abaixo, embora sejam válidos, não tem nomes significativos:\n",
    "\n",
    "* i23ER1\n",
    "* _123\n",
    "* BATMAN\n",
    "* T"
   ]
  },
  {
   "cell_type": "markdown",
   "id": "d4b2e1be",
   "metadata": {
    "slideshow": {
     "slide_type": "subslide"
    }
   },
   "source": [
    "### Identificadores não significativos\n",
    "\n",
    "Embora todos os identificadores acima sejam válidos, não são significativos. Que informação será armazenada nas variáveis _i23ER21_, _\\_123_, _BATMAN_ ou _T_? É difícil descobrir.\n",
    "\n",
    "Os identificadores abaixo são válidos e tem nomes significativos:\n",
    "\n",
    "* salario\n",
    "* idade\n",
    "* nome\n",
    "* nota\n",
    "* complementoenderecoparacorrespondencia"
   ]
  },
  {
   "cell_type": "markdown",
   "id": "a32a1465",
   "metadata": {
    "slideshow": {
     "slide_type": "subslide"
    }
   },
   "source": [
    "Uma observação importante: para que um nome seja significativo, ele não precisa ser tão longo quanto _complementoenderecoparacorrespondencia_. Por exemplo, o que a variável `dtnasc` armazena? Se você pensou em uma data de nascimento, você acertou. Não precisamos de identificadores longos como *data\\_de\\_nascimento* para criar identificadores significativos. O ideal é utilizar identificadores mais curtos e fáceis de memorizar e utilizar como _dtnasc_.\n",
    "\n",
    "Por fim, uma última informação. Python faz diferenciação entre letras maiúsculas e minúsculas em identificadores. Portanto, os identificadores _nota, Nota e NOTA_ representam três variáveis diferentes."
   ]
  },
  {
   "cell_type": "markdown",
   "id": "bd8c55df",
   "metadata": {
    "slideshow": {
     "slide_type": "subslide"
    }
   },
   "source": [
    "## Criando variáveis\n",
    "\n",
    "Variáveis em Python não são **declaradas** como em outras linguagens *(ex: Pascal, C, C++, Java, C#, etc...)* mas **criadas** a partir da atribuição de um valor, uma variável, uma expressão ou um objeto. O comando de atribuição, representado pelo sinal de igualdade (**=**), é o responsável por atribuir (ou armazenar) um valor em uma variável."
   ]
  },
  {
   "cell_type": "markdown",
   "id": "1af401b7",
   "metadata": {
    "slideshow": {
     "slide_type": "subslide"
    }
   },
   "source": [
    "Vejamos agora alguns exemplos:"
   ]
  },
  {
   "cell_type": "code",
   "execution_count": 17,
   "id": "ebb181ae",
   "metadata": {
    "slideshow": {
     "slide_type": "fragment"
    }
   },
   "outputs": [],
   "source": [
    "idade = 47"
   ]
  },
  {
   "cell_type": "code",
   "execution_count": 18,
   "id": "99eb7289",
   "metadata": {
    "slideshow": {
     "slide_type": "fragment"
    }
   },
   "outputs": [],
   "source": [
    "nome = 'José Maria da Silva'"
   ]
  },
  {
   "cell_type": "code",
   "execution_count": 19,
   "id": "a619bcc6",
   "metadata": {
    "slideshow": {
     "slide_type": "fragment"
    }
   },
   "outputs": [],
   "source": [
    "pi = 3.14159"
   ]
  },
  {
   "cell_type": "code",
   "execution_count": 20,
   "id": "f43d2622",
   "metadata": {
    "slideshow": {
     "slide_type": "fragment"
    }
   },
   "outputs": [],
   "source": [
    "aprovado = True #False"
   ]
  },
  {
   "cell_type": "markdown",
   "id": "9ddffed4",
   "metadata": {
    "slideshow": {
     "slide_type": "subslide"
    }
   },
   "source": [
    "## Verificando tipos de dados e variáveis\n",
    "\n",
    "### type()\n",
    "\n",
    "O Python fornece o método `type()` que retorna o tipo de dados e variáveis. Seu uso é muito simples, basta colocar um objeto, o nome de uma variável ou um valor entre parênteses."
   ]
  },
  {
   "cell_type": "code",
   "execution_count": 21,
   "id": "d6dfc79c",
   "metadata": {
    "slideshow": {
     "slide_type": "subslide"
    }
   },
   "outputs": [
    {
     "data": {
      "text/plain": [
       "int"
      ]
     },
     "execution_count": 21,
     "metadata": {},
     "output_type": "execute_result"
    }
   ],
   "source": [
    "type(idade)"
   ]
  },
  {
   "cell_type": "code",
   "execution_count": 22,
   "id": "fb9d8e65",
   "metadata": {
    "slideshow": {
     "slide_type": "fragment"
    }
   },
   "outputs": [
    {
     "data": {
      "text/plain": [
       "str"
      ]
     },
     "execution_count": 22,
     "metadata": {},
     "output_type": "execute_result"
    }
   ],
   "source": [
    "type(nome)"
   ]
  },
  {
   "cell_type": "code",
   "execution_count": 23,
   "id": "59ed7111",
   "metadata": {
    "slideshow": {
     "slide_type": "fragment"
    }
   },
   "outputs": [
    {
     "data": {
      "text/plain": [
       "float"
      ]
     },
     "execution_count": 23,
     "metadata": {},
     "output_type": "execute_result"
    }
   ],
   "source": [
    "type(pi)"
   ]
  },
  {
   "cell_type": "code",
   "execution_count": 24,
   "id": "64fd1a06",
   "metadata": {
    "slideshow": {
     "slide_type": "fragment"
    }
   },
   "outputs": [
    {
     "data": {
      "text/plain": [
       "bool"
      ]
     },
     "execution_count": 24,
     "metadata": {},
     "output_type": "execute_result"
    }
   ],
   "source": [
    "type(aprovado)"
   ]
  },
  {
   "cell_type": "markdown",
   "id": "74ef5710",
   "metadata": {
    "slideshow": {
     "slide_type": "subslide"
    }
   },
   "source": [
    "### isinstance()\n",
    "\n",
    "Além do método `type()` que retorna o tipo de um objeto, Python fornece o método `isinstance()` que permite verificar se um objeto ou variável (primeiro parâmetro da função) é uma instância de uma classe ou é de um determinado tipo."
   ]
  },
  {
   "cell_type": "code",
   "execution_count": 25,
   "id": "8fcc8e58",
   "metadata": {
    "slideshow": {
     "slide_type": "subslide"
    }
   },
   "outputs": [
    {
     "data": {
      "text/plain": [
       "True"
      ]
     },
     "execution_count": 25,
     "metadata": {},
     "output_type": "execute_result"
    }
   ],
   "source": [
    "isinstance(5, int)"
   ]
  },
  {
   "cell_type": "code",
   "execution_count": 26,
   "id": "917b42e4",
   "metadata": {
    "slideshow": {
     "slide_type": "fragment"
    }
   },
   "outputs": [
    {
     "data": {
      "text/plain": [
       "True"
      ]
     },
     "execution_count": 26,
     "metadata": {},
     "output_type": "execute_result"
    }
   ],
   "source": [
    "isinstance(\"5\", str)"
   ]
  },
  {
   "cell_type": "code",
   "execution_count": 27,
   "id": "0755efd7",
   "metadata": {
    "slideshow": {
     "slide_type": "fragment"
    }
   },
   "outputs": [
    {
     "data": {
      "text/plain": [
       "False"
      ]
     },
     "execution_count": 27,
     "metadata": {},
     "output_type": "execute_result"
    }
   ],
   "source": [
    "isinstance(5, float)"
   ]
  },
  {
   "cell_type": "code",
   "execution_count": 28,
   "id": "41b8e689",
   "metadata": {
    "slideshow": {
     "slide_type": "fragment"
    }
   },
   "outputs": [
    {
     "data": {
      "text/plain": [
       "True"
      ]
     },
     "execution_count": 28,
     "metadata": {},
     "output_type": "execute_result"
    }
   ],
   "source": [
    "isinstance('Python', str)"
   ]
  },
  {
   "cell_type": "code",
   "execution_count": 29,
   "id": "2feeb951",
   "metadata": {
    "slideshow": {
     "slide_type": "fragment"
    }
   },
   "outputs": [
    {
     "data": {
      "text/plain": [
       "False"
      ]
     },
     "execution_count": 29,
     "metadata": {},
     "output_type": "execute_result"
    }
   ],
   "source": [
    "isinstance('Python', int)"
   ]
  },
  {
   "cell_type": "markdown",
   "id": "c5bd16c9",
   "metadata": {
    "slideshow": {
     "slide_type": "subslide"
    }
   },
   "source": [
    "## Imprimindo valores e variáveis\n",
    "\n",
    "Python fornece o método print para impressão de valores e variáveis. \n",
    "\n",
    "Algumas células acima, nós criamos as variáveis _nome, idade, pi_ e _aprovado_ e usamos o comando de atribuição para armazenar alguns valores. Que tal imprimir esse valores?"
   ]
  },
  {
   "cell_type": "code",
   "execution_count": 30,
   "id": "2ed8aae3",
   "metadata": {
    "slideshow": {
     "slide_type": "subslide"
    }
   },
   "outputs": [
    {
     "name": "stdout",
     "output_type": "stream",
     "text": [
      "nome\n"
     ]
    }
   ],
   "source": [
    "print('nome')"
   ]
  },
  {
   "cell_type": "markdown",
   "id": "f39cfd84",
   "metadata": {
    "slideshow": {
     "slide_type": "fragment"
    }
   },
   "source": [
    "Perceba que ao executar o comando `print('nome')`, a palavra **nome** foi impressa."
   ]
  },
  {
   "cell_type": "code",
   "execution_count": 31,
   "id": "63833638",
   "metadata": {
    "slideshow": {
     "slide_type": "subslide"
    }
   },
   "outputs": [
    {
     "name": "stdout",
     "output_type": "stream",
     "text": [
      "José Maria da Silva\n"
     ]
    }
   ],
   "source": [
    "print(nome)"
   ]
  },
  {
   "cell_type": "markdown",
   "id": "576a16eb",
   "metadata": {
    "slideshow": {
     "slide_type": "fragment"
    }
   },
   "source": [
    "Já nesse exemplo, ao executar o comando *print(nome)*, o resultado apresentado foi o nome `José Maria da Silva`.\n",
    "\n",
    "A diferença é que no primeiro exemplo pedimos para o Python imprimir o **texto** `'nome'`, enquanto que no segundo pedimos ao Python para imprimir o conteúdo da variável `nome`. A diferença está no apóstrofo (ou, como alguns costumam chamar, aspas simples). A presença de apóstrofos indica um texto, enquanto que a falta deles indica que se deseja imprimir uma variável."
   ]
  },
  {
   "cell_type": "code",
   "execution_count": 32,
   "id": "7e9cee79",
   "metadata": {
    "slideshow": {
     "slide_type": "subslide"
    }
   },
   "outputs": [
    {
     "name": "stdout",
     "output_type": "stream",
     "text": [
      "47\n"
     ]
    }
   ],
   "source": [
    "print(idade)"
   ]
  },
  {
   "cell_type": "code",
   "execution_count": 33,
   "id": "10ac39f0",
   "metadata": {
    "slideshow": {
     "slide_type": "fragment"
    }
   },
   "outputs": [
    {
     "name": "stdout",
     "output_type": "stream",
     "text": [
      "3.14159\n"
     ]
    }
   ],
   "source": [
    "print(pi)"
   ]
  },
  {
   "cell_type": "code",
   "execution_count": 34,
   "id": "6b6dd2ad",
   "metadata": {
    "slideshow": {
     "slide_type": "fragment"
    }
   },
   "outputs": [
    {
     "name": "stdout",
     "output_type": "stream",
     "text": [
      "True\n"
     ]
    }
   ],
   "source": [
    "print(aprovado)"
   ]
  },
  {
   "cell_type": "markdown",
   "id": "d5dbbeb4",
   "metadata": {
    "slideshow": {
     "slide_type": "subslide"
    }
   },
   "source": [
    "Quando usamos o método print com uma variável entre parênteses, ele imprime o conteúdo dessa variável, ou seja, o valor que está armazenado dentro dela.\n",
    "\n",
    "Nós podemos montar mensagens um pouco mais sofisticadas juntando texto e variáveis em um único comando `print()`. Para isso, vamos usar o que chamamos de concatenação, ou seja, vamos juntar texto e variáveis com o símbolo +. Veja os exemplos abaixo."
   ]
  },
  {
   "cell_type": "code",
   "execution_count": 35,
   "id": "12866564",
   "metadata": {
    "slideshow": {
     "slide_type": "subslide"
    }
   },
   "outputs": [
    {
     "name": "stdout",
     "output_type": "stream",
     "text": [
      "Nome: José Maria da Silva\n"
     ]
    }
   ],
   "source": [
    "print('Nome: '+nome)"
   ]
  },
  {
   "cell_type": "code",
   "execution_count": 36,
   "id": "f23bba97",
   "metadata": {
    "slideshow": {
     "slide_type": "fragment"
    }
   },
   "outputs": [
    {
     "name": "stdout",
     "output_type": "stream",
     "text": [
      "Idade: 47\n"
     ]
    }
   ],
   "source": [
    "print(\"Idade: \" + str(idade))"
   ]
  },
  {
   "cell_type": "code",
   "execution_count": 37,
   "id": "35dd0fda",
   "metadata": {
    "slideshow": {
     "slide_type": "fragment"
    }
   },
   "outputs": [
    {
     "name": "stdout",
     "output_type": "stream",
     "text": [
      "Nome: José Maria da Silva\n"
     ]
    }
   ],
   "source": [
    "# Podemos também usar a vírgula ao invés do símbolo +\n",
    "print('Nome:',nome)"
   ]
  },
  {
   "cell_type": "code",
   "execution_count": 38,
   "id": "13865108",
   "metadata": {
    "slideshow": {
     "slide_type": "subslide"
    }
   },
   "outputs": [
    {
     "name": "stdout",
     "output_type": "stream",
     "text": [
      "Meu nome é José Maria da Silva e tenho 47 anos\n"
     ]
    }
   ],
   "source": [
    "# A forma mais utilizada na versão 3 do Python, entretanto, é usar o método format.\n",
    "print('Meu nome é {} e tenho {} anos'.format(nome, idade))"
   ]
  },
  {
   "cell_type": "code",
   "execution_count": 64,
   "id": "d2b2e471",
   "metadata": {
    "slideshow": {
     "slide_type": "subslide"
    }
   },
   "outputs": [
    {
     "name": "stdout",
     "output_type": "stream",
     "text": [
      "texto\n"
     ]
    }
   ],
   "source": [
    "s1, s2 = \"texto\",\"\\ttere\"\n",
    "print(s1)"
   ]
  },
  {
   "cell_type": "code",
   "execution_count": 65,
   "id": "c77e0ee0",
   "metadata": {
    "slideshow": {
     "slide_type": "fragment"
    }
   },
   "outputs": [
    {
     "name": "stdout",
     "output_type": "stream",
     "text": [
      "\ttere\n"
     ]
    }
   ],
   "source": [
    "print(s2)"
   ]
  },
  {
   "cell_type": "markdown",
   "id": "b8f0f928",
   "metadata": {
    "slideshow": {
     "slide_type": "subslide"
    }
   },
   "source": [
    "## Transformando equações matemáticas em expressões aritméticas"
   ]
  },
  {
   "cell_type": "markdown",
   "id": "500ce28c",
   "metadata": {
    "slideshow": {
     "slide_type": "subslide"
    }
   },
   "source": [
    "### Cálculo da área e perímetro do retângulo\n",
    "\n",
    "$area = base \\times altura$\n",
    "\n",
    "$ perímetro = 2 \\times (base + altura)$"
   ]
  },
  {
   "cell_type": "code",
   "execution_count": 42,
   "id": "6296e03e",
   "metadata": {
    "slideshow": {
     "slide_type": "fragment"
    }
   },
   "outputs": [
    {
     "name": "stdout",
     "output_type": "stream",
     "text": [
      "56\n",
      "30\n"
     ]
    }
   ],
   "source": [
    "base = 7\n",
    "altura = 8\n",
    "area = base * altura\n",
    "perimetro = 2 * (base + altura)\n",
    "print(area)\n",
    "print(perimetro)"
   ]
  },
  {
   "cell_type": "markdown",
   "id": "d9d40956",
   "metadata": {
    "slideshow": {
     "slide_type": "subslide"
    }
   },
   "source": [
    "### Cálculo da área e comprimento da circunferência\n",
    "\n",
    "$ area = \\pi \\times raio^{2} $\n",
    "\n",
    "$ comprimento = 2 \\times \\pi * raio $"
   ]
  },
  {
   "cell_type": "code",
   "execution_count": 230,
   "id": "23bfe35c",
   "metadata": {
    "slideshow": {
     "slide_type": "fragment"
    }
   },
   "outputs": [
    {
     "name": "stdout",
     "output_type": "stream",
     "text": [
      "Digite o valor do raio: 7\n",
      "Para o raio 7.0, a área = 153.938 e o comprimento = 43.98226\n"
     ]
    }
   ],
   "source": [
    "raio = float(input(\"Digite o valor do raio: \"))\n",
    "area = 3.14159 * raio ** 2\n",
    "comprimento = 2 * 3.14159 * raio\n",
    "print('Para o raio {}, a área = {:.3f} e o comprimento = {}'.format(raio, area, comprimento))"
   ]
  },
  {
   "cell_type": "markdown",
   "id": "31174cf6",
   "metadata": {
    "slideshow": {
     "slide_type": "subslide"
    }
   },
   "source": [
    "### Cálculo da distância euclidiana entre 2 pontos no plano cartesiano\n",
    "\n",
    "$ distância = \\sqrt{(x_{1}-x_{2})^{2} + (y_{1}-y_{2})^{2}} $"
   ]
  },
  {
   "cell_type": "code",
   "execution_count": 231,
   "id": "24ce21f5",
   "metadata": {
    "slideshow": {
     "slide_type": "fragment"
    }
   },
   "outputs": [
    {
     "name": "stdout",
     "output_type": "stream",
     "text": [
      "A distância entre os pontos(3,4) e (5,6) = 2.83.\n"
     ]
    }
   ],
   "source": [
    "# Calculando a distância entre os pontos (3,4) e (5,6)\n",
    "x1 = 3\n",
    "y1 = 4\n",
    "x2 = 5\n",
    "y2 = 6\n",
    "dist = ((x1-x2)**2 + (y1-y2)**2)**(1/2)\n",
    "print('A distância entre os pontos({},{}) e ({},{}) = {:.2f}.'.format(x1, y1, x2, y2, dist))"
   ]
  },
  {
   "cell_type": "markdown",
   "id": "7467a5d6",
   "metadata": {
    "slideshow": {
     "slide_type": "subslide"
    }
   },
   "source": [
    "### Cálculo do delta e das raízes de uma equação do segundo grau\n",
    "\n",
    "$ \\Delta = b^{2} - 4ac $\n",
    "\n",
    "$ x = \\frac{-b \\pm \\sqrt{\\Delta}}{2a} $"
   ]
  },
  {
   "cell_type": "code",
   "execution_count": 45,
   "id": "ff02089c",
   "metadata": {
    "slideshow": {
     "slide_type": "fragment"
    }
   },
   "outputs": [
    {
     "name": "stdout",
     "output_type": "stream",
     "text": [
      "Delta = 1, x1 = 3.0 e x2 = 2.0\n"
     ]
    }
   ],
   "source": [
    "# Calculando o Delta e raízes x1 e x2 para a equação y = x^2 - 5x + 6\n",
    "a = 1\n",
    "b = -5\n",
    "c = 6\n",
    "delta = b**2 - 4*a*c\n",
    "x1 = (-b+delta**(1/2))/(2*a)\n",
    "x2 = (-b-delta**(1/2))/(2*a)\n",
    "print('Delta = {}, x1 = {} e x2 = {}'.format(delta, x1, x2))"
   ]
  },
  {
   "cell_type": "markdown",
   "id": "10344a9b",
   "metadata": {
    "slideshow": {
     "slide_type": "subslide"
    }
   },
   "source": [
    "## Operadores de Bit-a-Bit\n",
    "\n",
    "\n",
    "|Operador\t|Nome\t|Exemplo\n",
    "|:---|:---|:---|\n",
    "|&\t|Binary AND\t|Define o bit como 1 se ambos os bits forem 1\n",
    "|\\|\t|Binary OR\t|Define o bit como 1 se pelo menos um bit for 1\n",
    "|^\t|Binary XOR\t|Define o bit como 1 se apenas um dos bits for 1\n",
    "|~\t|Binary Ones Complement\t|Inverte todos os bits\n",
    "|<<\t|Binary Left Shift\t|Desloca os bits a esqueda\n",
    "|>>\t|Binary Right Shift\t|Desloca os bits a direita\n",
    "\n",
    "\n",
    "```\n",
    "a = 0011 1100\n",
    "\n",
    "b = 0000 1101\n",
    "```"
   ]
  },
  {
   "cell_type": "code",
   "execution_count": 46,
   "id": "40aec058",
   "metadata": {
    "slideshow": {
     "slide_type": "subslide"
    }
   },
   "outputs": [],
   "source": [
    "a = 60\n",
    "b = 13"
   ]
  },
  {
   "cell_type": "code",
   "execution_count": 47,
   "id": "b58ba900",
   "metadata": {
    "slideshow": {
     "slide_type": "fragment"
    }
   },
   "outputs": [
    {
     "name": "stdout",
     "output_type": "stream",
     "text": [
      "a & b :  12\n"
     ]
    }
   ],
   "source": [
    "# Binary AND\n",
    "c = a & b        # 12 = 0000 1100\n",
    "print (\"a & b : \", c)"
   ]
  },
  {
   "cell_type": "code",
   "execution_count": 48,
   "id": "5adfdea1",
   "metadata": {
    "slideshow": {
     "slide_type": "fragment"
    }
   },
   "outputs": [
    {
     "name": "stdout",
     "output_type": "stream",
     "text": [
      "a | b :  61\n"
     ]
    }
   ],
   "source": [
    "# Binary OR\n",
    "c = a | b        # 61 = 0011 1101\n",
    "print (\"a | b : \", c)"
   ]
  },
  {
   "cell_type": "code",
   "execution_count": 49,
   "id": "209f4c5b",
   "metadata": {
    "slideshow": {
     "slide_type": "subslide"
    }
   },
   "outputs": [
    {
     "name": "stdout",
     "output_type": "stream",
     "text": [
      "a ^ b :  49\n"
     ]
    }
   ],
   "source": [
    "# Binary XOR\n",
    "c = a ^ b        # 49 = 0011 0001\n",
    "print (\"a ^ b : \", c)"
   ]
  },
  {
   "cell_type": "code",
   "execution_count": 50,
   "id": "aa5bee14",
   "metadata": {
    "slideshow": {
     "slide_type": "fragment"
    }
   },
   "outputs": [
    {
     "name": "stdout",
     "output_type": "stream",
     "text": [
      "~a :  -61\n"
     ]
    }
   ],
   "source": [
    "# Binary Ones Complement\n",
    "c = ~a;           # -61 = 1100 0011\n",
    "print (\"~a : \", c)"
   ]
  },
  {
   "cell_type": "code",
   "execution_count": 51,
   "id": "c26588f5",
   "metadata": {
    "slideshow": {
     "slide_type": "fragment"
    }
   },
   "outputs": [
    {
     "name": "stdout",
     "output_type": "stream",
     "text": [
      "a << 2 :  240\n"
     ]
    }
   ],
   "source": [
    "# Binary Left Shift\n",
    "c = a << 2;       # 240 = 1111 0000\n",
    "print (\"a << 2 : \", c)"
   ]
  },
  {
   "cell_type": "code",
   "execution_count": 52,
   "id": "b41a524d",
   "metadata": {
    "slideshow": {
     "slide_type": "fragment"
    }
   },
   "outputs": [
    {
     "name": "stdout",
     "output_type": "stream",
     "text": [
      "a >> 2 :  3\n"
     ]
    }
   ],
   "source": [
    "# Binary Right Shift\n",
    "c = a >> 4;       # 15 = 0000 0011\n",
    "print (\"a >> 2 : \", c)"
   ]
  },
  {
   "cell_type": "markdown",
   "id": "74dc2781",
   "metadata": {
    "slideshow": {
     "slide_type": "slide"
    }
   },
   "source": [
    "# 2. Estrutura Condicional"
   ]
  },
  {
   "cell_type": "markdown",
   "id": "bfc8eb0d",
   "metadata": {
    "slideshow": {
     "slide_type": "subslide"
    }
   },
   "source": [
    "## Operadores Relacionais\n",
    "\n",
    "| Operador | Significado   | Exemplo                    |\n",
    "|:---|:---|:---|\n",
    "|     ==    | Igual a        | a == b                  |\n",
    "|     !=    | Diferente     | a != b                  |\n",
    "|     >    | Maior que | a > b                  |\n",
    "|     >=   | Maior ou igual que       | a >= b                  |\n",
    "|    <    | Menor     | a < b                 |\n",
    "|     <=    | Menor ou igual que         | a <= b                |\n"
   ]
  },
  {
   "cell_type": "code",
   "execution_count": 53,
   "id": "53019479",
   "metadata": {
    "slideshow": {
     "slide_type": "subslide"
    }
   },
   "outputs": [],
   "source": [
    "a, b, c, d = 10,15,0,-4"
   ]
  },
  {
   "cell_type": "code",
   "execution_count": 54,
   "id": "9386a874",
   "metadata": {
    "slideshow": {
     "slide_type": "fragment"
    }
   },
   "outputs": [
    {
     "data": {
      "text/plain": [
       "False"
      ]
     },
     "execution_count": 54,
     "metadata": {},
     "output_type": "execute_result"
    }
   ],
   "source": [
    "a == b"
   ]
  },
  {
   "cell_type": "code",
   "execution_count": 55,
   "id": "27b0d105",
   "metadata": {
    "slideshow": {
     "slide_type": "fragment"
    }
   },
   "outputs": [
    {
     "data": {
      "text/plain": [
       "True"
      ]
     },
     "execution_count": 55,
     "metadata": {},
     "output_type": "execute_result"
    }
   ],
   "source": [
    "a == 10"
   ]
  },
  {
   "cell_type": "code",
   "execution_count": 56,
   "id": "8e0b9296",
   "metadata": {
    "slideshow": {
     "slide_type": "fragment"
    }
   },
   "outputs": [
    {
     "data": {
      "text/plain": [
       "False"
      ]
     },
     "execution_count": 56,
     "metadata": {},
     "output_type": "execute_result"
    }
   ],
   "source": [
    "c != 0"
   ]
  },
  {
   "cell_type": "code",
   "execution_count": 57,
   "id": "0ea049ec",
   "metadata": {
    "slideshow": {
     "slide_type": "fragment"
    }
   },
   "outputs": [
    {
     "data": {
      "text/plain": [
       "True"
      ]
     },
     "execution_count": 57,
     "metadata": {},
     "output_type": "execute_result"
    }
   ],
   "source": [
    "d != b"
   ]
  },
  {
   "cell_type": "code",
   "execution_count": 58,
   "id": "1d3605df",
   "metadata": {
    "slideshow": {
     "slide_type": "subslide"
    }
   },
   "outputs": [
    {
     "data": {
      "text/plain": [
       "True"
      ]
     },
     "execution_count": 58,
     "metadata": {},
     "output_type": "execute_result"
    }
   ],
   "source": [
    "b > d"
   ]
  },
  {
   "cell_type": "code",
   "execution_count": 59,
   "id": "b6815b8c",
   "metadata": {
    "slideshow": {
     "slide_type": "fragment"
    }
   },
   "outputs": [
    {
     "data": {
      "text/plain": [
       "False"
      ]
     },
     "execution_count": 59,
     "metadata": {},
     "output_type": "execute_result"
    }
   ],
   "source": [
    "b > 15"
   ]
  },
  {
   "cell_type": "code",
   "execution_count": 60,
   "id": "f6fb08e3",
   "metadata": {
    "slideshow": {
     "slide_type": "fragment"
    }
   },
   "outputs": [
    {
     "data": {
      "text/plain": [
       "True"
      ]
     },
     "execution_count": 60,
     "metadata": {},
     "output_type": "execute_result"
    }
   ],
   "source": [
    "b >= 15"
   ]
  },
  {
   "cell_type": "code",
   "execution_count": 61,
   "id": "bcff5d12",
   "metadata": {
    "slideshow": {
     "slide_type": "fragment"
    }
   },
   "outputs": [
    {
     "data": {
      "text/plain": [
       "True"
      ]
     },
     "execution_count": 61,
     "metadata": {},
     "output_type": "execute_result"
    }
   ],
   "source": [
    "c < a"
   ]
  },
  {
   "cell_type": "markdown",
   "id": "637cbd05",
   "metadata": {
    "slideshow": {
     "slide_type": "subslide"
    }
   },
   "source": [
    "## Operadores Lógicos\n",
    "\n",
    "### AND\n",
    "\n",
    "|OPERANDO 1\t|OPERANDO 2\t|OP1 E OP2\n",
    "|:---|:---|:---|\n",
    "|0 (F)\t|0 (F)\t|0 E 0 = 0 (F)\n",
    "|0 (F)\t|1 (V)\t|0 E 1 = 0 (F)\n",
    "|1 (V)\t|0 (F)\t|1 E 0 = 0 (F)\n",
    "|1 (V)\t|1 (V)\t|1 E 1 = 1 (V)"
   ]
  },
  {
   "cell_type": "code",
   "execution_count": 66,
   "id": "b74eef37",
   "metadata": {
    "slideshow": {
     "slide_type": "subslide"
    }
   },
   "outputs": [
    {
     "data": {
      "text/plain": [
       "False"
      ]
     },
     "execution_count": 66,
     "metadata": {},
     "output_type": "execute_result"
    }
   ],
   "source": [
    "(c+b < a) and (d < 0)"
   ]
  },
  {
   "cell_type": "code",
   "execution_count": 67,
   "id": "3853a32f",
   "metadata": {
    "slideshow": {
     "slide_type": "fragment"
    }
   },
   "outputs": [
    {
     "data": {
      "text/plain": [
       "False"
      ]
     },
     "execution_count": 67,
     "metadata": {},
     "output_type": "execute_result"
    }
   ],
   "source": [
    "(c < a) and (a == b)"
   ]
  },
  {
   "cell_type": "markdown",
   "id": "a35aaf9b",
   "metadata": {
    "slideshow": {
     "slide_type": "subslide"
    }
   },
   "source": [
    "### OR\n",
    "\n",
    "|OPERANDO 1\t|OPERANDO 2\t|OP1 OU OP2\n",
    "|:---|:---|:---|\n",
    "|0 (F)\t|0 (F)\t|0 OU 0 = 0 (F)\n",
    "|0 (F)\t|1 (V)\t|0 OU 1 = 1 (V)\n",
    "|1 (V)\t|0 (F)\t|1 OU 0 = 1 (V)\n",
    "|1 (V)\t|1 (V)\t|1 OU 1 = 1 (V)"
   ]
  },
  {
   "cell_type": "code",
   "execution_count": 68,
   "id": "dcea82cc",
   "metadata": {
    "slideshow": {
     "slide_type": "fragment"
    }
   },
   "outputs": [
    {
     "data": {
      "text/plain": [
       "True"
      ]
     },
     "execution_count": 68,
     "metadata": {},
     "output_type": "execute_result"
    }
   ],
   "source": [
    "(c < a) or (a == b)"
   ]
  },
  {
   "cell_type": "markdown",
   "id": "fdd5ed05",
   "metadata": {
    "slideshow": {
     "slide_type": "subslide"
    }
   },
   "source": [
    "### NOT\n",
    "\n",
    "|OPERANDO 1\t|NOT(OP1)|\n",
    "|:---|:---|\n",
    "|0 (F)\t|NOT(0) = 1 (V) \n",
    "|1 (V)\t|NOT(1) = 0 (F) "
   ]
  },
  {
   "cell_type": "code",
   "execution_count": 69,
   "id": "eabbdfa9",
   "metadata": {
    "slideshow": {
     "slide_type": "fragment"
    }
   },
   "outputs": [
    {
     "data": {
      "text/plain": [
       "True"
      ]
     },
     "execution_count": 69,
     "metadata": {},
     "output_type": "execute_result"
    }
   ],
   "source": [
    "not(c > 10)"
   ]
  },
  {
   "cell_type": "markdown",
   "id": "fa034823",
   "metadata": {
    "slideshow": {
     "slide_type": "subslide"
    }
   },
   "source": [
    "## Precedência de Operadores\n",
    "\n",
    "| Ordem | Operador             | Descrição                                        |\n",
    "|-------|----------------------|--------------------------------------------------|\n",
    "| 1     | **                   | Exponenciação                                    |\n",
    "| 2     | ~ + -                | Complemento, mais e menos unário                 |\n",
    "| 3     | * / % //             | Multiplicação, divisão, módulo e divisão inteira |\n",
    "| 4     | + -                  | Adição e Subtração                               |\n",
    "| 5     | >> <<                | Deslocamento a direita e a esquerda              |\n",
    "| 6     | &                    | AND                                              |\n",
    "| 7     | ^ \\|                 | XOR e OR                                         |\n",
    "| 8     | <= < > >=            | Operadores Relacionais de COmparação             |\n",
    "| 9     | == !=                | Igual a e Diferente                              |\n",
    "| 10    | = %= /= += -= *= **= | Operadores de Atribuição                         |"
   ]
  },
  {
   "cell_type": "markdown",
   "id": "4e4dc022",
   "metadata": {
    "slideshow": {
     "slide_type": "subslide"
    }
   },
   "source": [
    "## Estrutura condicional - comando if\n",
    "\n",
    "#### 1ª forma\n",
    "```\n",
    "if (condição):\n",
    "    bloco_de_comandos\n",
    "```"
   ]
  },
  {
   "cell_type": "code",
   "execution_count": 234,
   "id": "f70a3bef",
   "metadata": {
    "slideshow": {
     "slide_type": "subslide"
    }
   },
   "outputs": [
    {
     "name": "stdout",
     "output_type": "stream",
     "text": [
      "Digite o valor de x: 5\n",
      "Digite o valor de y: 1\n"
     ]
    }
   ],
   "source": [
    "x = int(input(\"Digite o valor de x: \"))\n",
    "y = int(input(\"Digite o valor de y: \"))\n",
    "if x < y:\n",
    "    print(\"{} é menor que {}.\".format(x, y))"
   ]
  },
  {
   "cell_type": "markdown",
   "id": "30e3c772",
   "metadata": {
    "slideshow": {
     "slide_type": "subslide"
    }
   },
   "source": [
    "#### 2ª forma\n",
    "```\n",
    "if (condição):\n",
    "    bloco_de_comandos_1\n",
    "else:\n",
    "    bloco_de_comandos_2\n",
    "```"
   ]
  },
  {
   "cell_type": "code",
   "execution_count": 236,
   "id": "119e1352",
   "metadata": {
    "slideshow": {
     "slide_type": "subslide"
    }
   },
   "outputs": [
    {
     "name": "stdout",
     "output_type": "stream",
     "text": [
      "Digite o valor de x: 5\n",
      "Digite o valor de y: 1\n",
      "5 é maior ou igual a 1.\n"
     ]
    }
   ],
   "source": [
    "x = int(input(\"Digite o valor de x: \"))\n",
    "y = int(input(\"Digite o valor de y: \"))\n",
    "if x < y:\n",
    "    print(\"{} é menor que {}.\".format(x, y))\n",
    "else:\n",
    "    print(\"{} é maior ou igual a {}.\".format(x, y))"
   ]
  },
  {
   "cell_type": "markdown",
   "id": "9153e912",
   "metadata": {
    "slideshow": {
     "slide_type": "subslide"
    }
   },
   "source": [
    "#### 3ª forma\n",
    "```\n",
    "if (condição_1):\n",
    "    bloco_de_comandos_1\n",
    "elif (condição_2):\n",
    "    bloco_de_comandos_2\n",
    "...\n",
    "elif (condição_n):\n",
    "    bloco_de_comandos_n\n",
    "```"
   ]
  },
  {
   "cell_type": "code",
   "execution_count": 237,
   "id": "d02f2495",
   "metadata": {
    "slideshow": {
     "slide_type": "subslide"
    }
   },
   "outputs": [
    {
     "name": "stdout",
     "output_type": "stream",
     "text": [
      "Digite o valor de x: 2\n",
      "Digite o valor de y: 7\n",
      "2 é menor que 7.\n"
     ]
    }
   ],
   "source": [
    "x = int(input(\"Digite o valor de x: \"))\n",
    "y = int(input(\"Digite o valor de y: \"))\n",
    "if x < y:\n",
    "    print(\"{} é menor que {}.\".format(x, y))\n",
    "elif x == y:\n",
    "    print(\"{} é igual a {}.\".format(x, y))\n",
    "elif x > y:\n",
    "    print(\"{} é maior que {}.\".format(x, y))"
   ]
  },
  {
   "cell_type": "markdown",
   "id": "739edfbe",
   "metadata": {
    "slideshow": {
     "slide_type": "subslide"
    }
   },
   "source": [
    "#### 4ª forma\n",
    "```\n",
    "if (condição_1):\n",
    "    bloco_de_comandos_1\n",
    "elif (condição_2):\n",
    "    bloco_de_comandos_2\n",
    "...\n",
    "elif (condição_n):\n",
    "    bloco_de_comandos_n\n",
    "else:\n",
    "    bloco_de_comandos_else\n",
    "```"
   ]
  },
  {
   "cell_type": "code",
   "execution_count": 73,
   "id": "a85f9693",
   "metadata": {
    "slideshow": {
     "slide_type": "subslide"
    }
   },
   "outputs": [
    {
     "name": "stdout",
     "output_type": "stream",
     "text": [
      "Digite o valor de x: 10\n",
      "Digite o valor de y: 5\n",
      "10 é maior que 5.\n"
     ]
    }
   ],
   "source": [
    "x = int(input(\"Digite o valor de x: \"))\n",
    "y = int(input(\"Digite o valor de y: \"))\n",
    "if x < y:\n",
    "    print(\"{} é menor que {}.\".format(x, y))\n",
    "elif x == y:\n",
    "    print(\"{} é igual a {}.\".format(x, y))\n",
    "else:\n",
    "    print(\"{} é maior que {}.\".format(x, y))"
   ]
  },
  {
   "cell_type": "markdown",
   "id": "3507a22c",
   "metadata": {
    "slideshow": {
     "slide_type": "slide"
    }
   },
   "source": [
    "# 3. Listas"
   ]
  },
  {
   "cell_type": "markdown",
   "id": "b252f338",
   "metadata": {
    "slideshow": {
     "slide_type": "subslide"
    }
   },
   "source": [
    "## Listas\n",
    "\n",
    "* Lista é uma coleção de elementos \n",
    "* Cada elemento possui uma posição dentro de uma lista. Essa posição é chamada índice\n",
    "* O primeiro elemento fica armazenado na posição *0*, enquanto o último elemento fica armazenado na posição *n-1* (onde *n* é a quantidade de elementos da lista)"
   ]
  },
  {
   "cell_type": "markdown",
   "id": "5fae5f88",
   "metadata": {
    "slideshow": {
     "slide_type": "subslide"
    }
   },
   "source": [
    "1. Como criar uma lista\n",
    "2. Como acessar elementos em uma lista\n",
    "3. Como modificar elementos de uma lista\n",
    "4. Principais métodos de um objeto lista\n",
    "5. Funções aplicáveis a uma lista"
   ]
  },
  {
   "cell_type": "markdown",
   "id": "a708d875",
   "metadata": {
    "slideshow": {
     "slide_type": "subslide"
    }
   },
   "source": [
    "## 3.1. Como criar uma lista"
   ]
  },
  {
   "cell_type": "code",
   "execution_count": 74,
   "id": "af0f2d36",
   "metadata": {
    "slideshow": {
     "slide_type": "fragment"
    }
   },
   "outputs": [],
   "source": [
    "# Criando uma lista vazia\n",
    "lista_vazia = []\n",
    "lista_vazia2 = list()"
   ]
  },
  {
   "cell_type": "code",
   "execution_count": 75,
   "id": "f15e910f",
   "metadata": {
    "slideshow": {
     "slide_type": "fragment"
    }
   },
   "outputs": [
    {
     "data": {
      "text/plain": [
       "list"
      ]
     },
     "execution_count": 75,
     "metadata": {},
     "output_type": "execute_result"
    }
   ],
   "source": [
    "# Visualizando o tipo\n",
    "type(lista_vazia)"
   ]
  },
  {
   "cell_type": "code",
   "execution_count": 76,
   "id": "b20c2f8d",
   "metadata": {
    "slideshow": {
     "slide_type": "fragment"
    }
   },
   "outputs": [
    {
     "data": {
      "text/plain": [
       "list"
      ]
     },
     "execution_count": 76,
     "metadata": {},
     "output_type": "execute_result"
    }
   ],
   "source": [
    "# Visualizando o tipo\n",
    "type(lista_vazia2)"
   ]
  },
  {
   "cell_type": "code",
   "execution_count": 77,
   "id": "fe9e66a1",
   "metadata": {
    "slideshow": {
     "slide_type": "fragment"
    }
   },
   "outputs": [
    {
     "data": {
      "text/plain": [
       "0"
      ]
     },
     "execution_count": 77,
     "metadata": {},
     "output_type": "execute_result"
    }
   ],
   "source": [
    "# Verificando o tamanho da lista\n",
    "len(lista_vazia)"
   ]
  },
  {
   "cell_type": "code",
   "execution_count": 90,
   "id": "e9741b2f",
   "metadata": {
    "slideshow": {
     "slide_type": "subslide"
    }
   },
   "outputs": [],
   "source": [
    "# Criando listas com elementos\n",
    "lista = [23, 56, 2, -3, 10, 2, 18, 0, 5]\n",
    "lista_reais = [1.5, -2.13, 5.14]\n",
    "lista_strings = [\"Maria\", \"Python\", \"PUC Campinas\", \"Ciência de Dados e Big Data\"]\n",
    "lista_booleanos = [True, True, False, True]\n",
    "lista_misturada = [1, 2, 3.14159, \"teste\"]\n",
    "lista_misturada2 = [1, 2, 3.14159, \"teste\", [1, \"A\", 1.0]]\n",
    "listas_multiplas = [ [1, 2, 3], [4, 5, 6], [7, 8, 9]]"
   ]
  },
  {
   "cell_type": "code",
   "execution_count": 79,
   "id": "1e4a3170",
   "metadata": {
    "slideshow": {
     "slide_type": "subslide"
    }
   },
   "outputs": [
    {
     "data": {
      "text/plain": [
       "3"
      ]
     },
     "execution_count": 79,
     "metadata": {},
     "output_type": "execute_result"
    }
   ],
   "source": [
    "len(lista_reais)"
   ]
  },
  {
   "cell_type": "code",
   "execution_count": 80,
   "id": "19d5ad80",
   "metadata": {
    "slideshow": {
     "slide_type": "fragment"
    }
   },
   "outputs": [
    {
     "data": {
      "text/plain": [
       "5.14"
      ]
     },
     "execution_count": 80,
     "metadata": {},
     "output_type": "execute_result"
    }
   ],
   "source": [
    "lista_reais[len(lista_reais)-1]"
   ]
  },
  {
   "cell_type": "code",
   "execution_count": 81,
   "id": "44184a91",
   "metadata": {
    "slideshow": {
     "slide_type": "fragment"
    }
   },
   "outputs": [
    {
     "data": {
      "text/plain": [
       "[23, 56, 2, -3, 10, 2, 18, 0, 5]"
      ]
     },
     "execution_count": 81,
     "metadata": {},
     "output_type": "execute_result"
    }
   ],
   "source": [
    "# Visualizando a lista\n",
    "lista"
   ]
  },
  {
   "cell_type": "code",
   "execution_count": 82,
   "id": "abc2b620",
   "metadata": {
    "slideshow": {
     "slide_type": "fragment"
    }
   },
   "outputs": [
    {
     "data": {
      "text/plain": [
       "[1.5, -2.13, 5.14]"
      ]
     },
     "execution_count": 82,
     "metadata": {},
     "output_type": "execute_result"
    }
   ],
   "source": [
    "lista_reais"
   ]
  },
  {
   "cell_type": "code",
   "execution_count": 91,
   "id": "4807ab16",
   "metadata": {
    "slideshow": {
     "slide_type": "fragment"
    }
   },
   "outputs": [
    {
     "data": {
      "text/plain": [
       "['Maria', 'Python', 'PUC Campinas', 'Ciência de Dados e Big Data']"
      ]
     },
     "execution_count": 91,
     "metadata": {},
     "output_type": "execute_result"
    }
   ],
   "source": [
    "lista_strings"
   ]
  },
  {
   "cell_type": "markdown",
   "id": "9db5fccf",
   "metadata": {
    "slideshow": {
     "slide_type": "subslide"
    }
   },
   "source": [
    "## 3.2. Como acessar elementos em uma lista"
   ]
  },
  {
   "cell_type": "code",
   "execution_count": 84,
   "id": "b3a94d7c",
   "metadata": {
    "slideshow": {
     "slide_type": "subslide"
    }
   },
   "outputs": [
    {
     "data": {
      "text/plain": [
       "[23, 56, 2, -3, 10, 2, 18, 0, 5]"
      ]
     },
     "execution_count": 84,
     "metadata": {},
     "output_type": "execute_result"
    }
   ],
   "source": [
    "lista"
   ]
  },
  {
   "cell_type": "code",
   "execution_count": 85,
   "id": "6ad662fa",
   "metadata": {
    "slideshow": {
     "slide_type": "fragment"
    }
   },
   "outputs": [
    {
     "data": {
      "text/plain": [
       "23"
      ]
     },
     "execution_count": 85,
     "metadata": {},
     "output_type": "execute_result"
    }
   ],
   "source": [
    "# Acessando o índice 0 (primeira posição)\n",
    "lista[0]"
   ]
  },
  {
   "cell_type": "code",
   "execution_count": 86,
   "id": "67d11f9c",
   "metadata": {
    "slideshow": {
     "slide_type": "fragment"
    }
   },
   "outputs": [
    {
     "data": {
      "text/plain": [
       "2"
      ]
     },
     "execution_count": 86,
     "metadata": {},
     "output_type": "execute_result"
    }
   ],
   "source": [
    "# Acessando o índice 2 (terceira posição)\n",
    "lista[2]"
   ]
  },
  {
   "cell_type": "code",
   "execution_count": 92,
   "id": "683868b4",
   "metadata": {
    "slideshow": {
     "slide_type": "subslide"
    }
   },
   "outputs": [
    {
     "data": {
      "text/plain": [
       "['Maria', 'Python', 'PUC Campinas', 'Ciência de Dados e Big Data']"
      ]
     },
     "execution_count": 92,
     "metadata": {},
     "output_type": "execute_result"
    }
   ],
   "source": [
    "lista_strings"
   ]
  },
  {
   "cell_type": "code",
   "execution_count": 93,
   "id": "3fff79d3",
   "metadata": {
    "slideshow": {
     "slide_type": "fragment"
    }
   },
   "outputs": [
    {
     "data": {
      "text/plain": [
       "'Maria'"
      ]
     },
     "execution_count": 93,
     "metadata": {},
     "output_type": "execute_result"
    }
   ],
   "source": [
    "# Acessando o índice 0\n",
    "lista_strings[0]"
   ]
  },
  {
   "cell_type": "code",
   "execution_count": 94,
   "id": "ba3b3494",
   "metadata": {
    "slideshow": {
     "slide_type": "subslide"
    }
   },
   "outputs": [
    {
     "data": {
      "text/plain": [
       "[[1, 2, 3], [4, 5, 6], [7, 8, 9]]"
      ]
     },
     "execution_count": 94,
     "metadata": {},
     "output_type": "execute_result"
    }
   ],
   "source": [
    "listas_multiplas"
   ]
  },
  {
   "cell_type": "code",
   "execution_count": 97,
   "id": "ec9eba69",
   "metadata": {
    "slideshow": {
     "slide_type": "fragment"
    }
   },
   "outputs": [
    {
     "data": {
      "text/plain": [
       "7"
      ]
     },
     "execution_count": 97,
     "metadata": {},
     "output_type": "execute_result"
    }
   ],
   "source": [
    "listas_multiplas[2][0]"
   ]
  },
  {
   "cell_type": "code",
   "execution_count": 98,
   "id": "9a601d79",
   "metadata": {
    "slideshow": {
     "slide_type": "fragment"
    }
   },
   "outputs": [
    {
     "data": {
      "text/plain": [
       "5"
      ]
     },
     "execution_count": 98,
     "metadata": {},
     "output_type": "execute_result"
    }
   ],
   "source": [
    "listas_multiplas[1][1]"
   ]
  },
  {
   "cell_type": "code",
   "execution_count": 99,
   "id": "38346113",
   "metadata": {
    "slideshow": {
     "slide_type": "subslide"
    }
   },
   "outputs": [
    {
     "data": {
      "text/plain": [
       "[1, 2, 3.14159, 'teste', [1, 'A', 1.0]]"
      ]
     },
     "execution_count": 99,
     "metadata": {},
     "output_type": "execute_result"
    }
   ],
   "source": [
    "lista_misturada2"
   ]
  },
  {
   "cell_type": "code",
   "execution_count": 100,
   "id": "f5a2caec",
   "metadata": {
    "slideshow": {
     "slide_type": "fragment"
    }
   },
   "outputs": [
    {
     "data": {
      "text/plain": [
       "'A'"
      ]
     },
     "execution_count": 100,
     "metadata": {},
     "output_type": "execute_result"
    }
   ],
   "source": [
    "# Acessando o índice 4 nos foi retornado uma lista com 3 elementos. \n",
    "# Agora queremos acessar o índice 1 dessa lista interna\n",
    "lista_misturada2[4][1]"
   ]
  },
  {
   "cell_type": "code",
   "execution_count": 101,
   "id": "d27f4dd2",
   "metadata": {
    "slideshow": {
     "slide_type": "subslide"
    }
   },
   "outputs": [
    {
     "ename": "IndexError",
     "evalue": "list index out of range",
     "output_type": "error",
     "traceback": [
      "\u001b[0;31m---------------------------------------------------------------------------\u001b[0m",
      "\u001b[0;31mIndexError\u001b[0m                                Traceback (most recent call last)",
      "Input \u001b[0;32mIn [101]\u001b[0m, in \u001b[0;36m<cell line: 2>\u001b[0;34m()\u001b[0m\n\u001b[1;32m      1\u001b[0m \u001b[38;5;66;03m# Acessando um índice inexistente\u001b[39;00m\n\u001b[0;32m----> 2\u001b[0m \u001b[43mlista\u001b[49m\u001b[43m[\u001b[49m\u001b[38;5;241;43m20\u001b[39;49m\u001b[43m]\u001b[49m\n",
      "\u001b[0;31mIndexError\u001b[0m: list index out of range"
     ]
    }
   ],
   "source": [
    "# Acessando um índice inexistente\n",
    "lista[20]"
   ]
  },
  {
   "cell_type": "markdown",
   "id": "667dae84",
   "metadata": {
    "slideshow": {
     "slide_type": "subslide"
    }
   },
   "source": [
    "## 3.3. Como alterar elementos de uma lista"
   ]
  },
  {
   "cell_type": "code",
   "execution_count": 102,
   "id": "035a9bfb",
   "metadata": {
    "slideshow": {
     "slide_type": "subslide"
    }
   },
   "outputs": [
    {
     "data": {
      "text/plain": [
       "[23, 56, 2, -3, 10, 2, 18, 0, 5]"
      ]
     },
     "execution_count": 102,
     "metadata": {},
     "output_type": "execute_result"
    }
   ],
   "source": [
    "# Visualizando a lista\n",
    "lista"
   ]
  },
  {
   "cell_type": "code",
   "execution_count": 107,
   "id": "5ff99177",
   "metadata": {
    "slideshow": {
     "slide_type": "fragment"
    }
   },
   "outputs": [],
   "source": [
    "# Alterando o elemento do índice 1 de 56 para 17\n",
    "lista[1] = 17"
   ]
  },
  {
   "cell_type": "code",
   "execution_count": 108,
   "id": "665bfdb8",
   "metadata": {
    "slideshow": {
     "slide_type": "fragment"
    }
   },
   "outputs": [
    {
     "data": {
      "text/plain": [
       "[23, 17, 41, -3, 10, 2, 18, 0, 5]"
      ]
     },
     "execution_count": 108,
     "metadata": {},
     "output_type": "execute_result"
    }
   ],
   "source": [
    "# Visualizando a alteração realizada\n",
    "lista"
   ]
  },
  {
   "cell_type": "code",
   "execution_count": 109,
   "id": "ab3fe4a2",
   "metadata": {
    "slideshow": {
     "slide_type": "subslide"
    }
   },
   "outputs": [],
   "source": [
    "# Modificando o elemento do índice 2. Ele recebe a soma dos dois elementos anteriores\n",
    "lista[2] = lista[0] + lista[1]"
   ]
  },
  {
   "cell_type": "code",
   "execution_count": 110,
   "id": "4c54fb24",
   "metadata": {
    "slideshow": {
     "slide_type": "fragment"
    }
   },
   "outputs": [
    {
     "data": {
      "text/plain": [
       "[23, 17, 40, -3, 10, 2, 18, 0, 5]"
      ]
     },
     "execution_count": 110,
     "metadata": {},
     "output_type": "execute_result"
    }
   ],
   "source": [
    "# Visualizando a alteração realizada\n",
    "lista"
   ]
  },
  {
   "cell_type": "code",
   "execution_count": 111,
   "id": "2ff87875",
   "metadata": {
    "slideshow": {
     "slide_type": "subslide"
    }
   },
   "outputs": [
    {
     "ename": "TypeError",
     "evalue": "unsupported operand type(s) for +: 'int' and 'str'",
     "output_type": "error",
     "traceback": [
      "\u001b[0;31m---------------------------------------------------------------------------\u001b[0m",
      "\u001b[0;31mTypeError\u001b[0m                                 Traceback (most recent call last)",
      "Input \u001b[0;32mIn [111]\u001b[0m, in \u001b[0;36m<cell line: 2>\u001b[0;34m()\u001b[0m\n\u001b[1;32m      1\u001b[0m listaTeste \u001b[38;5;241m=\u001b[39m [\u001b[38;5;241m10\u001b[39m,\u001b[38;5;241m3.1415\u001b[39m,\u001b[38;5;124m\"\u001b[39m\u001b[38;5;124mteste\u001b[39m\u001b[38;5;124m\"\u001b[39m,\u001b[38;5;241m0\u001b[39m]\n\u001b[0;32m----> 2\u001b[0m listaTeste[\u001b[38;5;241m3\u001b[39m] \u001b[38;5;241m=\u001b[39m \u001b[43mlistaTeste\u001b[49m\u001b[43m[\u001b[49m\u001b[38;5;241;43m0\u001b[39;49m\u001b[43m]\u001b[49m\u001b[43m \u001b[49m\u001b[38;5;241;43m+\u001b[39;49m\u001b[43m \u001b[49m\u001b[43mlistaTeste\u001b[49m\u001b[43m[\u001b[49m\u001b[38;5;241;43m2\u001b[39;49m\u001b[43m]\u001b[49m\n\u001b[1;32m      3\u001b[0m listaTeste\n",
      "\u001b[0;31mTypeError\u001b[0m: unsupported operand type(s) for +: 'int' and 'str'"
     ]
    }
   ],
   "source": [
    "listaTeste = [10,3.1415,\"teste\",0]\n",
    "listaTeste[3] = listaTeste[0] + listaTeste[2]\n",
    "listaTeste"
   ]
  },
  {
   "cell_type": "code",
   "execution_count": 113,
   "id": "237f8205",
   "metadata": {
    "slideshow": {
     "slide_type": "fragment"
    }
   },
   "outputs": [
    {
     "data": {
      "text/plain": [
       "[10, 3.1415, 'teste', 13.1415]"
      ]
     },
     "execution_count": 113,
     "metadata": {},
     "output_type": "execute_result"
    }
   ],
   "source": [
    "listaTeste[3] = listaTeste[0] + listaTeste[1]\n",
    "listaTeste"
   ]
  },
  {
   "cell_type": "code",
   "execution_count": 114,
   "id": "3d891df6",
   "metadata": {
    "slideshow": {
     "slide_type": "subslide"
    }
   },
   "outputs": [
    {
     "name": "stdout",
     "output_type": "stream",
     "text": [
      "n\n"
     ]
    }
   ],
   "source": [
    "L = [\"Um\",\"Dois\",\"Três\",\"Quatro\",\"Cinco\",\"Seis\"]\n",
    "\n",
    "\n",
    "print(L[4][2]) "
   ]
  },
  {
   "cell_type": "markdown",
   "id": "3d86e714",
   "metadata": {
    "slideshow": {
     "slide_type": "subslide"
    }
   },
   "source": [
    "## 3.4. Principais métodos de um objeto lista\n",
    "\n",
    "Método | Descrição | Exemplo\n",
    ":----- | :-------- | :------\n",
    "append | Adiciona um elemento no final da lista | `lista.append(5)`\n",
    "clear  | Apaga todos os elementos de uma lista | `lista.clear()`\n",
    "copy | Retorna uma cópia dos elementos da lista | `copia = lista.copy()`\n",
    "count | Retorna a quantidade de ocorrências de um elemento na lista | `qt = lista.count(5)`\n",
    "extend | Adiciona os elementos de outra lista passada por parâmetro | `lista.extend(outra_lista)`\n",
    "index | Retorna o índice do elemento passado por parâmetro (primeira posição) | `pos5 = lista.index(5)`\n",
    "insert | Adiciona um elemento em uma posição passada por parâmetro (adiciona no final caso a posição não exista)| `lista.insert(3, \"João\")`\n",
    "pop | Remove o elemento na posição passada por parâmetro (provoca um erro caso a posição não exista)| `elemento = lista.pop(3)`\n",
    "remove | Remove o elemento passado por parâmetro (provoca um erro caso o elemento não exista)| `lista.remove(5)`\n",
    "reverse | Inverte a ordem dos elementos de uma lista | `lista.reverse()`\n",
    "sort | Ordena os objetos de uma lista | `lista.sort()`\n",
    " | | `lista.sort(reverse=True)`"
   ]
  },
  {
   "cell_type": "markdown",
   "id": "c2c49acc",
   "metadata": {
    "slideshow": {
     "slide_type": "subslide"
    }
   },
   "source": [
    "### 3.4.1. append"
   ]
  },
  {
   "cell_type": "code",
   "execution_count": 115,
   "id": "1290490f",
   "metadata": {
    "slideshow": {
     "slide_type": "fragment"
    }
   },
   "outputs": [
    {
     "data": {
      "text/plain": [
       "[23, 17, 40, -3, 10, 2, 18, 0, 5]"
      ]
     },
     "execution_count": 115,
     "metadata": {},
     "output_type": "execute_result"
    }
   ],
   "source": [
    "# Visualizando a lista antes da chamada ao método append()\n",
    "lista"
   ]
  },
  {
   "cell_type": "code",
   "execution_count": 116,
   "id": "75cf5646",
   "metadata": {
    "slideshow": {
     "slide_type": "fragment"
    }
   },
   "outputs": [],
   "source": [
    "# Adicionado o 27 no final da lista\n",
    "lista.append(27)"
   ]
  },
  {
   "cell_type": "code",
   "execution_count": 117,
   "id": "decbfa82",
   "metadata": {
    "slideshow": {
     "slide_type": "fragment"
    }
   },
   "outputs": [
    {
     "data": {
      "text/plain": [
       "[23, 17, 40, -3, 10, 2, 18, 0, 5, 27]"
      ]
     },
     "execution_count": 117,
     "metadata": {},
     "output_type": "execute_result"
    }
   ],
   "source": [
    "# Visualizando a lista após chamada ao método append()\n",
    "lista"
   ]
  },
  {
   "cell_type": "markdown",
   "id": "3977ca77",
   "metadata": {
    "slideshow": {
     "slide_type": "subslide"
    }
   },
   "source": [
    "### 3.4.2. clear"
   ]
  },
  {
   "cell_type": "code",
   "execution_count": 118,
   "id": "c517f5b1",
   "metadata": {
    "slideshow": {
     "slide_type": "fragment"
    }
   },
   "outputs": [
    {
     "data": {
      "text/plain": [
       "[1.5, -2.13, 5.14]"
      ]
     },
     "execution_count": 118,
     "metadata": {},
     "output_type": "execute_result"
    }
   ],
   "source": [
    "# Visualizando lista_reais antes da chamada ao método clear()\n",
    "lista_reais"
   ]
  },
  {
   "cell_type": "code",
   "execution_count": 119,
   "id": "8dbda6f3",
   "metadata": {
    "slideshow": {
     "slide_type": "fragment"
    }
   },
   "outputs": [],
   "source": [
    "# Removendo todos os ementos de lista_reais\n",
    "lista_reais.clear()"
   ]
  },
  {
   "cell_type": "code",
   "execution_count": 120,
   "id": "089501ca",
   "metadata": {
    "slideshow": {
     "slide_type": "fragment"
    }
   },
   "outputs": [
    {
     "data": {
      "text/plain": [
       "[]"
      ]
     },
     "execution_count": 120,
     "metadata": {},
     "output_type": "execute_result"
    }
   ],
   "source": [
    "# Visualizando lista_reais após chamada ao método clear()\n",
    "lista_reais"
   ]
  },
  {
   "cell_type": "markdown",
   "id": "2e2f0c4f",
   "metadata": {
    "slideshow": {
     "slide_type": "subslide"
    }
   },
   "source": [
    "### 3.4.3 copy"
   ]
  },
  {
   "cell_type": "code",
   "execution_count": 121,
   "id": "127a9968",
   "metadata": {
    "slideshow": {
     "slide_type": "fragment"
    }
   },
   "outputs": [],
   "source": [
    "# Copiando uma lista para outra?\n",
    "copia = lista"
   ]
  },
  {
   "cell_type": "code",
   "execution_count": 122,
   "id": "9eac50d9",
   "metadata": {
    "slideshow": {
     "slide_type": "fragment"
    }
   },
   "outputs": [
    {
     "data": {
      "text/plain": [
       "[23, 17, 40, -3, 10, 2, 18, 0, 5, 27]"
      ]
     },
     "execution_count": 122,
     "metadata": {},
     "output_type": "execute_result"
    }
   ],
   "source": [
    "# Visualizando o conteúdo de lista\n",
    "lista"
   ]
  },
  {
   "cell_type": "code",
   "execution_count": 123,
   "id": "0c4f8192",
   "metadata": {
    "slideshow": {
     "slide_type": "fragment"
    }
   },
   "outputs": [
    {
     "data": {
      "text/plain": [
       "[23, 17, 40, -3, 10, 2, 18, 0, 5, 27]"
      ]
     },
     "execution_count": 123,
     "metadata": {},
     "output_type": "execute_result"
    }
   ],
   "source": [
    "# Visualizando o conteúdo de copia\n",
    "copia"
   ]
  },
  {
   "cell_type": "code",
   "execution_count": 124,
   "id": "e214992f",
   "metadata": {
    "slideshow": {
     "slide_type": "subslide"
    }
   },
   "outputs": [],
   "source": [
    "# Alterando o elemento do índice 0 de 23 para 5\n",
    "copia[0] = 5"
   ]
  },
  {
   "cell_type": "code",
   "execution_count": 125,
   "id": "178f16a8",
   "metadata": {
    "slideshow": {
     "slide_type": "fragment"
    }
   },
   "outputs": [
    {
     "data": {
      "text/plain": [
       "[5, 17, 40, -3, 10, 2, 18, 0, 5, 27]"
      ]
     },
     "execution_count": 125,
     "metadata": {},
     "output_type": "execute_result"
    }
   ],
   "source": [
    "copia"
   ]
  },
  {
   "cell_type": "code",
   "execution_count": 126,
   "id": "1fde2ac8",
   "metadata": {
    "slideshow": {
     "slide_type": "fragment"
    }
   },
   "outputs": [
    {
     "data": {
      "text/plain": [
       "[5, 17, 40, -3, 10, 2, 18, 0, 5, 27]"
      ]
     },
     "execution_count": 126,
     "metadata": {},
     "output_type": "execute_result"
    }
   ],
   "source": [
    "# Visualizando o conteúdo de lista (Perceba que o elemento 23 também foi alterado na lista, e não apenas em copia)\n",
    "lista"
   ]
  },
  {
   "cell_type": "markdown",
   "id": "9c4e571d",
   "metadata": {
    "slideshow": {
     "slide_type": "fragment"
    }
   },
   "source": [
    "Esta situação está relacionada a um conceito chamado ***Shallow Copy***."
   ]
  },
  {
   "cell_type": "code",
   "execution_count": 127,
   "id": "7ed7026b",
   "metadata": {
    "slideshow": {
     "slide_type": "subslide"
    }
   },
   "outputs": [],
   "source": [
    "# Desfazendo a alteração no índice 0, modificando de 5 para 23\n",
    "lista[0] = 23"
   ]
  },
  {
   "cell_type": "code",
   "execution_count": 129,
   "id": "882540af",
   "metadata": {
    "slideshow": {
     "slide_type": "subslide"
    }
   },
   "outputs": [
    {
     "data": {
      "text/plain": [
       "[23, 17, 40, -3, 10, 2, 18, 0, 5, 27]"
      ]
     },
     "execution_count": 129,
     "metadata": {},
     "output_type": "execute_result"
    }
   ],
   "source": [
    "# Visualizando o conteúdo de lista\n",
    "lista"
   ]
  },
  {
   "cell_type": "code",
   "execution_count": 128,
   "id": "d0d3b0fc",
   "metadata": {
    "slideshow": {
     "slide_type": "fragment"
    }
   },
   "outputs": [],
   "source": [
    "# A maneira correta de copiar uma lista para outra é através da chamada ao método copy()\n",
    "copia = lista.copy()"
   ]
  },
  {
   "cell_type": "code",
   "execution_count": 130,
   "id": "9ce0d218",
   "metadata": {
    "slideshow": {
     "slide_type": "fragment"
    }
   },
   "outputs": [
    {
     "data": {
      "text/plain": [
       "[23, 17, 40, -3, 10, 2, 18, 0, 5, 27]"
      ]
     },
     "execution_count": 130,
     "metadata": {},
     "output_type": "execute_result"
    }
   ],
   "source": [
    "# Visualizando o conteúdo de copia\n",
    "copia"
   ]
  },
  {
   "cell_type": "code",
   "execution_count": 131,
   "id": "e5b81a96",
   "metadata": {
    "slideshow": {
     "slide_type": "subslide"
    }
   },
   "outputs": [],
   "source": [
    "# Alterando o elemento do índice 0 de 23 para 5\n",
    "copia[0] = 5"
   ]
  },
  {
   "cell_type": "code",
   "execution_count": 132,
   "id": "10580fcb",
   "metadata": {
    "slideshow": {
     "slide_type": "fragment"
    }
   },
   "outputs": [
    {
     "data": {
      "text/plain": [
       "[23, 17, 40, -3, 10, 2, 18, 0, 5, 27]"
      ]
     },
     "execution_count": 132,
     "metadata": {},
     "output_type": "execute_result"
    }
   ],
   "source": [
    "# Visualizando o conteúdo de lista\n",
    "lista"
   ]
  },
  {
   "cell_type": "code",
   "execution_count": 133,
   "id": "02e6d3e7",
   "metadata": {
    "slideshow": {
     "slide_type": "fragment"
    }
   },
   "outputs": [
    {
     "data": {
      "text/plain": [
       "[5, 17, 40, -3, 10, 2, 18, 0, 5, 27]"
      ]
     },
     "execution_count": 133,
     "metadata": {},
     "output_type": "execute_result"
    }
   ],
   "source": [
    "# Visualizando o conteúdo de lista - Agora sim, apenas o índice 0 de copia foi alterado\n",
    "copia"
   ]
  },
  {
   "cell_type": "markdown",
   "id": "6830392d",
   "metadata": {
    "slideshow": {
     "slide_type": "fragment"
    }
   },
   "source": [
    "A forma correta de se copiar listas em Python está relacionada ao conceito de ***Deep Copy***."
   ]
  },
  {
   "cell_type": "markdown",
   "id": "92f2143f",
   "metadata": {
    "slideshow": {
     "slide_type": "subslide"
    }
   },
   "source": [
    "### 3.4.4. count"
   ]
  },
  {
   "cell_type": "code",
   "execution_count": 135,
   "id": "5c473ad3",
   "metadata": {
    "slideshow": {
     "slide_type": "fragment"
    }
   },
   "outputs": [
    {
     "data": {
      "text/plain": [
       "[5, 17, 40, -3, 10, 2, 18, 0, 5, 27]"
      ]
     },
     "execution_count": 135,
     "metadata": {},
     "output_type": "execute_result"
    }
   ],
   "source": [
    "copia"
   ]
  },
  {
   "cell_type": "code",
   "execution_count": 134,
   "id": "13c25f08",
   "metadata": {
    "slideshow": {
     "slide_type": "fragment"
    }
   },
   "outputs": [
    {
     "data": {
      "text/plain": [
       "2"
      ]
     },
     "execution_count": 134,
     "metadata": {},
     "output_type": "execute_result"
    }
   ],
   "source": [
    "# Verificando quantas vezes o número 5 aparece em copia\n",
    "copia.count(5)"
   ]
  },
  {
   "cell_type": "code",
   "execution_count": 136,
   "id": "bdf0c998",
   "metadata": {
    "slideshow": {
     "slide_type": "fragment"
    }
   },
   "outputs": [
    {
     "data": {
      "text/plain": [
       "0"
      ]
     },
     "execution_count": 136,
     "metadata": {},
     "output_type": "execute_result"
    }
   ],
   "source": [
    "copia.count(11)"
   ]
  },
  {
   "cell_type": "markdown",
   "id": "ed58726b",
   "metadata": {
    "slideshow": {
     "slide_type": "subslide"
    }
   },
   "source": [
    "### 3.4.5. extend"
   ]
  },
  {
   "cell_type": "code",
   "execution_count": 137,
   "id": "963e8dd2",
   "metadata": {
    "slideshow": {
     "slide_type": "fragment"
    }
   },
   "outputs": [],
   "source": [
    "# Suponha que temos uma lista chamada numeros que contém os elementos [1, 2, 3]\n",
    "numeros = [1, 2, 3]"
   ]
  },
  {
   "cell_type": "code",
   "execution_count": 138,
   "id": "ccc19866",
   "metadata": {
    "slideshow": {
     "slide_type": "fragment"
    }
   },
   "outputs": [],
   "source": [
    "# Queremos adicionar o elementos [4, 5] à lista números e usamos o método append()\n",
    "numeros.append([4,5])"
   ]
  },
  {
   "cell_type": "code",
   "execution_count": 139,
   "id": "af863e95",
   "metadata": {
    "slideshow": {
     "slide_type": "fragment"
    }
   },
   "outputs": [
    {
     "data": {
      "text/plain": [
       "[1, 2, 3, [4, 5]]"
      ]
     },
     "execution_count": 139,
     "metadata": {},
     "output_type": "execute_result"
    }
   ],
   "source": [
    "# Ao invés de adicionarmos os elementos 4 e 5, adicionar uma lista contendo os elementos [4, 5]\n",
    "numeros"
   ]
  },
  {
   "cell_type": "code",
   "execution_count": 140,
   "id": "bee87673",
   "metadata": {
    "slideshow": {
     "slide_type": "fragment"
    }
   },
   "outputs": [
    {
     "data": {
      "text/plain": [
       "[1, 2, 3, 4, 5]"
      ]
     },
     "execution_count": 140,
     "metadata": {},
     "output_type": "execute_result"
    }
   ],
   "source": [
    "# A maneira correta de adicionar novos elementos de uma lista, a partir de outra lista, é através do método extend()\n",
    "numeros = [1, 2, 3]\n",
    "numeros.extend([4,5])\n",
    "numeros"
   ]
  },
  {
   "cell_type": "markdown",
   "id": "0dab7af1",
   "metadata": {
    "slideshow": {
     "slide_type": "subslide"
    }
   },
   "source": [
    "### 3.4.6. index"
   ]
  },
  {
   "cell_type": "code",
   "execution_count": 141,
   "id": "ec0db1ae",
   "metadata": {
    "slideshow": {
     "slide_type": "fragment"
    }
   },
   "outputs": [],
   "source": [
    "# Redefinindo os elementos da lista\n",
    "lista = [1, 3, 7, 2, 3, 8, 7]"
   ]
  },
  {
   "cell_type": "code",
   "execution_count": 142,
   "id": "e00d9e5f",
   "metadata": {
    "slideshow": {
     "slide_type": "fragment"
    }
   },
   "outputs": [
    {
     "data": {
      "text/plain": [
       "2"
      ]
     },
     "execution_count": 142,
     "metadata": {},
     "output_type": "execute_result"
    }
   ],
   "source": [
    "# O método index nos permite saber em que posição determinado elemento está armazenado\n",
    "lista.index(7)"
   ]
  },
  {
   "cell_type": "code",
   "execution_count": 144,
   "id": "4d529eea",
   "metadata": {
    "slideshow": {
     "slide_type": "fragment"
    }
   },
   "outputs": [
    {
     "data": {
      "text/plain": [
       "1"
      ]
     },
     "execution_count": 144,
     "metadata": {},
     "output_type": "execute_result"
    }
   ],
   "source": [
    "# O método index() retorna a posição da primeira ocorrência do elemento procurado. \n",
    "posicao3 = lista.index(3)\n",
    "posicao3"
   ]
  },
  {
   "cell_type": "code",
   "execution_count": 145,
   "id": "ce74876b",
   "metadata": {
    "slideshow": {
     "slide_type": "subslide"
    }
   },
   "outputs": [
    {
     "ename": "ValueError",
     "evalue": "19 is not in list",
     "output_type": "error",
     "traceback": [
      "\u001b[0;31m---------------------------------------------------------------------------\u001b[0m",
      "\u001b[0;31mValueError\u001b[0m                                Traceback (most recent call last)",
      "Input \u001b[0;32mIn [145]\u001b[0m, in \u001b[0;36m<cell line: 2>\u001b[0;34m()\u001b[0m\n\u001b[1;32m      1\u001b[0m \u001b[38;5;66;03m# Caso o elemento não exista, ocorre um erro\u001b[39;00m\n\u001b[0;32m----> 2\u001b[0m \u001b[43mlista\u001b[49m\u001b[38;5;241;43m.\u001b[39;49m\u001b[43mindex\u001b[49m\u001b[43m(\u001b[49m\u001b[38;5;241;43m19\u001b[39;49m\u001b[43m)\u001b[49m\n",
      "\u001b[0;31mValueError\u001b[0m: 19 is not in list"
     ]
    }
   ],
   "source": [
    "# Caso o elemento não exista, ocorre um erro\n",
    "lista.index(19)"
   ]
  },
  {
   "cell_type": "markdown",
   "id": "eac9799d",
   "metadata": {
    "slideshow": {
     "slide_type": "subslide"
    }
   },
   "source": [
    "### 3.4.7. insert"
   ]
  },
  {
   "cell_type": "code",
   "execution_count": 146,
   "id": "ea7f7e8f",
   "metadata": {
    "slideshow": {
     "slide_type": "fragment"
    }
   },
   "outputs": [
    {
     "data": {
      "text/plain": [
       "[1, 3, 'ABC', 7, 2, 3, 8, 7]"
      ]
     },
     "execution_count": 146,
     "metadata": {},
     "output_type": "execute_result"
    }
   ],
   "source": [
    "# O método insert() permite adicionar um elemento em qualquer posição da lista. \n",
    "lista.insert(2, \"ABC\")\n",
    "lista"
   ]
  },
  {
   "cell_type": "code",
   "execution_count": 147,
   "id": "6ac48e40",
   "metadata": {
    "slideshow": {
     "slide_type": "fragment"
    }
   },
   "outputs": [
    {
     "data": {
      "text/plain": [
       "[1, 3, 'ABC', 7, 2, 3, 8, 7, 'XYZ']"
      ]
     },
     "execution_count": 147,
     "metadata": {},
     "output_type": "execute_result"
    }
   ],
   "source": [
    "# Caso a posição não exista, ele insere o elemento desejado na última posição\n",
    "lista.insert(100, \"XYZ\")\n",
    "lista"
   ]
  },
  {
   "cell_type": "code",
   "execution_count": 148,
   "id": "10764ac3",
   "metadata": {
    "slideshow": {
     "slide_type": "fragment"
    }
   },
   "outputs": [
    {
     "data": {
      "text/plain": [
       "[[10, 20, 30], 1, 3, 'ABC', 7, 2, 3, 8, 7, 'XYZ']"
      ]
     },
     "execution_count": 148,
     "metadata": {},
     "output_type": "execute_result"
    }
   ],
   "source": [
    "lista.insert(0, [10,20,30])\n",
    "lista"
   ]
  },
  {
   "cell_type": "code",
   "execution_count": 149,
   "id": "589f63c7",
   "metadata": {
    "slideshow": {
     "slide_type": "subslide"
    }
   },
   "outputs": [
    {
     "data": {
      "text/plain": [
       "[10, [10, 20, 30], 1, 3, 'ABC', 7, 2, 3, 8, 7, 'XYZ']"
      ]
     },
     "execution_count": 149,
     "metadata": {},
     "output_type": "execute_result"
    }
   ],
   "source": [
    "x = 10\n",
    "lista.insert(0, x)\n",
    "lista"
   ]
  },
  {
   "cell_type": "markdown",
   "id": "2efddb91",
   "metadata": {
    "slideshow": {
     "slide_type": "subslide"
    }
   },
   "source": [
    "### 3.4.8. pop"
   ]
  },
  {
   "cell_type": "code",
   "execution_count": 150,
   "id": "1c10636a",
   "metadata": {
    "slideshow": {
     "slide_type": "fragment"
    }
   },
   "outputs": [
    {
     "data": {
      "text/plain": [
       "1"
      ]
     },
     "execution_count": 150,
     "metadata": {},
     "output_type": "execute_result"
    }
   ],
   "source": [
    "# Utilizamos o método pop() quando desejamos apagar uma posição da lista\n",
    "# Removendo o elemento no índice 2\n",
    "valor = lista.pop(2)\n",
    "# Visualizando o valor retornado\n",
    "valor"
   ]
  },
  {
   "cell_type": "code",
   "execution_count": 151,
   "id": "4d58eeae",
   "metadata": {
    "slideshow": {
     "slide_type": "fragment"
    }
   },
   "outputs": [
    {
     "data": {
      "text/plain": [
       "[10, [10, 20, 30], 3, 'ABC', 7, 2, 3, 8, 7, 'XYZ']"
      ]
     },
     "execution_count": 151,
     "metadata": {},
     "output_type": "execute_result"
    }
   ],
   "source": [
    "# Visualizando a lista após a remoção \n",
    "lista"
   ]
  },
  {
   "cell_type": "code",
   "execution_count": 152,
   "id": "5c28b793",
   "metadata": {
    "slideshow": {
     "slide_type": "fragment"
    }
   },
   "outputs": [
    {
     "data": {
      "text/plain": [
       "[10, [10, 20, 30], 3, 'ABC', 7, 2, 3, 8, 7]"
      ]
     },
     "execution_count": 152,
     "metadata": {},
     "output_type": "execute_result"
    }
   ],
   "source": [
    "# Removendo o elemento da última posição\n",
    "lista.pop(-1)\n",
    "# Visualizando a lista após a remoção \n",
    "lista"
   ]
  },
  {
   "cell_type": "code",
   "execution_count": 153,
   "id": "58a4c4c3",
   "metadata": {
    "slideshow": {
     "slide_type": "subslide"
    }
   },
   "outputs": [
    {
     "data": {
      "text/plain": [
       "7"
      ]
     },
     "execution_count": 153,
     "metadata": {},
     "output_type": "execute_result"
    }
   ],
   "source": [
    "removido = lista.pop()\n",
    "removido"
   ]
  },
  {
   "cell_type": "code",
   "execution_count": 154,
   "id": "05892c3b",
   "metadata": {
    "slideshow": {
     "slide_type": "fragment"
    }
   },
   "outputs": [
    {
     "ename": "IndexError",
     "evalue": "pop index out of range",
     "output_type": "error",
     "traceback": [
      "\u001b[0;31m---------------------------------------------------------------------------\u001b[0m",
      "\u001b[0;31mIndexError\u001b[0m                                Traceback (most recent call last)",
      "Input \u001b[0;32mIn [154]\u001b[0m, in \u001b[0;36m<cell line: 2>\u001b[0;34m()\u001b[0m\n\u001b[1;32m      1\u001b[0m \u001b[38;5;66;03m# O método pop() provoca um erro caso a posição não exista\u001b[39;00m\n\u001b[0;32m----> 2\u001b[0m \u001b[43mlista\u001b[49m\u001b[38;5;241;43m.\u001b[39;49m\u001b[43mpop\u001b[49m\u001b[43m(\u001b[49m\u001b[38;5;241;43m45\u001b[39;49m\u001b[43m)\u001b[49m\n",
      "\u001b[0;31mIndexError\u001b[0m: pop index out of range"
     ]
    }
   ],
   "source": [
    "# O método pop() provoca um erro caso a posição não exista\n",
    "lista.pop(45)"
   ]
  },
  {
   "cell_type": "markdown",
   "id": "bc25dc3b",
   "metadata": {
    "slideshow": {
     "slide_type": "subslide"
    }
   },
   "source": [
    "### 3.4.9. remove"
   ]
  },
  {
   "cell_type": "code",
   "execution_count": 155,
   "id": "ccb72470",
   "metadata": {
    "slideshow": {
     "slide_type": "fragment"
    }
   },
   "outputs": [
    {
     "data": {
      "text/plain": [
       "['Maria', 'Python', 'PUC Campinas', 'Ciência de Dados e Big Data']"
      ]
     },
     "execution_count": 155,
     "metadata": {},
     "output_type": "execute_result"
    }
   ],
   "source": [
    "# Utilizamos o método remove() quando desejamos apagar um elemento específico da lista\n",
    "# Visualizando lista_strings antes da remoção\n",
    "lista_strings"
   ]
  },
  {
   "cell_type": "code",
   "execution_count": 156,
   "id": "627e37b4",
   "metadata": {
    "slideshow": {
     "slide_type": "fragment"
    }
   },
   "outputs": [],
   "source": [
    "# Removendo elemento\n",
    "lista_strings.remove(\"Python\")"
   ]
  },
  {
   "cell_type": "code",
   "execution_count": 157,
   "id": "7cb7eabc",
   "metadata": {
    "slideshow": {
     "slide_type": "fragment"
    }
   },
   "outputs": [
    {
     "data": {
      "text/plain": [
       "['Maria', 'PUC Campinas', 'Ciência de Dados e Big Data']"
      ]
     },
     "execution_count": 157,
     "metadata": {},
     "output_type": "execute_result"
    }
   ],
   "source": [
    "# Visualizando lista_strings após a remoção\n",
    "lista_strings"
   ]
  },
  {
   "cell_type": "code",
   "execution_count": 158,
   "id": "9266b333",
   "metadata": {
    "slideshow": {
     "slide_type": "subslide"
    }
   },
   "outputs": [
    {
     "ename": "ValueError",
     "evalue": "list.remove(x): x not in list",
     "output_type": "error",
     "traceback": [
      "\u001b[0;31m---------------------------------------------------------------------------\u001b[0m",
      "\u001b[0;31mValueError\u001b[0m                                Traceback (most recent call last)",
      "Input \u001b[0;32mIn [158]\u001b[0m, in \u001b[0;36m<cell line: 2>\u001b[0;34m()\u001b[0m\n\u001b[1;32m      1\u001b[0m \u001b[38;5;66;03m# O método remove() provoca um erro caso o elemento não exista\u001b[39;00m\n\u001b[0;32m----> 2\u001b[0m \u001b[43mlista_strings\u001b[49m\u001b[38;5;241;43m.\u001b[39;49m\u001b[43mremove\u001b[49m\u001b[43m(\u001b[49m\u001b[38;5;124;43m\"\u001b[39;49m\u001b[38;5;124;43mJava\u001b[39;49m\u001b[38;5;124;43m\"\u001b[39;49m\u001b[43m)\u001b[49m\n",
      "\u001b[0;31mValueError\u001b[0m: list.remove(x): x not in list"
     ]
    }
   ],
   "source": [
    "# O método remove() provoca um erro caso o elemento não exista\n",
    "lista_strings.remove(\"Java\")"
   ]
  },
  {
   "cell_type": "markdown",
   "id": "59ff9f3f",
   "metadata": {
    "slideshow": {
     "slide_type": "subslide"
    }
   },
   "source": [
    "### 3.4.10. reverse"
   ]
  },
  {
   "cell_type": "code",
   "execution_count": 159,
   "id": "19baf645",
   "metadata": {
    "slideshow": {
     "slide_type": "fragment"
    }
   },
   "outputs": [
    {
     "data": {
      "text/plain": [
       "[1, 2, 3, 4, 5, 6]"
      ]
     },
     "execution_count": 159,
     "metadata": {},
     "output_type": "execute_result"
    }
   ],
   "source": [
    "# Redefinindo os elementos de lista\n",
    "lista = [1, 2, 3, 4, 5, 6]\n",
    "# Visualizando a lista antes da chamada ao método reverse()\n",
    "lista"
   ]
  },
  {
   "cell_type": "code",
   "execution_count": 160,
   "id": "05df8633",
   "metadata": {
    "slideshow": {
     "slide_type": "fragment"
    }
   },
   "outputs": [
    {
     "data": {
      "text/plain": [
       "[6, 5, 4, 3, 2, 1]"
      ]
     },
     "execution_count": 160,
     "metadata": {},
     "output_type": "execute_result"
    }
   ],
   "source": [
    "# Invertendo os elementos da lista\n",
    "lista.reverse()\n",
    "# Visualizando a lista após chamada ao método reverse()\n",
    "lista"
   ]
  },
  {
   "cell_type": "markdown",
   "id": "64a2cd8b",
   "metadata": {
    "slideshow": {
     "slide_type": "subslide"
    }
   },
   "source": [
    "### 3.4.11. sort"
   ]
  },
  {
   "cell_type": "code",
   "execution_count": 161,
   "id": "de79fa47",
   "metadata": {
    "slideshow": {
     "slide_type": "fragment"
    }
   },
   "outputs": [
    {
     "data": {
      "text/plain": [
       "[6, 3, 1, 4, 2, 5]"
      ]
     },
     "execution_count": 161,
     "metadata": {},
     "output_type": "execute_result"
    }
   ],
   "source": [
    "# Redefinindo os elementos de lista\n",
    "lista = [6, 3, 1, 4, 2, 5]\n",
    "# Visualizando a lista antes da chamada ao método sort()\n",
    "lista"
   ]
  },
  {
   "cell_type": "code",
   "execution_count": 163,
   "id": "3efe3830",
   "metadata": {
    "slideshow": {
     "slide_type": "fragment"
    }
   },
   "outputs": [
    {
     "data": {
      "text/plain": [
       "[1, 2, 3, 4, 5, 6]"
      ]
     },
     "execution_count": 163,
     "metadata": {},
     "output_type": "execute_result"
    }
   ],
   "source": [
    "# Ordenando os elementos em ordem crescente\n",
    "lista.sort()\n",
    "# Visualizando a lista após chamada ao método sort()\n",
    "lista"
   ]
  },
  {
   "cell_type": "code",
   "execution_count": 164,
   "id": "1ad6235c",
   "metadata": {
    "slideshow": {
     "slide_type": "subslide"
    }
   },
   "outputs": [
    {
     "data": {
      "text/plain": [
       "[6, 3, 1, 4, 2, 5]"
      ]
     },
     "execution_count": 164,
     "metadata": {},
     "output_type": "execute_result"
    }
   ],
   "source": [
    "# Redefinindo os elementos de lista\n",
    "lista = [6, 3, 1, 4, 2, 5]\n",
    "# Visualizando a lista antes da chamada ao método sort()\n",
    "lista"
   ]
  },
  {
   "cell_type": "code",
   "execution_count": 165,
   "id": "768e3f4d",
   "metadata": {
    "slideshow": {
     "slide_type": "fragment"
    }
   },
   "outputs": [
    {
     "data": {
      "text/plain": [
       "[6, 5, 4, 3, 2, 1]"
      ]
     },
     "execution_count": 165,
     "metadata": {},
     "output_type": "execute_result"
    }
   ],
   "source": [
    "# Ordenando os elementos em ordem decrescente\n",
    "lista.sort(reverse=True)\n",
    "# Visualizando a lista após chamada ao método sort()\n",
    "lista"
   ]
  },
  {
   "cell_type": "code",
   "execution_count": 166,
   "id": "0cd6051a",
   "metadata": {
    "slideshow": {
     "slide_type": "subslide"
    }
   },
   "outputs": [
    {
     "data": {
      "text/plain": [
       "['A', 'D', 'E', 'Q', 'R', 'S', 'T', 'W', 'Y']"
      ]
     },
     "execution_count": 166,
     "metadata": {},
     "output_type": "execute_result"
    }
   ],
   "source": [
    "# Ordenando lista de caracteres\n",
    "lista_letras = [\"Q\", \"W\", \"E\", \"R\", \"T\", \"Y\", \"A\", \"S\", \"D\"]\n",
    "lista_letras.sort()\n",
    "lista_letras"
   ]
  },
  {
   "cell_type": "code",
   "execution_count": 167,
   "id": "1c6d9f6a",
   "metadata": {
    "slideshow": {
     "slide_type": "fragment"
    }
   },
   "outputs": [
    {
     "data": {
      "text/plain": [
       "['ABC', 'DEF', 'GHI', 'KLM', 'XYZ']"
      ]
     },
     "execution_count": 167,
     "metadata": {},
     "output_type": "execute_result"
    }
   ],
   "source": [
    "# Ordenando lista de strings\n",
    "lista_strings = [\"GHI\", \"XYZ\", \"DEF\", \"ABC\", \"KLM\"]\n",
    "lista_strings.sort()\n",
    "lista_strings"
   ]
  },
  {
   "cell_type": "code",
   "execution_count": 168,
   "id": "f6106a5c",
   "metadata": {
    "slideshow": {
     "slide_type": "subslide"
    }
   },
   "outputs": [
    {
     "ename": "TypeError",
     "evalue": "'<' not supported between instances of 'str' and 'int'",
     "output_type": "error",
     "traceback": [
      "\u001b[0;31m---------------------------------------------------------------------------\u001b[0m",
      "\u001b[0;31mTypeError\u001b[0m                                 Traceback (most recent call last)",
      "Input \u001b[0;32mIn [168]\u001b[0m, in \u001b[0;36m<cell line: 3>\u001b[0;34m()\u001b[0m\n\u001b[1;32m      1\u001b[0m \u001b[38;5;66;03m# Não é possível ordenar uma lista com elementos de diferentes tipos\u001b[39;00m\n\u001b[1;32m      2\u001b[0m lista_misturada \u001b[38;5;241m=\u001b[39m [\u001b[38;5;241m2\u001b[39m, \u001b[38;5;124m\"\u001b[39m\u001b[38;5;124mABC\u001b[39m\u001b[38;5;124m\"\u001b[39m, \u001b[38;5;241m3.14\u001b[39m]\n\u001b[0;32m----> 3\u001b[0m \u001b[43mlista_misturada\u001b[49m\u001b[38;5;241;43m.\u001b[39;49m\u001b[43msort\u001b[49m\u001b[43m(\u001b[49m\u001b[43m)\u001b[49m\n\u001b[1;32m      4\u001b[0m lista_misturada\n",
      "\u001b[0;31mTypeError\u001b[0m: '<' not supported between instances of 'str' and 'int'"
     ]
    }
   ],
   "source": [
    "# Não é possível ordenar uma lista com elementos de diferentes tipos\n",
    "lista_misturada = [2, \"ABC\", 3.14]\n",
    "lista_misturada.sort()\n",
    "lista_misturada"
   ]
  },
  {
   "cell_type": "markdown",
   "id": "6a2f124c",
   "metadata": {
    "slideshow": {
     "slide_type": "subslide"
    }
   },
   "source": [
    "## 3.5. Funções Aplicáveis em Uma Lista\n",
    "\n",
    "Função | Descrição | Exemplo\n",
    ":----- | :-------- | :------\n",
    "len | Retorna a quantidade de elementos de uma lista | `print(len(lista))`\n",
    "max  | Retorna o maior elemento de uma lista | `maior = max(lista)`\n",
    "min | Retorna o menor elemento de uma lista | `menor = min(lista)`\n",
    "sum | Retorna o somatório dos elementos de uma lista | `soma = sum(lista)`"
   ]
  },
  {
   "cell_type": "code",
   "execution_count": 169,
   "id": "ca9d05e6",
   "metadata": {
    "slideshow": {
     "slide_type": "subslide"
    }
   },
   "outputs": [],
   "source": [
    "# Redefinindo os elementos de lista e lista_letras\n",
    "lista = [8, 3, 21, 14, 2, 45]\n",
    "lista_letras = [\"Q\", \"W\", \"E\", \"R\", \"T\", \"Y\", \"A\", \"S\", \"D\"]"
   ]
  },
  {
   "cell_type": "code",
   "execution_count": 170,
   "id": "4c464d15",
   "metadata": {
    "slideshow": {
     "slide_type": "fragment"
    }
   },
   "outputs": [
    {
     "data": {
      "text/plain": [
       "6"
      ]
     },
     "execution_count": 170,
     "metadata": {},
     "output_type": "execute_result"
    }
   ],
   "source": [
    "# A função len() retorna a quantidade de elementos de uma lista\n",
    "len(lista)"
   ]
  },
  {
   "cell_type": "code",
   "execution_count": 171,
   "id": "f0d35571",
   "metadata": {
    "slideshow": {
     "slide_type": "fragment"
    }
   },
   "outputs": [
    {
     "data": {
      "text/plain": [
       "45"
      ]
     },
     "execution_count": 171,
     "metadata": {},
     "output_type": "execute_result"
    }
   ],
   "source": [
    "# A função max() retorna o maior elemento de uma lista\n",
    "max(lista)"
   ]
  },
  {
   "cell_type": "code",
   "execution_count": 172,
   "id": "d4a88dae",
   "metadata": {
    "slideshow": {
     "slide_type": "fragment"
    }
   },
   "outputs": [
    {
     "data": {
      "text/plain": [
       "'Y'"
      ]
     },
     "execution_count": 172,
     "metadata": {},
     "output_type": "execute_result"
    }
   ],
   "source": [
    "max(lista_letras)"
   ]
  },
  {
   "cell_type": "code",
   "execution_count": 173,
   "id": "65e42b2a",
   "metadata": {
    "slideshow": {
     "slide_type": "subslide"
    }
   },
   "outputs": [
    {
     "data": {
      "text/plain": [
       "2"
      ]
     },
     "execution_count": 173,
     "metadata": {},
     "output_type": "execute_result"
    }
   ],
   "source": [
    "# A função min() retorna o menor elemento de uma lista\n",
    "min(lista)"
   ]
  },
  {
   "cell_type": "code",
   "execution_count": 174,
   "id": "846debdf",
   "metadata": {
    "slideshow": {
     "slide_type": "fragment"
    }
   },
   "outputs": [
    {
     "data": {
      "text/plain": [
       "'A'"
      ]
     },
     "execution_count": 174,
     "metadata": {},
     "output_type": "execute_result"
    }
   ],
   "source": [
    "min(lista_letras)"
   ]
  },
  {
   "cell_type": "code",
   "execution_count": 175,
   "id": "a2ed0c30",
   "metadata": {
    "slideshow": {
     "slide_type": "fragment"
    }
   },
   "outputs": [
    {
     "data": {
      "text/plain": [
       "93"
      ]
     },
     "execution_count": 175,
     "metadata": {},
     "output_type": "execute_result"
    }
   ],
   "source": [
    "# A função sum() retorna a soma dos elementos de uma lista numérica\n",
    "sum(lista)"
   ]
  },
  {
   "cell_type": "markdown",
   "id": "ad572fda",
   "metadata": {
    "slideshow": {
     "slide_type": "slide"
    }
   },
   "source": [
    "# 4. Tuplas"
   ]
  },
  {
   "cell_type": "markdown",
   "id": "39a109eb",
   "metadata": {
    "slideshow": {
     "slide_type": "subslide"
    }
   },
   "source": [
    "* Assim com uma lista, uma tupla também é uma coleção de elementos. A diferença entre elas, é que a tupla é imutável. Ou seja, uma vez definidos os seus elementos, a tupla não pode mais ser alterada\n",
    "* Cada elemento possui uma posição dentro de uma lista. Essa posição é chamada índice\n",
    "* O primeiro elemento fica armazenado na posição *0*, enquanto o último elemento fica armazenado na posição *n-1* (onde *n* é a quantidade de elementos da lista)"
   ]
  },
  {
   "cell_type": "markdown",
   "id": "e4e517ed",
   "metadata": {
    "slideshow": {
     "slide_type": "subslide"
    }
   },
   "source": [
    "1. Como criar uma tupla\n",
    "2. Como acessar elementos de uma tupla\n",
    "3. A imutabilidade de uma tupla\n",
    "4. Principais métodos de um objeto tupla\n",
    "5. Funções aplicáveis a uma tupla\n",
    "6. Convertendo uma tupla em lista"
   ]
  },
  {
   "cell_type": "markdown",
   "id": "2b5f21a8",
   "metadata": {
    "slideshow": {
     "slide_type": "subslide"
    }
   },
   "source": [
    "## 4.1. Criar uma tupla "
   ]
  },
  {
   "cell_type": "code",
   "execution_count": 176,
   "id": "bc39c42b",
   "metadata": {
    "slideshow": {
     "slide_type": "subslide"
    }
   },
   "outputs": [],
   "source": [
    "# Criando tuplas vazias\n",
    "tupla_vazia = ()\n",
    "tupla_vazia2 = tuple()"
   ]
  },
  {
   "cell_type": "code",
   "execution_count": 177,
   "id": "6e8df7ef",
   "metadata": {
    "slideshow": {
     "slide_type": "fragment"
    }
   },
   "outputs": [
    {
     "data": {
      "text/plain": [
       "tuple"
      ]
     },
     "execution_count": 177,
     "metadata": {},
     "output_type": "execute_result"
    }
   ],
   "source": [
    "# Verificando o tipo de tupla_vazia\n",
    "type(tupla_vazia)"
   ]
  },
  {
   "cell_type": "code",
   "execution_count": 178,
   "id": "b5635a0f",
   "metadata": {
    "slideshow": {
     "slide_type": "fragment"
    }
   },
   "outputs": [
    {
     "data": {
      "text/plain": [
       "True"
      ]
     },
     "execution_count": 178,
     "metadata": {},
     "output_type": "execute_result"
    }
   ],
   "source": [
    "# Verificando se tupla_vazia2 é uma instância de tuple\n",
    "isinstance(tupla_vazia2, tuple)"
   ]
  },
  {
   "cell_type": "code",
   "execution_count": 179,
   "id": "a55b0681",
   "metadata": {
    "slideshow": {
     "slide_type": "fragment"
    }
   },
   "outputs": [
    {
     "data": {
      "text/plain": [
       "0"
      ]
     },
     "execution_count": 179,
     "metadata": {},
     "output_type": "execute_result"
    }
   ],
   "source": [
    "len(tupla_vazia)"
   ]
  },
  {
   "cell_type": "code",
   "execution_count": 180,
   "id": "8ccca4d2",
   "metadata": {
    "slideshow": {
     "slide_type": "subslide"
    }
   },
   "outputs": [],
   "source": [
    "# Criando tuplas com elementos\n",
    "tupla1 = (3, 19, 4, 21, 3, 5, 13)\n",
    "tupla2 = (3, 19, 4, 21, 3, 5, 13, \"tupla\", (1, 2, 3))\n",
    "tupla3 = (3, 19, 4, 21, 3, 5, 13, \"tupla\", [1, 2, 3])"
   ]
  },
  {
   "cell_type": "code",
   "execution_count": 181,
   "id": "54f06477",
   "metadata": {
    "slideshow": {
     "slide_type": "fragment"
    }
   },
   "outputs": [
    {
     "data": {
      "text/plain": [
       "(3, 19, 4, 21, 3, 5, 13)"
      ]
     },
     "execution_count": 181,
     "metadata": {},
     "output_type": "execute_result"
    }
   ],
   "source": [
    "# Visualizando os elementos de tupla1\n",
    "tupla1"
   ]
  },
  {
   "cell_type": "code",
   "execution_count": 182,
   "id": "9f93f00a",
   "metadata": {
    "slideshow": {
     "slide_type": "fragment"
    }
   },
   "outputs": [
    {
     "data": {
      "text/plain": [
       "(3, 19, 4, 21, 3, 5, 13, 'tupla', (1, 2, 3))"
      ]
     },
     "execution_count": 182,
     "metadata": {},
     "output_type": "execute_result"
    }
   ],
   "source": [
    "# Visualizando os elementos de tupla2\n",
    "tupla2"
   ]
  },
  {
   "cell_type": "code",
   "execution_count": 183,
   "id": "f2d2d57a",
   "metadata": {
    "slideshow": {
     "slide_type": "fragment"
    }
   },
   "outputs": [
    {
     "data": {
      "text/plain": [
       "(3, 19, 4, 21, 3, 5, 13, 'tupla', [1, 2, 3])"
      ]
     },
     "execution_count": 183,
     "metadata": {},
     "output_type": "execute_result"
    }
   ],
   "source": [
    "# Visualizando os elementos de tupla3\n",
    "tupla3"
   ]
  },
  {
   "cell_type": "markdown",
   "id": "b8160eee",
   "metadata": {
    "slideshow": {
     "slide_type": "subslide"
    }
   },
   "source": [
    "## 4.2. Como acessar elementos de uma tupla"
   ]
  },
  {
   "cell_type": "code",
   "execution_count": 185,
   "id": "5374f709",
   "metadata": {
    "slideshow": {
     "slide_type": "fragment"
    }
   },
   "outputs": [
    {
     "data": {
      "text/plain": [
       "(3, 19, 4, 21, 3, 5, 13)"
      ]
     },
     "execution_count": 185,
     "metadata": {},
     "output_type": "execute_result"
    }
   ],
   "source": [
    "# Visualizando os elementos de tupla1\n",
    "tupla1"
   ]
  },
  {
   "cell_type": "code",
   "execution_count": 184,
   "id": "94db0d82",
   "metadata": {
    "slideshow": {
     "slide_type": "fragment"
    }
   },
   "outputs": [
    {
     "data": {
      "text/plain": [
       "3"
      ]
     },
     "execution_count": 184,
     "metadata": {},
     "output_type": "execute_result"
    }
   ],
   "source": [
    "# Acessando o índice 0 (primeira posição) de tupla1\n",
    "tupla1[0]"
   ]
  },
  {
   "cell_type": "code",
   "execution_count": 186,
   "id": "49de707f",
   "metadata": {
    "slideshow": {
     "slide_type": "fragment"
    }
   },
   "outputs": [
    {
     "data": {
      "text/plain": [
       "(3, 19, 4, 21, 3, 5, 13, 'tupla', [1, 2, 3])"
      ]
     },
     "execution_count": 186,
     "metadata": {},
     "output_type": "execute_result"
    }
   ],
   "source": [
    "# Visualizando os elementos de tupla3\n",
    "tupla3"
   ]
  },
  {
   "cell_type": "code",
   "execution_count": 187,
   "id": "8e0449d4",
   "metadata": {
    "slideshow": {
     "slide_type": "fragment"
    }
   },
   "outputs": [
    {
     "data": {
      "text/plain": [
       "[1, 2, 3]"
      ]
     },
     "execution_count": 187,
     "metadata": {},
     "output_type": "execute_result"
    }
   ],
   "source": [
    "# Acessando o índice 8 (nona posição) de tupla3\n",
    "tupla3[8]"
   ]
  },
  {
   "cell_type": "code",
   "execution_count": 188,
   "id": "49d4b346",
   "metadata": {
    "slideshow": {
     "slide_type": "subslide"
    }
   },
   "outputs": [
    {
     "ename": "IndexError",
     "evalue": "tuple index out of range",
     "output_type": "error",
     "traceback": [
      "\u001b[0;31m---------------------------------------------------------------------------\u001b[0m",
      "\u001b[0;31mIndexError\u001b[0m                                Traceback (most recent call last)",
      "Input \u001b[0;32mIn [188]\u001b[0m, in \u001b[0;36m<cell line: 2>\u001b[0;34m()\u001b[0m\n\u001b[1;32m      1\u001b[0m \u001b[38;5;66;03m# Tentando acesso a um índice inexistente\u001b[39;00m\n\u001b[0;32m----> 2\u001b[0m \u001b[43mtupla3\u001b[49m\u001b[43m[\u001b[49m\u001b[38;5;241;43m20\u001b[39;49m\u001b[43m]\u001b[49m\n",
      "\u001b[0;31mIndexError\u001b[0m: tuple index out of range"
     ]
    }
   ],
   "source": [
    "# Tentando acesso a um índice inexistente\n",
    "tupla3[20]"
   ]
  },
  {
   "cell_type": "markdown",
   "id": "94bf57b9",
   "metadata": {
    "slideshow": {
     "slide_type": "subslide"
    }
   },
   "source": [
    "## 4.3. A imutabilidade de uma tupla"
   ]
  },
  {
   "cell_type": "code",
   "execution_count": 189,
   "id": "d23f5eb1",
   "metadata": {
    "slideshow": {
     "slide_type": "fragment"
    }
   },
   "outputs": [
    {
     "ename": "TypeError",
     "evalue": "'tuple' object does not support item assignment",
     "output_type": "error",
     "traceback": [
      "\u001b[0;31m---------------------------------------------------------------------------\u001b[0m",
      "\u001b[0;31mTypeError\u001b[0m                                 Traceback (most recent call last)",
      "Input \u001b[0;32mIn [189]\u001b[0m, in \u001b[0;36m<cell line: 2>\u001b[0;34m()\u001b[0m\n\u001b[1;32m      1\u001b[0m \u001b[38;5;66;03m# Atribuindo o valor 5 ao índice 0 de tupla1 provocará um erro\u001b[39;00m\n\u001b[0;32m----> 2\u001b[0m tupla1[\u001b[38;5;241m0\u001b[39m] \u001b[38;5;241m=\u001b[39m \u001b[38;5;241m5\u001b[39m\n",
      "\u001b[0;31mTypeError\u001b[0m: 'tuple' object does not support item assignment"
     ]
    }
   ],
   "source": [
    "# Atribuindo o valor 5 ao índice 0 de tupla1 provocará um erro\n",
    "tupla1[0] = 5"
   ]
  },
  {
   "cell_type": "code",
   "execution_count": 190,
   "id": "9552f637",
   "metadata": {
    "slideshow": {
     "slide_type": "subslide"
    }
   },
   "outputs": [
    {
     "data": {
      "text/plain": [
       "(3, 19, 4, 21, 3, 5, 13, 'tupla', [1, 2, 3])"
      ]
     },
     "execution_count": 190,
     "metadata": {},
     "output_type": "execute_result"
    }
   ],
   "source": [
    "tupla3"
   ]
  },
  {
   "cell_type": "code",
   "execution_count": 191,
   "id": "ff7cd8a9",
   "metadata": {
    "slideshow": {
     "slide_type": "fragment"
    }
   },
   "outputs": [],
   "source": [
    "# O mesmo não ocorre ao tentar atribuir 5 ao índice 1, da lista armazenada no índice 8. \n",
    "# O motivo é que a tupla não está sendo alterada. O índice 8 continua contendo uma lista. \n",
    "# Essa lista, por sua vez, é que teve um de seus valores alterados\n",
    "tupla3[8][1] = 5"
   ]
  },
  {
   "cell_type": "code",
   "execution_count": 192,
   "id": "5ceb694d",
   "metadata": {
    "slideshow": {
     "slide_type": "fragment"
    }
   },
   "outputs": [
    {
     "data": {
      "text/plain": [
       "(3, 19, 4, 21, 3, 5, 13, 'tupla', [1, 5, 3])"
      ]
     },
     "execution_count": 192,
     "metadata": {},
     "output_type": "execute_result"
    }
   ],
   "source": [
    "tupla3"
   ]
  },
  {
   "cell_type": "code",
   "execution_count": 193,
   "id": "5eb4ef63",
   "metadata": {
    "slideshow": {
     "slide_type": "subslide"
    }
   },
   "outputs": [],
   "source": [
    "# Podemos adicionar elementos à lista armazenada no índice 8 da tupla\n",
    "tupla3[8].extend([4, 5, 6])"
   ]
  },
  {
   "cell_type": "code",
   "execution_count": 194,
   "id": "bfbeae98",
   "metadata": {
    "slideshow": {
     "slide_type": "fragment"
    }
   },
   "outputs": [
    {
     "data": {
      "text/plain": [
       "(3, 19, 4, 21, 3, 5, 13, 'tupla', [1, 5, 3, 4, 5, 6])"
      ]
     },
     "execution_count": 194,
     "metadata": {},
     "output_type": "execute_result"
    }
   ],
   "source": [
    "tupla3"
   ]
  },
  {
   "cell_type": "code",
   "execution_count": 195,
   "id": "10fbc95e",
   "metadata": {
    "slideshow": {
     "slide_type": "subslide"
    }
   },
   "outputs": [
    {
     "ename": "TypeError",
     "evalue": "'tuple' object does not support item assignment",
     "output_type": "error",
     "traceback": [
      "\u001b[0;31m---------------------------------------------------------------------------\u001b[0m",
      "\u001b[0;31mTypeError\u001b[0m                                 Traceback (most recent call last)",
      "Input \u001b[0;32mIn [195]\u001b[0m, in \u001b[0;36m<cell line: 2>\u001b[0;34m()\u001b[0m\n\u001b[1;32m      1\u001b[0m \u001b[38;5;66;03m# Entretanto, matendo a característica de imutabilidade, não podemos substituir a lista do índice 8 por outra\u001b[39;00m\n\u001b[0;32m----> 2\u001b[0m tupla3[\u001b[38;5;241m8\u001b[39m] \u001b[38;5;241m=\u001b[39m [\u001b[38;5;241m-\u001b[39m\u001b[38;5;241m1\u001b[39m, \u001b[38;5;241m-\u001b[39m\u001b[38;5;241m2\u001b[39m, \u001b[38;5;241m-\u001b[39m\u001b[38;5;241m3\u001b[39m]\n",
      "\u001b[0;31mTypeError\u001b[0m: 'tuple' object does not support item assignment"
     ]
    }
   ],
   "source": [
    "# Entretanto, matendo a característica de imutabilidade, não podemos substituir a lista do índice 8 por outra\n",
    "tupla3[8] = [-1, -2, -3]"
   ]
  },
  {
   "cell_type": "code",
   "execution_count": 196,
   "id": "94db9d10",
   "metadata": {
    "slideshow": {
     "slide_type": "subslide"
    }
   },
   "outputs": [
    {
     "data": {
      "text/plain": [
       "(3, 19, 4, 21, 3, 5, 13, 'tupla', [1, 5, 3, 4, 5, 6])"
      ]
     },
     "execution_count": 196,
     "metadata": {},
     "output_type": "execute_result"
    }
   ],
   "source": [
    "tupla3"
   ]
  },
  {
   "cell_type": "code",
   "execution_count": 197,
   "id": "b7960628",
   "metadata": {
    "slideshow": {
     "slide_type": "fragment"
    }
   },
   "outputs": [
    {
     "data": {
      "text/plain": [
       "(1, 2, 3, 4)"
      ]
     },
     "execution_count": 197,
     "metadata": {},
     "output_type": "execute_result"
    }
   ],
   "source": [
    "tupla3 = (1,2,3,4)\n",
    "tupla3"
   ]
  },
  {
   "cell_type": "code",
   "execution_count": 198,
   "id": "8d461d0a",
   "metadata": {
    "slideshow": {
     "slide_type": "fragment"
    }
   },
   "outputs": [
    {
     "data": {
      "text/plain": [
       "()"
      ]
     },
     "execution_count": 198,
     "metadata": {},
     "output_type": "execute_result"
    }
   ],
   "source": [
    "tupla3 = ()\n",
    "tupla3"
   ]
  },
  {
   "cell_type": "markdown",
   "id": "ddf44afe",
   "metadata": {
    "slideshow": {
     "slide_type": "subslide"
    }
   },
   "source": [
    "## 4.4. Principais métodos de um objeto tupla"
   ]
  },
  {
   "cell_type": "code",
   "execution_count": 199,
   "id": "1320bc76",
   "metadata": {
    "slideshow": {
     "slide_type": "fragment"
    }
   },
   "outputs": [
    {
     "data": {
      "text/plain": [
       "2"
      ]
     },
     "execution_count": 199,
     "metadata": {},
     "output_type": "execute_result"
    }
   ],
   "source": [
    "# Verificando quantas vezes o número 3 aparece em tupla1\n",
    "tupla1.count(3)"
   ]
  },
  {
   "cell_type": "code",
   "execution_count": 200,
   "id": "9c7d04d8",
   "metadata": {
    "slideshow": {
     "slide_type": "fragment"
    }
   },
   "outputs": [
    {
     "data": {
      "text/plain": [
       "(3, 19, 4, 21, 3, 5, 13)"
      ]
     },
     "execution_count": 200,
     "metadata": {},
     "output_type": "execute_result"
    }
   ],
   "source": [
    "tupla1"
   ]
  },
  {
   "cell_type": "code",
   "execution_count": 201,
   "id": "ba619f39",
   "metadata": {
    "slideshow": {
     "slide_type": "fragment"
    }
   },
   "outputs": [
    {
     "data": {
      "text/plain": [
       "3"
      ]
     },
     "execution_count": 201,
     "metadata": {},
     "output_type": "execute_result"
    }
   ],
   "source": [
    "# Verificando em que posição está armazenado o elemento 21\n",
    "tupla1.index(21)"
   ]
  },
  {
   "cell_type": "markdown",
   "id": "94af2c7d",
   "metadata": {
    "slideshow": {
     "slide_type": "subslide"
    }
   },
   "source": [
    "## 4.5. Funções aplicáveis a uma tupla"
   ]
  },
  {
   "cell_type": "code",
   "execution_count": 202,
   "id": "3f26f918",
   "metadata": {
    "slideshow": {
     "slide_type": "subslide"
    }
   },
   "outputs": [
    {
     "data": {
      "text/plain": [
       "7"
      ]
     },
     "execution_count": 202,
     "metadata": {},
     "output_type": "execute_result"
    }
   ],
   "source": [
    "len(tupla1)"
   ]
  },
  {
   "cell_type": "code",
   "execution_count": 203,
   "id": "60bc6861",
   "metadata": {
    "slideshow": {
     "slide_type": "fragment"
    }
   },
   "outputs": [
    {
     "data": {
      "text/plain": [
       "21"
      ]
     },
     "execution_count": 203,
     "metadata": {},
     "output_type": "execute_result"
    }
   ],
   "source": [
    "max(tupla1)"
   ]
  },
  {
   "cell_type": "code",
   "execution_count": 204,
   "id": "617b4dc4",
   "metadata": {
    "slideshow": {
     "slide_type": "fragment"
    }
   },
   "outputs": [
    {
     "data": {
      "text/plain": [
       "3"
      ]
     },
     "execution_count": 204,
     "metadata": {},
     "output_type": "execute_result"
    }
   ],
   "source": [
    "min(tupla1)"
   ]
  },
  {
   "cell_type": "code",
   "execution_count": 205,
   "id": "f67e6601",
   "metadata": {
    "slideshow": {
     "slide_type": "fragment"
    }
   },
   "outputs": [
    {
     "data": {
      "text/plain": [
       "68"
      ]
     },
     "execution_count": 205,
     "metadata": {},
     "output_type": "execute_result"
    }
   ],
   "source": [
    "sum(tupla1)"
   ]
  },
  {
   "cell_type": "markdown",
   "id": "e9c13030",
   "metadata": {
    "slideshow": {
     "slide_type": "subslide"
    }
   },
   "source": [
    "## 4.6. Convertendo uma tupla em lista"
   ]
  },
  {
   "cell_type": "code",
   "execution_count": 207,
   "id": "489b8ed4",
   "metadata": {
    "slideshow": {
     "slide_type": "fragment"
    }
   },
   "outputs": [
    {
     "data": {
      "text/plain": [
       "(3, 19, 4, 21, 3, 5, 13)"
      ]
     },
     "execution_count": 207,
     "metadata": {},
     "output_type": "execute_result"
    }
   ],
   "source": [
    "tupla1"
   ]
  },
  {
   "cell_type": "code",
   "execution_count": 206,
   "id": "bdc3eef3",
   "metadata": {
    "slideshow": {
     "slide_type": "fragment"
    }
   },
   "outputs": [],
   "source": [
    "lista = list(tupla1)"
   ]
  },
  {
   "cell_type": "code",
   "execution_count": 209,
   "id": "40bec31c",
   "metadata": {
    "slideshow": {
     "slide_type": "fragment"
    }
   },
   "outputs": [
    {
     "data": {
      "text/plain": [
       "[3, 19, 4, 21, 3, 5, 13]"
      ]
     },
     "execution_count": 209,
     "metadata": {},
     "output_type": "execute_result"
    }
   ],
   "source": [
    "lista"
   ]
  },
  {
   "cell_type": "markdown",
   "id": "065ed5bd",
   "metadata": {
    "slideshow": {
     "slide_type": "slide"
    }
   },
   "source": [
    "# 5. Laços de Repetição "
   ]
  },
  {
   "cell_type": "markdown",
   "id": "45800d7a",
   "metadata": {
    "slideshow": {
     "slide_type": "subslide"
    }
   },
   "source": [
    "## 5.1. Comando *while*\n",
    "\n",
    "O while é o comando utilizado para programar repetições no Python baseadas na avaliação de uma condição. Enquanto a condição for verdadeira, o bloco de comandos interno ao while é repetido. Quando a condição se torna falsa, o bloco de comandos deixa de repetir.\n",
    "\n",
    "```python\n",
    "while (cond):\n",
    "    bloco de comandos"
   ]
  },
  {
   "cell_type": "markdown",
   "id": "6357ca3c",
   "metadata": {
    "slideshow": {
     "slide_type": "subslide"
    }
   },
   "source": [
    "**Exemplo 1**: Digitar os nomes e idades de diversas pessoas, armazenando esses dados em 2 listas."
   ]
  },
  {
   "cell_type": "code",
   "execution_count": 238,
   "id": "5c39ab0d",
   "metadata": {
    "slideshow": {
     "slide_type": "subslide"
    }
   },
   "outputs": [
    {
     "name": "stdout",
     "output_type": "stream",
     "text": [
      "Digite um nome: ana\n",
      "Digite uma idade: 10\n",
      "Digite um nome: joão\n",
      "Digite uma idade: 5\n",
      "Digite um nome: fim\n",
      "\n",
      "\n",
      "Nomes digitados\n",
      "===============\n",
      "['ana', 'joão']\n",
      "\n",
      "Idades\n",
      "===============\n",
      "[10, 5]\n"
     ]
    }
   ],
   "source": [
    "lista_idades = []\n",
    "lista_pessoas = []\n",
    "\n",
    "nome = input(\"Digite um nome: \")\n",
    "while (nome.lower() != 'fim'):\n",
    "    idade = int(input(\"Digite uma idade: \"))\n",
    "    lista_idades.append(idade)\n",
    "    lista_pessoas.append(nome)\n",
    "    nome = input(\"Digite um nome: \")\n",
    "    \n",
    "print(\"\\n\\nNomes digitados\\n===============\")\n",
    "print(lista_pessoas)\n",
    "print(\"\\nIdades\\n===============\")\n",
    "print(lista_idades)"
   ]
  },
  {
   "cell_type": "markdown",
   "id": "fadc4e5c",
   "metadata": {
    "slideshow": {
     "slide_type": "subslide"
    }
   },
   "source": [
    "**Exemplo 2**: Digitar os nomes e idades de 2 pessoas, armazenando esses dados em 2 listas."
   ]
  },
  {
   "cell_type": "code",
   "execution_count": 240,
   "id": "bbff8be2",
   "metadata": {
    "slideshow": {
     "slide_type": "subslide"
    }
   },
   "outputs": [
    {
     "name": "stdout",
     "output_type": "stream",
     "text": [
      "Digite um nome: maria\n",
      "Digite uma idade: 2\n",
      "Digite um nome: josé\n",
      "Digite uma idade: 3\n",
      "\n",
      "\n",
      "Nomes digitados\n",
      "===============\n",
      "['maria', 'josé']\n",
      "\n",
      "Idades\n",
      "===============\n",
      "[2, 3]\n"
     ]
    }
   ],
   "source": [
    "lista_idades = []\n",
    "lista_pessoas = []\n",
    "cont = 0\n",
    "\n",
    "while (cont < 2):\n",
    "    nome = input(\"Digite um nome: \")    \n",
    "    idade = int(input(\"Digite uma idade: \"))\n",
    "    lista_idades.append(idade)\n",
    "    lista_pessoas.append(nome)\n",
    "    cont = cont + 1 # ou cont += 1\n",
    "    \n",
    "print(\"\\n\\nNomes digitados\\n===============\")\n",
    "print(lista_pessoas)\n",
    "print(\"\\nIdades\\n===============\")\n",
    "print(lista_idades)"
   ]
  },
  {
   "cell_type": "markdown",
   "id": "b038c1f7",
   "metadata": {
    "slideshow": {
     "slide_type": "subslide"
    }
   },
   "source": [
    "## 5.2. Comando *for* - Iterando sobre sequências de dados"
   ]
  },
  {
   "cell_type": "markdown",
   "id": "6a239bb5",
   "metadata": {
    "slideshow": {
     "slide_type": "subslide"
    }
   },
   "source": [
    "### 5.2.1. Iterando sobre uma lista"
   ]
  },
  {
   "cell_type": "code",
   "execution_count": 212,
   "id": "c4227b4b",
   "metadata": {
    "slideshow": {
     "slide_type": "fragment"
    }
   },
   "outputs": [
    {
     "name": "stdout",
     "output_type": "stream",
     "text": [
      "1\n",
      "19\n",
      "2\n",
      "15\n",
      "21\n",
      "12\n",
      "2\n"
     ]
    }
   ],
   "source": [
    "lista = [1, 19, 2, 15, 21, 12, 2]\n",
    "for num in lista:\n",
    "    print(num)"
   ]
  },
  {
   "cell_type": "code",
   "execution_count": 213,
   "id": "93256546",
   "metadata": {
    "slideshow": {
     "slide_type": "subslide"
    }
   },
   "outputs": [
    {
     "name": "stdout",
     "output_type": "stream",
     "text": [
      "1 é ímpar.\n",
      "19 é ímpar.\n",
      "2 é par.\n",
      "15 é ímpar.\n",
      "21 é ímpar.\n",
      "12 é par.\n",
      "2 é par.\n"
     ]
    }
   ],
   "source": [
    "# Verificando se um número é par ou ímpar\n",
    "for num in lista:\n",
    "    if num % 2 == 0:\n",
    "        print (\"{} é par.\".format(num))\n",
    "    else:\n",
    "        print(num,\"é ímpar.\")"
   ]
  },
  {
   "cell_type": "code",
   "execution_count": 214,
   "id": "e48ae0a6",
   "metadata": {
    "slideshow": {
     "slide_type": "subslide"
    }
   },
   "outputs": [
    {
     "name": "stdout",
     "output_type": "stream",
     "text": [
      "A lista contem 3 números pares e 4 números ímpares.\n"
     ]
    }
   ],
   "source": [
    "# Contador [impares e pares]\n",
    "cont_impar = 0\n",
    "cont_par = 0\n",
    "for num in lista:\n",
    "    if num % 2 == 0:\n",
    "        cont_par += 1\n",
    "    else:\n",
    "        cont_impar += 1\n",
    "print(\"A lista contem {} números pares e {} números ímpares.\".format(cont_par, cont_impar))"
   ]
  },
  {
   "cell_type": "code",
   "execution_count": 215,
   "id": "c538eea3",
   "metadata": {
    "slideshow": {
     "slide_type": "subslide"
    }
   },
   "outputs": [
    {
     "name": "stdout",
     "output_type": "stream",
     "text": [
      "A soma dos elementos da lista =  72\n"
     ]
    }
   ],
   "source": [
    "# Somatório\n",
    "soma = 0\n",
    "for n in lista:\n",
    "    soma += n\n",
    "print(\"A soma dos elementos da lista = \", soma)"
   ]
  },
  {
   "cell_type": "code",
   "execution_count": 216,
   "id": "2de7a8cb",
   "metadata": {
    "slideshow": {
     "slide_type": "fragment"
    }
   },
   "outputs": [
    {
     "name": "stdout",
     "output_type": "stream",
     "text": [
      "A soma dos elementos da lista =  72\n"
     ]
    }
   ],
   "source": [
    "# Há uma forma mais simples de calcular somatórios\n",
    "print(\"A soma dos elementos da lista = \", sum(lista))"
   ]
  },
  {
   "cell_type": "code",
   "execution_count": 217,
   "id": "67690623",
   "metadata": {
    "slideshow": {
     "slide_type": "subslide"
    }
   },
   "outputs": [
    {
     "name": "stdout",
     "output_type": "stream",
     "text": [
      "A soma dos elementos ímpares da lista =  56\n"
     ]
    }
   ],
   "source": [
    "# Mas a função sum() não permite somar elementos específicos\n",
    "soma_impar = 0\n",
    "for n in lista:\n",
    "    if n % 2 == 1:\n",
    "        soma_impar = soma_impar + n # sompa_impar += n\n",
    "print(\"A soma dos elementos ímpares da lista = \", soma_impar)"
   ]
  },
  {
   "cell_type": "markdown",
   "id": "096fe2f9",
   "metadata": {
    "slideshow": {
     "slide_type": "subslide"
    }
   },
   "source": [
    "### 5.2.2 Iterando sobre uma faixa de valores gerada com a função range"
   ]
  },
  {
   "cell_type": "code",
   "execution_count": 218,
   "id": "983bd7e6",
   "metadata": {
    "slideshow": {
     "slide_type": "subslide"
    }
   },
   "outputs": [
    {
     "name": "stdout",
     "output_type": "stream",
     "text": [
      "0\n",
      "1\n",
      "2\n",
      "3\n",
      "4\n"
     ]
    }
   ],
   "source": [
    "# Iterando sobre uma faixa de valores gerada com a função range()\n",
    "for i in range(5):\n",
    "    print(i)"
   ]
  },
  {
   "cell_type": "code",
   "execution_count": 219,
   "id": "dfd73a0d",
   "metadata": {
    "slideshow": {
     "slide_type": "subslide"
    }
   },
   "outputs": [
    {
     "name": "stdout",
     "output_type": "stream",
     "text": [
      "1683\n"
     ]
    }
   ],
   "source": [
    "# Somatório dos múltiplos de 3 entre 1 e 100\n",
    "soma_mult_3 = 0\n",
    "for x in range(3, 100, 3):\n",
    "    soma_mult_3 += x\n",
    "print(soma_mult_3)"
   ]
  },
  {
   "cell_type": "code",
   "execution_count": 220,
   "id": "55014106",
   "metadata": {
    "slideshow": {
     "slide_type": "subslide"
    }
   },
   "outputs": [
    {
     "name": "stdout",
     "output_type": "stream",
     "text": [
      "Digite o número que deseja imprimir a taboada: 7\n",
      "7 x 1 = 7\n",
      "7 x 2 = 14\n",
      "7 x 3 = 21\n",
      "7 x 4 = 28\n",
      "7 x 5 = 35\n",
      "7 x 6 = 42\n",
      "7 x 7 = 49\n",
      "7 x 8 = 56\n",
      "7 x 9 = 63\n",
      "7 x 10 = 70\n"
     ]
    }
   ],
   "source": [
    "# Imprimindo a taboada de um número qualquer\n",
    "num = int(input(\"Digite o número que deseja imprimir a taboada: \"))\n",
    "for mult in range(1,11):\n",
    "    print(\"{} x {} = {}\".format(num, mult, num*mult))"
   ]
  },
  {
   "cell_type": "code",
   "execution_count": 221,
   "id": "345118bc",
   "metadata": {
    "slideshow": {
     "slide_type": "subslide"
    }
   },
   "outputs": [
    {
     "name": "stdout",
     "output_type": "stream",
     "text": [
      "1\n",
      "19\n",
      "5\n",
      "12\n",
      "6\n"
     ]
    }
   ],
   "source": [
    "# Iterando sobre uma tupla\n",
    "tupla = (1, 19, 5, 12, 6)\n",
    "for ele in tupla:\n",
    "    print(ele)"
   ]
  },
  {
   "cell_type": "code",
   "execution_count": 222,
   "id": "3e4364fa",
   "metadata": {
    "slideshow": {
     "slide_type": "subslide"
    }
   },
   "outputs": [
    {
     "name": "stdout",
     "output_type": "stream",
     "text": [
      "p\n",
      "n\n",
      "e\n",
      "u\n",
      "m\n",
      "o\n",
      "u\n",
      "l\n",
      "t\n",
      "r\n",
      "a\n",
      "m\n",
      "i\n",
      "c\n",
      "r\n",
      "o\n",
      "s\n",
      "c\n",
      "o\n",
      "p\n",
      "i\n",
      "c\n",
      "o\n",
      "s\n",
      "s\n",
      "i\n",
      "l\n",
      "i\n",
      "c\n",
      "o\n",
      "v\n",
      "u\n",
      "l\n",
      "c\n",
      "a\n",
      "n\n",
      "o\n",
      "c\n",
      "o\n",
      "n\n",
      "i\n",
      "ó\n",
      "t\n",
      "i\n",
      "c\n",
      "o\n"
     ]
    }
   ],
   "source": [
    "# Iterando sobre uma string\n",
    "maiorpalavra  = \"pneumoultramicroscopicossilicovulcanoconiótico\"\n",
    "for letra in maiorpalavra:\n",
    "    print(letra)"
   ]
  },
  {
   "cell_type": "markdown",
   "id": "34e09fd7",
   "metadata": {
    "slideshow": {
     "slide_type": "subslide"
    }
   },
   "source": [
    "### Comprehensions\n",
    "\n",
    "Uma maneira bastante concisa que o Python fornece para a criação de sequencias (listas, tuplas, dicionários, strings, etc).\n",
    "\n",
    "**Sintaxe:**\n",
    "\n",
    "```python\n",
    "listasaida = [expressão for var in listaentrada]\n",
    "\n",
    "listasaida = [expressão for var in listaentrada if condição]\n",
    "```"
   ]
  },
  {
   "cell_type": "code",
   "execution_count": 224,
   "id": "ee257e03",
   "metadata": {
    "slideshow": {
     "slide_type": "subslide"
    }
   },
   "outputs": [
    {
     "data": {
      "text/plain": [
       "[1, 2, 3, 4, 5, 6, 7, 8, 9, 10, 11, 12, 13, 14, 15, 16, 17, 18, 19, 20]"
      ]
     },
     "execution_count": 224,
     "metadata": {},
     "output_type": "execute_result"
    }
   ],
   "source": [
    "# Criando uma lista usando for\n",
    "lista3 = []\n",
    "for i in range(1, 21):\n",
    "    lista3.append(i)\n",
    "lista3"
   ]
  },
  {
   "cell_type": "code",
   "execution_count": 225,
   "id": "9097a81a",
   "metadata": {
    "slideshow": {
     "slide_type": "fragment"
    }
   },
   "outputs": [
    {
     "data": {
      "text/plain": [
       "[1, 2, 3, 4, 5, 6, 7, 8, 9, 10, 11, 12, 13, 14, 15, 16, 17, 18, 19, 20]"
      ]
     },
     "execution_count": 225,
     "metadata": {},
     "output_type": "execute_result"
    }
   ],
   "source": [
    "# Criando uma lista usando Comprehension\n",
    "lista4 = [i for i in range(1,21)]\n",
    "lista4"
   ]
  },
  {
   "cell_type": "code",
   "execution_count": 227,
   "id": "f4263f1a",
   "metadata": {
    "slideshow": {
     "slide_type": "subslide"
    }
   },
   "outputs": [
    {
     "data": {
      "text/plain": [
       "[2, 4, 6, 8, 10]"
      ]
     },
     "execution_count": 227,
     "metadata": {},
     "output_type": "execute_result"
    }
   ],
   "source": [
    "pares2 = [num for num in range (1,11) if num % 2 == 0]\n",
    "pares2"
   ]
  },
  {
   "cell_type": "code",
   "execution_count": 228,
   "id": "85f81a7e",
   "metadata": {
    "slideshow": {
     "slide_type": "fragment"
    }
   },
   "outputs": [
    {
     "data": {
      "text/plain": [
       "[21, 42, 63, 84]"
      ]
     },
     "execution_count": 228,
     "metadata": {},
     "output_type": "execute_result"
    }
   ],
   "source": [
    "divisiveis3e7 = [num for num in range(1,100) if num % 3 == 0 and num % 7 == 0]\n",
    "divisiveis3e7"
   ]
  }
 ],
 "metadata": {
  "celltoolbar": "Slideshow",
  "kernelspec": {
   "display_name": "Python 3 (ipykernel)",
   "language": "python",
   "name": "python3"
  },
  "language_info": {
   "codemirror_mode": {
    "name": "ipython",
    "version": 3
   },
   "file_extension": ".py",
   "mimetype": "text/x-python",
   "name": "python",
   "nbconvert_exporter": "python",
   "pygments_lexer": "ipython3",
   "version": "3.9.12"
  }
 },
 "nbformat": 4,
 "nbformat_minor": 5
}
