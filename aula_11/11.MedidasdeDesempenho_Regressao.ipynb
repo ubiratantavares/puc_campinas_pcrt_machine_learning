{
 "cells": [
  {
   "cell_type": "markdown",
   "id": "c9736160",
   "metadata": {
    "slideshow": {
     "slide_type": "slide"
    }
   },
   "source": [
    "<img src=\"imagens/Boas vindas.png\">"
   ]
  },
  {
   "cell_type": "markdown",
   "id": "87242b17",
   "metadata": {
    "slideshow": {
     "slide_type": "subslide"
    }
   },
   "source": [
    "# Sumário - Regressão\n",
    "\n",
    "1) **R²**\n",
    "\n",
    "2) **MSE/RMSE**\n",
    "\n",
    "3) **MAE**\n",
    "\n",
    "4) **Exemplo Comparativo**"
   ]
  },
  {
   "cell_type": "markdown",
   "id": "8b364828",
   "metadata": {
    "slideshow": {
     "slide_type": "slide"
    }
   },
   "source": [
    "# 1. R²"
   ]
  },
  {
   "cell_type": "markdown",
   "id": "3bcc8b7a",
   "metadata": {
    "slideshow": {
     "slide_type": "subslide"
    }
   },
   "source": [
    "### O R² (pronuncia-se \"R ao quadrado\") é uma métrica comumente usada para avaliar a qualidade de um modelo de regressão em Machine Learning.\n",
    "\n",
    "- Em outras palavras, o R² mede a proporção da variabilidade dos dados que é explicada pelo modelo."
   ]
  },
  {
   "cell_type": "markdown",
   "id": "23e9c780",
   "metadata": {
    "slideshow": {
     "slide_type": "subslide"
    }
   },
   "source": [
    "### O valor do R² varia de 0 a 1,\n",
    "\n",
    "- O R² de 1 indica que o modelo explica perfeitamente toda a variabilidade dos dados. \n",
    "- O R² de 0 indica que o modelo não explica nenhuma variação dos dados. \n",
    "- Valores intermediários de R² indicam que o modelo explica uma parte da variabilidade dos dados."
   ]
  },
  {
   "cell_type": "markdown",
   "id": "13025887",
   "metadata": {
    "slideshow": {
     "slide_type": "subslide"
    }
   },
   "source": [
    "o R² tem algumas limitações e **não deve ser usado como a única métrica para avaliar um modelo.** \n",
    "\n",
    "Por exemplo, o R² não considera a capacidade do modelo de fazer previsões precisas para valores não vistos nos dados de treinamento (overfitting ou underfitting), nem a distribuição dos erros de previsão."
   ]
  },
  {
   "cell_type": "markdown",
   "id": "49a282a2",
   "metadata": {
    "slideshow": {
     "slide_type": "subslide"
    }
   },
   "source": [
    "O valor de R² é dado por:\n",
    "\n",
    "\\begin{equation}\n",
    "R^2 = 1 - \\frac{\\sum_{i=1}^n (y_i - \\hat{y}_i)^2}{\\sum_{i=1}^n (y_i - \\bar{y})^2}\n",
    "\\end{equation}"
   ]
  },
  {
   "cell_type": "markdown",
   "id": "48dff738",
   "metadata": {
    "slideshow": {
     "slide_type": "fragment"
    }
   },
   "source": [
    "Onde,\n",
    "\n",
    "- $\\sum_{i=1}^n (y_i - \\hat{y}_i)^2$ é a soma dos quadrados dos resíduos (erros de previsão)\n",
    "\n",
    "\n",
    "- $\\sum_{i=1}^n (y_i - \\bar{y})^2$ é a soma dos quadrados totais, definida como a soma dos quadrados entre a média e os valores observados."
   ]
  },
  {
   "cell_type": "markdown",
   "id": "fbe36ae4",
   "metadata": {
    "slideshow": {
     "slide_type": "subslide"
    }
   },
   "source": [
    "Vamos gerar um conjunto de dados sintético de regressão linear. Para isso, vamos utilizar a biblioteca `numpy` e a função `randn` para gerar números aleatórios de uma distribuição normal:"
   ]
  },
  {
   "cell_type": "code",
   "execution_count": 1,
   "id": "e4e9551f",
   "metadata": {
    "slideshow": {
     "slide_type": "subslide"
    }
   },
   "outputs": [],
   "source": [
    "import numpy as np\n",
    "\n",
    "# gerando dados sintéticos de regressão linear\n",
    "np.random.seed(80)\n",
    "x = np.random.randn(100)\n",
    "y = 2 * x + np.random.randn(100)"
   ]
  },
  {
   "cell_type": "markdown",
   "id": "5c4b5c04",
   "metadata": {
    "slideshow": {
     "slide_type": "fragment"
    }
   },
   "source": [
    "Estamos gerando 100 valores aleatórios para a variável `x` e 100 valores correspondentes para a variável `y`. A relação entre `x` e `y` é linear, com um coeficiente de inclinação de 2 e um termo de erro aleatório adicionado."
   ]
  },
  {
   "cell_type": "code",
   "execution_count": 2,
   "id": "1a76d4be",
   "metadata": {
    "slideshow": {
     "slide_type": "subslide"
    }
   },
   "outputs": [],
   "source": [
    "import matplotlib.pyplot as plt\n",
    "import matplotlib.pylab as pylab\n",
    "\n",
    "params = {'legend.fontsize': 20,\n",
    "          'figure.figsize': (15,5),\n",
    "         'axes.labelsize': 20,\n",
    "         'axes.titlesize': 20,\n",
    "         'xtick.labelsize': 20,\n",
    "         'ytick.labelsize': 20}"
   ]
  },
  {
   "cell_type": "code",
   "execution_count": 4,
   "id": "4c7df809",
   "metadata": {
    "slideshow": {
     "slide_type": "subslide"
    }
   },
   "outputs": [
    {
     "data": {
      "image/png": "[encoded data removed]",
      "text/plain": [
       "<Figure size 1080x360 with 1 Axes>"
      ]
     },
     "metadata": {
      "needs_background": "light"
     },
     "output_type": "display_data"
    }
   ],
   "source": [
    "# plotando os dados\n",
    "pylab.rcParams.update(params)\n",
    "plt.scatter(x, y)\n",
    "plt.xlabel('x')\n",
    "plt.ylabel('y')\n",
    "plt.show()"
   ]
  },
  {
   "cell_type": "markdown",
   "id": "e2fd937e",
   "metadata": {
    "slideshow": {
     "slide_type": "subslide"
    }
   },
   "source": [
    "Vamos ajustar um modelo de regressão linear aos dados e calcular o R²"
   ]
  },
  {
   "cell_type": "code",
   "execution_count": 5,
   "id": "63bca1b8",
   "metadata": {
    "slideshow": {
     "slide_type": "fragment"
    }
   },
   "outputs": [
    {
     "name": "stdout",
     "output_type": "stream",
     "text": [
      "R²: 0.86\n"
     ]
    }
   ],
   "source": [
    "from sklearn.linear_model import LinearRegression\n",
    "from sklearn.model_selection import train_test_split\n",
    "from sklearn.metrics import r2_score\n",
    "\n",
    "# dividindo os dados em conjuntos de treinamento e teste\n",
    "x_train, x_test, y_train, y_test = train_test_split(x, y, test_size=0.20, random_state=80)\n",
    "\n",
    "# ajustando um modelo de regressão linear aos dados de treinamento\n",
    "model = LinearRegression()\n",
    "model.fit(x_train.reshape(-1, 1), y_train)\n",
    "\n",
    "# fazendo previsões com o modelo nos dados de teste\n",
    "y_pred = model.predict(x_test.reshape(-1, 1))\n",
    "\n",
    "# calculando o R²\n",
    "r2 = r2_score(y_test, y_pred)\n",
    "print(f\"R²: {r2:.2f}\")"
   ]
  },
  {
   "cell_type": "code",
   "execution_count": 6,
   "id": "717639e0",
   "metadata": {
    "slideshow": {
     "slide_type": "subslide"
    }
   },
   "outputs": [
    {
     "data": {
      "image/png": "[encoded data removed]",
      "text/plain": [
       "<Figure size 1080x360 with 1 Axes>"
      ]
     },
     "metadata": {
      "needs_background": "light"
     },
     "output_type": "display_data"
    }
   ],
   "source": [
    "# plotando os dados e a linha de regressão linear\n",
    "plt.scatter(x_test, y_test)\n",
    "plt.plot(x_test, y_pred, color='red')\n",
    "plt.xlabel('x')\n",
    "plt.ylabel('y')\n",
    "plt.show()"
   ]
  },
  {
   "cell_type": "markdown",
   "id": "7a9d21ec",
   "metadata": {
    "slideshow": {
     "slide_type": "slide"
    }
   },
   "source": [
    "# 2. MSE/RMSE (*Mean Squared Error/Root Mean Squared Error*)"
   ]
  },
  {
   "cell_type": "markdown",
   "id": "e2003d4a",
   "metadata": {
    "slideshow": {
     "slide_type": "subslide"
    }
   },
   "source": [
    "### O Erro Médio Quadrático (MSE) e a Raiz do Erro Médio Quadrático (RMSE) são métricas comuns usadas para avaliar a qualidade dos modelos de machine learning."
   ]
  },
  {
   "cell_type": "markdown",
   "id": "17ffcb88",
   "metadata": {
    "slideshow": {
     "slide_type": "subslide"
    }
   },
   "source": [
    "**O MSE é calculado encontrando a média dos quadrados das diferenças entre os valores reais e previstos de um conjunto de dados. Quanto menor o valor do MSE, melhor é o desempenho do modelo.**\n",
    "\n",
    "**O RMSE é simplesmente a raiz quadrada do MSE. Ele é usado para medir o erro médio entre as previsões do modelo e os valores reais em uma escala mais intuitiva. Assim como o MSE, quanto menor o valor do RMSE, melhor é o desempenho do modelo.**"
   ]
  },
  {
   "cell_type": "markdown",
   "id": "b271ffde",
   "metadata": {
    "slideshow": {
     "slide_type": "subslide"
    }
   },
   "source": [
    "Essas métricas são especialmente úteis quando se trabalha com problemas de regressão, onde o objetivo é prever um valor numérico, como por exemplo, prever o preço de uma casa.\n",
    "\n",
    "**O MSE/RMSE medem a precisão do modelo na previsão desses valores numéricos.**"
   ]
  },
  {
   "cell_type": "markdown",
   "id": "9d422db7",
   "metadata": {
    "slideshow": {
     "slide_type": "subslide"
    }
   },
   "source": [
    "\\begin{equation}\n",
    "\\text{MSE} = \\frac{1}{n} \\sum_{i=1}^{n} (y_i - \\hat{y_i})^2\n",
    "\\end{equation}\n",
    "\n",
    "\\begin{equation}\n",
    "\\text{RMSE} = \\sqrt{\\frac{1}{n} \\sum_{i=1}^{n} (y_i - \\hat{y_i})^2}\n",
    "\\end{equation}"
   ]
  },
  {
   "cell_type": "markdown",
   "id": "f46b7da2",
   "metadata": {
    "slideshow": {
     "slide_type": "fragment"
    }
   },
   "source": [
    "Onde:\n",
    "    \n",
    "- $y_i$ é o valor verdadeiro da i-ésima amostra;\n",
    "- $\\hat{y_i}$ é o valor previsto para a i-ésima amostra;\n",
    "- $n$ é o número total de amostras"
   ]
  },
  {
   "cell_type": "markdown",
   "id": "ba5848a6",
   "metadata": {
    "slideshow": {
     "slide_type": "subslide"
    }
   },
   "source": [
    "Vamos criar um exemplo simples de uso do MSE e do RMSE em Python, utilizando um conjunto de dados de preços de casas em função de suas áreas. Portanto, podemos gerar aleatoriamente um conjunto de dados de áreas e preços de casas:"
   ]
  },
  {
   "cell_type": "code",
   "execution_count": 7,
   "id": "4ee397cd",
   "metadata": {
    "slideshow": {
     "slide_type": "fragment"
    }
   },
   "outputs": [],
   "source": [
    "np.random.seed(42)  # para garantir que os resultados sejam replicáveis\n",
    "\n",
    "X = np.random.randint(low = 50, high = 300, size = 100)  # áreas entre 50 e 300 metros quadrados\n",
    "y = 5000 + 500 * X + np.random.normal(scale = 8000, size = 100)  # preços com base na área, com ruído adicionado"
   ]
  },
  {
   "cell_type": "code",
   "execution_count": 8,
   "id": "a5c39edf",
   "metadata": {
    "slideshow": {
     "slide_type": "fragment"
    }
   },
   "outputs": [],
   "source": [
    "from sklearn.model_selection import train_test_split\n",
    "\n",
    "X_train, X_test, y_train, y_test = train_test_split(X.reshape(-1, 1), y, test_size = 0.2, \n",
    "                                                    random_state = 42)"
   ]
  },
  {
   "cell_type": "code",
   "execution_count": 9,
   "id": "18111ed7",
   "metadata": {
    "slideshow": {
     "slide_type": "subslide"
    }
   },
   "outputs": [],
   "source": [
    "from sklearn.linear_model import LinearRegression\n",
    "\n",
    "lr = LinearRegression()\n",
    "lr.fit(X_train, y_train)\n",
    "\n",
    "y_pred_train = lr.predict(X_train)\n",
    "y_pred_test = lr.predict(X_test)"
   ]
  },
  {
   "cell_type": "markdown",
   "id": "364ddfa8",
   "metadata": {
    "slideshow": {
     "slide_type": "subslide"
    }
   },
   "source": [
    "Podemos calcular o MSE e o RMSE para avaliar o desempenho do modelo:"
   ]
  },
  {
   "cell_type": "code",
   "execution_count": 10,
   "id": "ec29dfcc",
   "metadata": {
    "slideshow": {
     "slide_type": "fragment"
    }
   },
   "outputs": [
    {
     "name": "stdout",
     "output_type": "stream",
     "text": [
      "MSE no conjunto de treino: 62486319.13\n",
      "MSE no conjunto de teste: 59519383.11\n",
      "RMSE no conjunto de treino: 7904.83\n",
      "RMSE no conjunto de teste: 7714.88\n"
     ]
    }
   ],
   "source": [
    "from sklearn.metrics import mean_squared_error\n",
    "\n",
    "mse_train = mean_squared_error(y_train, y_pred_train)\n",
    "mse_test = mean_squared_error(y_test, y_pred_test)\n",
    "\n",
    "rmse_train = np.sqrt(mse_train)\n",
    "rmse_test = np.sqrt(mse_test)\n",
    "\n",
    "print(f\"MSE no conjunto de treino: {mse_train:.2f}\")\n",
    "print(f\"MSE no conjunto de teste: {mse_test:.2f}\")\n",
    "print(f\"RMSE no conjunto de treino: {rmse_train:.2f}\")\n",
    "print(f\"RMSE no conjunto de teste: {rmse_test:.2f}\")"
   ]
  },
  {
   "cell_type": "code",
   "execution_count": 11,
   "id": "6cc67e45",
   "metadata": {
    "slideshow": {
     "slide_type": "subslide"
    }
   },
   "outputs": [
    {
     "data": {
      "image/png": "[encoded data removed]",
      "text/plain": [
       "<Figure size 1080x360 with 1 Axes>"
      ]
     },
     "metadata": {
      "needs_background": "light"
     },
     "output_type": "display_data"
    }
   ],
   "source": [
    "plt.scatter(X_train, y_train, label = \"Dados de treino\")\n",
    "plt.scatter(X_test, y_test, label = \"Dados de teste\")\n",
    "plt.plot(X_train, y_pred_train, c = \"red\", label = \"Previsões no treino\")\n",
    "plt.plot(X_test, y_pred_test, c = \"orange\", label = \"Previsões no teste\")\n",
    "plt.xlabel(\"Área (m²)\")\n",
    "plt.ylabel(\"Preço (R$)\")\n",
    "plt.legend()\n",
    "plt.show()"
   ]
  },
  {
   "cell_type": "markdown",
   "id": "4fc0f4d7",
   "metadata": {
    "slideshow": {
     "slide_type": "slide"
    }
   },
   "source": [
    "# 3. MAE (*Mean Absolute Error*) "
   ]
  },
  {
   "cell_type": "markdown",
   "id": "0bd18d95",
   "metadata": {
    "slideshow": {
     "slide_type": "subslide"
    }
   },
   "source": [
    "### O MAE é uma medida de erro que calcula a diferença média absoluta entre as previsões do modelo e os valores reais. \n",
    "\n",
    "Em outras palavras, ele calcula a média das diferenças absolutas entre cada previsão e o valor real correspondente."
   ]
  },
  {
   "cell_type": "markdown",
   "id": "e89eb092",
   "metadata": {
    "slideshow": {
     "slide_type": "subslide"
    }
   },
   "source": [
    "O cálculo do MAE é relativamente simples. Seja $y$ o vetor contendo os valores reais e $\\hat{y}$ o vetor contendo as previsões do modelo, então o MAE é dado por:"
   ]
  },
  {
   "cell_type": "markdown",
   "id": "d3e4a303",
   "metadata": {
    "slideshow": {
     "slide_type": "fragment"
    }
   },
   "source": [
    "\\begin{equation}\n",
    "\\text{MAE} = \\frac{1}{n} * \\sum_{i=1}^{n} |y_i - \\hat{y}_i|\n",
    "\\end{equation}\n",
    "\n",
    "onde $n$ é o número de exemplos no conjunto de dados."
   ]
  },
  {
   "cell_type": "markdown",
   "id": "ae8c2ee9",
   "metadata": {
    "slideshow": {
     "slide_type": "subslide"
    }
   },
   "source": [
    "O MAE é útil porque fornece uma medida de quão longe as previsões do modelo estão dos valores reais, em termos absolutos. \n",
    "\n",
    "Ele pode ser usado para comparar diferentes modelos e determinar qual deles tem um desempenho melhor."
   ]
  },
  {
   "cell_type": "code",
   "execution_count": 12,
   "id": "9ea66f51",
   "metadata": {
    "slideshow": {
     "slide_type": "subslide"
    }
   },
   "outputs": [],
   "source": [
    "from sklearn.metrics import mean_absolute_error\n",
    "\n",
    "# Criar um conjunto de dados sintético\n",
    "np.random.seed(8)\n",
    "X = np.random.rand(100, 1)\n",
    "y = 2 * X + 1*np.random.randn(100, 1)  # Adicionar ruído gaussiano\n",
    "\n",
    "# Dividir o conjunto de dados em treino e teste\n",
    "X_train, X_test, y_train, y_test = X[:70], X[70:], y[:70], y[70:]"
   ]
  },
  {
   "cell_type": "code",
   "execution_count": 14,
   "id": "ac5edfeb",
   "metadata": {
    "slideshow": {
     "slide_type": "subslide"
    }
   },
   "outputs": [
    {
     "name": "stdout",
     "output_type": "stream",
     "text": [
      "MAE:  0.85\n"
     ]
    }
   ],
   "source": [
    "# Treinar um modelo de regressão linear\n",
    "model = LinearRegression()\n",
    "model.fit(X_train, y_train)\n",
    "\n",
    "# Fazer previsões no conjunto de teste\n",
    "y_pred = model.predict(X_test)\n",
    "\n",
    "# Calcular o MAE\n",
    "mae = mean_absolute_error(y_test, y_pred)\n",
    "print(\"MAE: \", round(mae,2))"
   ]
  },
  {
   "cell_type": "code",
   "execution_count": 15,
   "id": "f9976185",
   "metadata": {
    "slideshow": {
     "slide_type": "subslide"
    }
   },
   "outputs": [
    {
     "data": {
      "image/png": "[encoded data removed]",
      "text/plain": [
       "<Figure size 1080x360 with 1 Axes>"
      ]
     },
     "metadata": {
      "needs_background": "light"
     },
     "output_type": "display_data"
    }
   ],
   "source": [
    "# Plotar as previsões vs valores reais\n",
    "plt.scatter(X_test, y_test)\n",
    "plt.plot(X_test, y_pred, color = 'red')\n",
    "plt.xlabel(\"X\")\n",
    "plt.ylabel(\"y\")\n",
    "plt.show()"
   ]
  },
  {
   "cell_type": "markdown",
   "id": "3fffeedc",
   "metadata": {
    "slideshow": {
     "slide_type": "slide"
    }
   },
   "source": [
    "# 4. Exemplo Comparativo - Classificação por Regressão"
   ]
  },
  {
   "cell_type": "markdown",
   "id": "0a408867",
   "metadata": {
    "slideshow": {
     "slide_type": "subslide"
    }
   },
   "source": [
    "## Parte 1: Carregando o conjunto de dados\n",
    "Para este exemplo, vamos utilizar o conjunto de dados \"Wine Quality\", que pode ser baixado diretamente do repositório da UCI Machine Learning. O conjunto de dados possui informações sobre características físico-químicas de diferentes tipos de vinho, bem como sua qualidade. O objetivo é criar um modelo capaz de prever a qualidade do vinho com base em suas características.\n",
    "\n",
    "Vamos começar importando as bibliotecas necessárias e carregando o conjunto de dados:"
   ]
  },
  {
   "cell_type": "code",
   "execution_count": 16,
   "id": "9a02758c",
   "metadata": {
    "slideshow": {
     "slide_type": "subslide"
    }
   },
   "outputs": [],
   "source": [
    "import pandas as pd\n",
    "import numpy as np\n",
    "from sklearn.model_selection import train_test_split\n",
    "from sklearn.linear_model import LinearRegression\n",
    "from sklearn.tree import DecisionTreeRegressor\n",
    "from sklearn.ensemble import RandomForestRegressor\n",
    "from sklearn.metrics import mean_absolute_error, mean_squared_error, r2_score\n",
    "import matplotlib.pyplot as plt\n",
    "\n",
    "# Carregando o conjunto de dados\n",
    "data = pd.read_csv(\"https://archive.ics.uci.edu/ml/machine-learning-databases/wine-quality/winequality-red.csv\", delimiter=';')"
   ]
  },
  {
   "cell_type": "code",
   "execution_count": 17,
   "id": "e34b4717",
   "metadata": {
    "scrolled": true,
    "slideshow": {
     "slide_type": "subslide"
    }
   },
   "outputs": [
    {
     "data": {
      "text/html": [
       "<div>\n",
       "<style scoped>\n",
       "    .dataframe tbody tr th:only-of-type {\n",
       "        vertical-align: middle;\n",
       "    }\n",
       "\n",
       "    .dataframe tbody tr th {\n",
       "        vertical-align: top;\n",
       "    }\n",
       "\n",
       "    .dataframe thead th {\n",
       "        text-align: right;\n",
       "    }\n",
       "</style>\n",
       "<table border=\"1\" class=\"dataframe\">\n",
       "  <thead>\n",
       "    <tr style=\"text-align: right;\">\n",
       "      <th></th>\n",
       "      <th>fixed acidity</th>\n",
       "      <th>volatile acidity</th>\n",
       "      <th>citric acid</th>\n",
       "      <th>residual sugar</th>\n",
       "      <th>chlorides</th>\n",
       "      <th>free sulfur dioxide</th>\n",
       "      <th>total sulfur dioxide</th>\n",
       "      <th>density</th>\n",
       "      <th>pH</th>\n",
       "      <th>sulphates</th>\n",
       "      <th>alcohol</th>\n",
       "      <th>quality</th>\n",
       "    </tr>\n",
       "  </thead>\n",
       "  <tbody>\n",
       "    <tr>\n",
       "      <th>0</th>\n",
       "      <td>7.4</td>\n",
       "      <td>0.700</td>\n",
       "      <td>0.00</td>\n",
       "      <td>1.9</td>\n",
       "      <td>0.076</td>\n",
       "      <td>11.0</td>\n",
       "      <td>34.0</td>\n",
       "      <td>0.99780</td>\n",
       "      <td>3.51</td>\n",
       "      <td>0.56</td>\n",
       "      <td>9.4</td>\n",
       "      <td>5</td>\n",
       "    </tr>\n",
       "    <tr>\n",
       "      <th>1</th>\n",
       "      <td>7.8</td>\n",
       "      <td>0.880</td>\n",
       "      <td>0.00</td>\n",
       "      <td>2.6</td>\n",
       "      <td>0.098</td>\n",
       "      <td>25.0</td>\n",
       "      <td>67.0</td>\n",
       "      <td>0.99680</td>\n",
       "      <td>3.20</td>\n",
       "      <td>0.68</td>\n",
       "      <td>9.8</td>\n",
       "      <td>5</td>\n",
       "    </tr>\n",
       "    <tr>\n",
       "      <th>2</th>\n",
       "      <td>7.8</td>\n",
       "      <td>0.760</td>\n",
       "      <td>0.04</td>\n",
       "      <td>2.3</td>\n",
       "      <td>0.092</td>\n",
       "      <td>15.0</td>\n",
       "      <td>54.0</td>\n",
       "      <td>0.99700</td>\n",
       "      <td>3.26</td>\n",
       "      <td>0.65</td>\n",
       "      <td>9.8</td>\n",
       "      <td>5</td>\n",
       "    </tr>\n",
       "    <tr>\n",
       "      <th>3</th>\n",
       "      <td>11.2</td>\n",
       "      <td>0.280</td>\n",
       "      <td>0.56</td>\n",
       "      <td>1.9</td>\n",
       "      <td>0.075</td>\n",
       "      <td>17.0</td>\n",
       "      <td>60.0</td>\n",
       "      <td>0.99800</td>\n",
       "      <td>3.16</td>\n",
       "      <td>0.58</td>\n",
       "      <td>9.8</td>\n",
       "      <td>6</td>\n",
       "    </tr>\n",
       "    <tr>\n",
       "      <th>4</th>\n",
       "      <td>7.4</td>\n",
       "      <td>0.700</td>\n",
       "      <td>0.00</td>\n",
       "      <td>1.9</td>\n",
       "      <td>0.076</td>\n",
       "      <td>11.0</td>\n",
       "      <td>34.0</td>\n",
       "      <td>0.99780</td>\n",
       "      <td>3.51</td>\n",
       "      <td>0.56</td>\n",
       "      <td>9.4</td>\n",
       "      <td>5</td>\n",
       "    </tr>\n",
       "    <tr>\n",
       "      <th>...</th>\n",
       "      <td>...</td>\n",
       "      <td>...</td>\n",
       "      <td>...</td>\n",
       "      <td>...</td>\n",
       "      <td>...</td>\n",
       "      <td>...</td>\n",
       "      <td>...</td>\n",
       "      <td>...</td>\n",
       "      <td>...</td>\n",
       "      <td>...</td>\n",
       "      <td>...</td>\n",
       "      <td>...</td>\n",
       "    </tr>\n",
       "    <tr>\n",
       "      <th>1594</th>\n",
       "      <td>6.2</td>\n",
       "      <td>0.600</td>\n",
       "      <td>0.08</td>\n",
       "      <td>2.0</td>\n",
       "      <td>0.090</td>\n",
       "      <td>32.0</td>\n",
       "      <td>44.0</td>\n",
       "      <td>0.99490</td>\n",
       "      <td>3.45</td>\n",
       "      <td>0.58</td>\n",
       "      <td>10.5</td>\n",
       "      <td>5</td>\n",
       "    </tr>\n",
       "    <tr>\n",
       "      <th>1595</th>\n",
       "      <td>5.9</td>\n",
       "      <td>0.550</td>\n",
       "      <td>0.10</td>\n",
       "      <td>2.2</td>\n",
       "      <td>0.062</td>\n",
       "      <td>39.0</td>\n",
       "      <td>51.0</td>\n",
       "      <td>0.99512</td>\n",
       "      <td>3.52</td>\n",
       "      <td>0.76</td>\n",
       "      <td>11.2</td>\n",
       "      <td>6</td>\n",
       "    </tr>\n",
       "    <tr>\n",
       "      <th>1596</th>\n",
       "      <td>6.3</td>\n",
       "      <td>0.510</td>\n",
       "      <td>0.13</td>\n",
       "      <td>2.3</td>\n",
       "      <td>0.076</td>\n",
       "      <td>29.0</td>\n",
       "      <td>40.0</td>\n",
       "      <td>0.99574</td>\n",
       "      <td>3.42</td>\n",
       "      <td>0.75</td>\n",
       "      <td>11.0</td>\n",
       "      <td>6</td>\n",
       "    </tr>\n",
       "    <tr>\n",
       "      <th>1597</th>\n",
       "      <td>5.9</td>\n",
       "      <td>0.645</td>\n",
       "      <td>0.12</td>\n",
       "      <td>2.0</td>\n",
       "      <td>0.075</td>\n",
       "      <td>32.0</td>\n",
       "      <td>44.0</td>\n",
       "      <td>0.99547</td>\n",
       "      <td>3.57</td>\n",
       "      <td>0.71</td>\n",
       "      <td>10.2</td>\n",
       "      <td>5</td>\n",
       "    </tr>\n",
       "    <tr>\n",
       "      <th>1598</th>\n",
       "      <td>6.0</td>\n",
       "      <td>0.310</td>\n",
       "      <td>0.47</td>\n",
       "      <td>3.6</td>\n",
       "      <td>0.067</td>\n",
       "      <td>18.0</td>\n",
       "      <td>42.0</td>\n",
       "      <td>0.99549</td>\n",
       "      <td>3.39</td>\n",
       "      <td>0.66</td>\n",
       "      <td>11.0</td>\n",
       "      <td>6</td>\n",
       "    </tr>\n",
       "  </tbody>\n",
       "</table>\n",
       "<p>1599 rows × 12 columns</p>\n",
       "</div>"
      ],
      "text/plain": [
       "      fixed acidity  volatile acidity  citric acid  residual sugar  chlorides  \\\n",
       "0               7.4             0.700         0.00             1.9      0.076   \n",
       "1               7.8             0.880         0.00             2.6      0.098   \n",
       "2               7.8             0.760         0.04             2.3      0.092   \n",
       "3              11.2             0.280         0.56             1.9      0.075   \n",
       "4               7.4             0.700         0.00             1.9      0.076   \n",
       "...             ...               ...          ...             ...        ...   \n",
       "1594            6.2             0.600         0.08             2.0      0.090   \n",
       "1595            5.9             0.550         0.10             2.2      0.062   \n",
       "1596            6.3             0.510         0.13             2.3      0.076   \n",
       "1597            5.9             0.645         0.12             2.0      0.075   \n",
       "1598            6.0             0.310         0.47             3.6      0.067   \n",
       "\n",
       "      free sulfur dioxide  total sulfur dioxide  density    pH  sulphates  \\\n",
       "0                    11.0                  34.0  0.99780  3.51       0.56   \n",
       "1                    25.0                  67.0  0.99680  3.20       0.68   \n",
       "2                    15.0                  54.0  0.99700  3.26       0.65   \n",
       "3                    17.0                  60.0  0.99800  3.16       0.58   \n",
       "4                    11.0                  34.0  0.99780  3.51       0.56   \n",
       "...                   ...                   ...      ...   ...        ...   \n",
       "1594                 32.0                  44.0  0.99490  3.45       0.58   \n",
       "1595                 39.0                  51.0  0.99512  3.52       0.76   \n",
       "1596                 29.0                  40.0  0.99574  3.42       0.75   \n",
       "1597                 32.0                  44.0  0.99547  3.57       0.71   \n",
       "1598                 18.0                  42.0  0.99549  3.39       0.66   \n",
       "\n",
       "      alcohol  quality  \n",
       "0         9.4        5  \n",
       "1         9.8        5  \n",
       "2         9.8        5  \n",
       "3         9.8        6  \n",
       "4         9.4        5  \n",
       "...       ...      ...  \n",
       "1594     10.5        5  \n",
       "1595     11.2        6  \n",
       "1596     11.0        6  \n",
       "1597     10.2        5  \n",
       "1598     11.0        6  \n",
       "\n",
       "[1599 rows x 12 columns]"
      ]
     },
     "execution_count": 17,
     "metadata": {},
     "output_type": "execute_result"
    }
   ],
   "source": [
    "data"
   ]
  },
  {
   "cell_type": "markdown",
   "id": "be646813",
   "metadata": {
    "slideshow": {
     "slide_type": "subslide"
    }
   },
   "source": [
    "## Parte 2: Preparando os dados\n",
    "O conjunto de dados precisa ser preparado antes de ser utilizado para treinar e testar os modelos de machine learning. Vamos começar separando a variável alvo (\"quality\") das outras variáveis explicativas:"
   ]
  },
  {
   "cell_type": "code",
   "execution_count": 18,
   "id": "41daaeee",
   "metadata": {
    "slideshow": {
     "slide_type": "subslide"
    }
   },
   "outputs": [],
   "source": [
    "# Separando a variável alvo das variáveis explicativas\n",
    "X = data.drop(['quality'], axis = 1)\n",
    "y = data['quality']\n",
    "\n",
    "# Dividindo o conjunto de dados em conjuntos de treino e teste\n",
    "X_train, X_test, y_train, y_test = train_test_split(X, y, test_size = 0.2, random_state = 42)"
   ]
  },
  {
   "cell_type": "markdown",
   "id": "6e718092",
   "metadata": {
    "slideshow": {
     "slide_type": "subslide"
    }
   },
   "source": [
    "## Parte 3: Treinando e avaliando os modelos\n",
    "Agora vamos criar três modelos de machine learning diferentes: regressão linear, árvore de decisão e floresta aleatória. Vamos treinar cada modelo com os dados de treino e avaliá-los com base nas métricas MAE, R², RMSE e MSE."
   ]
  },
  {
   "cell_type": "code",
   "execution_count": 19,
   "id": "e3190226",
   "metadata": {
    "slideshow": {
     "slide_type": "subslide"
    }
   },
   "outputs": [],
   "source": [
    "# Criando os modelos\n",
    "linear = LinearRegression()\n",
    "tree = DecisionTreeRegressor(random_state=42)\n",
    "forest = RandomForestRegressor(random_state=42)\n",
    "\n",
    "# Treinando os modelos\n",
    "linear.fit(X_train, y_train)\n",
    "tree.fit(X_train, y_train)\n",
    "forest.fit(X_train, y_train)\n",
    "\n",
    "# Fazendo as previsões\n",
    "y_pred_linear = linear.predict(X_test)\n",
    "y_pred_tree = tree.predict(X_test)\n",
    "y_pred_forest = forest.predict(X_test)"
   ]
  },
  {
   "cell_type": "code",
   "execution_count": 20,
   "id": "1bd3a426",
   "metadata": {
    "slideshow": {
     "slide_type": "subslide"
    }
   },
   "outputs": [],
   "source": [
    "# Continuação do código da parte 3\n",
    "\n",
    "# Calculando as métricas de avaliação\n",
    "mae_linear = mean_absolute_error(y_test, y_pred_linear)\n",
    "mae_tree = mean_absolute_error(y_test, y_pred_tree)\n",
    "mae_forest = mean_absolute_error(y_test, y_pred_forest)\n",
    "\n",
    "rmse_linear = np.sqrt(mean_squared_error(y_test, y_pred_linear))\n",
    "rmse_tree = np.sqrt(mean_squared_error(y_test, y_pred_tree))\n",
    "rmse_forest = np.sqrt(mean_squared_error(y_test, y_pred_forest))\n",
    "\n",
    "mse_linear = mean_squared_error(y_test, y_pred_linear)\n",
    "mse_tree = mean_squared_error(y_test, y_pred_tree)\n",
    "mse_forest = mean_squared_error(y_test, y_pred_forest)\n",
    "\n",
    "r2_linear = r2_score(y_test, y_pred_linear)\n",
    "r2_tree = r2_score(y_test, y_pred_tree)\n",
    "r2_forest = r2_score(y_test, y_pred_forest)"
   ]
  },
  {
   "cell_type": "markdown",
   "id": "83c91b22",
   "metadata": {
    "slideshow": {
     "slide_type": "subslide"
    }
   },
   "source": [
    "## Parte 4: Visualizando os resultados\n",
    "Finalmente, vamos visualizar os resultados das métricas de avaliação para cada modelo. Para isso, podemos criar um gráfico de barras utilizando a biblioteca `matplotlib`:"
   ]
  },
  {
   "cell_type": "code",
   "execution_count": 23,
   "id": "83004b2e",
   "metadata": {
    "slideshow": {
     "slide_type": "subslide"
    }
   },
   "outputs": [
    {
     "data": {
      "image/png": "[encoded data removed]",
      "text/plain": [
       "<Figure size 1440x720 with 1 Axes>"
      ]
     },
     "metadata": {
      "needs_background": "light"
     },
     "output_type": "display_data"
    }
   ],
   "source": [
    "# Criando um gráfico de barras para comparar as métricas de avaliação\n",
    "models = ['Regressão Linear', 'Árvore de Decisão', 'Floresta Aleatória']\n",
    "mae = [mae_linear, mae_tree, mae_forest]\n",
    "rmse = [rmse_linear, rmse_tree, rmse_forest]\n",
    "mse = [mse_linear, mse_tree, mse_forest]\n",
    "r2 = [r2_linear, r2_tree, r2_forest]\n",
    "\n",
    "x = np.arange(len(models))\n",
    "width = 0.2\n",
    "\n",
    "fig, ax = plt.subplots(figsize=(20,10))\n",
    "rects1 = ax.bar(x - width, mae, width, label='MAE')\n",
    "rects2 = ax.bar(x, rmse, width, label='RMSE')\n",
    "rects3 = ax.bar(x + width, r2, width, label='R²')\n",
    "\n",
    "ax.set_ylabel('Valor da Métrica')\n",
    "ax.set_title('Métricas de Avaliação por Modelo')\n",
    "ax.set_xticks(x)\n",
    "ax.set_xticklabels(models)\n",
    "ax.legend()\n",
    "\n",
    "plt.show()"
   ]
  },
  {
   "cell_type": "markdown",
   "id": "3991709b",
   "metadata": {
    "slideshow": {
     "slide_type": "subslide"
    }
   },
   "source": [
    "## Parte 5: Plotando as predições dos modelos\n",
    "\n",
    "Podemos plotar também as predições dos modelos em relação aos valores reais, para ter uma visualização mais clara de como os modelos estão se saindo. Vamos fazer isso utilizando a biblioteca `seaborn`."
   ]
  },
  {
   "cell_type": "code",
   "execution_count": 24,
   "id": "0f8502c8",
   "metadata": {
    "slideshow": {
     "slide_type": "subslide"
    }
   },
   "outputs": [],
   "source": [
    "import seaborn as sns\n",
    "\n",
    "# Função para plotar gráficos de predição e resíduos para cada modelo\n",
    "def plot_predictions(model, y_pred):\n",
    "    # Gráfico de predição\n",
    "    plt.figure(figsize=(6, 6))\n",
    "    sns.scatterplot(x=y_test, y=y_pred, alpha=0.5)\n",
    "    plt.plot([y_test.min(), y_test.max()], [y_test.min(), y_test.max()], 'r--', linewidth=2)\n",
    "    plt.title(f'{model}')\n",
    "    plt.xlabel('Valores Reais')\n",
    "    plt.ylabel('Predições')\n",
    "    plt.xlim([3, 9])\n",
    "    plt.ylim([3, 9])\n",
    "    plt.show()"
   ]
  },
  {
   "cell_type": "code",
   "execution_count": 25,
   "id": "998efae4",
   "metadata": {
    "slideshow": {
     "slide_type": "subslide"
    }
   },
   "outputs": [
    {
     "data": {
      "image/png": "[encoded data removed]",
      "text/plain": [
       "<Figure size 432x432 with 1 Axes>"
      ]
     },
     "metadata": {
      "needs_background": "light"
     },
     "output_type": "display_data"
    }
   ],
   "source": [
    "plot_predictions('Regressão Linear', y_pred_linear)"
   ]
  },
  {
   "cell_type": "code",
   "execution_count": 26,
   "id": "c95896d7",
   "metadata": {
    "slideshow": {
     "slide_type": "subslide"
    }
   },
   "outputs": [
    {
     "data": {
      "image/png": "[encoded data removed]",
      "text/plain": [
       "<Figure size 432x432 with 1 Axes>"
      ]
     },
     "metadata": {
      "needs_background": "light"
     },
     "output_type": "display_data"
    }
   ],
   "source": [
    "plot_predictions('Árvore de Decisão', y_pred_tree)"
   ]
  },
  {
   "cell_type": "code",
   "execution_count": 27,
   "id": "489464c8",
   "metadata": {
    "slideshow": {
     "slide_type": "subslide"
    }
   },
   "outputs": [
    {
     "data": {
      "image/png": "[encoded data removed]",
      "text/plain": [
       "<Figure size 432x432 with 1 Axes>"
      ]
     },
     "metadata": {
      "needs_background": "light"
     },
     "output_type": "display_data"
    }
   ],
   "source": [
    "plot_predictions('Floresta Aleatória', y_pred_forest)"
   ]
  },
  {
   "cell_type": "markdown",
   "id": "8271a22b",
   "metadata": {
    "slideshow": {
     "slide_type": "subslide"
    }
   },
   "source": [
    "## É possível melhorar os resultados?"
   ]
  },
  {
   "cell_type": "code",
   "execution_count": 33,
   "id": "1248ab61",
   "metadata": {
    "slideshow": {
     "slide_type": "subslide"
    }
   },
   "outputs": [],
   "source": [
    "from sklearn.datasets import load_wine\n",
    "from sklearn.preprocessing import StandardScaler\n",
    "from sklearn.neural_network import MLPRegressor\n",
    "from sklearn.svm import SVR"
   ]
  },
  {
   "cell_type": "code",
   "execution_count": 34,
   "id": "10bbe8f1",
   "metadata": {
    "slideshow": {
     "slide_type": "fragment"
    }
   },
   "outputs": [],
   "source": [
    "# carrega os dados do conjunto de dados wine\n",
    "data = load_wine()\n",
    "df = pd.DataFrame(data.data, columns=data.feature_names)\n",
    "target = pd.Series(data.target, name='target')\n",
    "\n",
    "# divide os dados em conjuntos de treinamento e teste\n",
    "X_train, X_test, y_train, y_test = train_test_split(df, target, test_size=0.2, random_state=42)\n",
    "\n",
    "# padroniza os dados de entrada\n",
    "scaler = StandardScaler()\n",
    "X_train = scaler.fit_transform(X_train)\n",
    "X_test = scaler.transform(X_test)"
   ]
  },
  {
   "cell_type": "code",
   "execution_count": 35,
   "id": "ccbbb434",
   "metadata": {
    "slideshow": {
     "slide_type": "subslide"
    }
   },
   "outputs": [],
   "source": [
    "svm = SVR(kernel='linear')\n",
    "#svm = SVR(kernel='poly', degree=9)\n",
    "\n",
    "lr = LinearRegression()\n",
    "\n",
    "# treina os modelos de regressão\n",
    "svm.fit(X_train, y_train)\n",
    "lr.fit(X_train, y_train)\n",
    "\n",
    "# faz previsões nos dados de teste\n",
    "svm_pred = svm.predict(X_test)\n",
    "lr_pred = lr.predict(X_test)"
   ]
  },
  {
   "cell_type": "code",
   "execution_count": 36,
   "id": "aaad5019",
   "metadata": {
    "slideshow": {
     "slide_type": "subslide"
    }
   },
   "outputs": [],
   "source": [
    "# calcula as métricas de avaliação\n",
    "svm_r2 = r2_score(y_test, svm_pred)\n",
    "svm_mse = mean_squared_error(y_test, svm_pred)\n",
    "svm_rmse = np.sqrt(svm_mse)\n",
    "svm_mae = mean_absolute_error(y_test, svm_pred)\n",
    "\n",
    "lr_r2 = r2_score(y_test, lr_pred)\n",
    "lr_mse = mean_squared_error(y_test, lr_pred)\n",
    "lr_rmse = np.sqrt(lr_mse)\n",
    "lr_mae = mean_absolute_error(y_test, lr_pred)"
   ]
  },
  {
   "cell_type": "code",
   "execution_count": 37,
   "id": "83907742",
   "metadata": {
    "slideshow": {
     "slide_type": "subslide"
    }
   },
   "outputs": [
    {
     "name": "stdout",
     "output_type": "stream",
     "text": [
      "SVM:\n",
      "R² = 0.88, MSE = 0.07, RMSE = 0.26, MAE = 0.21\n",
      "\n",
      "Regressão Linear:\n",
      "R² = 0.88, MSE = 0.07, RMSE = 0.26, MAE = 0.20\n",
      "\n"
     ]
    }
   ],
   "source": [
    "# imprime os resultados\n",
    "print(\"SVM:\")\n",
    "print(f\"R² = {svm_r2:.2f}, MSE = {svm_mse:.2f}, RMSE = {svm_rmse:.2f}, MAE = {svm_mae:.2f}\\n\")\n",
    "\n",
    "print(\"Regressão Linear:\")\n",
    "print(f\"R² = {lr_r2:.2f}, MSE = {lr_mse:.2f}, RMSE = {lr_rmse:.2f}, MAE = {lr_mae:.2f}\\n\")"
   ]
  },
  {
   "cell_type": "code",
   "execution_count": 38,
   "id": "c5eb74f2",
   "metadata": {
    "slideshow": {
     "slide_type": "subslide"
    }
   },
   "outputs": [
    {
     "data": {
      "image/png": "[encoded data removed]",
      "text/plain": [
       "<Figure size 1080x360 with 1 Axes>"
      ]
     },
     "metadata": {
      "needs_background": "light"
     },
     "output_type": "display_data"
    }
   ],
   "source": [
    "# plota as previsões vs os valores verdadeiros\n",
    "plt.scatter(y_test, svm_pred, label='SVM')\n",
    "plt.scatter(y_test, lr_pred, label='Regressão Linear')\n",
    "plt.plot([0, 3], [0, 3], 'k--', label='Linha de Referência')\n",
    "plt.legend()\n",
    "plt.xlabel('Valor Verdadeiro')\n",
    "plt.ylabel('Previsão')\n",
    "plt.title('Previsões vs Valores Verdadeiros')\n",
    "plt.show()"
   ]
  }
 ],
 "metadata": {
  "celltoolbar": "Slideshow",
  "kernelspec": {
   "display_name": "Python 3 (ipykernel)",
   "language": "python",
   "name": "python3"
  },
  "language_info": {
   "codemirror_mode": {
    "name": "ipython",
    "version": 3
   },
   "file_extension": ".py",
   "mimetype": "text/x-python",
   "name": "python",
   "nbconvert_exporter": "python",
   "pygments_lexer": "ipython3",
   "version": "3.9.12"
  }
 },
 "nbformat": 4,
 "nbformat_minor": 5
}
