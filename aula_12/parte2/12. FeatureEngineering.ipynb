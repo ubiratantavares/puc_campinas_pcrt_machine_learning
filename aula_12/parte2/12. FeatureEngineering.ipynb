{
 "cells": [
  {
   "cell_type": "markdown",
   "id": "545eb58f",
   "metadata": {
    "slideshow": {
     "slide_type": "slide"
    }
   },
   "source": [
    "<img src=\"imagens/Boas Vindas.png\">"
   ]
  },
  {
   "cell_type": "markdown",
   "id": "10691d6a",
   "metadata": {
    "slideshow": {
     "slide_type": "subslide"
    }
   },
   "source": [
    "# Sumário\n",
    "\n",
    "1) **O que é *Feature Engineering* (Engenharia de Features)**\n",
    "\n",
    "2) **Criação de Features**\n",
    "\n",
    "3) **Transformação de Features**\n",
    "\n",
    "4) **Redução de Dimensionalidade**"
   ]
  },
  {
   "cell_type": "markdown",
   "id": "b4810d96",
   "metadata": {
    "slideshow": {
     "slide_type": "skip"
    }
   },
   "source": [
    "<img src=\"imagens/featureEng.png\">"
   ]
  },
  {
   "cell_type": "markdown",
   "id": "7083f3dc",
   "metadata": {
    "slideshow": {
     "slide_type": "slide"
    }
   },
   "source": [
    "## Parte 1: O que é Feature Engineering?"
   ]
  },
  {
   "cell_type": "markdown",
   "id": "5ec5669f",
   "metadata": {
    "slideshow": {
     "slide_type": "subslide"
    }
   },
   "source": [
    "<img src=\"imagens/feDefinition.png\">"
   ]
  },
  {
   "cell_type": "markdown",
   "id": "e129d042",
   "metadata": {
    "slideshow": {
     "slide_type": "subslide"
    }
   },
   "source": [
    "<img src=\"imagens/feDefinition_02.png\">"
   ]
  },
  {
   "cell_type": "markdown",
   "id": "d6e9e96e",
   "metadata": {
    "slideshow": {
     "slide_type": "subslide"
    }
   },
   "source": [
    "* A maioria dos algoritmos de aprendizado de máquina, trabalham com dados tabulares.<br>\n",
    "* Quando falamos de funcionalidades, estamos nos referindo às informações armazenadas nas colunas dessas tabelas.<br><br>"
   ]
  },
  {
   "cell_type": "markdown",
   "id": "32b821b9",
   "metadata": {
    "slideshow": {
     "slide_type": "subslide"
    }
   },
   "source": [
    "* **Por exemplo**<br>\n",
    "Se estamos procurando informações sobre casas, os recursos (*Features*) seriam:<br>\n",
    "  * Metros Quadrados;<br>\n",
    "  * Número de quartos; <br>\n",
    "  * Número de salas;<br>\n",
    "  * Quantidade de banheiros, etc. <br>"
   ]
  },
  {
   "cell_type": "markdown",
   "id": "c9909618",
   "metadata": {
    "slideshow": {
     "slide_type": "subslide"
    }
   },
   "source": [
    "<img src=\"imagens/feDefinition_05.png\">"
   ]
  },
  {
   "cell_type": "markdown",
   "id": "e6c578d3",
   "metadata": {
    "slideshow": {
     "slide_type": "subslide"
    }
   },
   "source": [
    "<img src=\"imagens/feDefinition_03.png\">"
   ]
  },
  {
   "cell_type": "markdown",
   "id": "ca5fcf48",
   "metadata": {
    "slideshow": {
     "slide_type": "subslide"
    }
   },
   "source": [
    "<img src=\"imagens/feDefinition_04.png\">"
   ]
  },
  {
   "cell_type": "markdown",
   "id": "9caeb019",
   "metadata": {
    "slideshow": {
     "slide_type": "subslide"
    }
   },
   "source": [
    "* As saídas, por sua vez, são chamadas de variáveis **dependentes** ou **classe**, e essa é a variável que estamos tentando prever. \n",
    "* O nosso resultado pode ser 0 e 1 correspondendo a 'Não' e 'Sim' respectivamente, que responde a uma pergunta como: \"Fulano é bom pagador?\" ou a probabilidade de alguém comprar um produto ou não."
   ]
  },
  {
   "cell_type": "markdown",
   "id": "c2fdf0c4",
   "metadata": {
    "slideshow": {
     "slide_type": "subslide"
    }
   },
   "source": [
    "<img src=\"imagens/feDefinition_051.png\">"
   ]
  },
  {
   "cell_type": "markdown",
   "id": "fe57db41",
   "metadata": {
    "slideshow": {
     "slide_type": "subslide"
    }
   },
   "source": [
    "<img src=\"imagens/feDefinition_06.png\">"
   ]
  },
  {
   "cell_type": "markdown",
   "id": "f2ae43a4",
   "metadata": {
    "slideshow": {
     "slide_type": "subslide"
    }
   },
   "source": [
    "<img src=\"imagens/feDefinition_07.png\">"
   ]
  },
  {
   "cell_type": "markdown",
   "id": "dfbf9e45",
   "metadata": {
    "slideshow": {
     "slide_type": "subslide"
    }
   },
   "source": [
    "### Alguns Exemplos\n",
    "\n",
    "* **Valores Contínuos:**<br> \n",
    "Inteiros (ou números inteiros) ou Flutuantes (decimais)<br><br>\n",
    "\n",
    "* **Valores Categóricos:**<br> \n",
    "Um de um conjunto limitado de valores, por ex. sexo, país de nascimento<br><br>\n",
    "\n",
    "* **Valores Ordinais:**<br>\n",
    "Valores classificados, muitas vezes sem detalhes de distância entre eles<br><br>"
   ]
  },
  {
   "cell_type": "markdown",
   "id": "2910bee7",
   "metadata": {
    "slideshow": {
     "slide_type": "subslide"
    }
   },
   "source": [
    "* **Valores Booleanos:**<br>\n",
    "Valores verdadeiro/falso<br><br>\n",
    "\n",
    "* **Valores de Datetime:**<br>\n",
    "Datas e Horas<br>"
   ]
  },
  {
   "cell_type": "markdown",
   "id": "c83600ca",
   "metadata": {
    "slideshow": {
     "slide_type": "subslide"
    }
   },
   "source": [
    "### Importante\n",
    "* A engenharia de recursos costuma ser negligenciada nas discussões sobre aprendizado de máquina, mas qualquer profissional do mundo real confirmará que a manipulação de dados e a engenharia de recursos são os aspectos mais importantes do projeto.<br><br>\n",
    "\n",
    "* Essa etapa é conhecida também como pré-processamento de dados, embora muitos entendam o feature engineering faça parte dele.<br><br>\n",
    "\n",
    "* Essa é uma das fases mais importantes do processo de construção de um modelo preditivo. "
   ]
  },
  {
   "cell_type": "markdown",
   "id": "2e49b713",
   "metadata": {
    "slideshow": {
     "slide_type": "subslide"
    }
   },
   "source": [
    "### Parte 1.1: Porque utilizar Feature Engineering?"
   ]
  },
  {
   "cell_type": "markdown",
   "id": "c85e00c3",
   "metadata": {
    "slideshow": {
     "slide_type": "subslide"
    }
   },
   "source": [
    "**Vamos pensar no seguinte cenário**<br>\n",
    "* Ao preparar um alimento, será necessário selecionar os ingredientes, digamos: tomate, alho, carne e macarrão. Então, colocamos tudo dentro da panela: os tomates e o alho inteiros e com casca, a carne crua e a massa com o plástico. Com certeza o resultado final vai passar longe de um macarrão à bolonhesa. Será necessário descascar, cortar, cozinhar a carne, retirar a massa do pacote.<br><br>"
   ]
  },
  {
   "cell_type": "markdown",
   "id": "48df1c01",
   "metadata": {
    "slideshow": {
     "slide_type": "subslide"
    }
   },
   "source": [
    "* **O mesmo acontece com os recursos:** Eles precisam ser pré-processados para colocá-los no modelo preditivo e obter um bom resultado final. Seu modelo não vai pegar os dados cheio de valores faltantes, variáveis duplicadas, inconsistências e resolver tudo em um passe de mágica. Não existe mágica.<br><br>\n",
    "\n",
    "* Outro motivo para se preocupar é que conforme o tempo passa, tendemos a ter mais dados disponíveis, o que torna a seleção de quais desses dados são mais relevantes ainda mais trabalhosa e, ao mesmo tempo, cada vez mais importante, pois vai ser cada vez mais fácil selecionar features erradas em um mar de dados."
   ]
  },
  {
   "cell_type": "markdown",
   "id": "f922e064",
   "metadata": {
    "slideshow": {
     "slide_type": "subslide"
    }
   },
   "source": [
    "## Parte 2: Criação de Features"
   ]
  },
  {
   "cell_type": "markdown",
   "id": "63afccac",
   "metadata": {
    "slideshow": {
     "slide_type": "skip"
    }
   },
   "source": [
    "<img src=\"imagens/creationFeatures.png\">"
   ]
  },
  {
   "cell_type": "markdown",
   "id": "a893e564",
   "metadata": {
    "slideshow": {
     "slide_type": "subslide"
    }
   },
   "source": [
    "* **Passo 1:** A primeira coisa a se fazer ao começar um processo de feature engineering é entender todas as variáveis preditoras importantes que precisam ser incluídas no modelo.<br><br>\n",
    "* **Passo 2:** Faça as seguintes perguntas: \n",
    "    * \"Eu tenho esses dados?\" \n",
    "    * \"Consigo criar esses dados?\""
   ]
  },
  {
   "cell_type": "markdown",
   "id": "9a9aea05",
   "metadata": {
    "slideshow": {
     "slide_type": "subslide"
    }
   },
   "source": [
    "<img src=\"imagens/creationFeatures_01.png\">"
   ]
  },
  {
   "cell_type": "markdown",
   "id": "6946e253",
   "metadata": {
    "slideshow": {
     "slide_type": "subslide"
    }
   },
   "source": [
    "<img src=\"imagens/creationFeatures_02.png\">"
   ]
  },
  {
   "cell_type": "markdown",
   "id": "5c562c46",
   "metadata": {
    "slideshow": {
     "slide_type": "subslide"
    }
   },
   "source": [
    "<img src=\"imagens/creationFeatures_03.png\">"
   ]
  },
  {
   "cell_type": "markdown",
   "id": "b30a8df5",
   "metadata": {
    "slideshow": {
     "slide_type": "subslide"
    }
   },
   "source": [
    "<img src=\"imagens/pandas.png\">"
   ]
  },
  {
   "cell_type": "code",
   "execution_count": 1,
   "id": "db0db737",
   "metadata": {
    "slideshow": {
     "slide_type": "subslide"
    }
   },
   "outputs": [],
   "source": [
    "#bibliotecas utilizadas\n",
    "import pandas as pd\n",
    "import numpy as np\n",
    "import warnings\n",
    "import os\n",
    "\n",
    "# O Scikit-learn é uma biblioteca popular em Python para aprendizado de máquina\n",
    "from sklearn.linear_model import LogisticRegression\n",
    "\n",
    "%matplotlib inline\n",
    "warnings.filterwarnings('ignore')"
   ]
  },
  {
   "cell_type": "markdown",
   "id": "21a6dd41",
   "metadata": {
    "slideshow": {
     "slide_type": "subslide"
    }
   },
   "source": [
    "### Dataset\n",
    "* Vamos trabalhar com um subconjunto de dados de **Preços da habitação na Cidade da Califórnia**.<br>"
   ]
  },
  {
   "cell_type": "markdown",
   "id": "5d11d5d2",
   "metadata": {
    "slideshow": {
     "slide_type": "subslide"
    }
   },
   "source": [
    "#### **Housing**\n",
    "* Este é o conjunto de dados usado no livro Aurélien Géron, 'Hands-On Machine learning with Scikit-Learn and TensorFlow'. Ele serve como uma excelente introdução à implementação de algoritmos de aprendizado de máquina porque requer limpeza rudimentar de dados, possui uma lista de variáveis facilmente compreensível e fica em um tamanho ideal.<br><br>\n",
    "\n",
    "* Link para o Dataset: https://www.kaggle.com/datasets/camnugent/california-housing-prices?resource=download<br>"
   ]
  },
  {
   "cell_type": "markdown",
   "id": "7ffb8e36",
   "metadata": {
    "slideshow": {
     "slide_type": "subslide"
    }
   },
   "source": [
    "#### **Conteúdo**\n",
    "\n",
    "* Os dados referem-se às casas encontradas em um determinado distrito da Califórnia e algumas estatísticas resumidas sobre elas com base nos dados do censo de 1990.<br><br>\n",
    "\n",
    "* Este dataset não irá ajudar a prever os preços atuais da habitação na cidade da Califórnia, pois estes dados fornecidos não são atuais, mas nos dará uma visão introdutória e acessível sobre o tema. Desta forma será possível entendermos os fundamentos do aprendizado de máquina.<br><br>\n",
    "\n",
    "* Os dados não são limpos, portanto, algumas etapas de pré-processamento são necessárias.<br><br>"
   ]
  },
  {
   "cell_type": "markdown",
   "id": "7db424b6",
   "metadata": {
    "slideshow": {
     "slide_type": "subslide"
    }
   },
   "source": [
    "* As colunas são apresentadas a seguir, seus nomes são bastante auto-explicativos:"
   ]
  },
  {
   "cell_type": "code",
   "execution_count": 2,
   "id": "a6a77d76",
   "metadata": {
    "scrolled": true,
    "slideshow": {
     "slide_type": "subslide"
    }
   },
   "outputs": [
    {
     "data": {
      "text/html": [
       "<div>\n",
       "<style scoped>\n",
       "    .dataframe tbody tr th:only-of-type {\n",
       "        vertical-align: middle;\n",
       "    }\n",
       "\n",
       "    .dataframe tbody tr th {\n",
       "        vertical-align: top;\n",
       "    }\n",
       "\n",
       "    .dataframe thead th {\n",
       "        text-align: right;\n",
       "    }\n",
       "</style>\n",
       "<table border=\"1\" class=\"dataframe\">\n",
       "  <thead>\n",
       "    <tr style=\"text-align: right;\">\n",
       "      <th></th>\n",
       "      <th>longitude</th>\n",
       "      <th>latitude</th>\n",
       "      <th>housing_median_age</th>\n",
       "      <th>total_rooms</th>\n",
       "      <th>total_bedrooms</th>\n",
       "      <th>population</th>\n",
       "      <th>households</th>\n",
       "      <th>median_income</th>\n",
       "      <th>median_house_value</th>\n",
       "      <th>ocean_proximity</th>\n",
       "    </tr>\n",
       "  </thead>\n",
       "  <tbody>\n",
       "    <tr>\n",
       "      <th>13027</th>\n",
       "      <td>-121.22</td>\n",
       "      <td>38.67</td>\n",
       "      <td>20.0</td>\n",
       "      <td>1412.0</td>\n",
       "      <td>226.0</td>\n",
       "      <td>700.0</td>\n",
       "      <td>227.0</td>\n",
       "      <td>4.0500</td>\n",
       "      <td>130700.0</td>\n",
       "      <td>INLAND</td>\n",
       "    </tr>\n",
       "    <tr>\n",
       "      <th>5976</th>\n",
       "      <td>-117.77</td>\n",
       "      <td>34.11</td>\n",
       "      <td>28.0</td>\n",
       "      <td>1998.0</td>\n",
       "      <td>414.0</td>\n",
       "      <td>1124.0</td>\n",
       "      <td>389.0</td>\n",
       "      <td>3.7500</td>\n",
       "      <td>180900.0</td>\n",
       "      <td>INLAND</td>\n",
       "    </tr>\n",
       "    <tr>\n",
       "      <th>14475</th>\n",
       "      <td>-117.21</td>\n",
       "      <td>32.86</td>\n",
       "      <td>24.0</td>\n",
       "      <td>3596.0</td>\n",
       "      <td>494.0</td>\n",
       "      <td>1573.0</td>\n",
       "      <td>492.0</td>\n",
       "      <td>6.5382</td>\n",
       "      <td>326000.0</td>\n",
       "      <td>NEAR OCEAN</td>\n",
       "    </tr>\n",
       "    <tr>\n",
       "      <th>12040</th>\n",
       "      <td>-117.48</td>\n",
       "      <td>33.89</td>\n",
       "      <td>14.0</td>\n",
       "      <td>10395.0</td>\n",
       "      <td>1799.0</td>\n",
       "      <td>6295.0</td>\n",
       "      <td>1855.0</td>\n",
       "      <td>4.7295</td>\n",
       "      <td>149900.0</td>\n",
       "      <td>INLAND</td>\n",
       "    </tr>\n",
       "    <tr>\n",
       "      <th>19900</th>\n",
       "      <td>-119.29</td>\n",
       "      <td>36.32</td>\n",
       "      <td>27.0</td>\n",
       "      <td>1513.0</td>\n",
       "      <td>374.0</td>\n",
       "      <td>839.0</td>\n",
       "      <td>350.0</td>\n",
       "      <td>1.2012</td>\n",
       "      <td>64600.0</td>\n",
       "      <td>INLAND</td>\n",
       "    </tr>\n",
       "    <tr>\n",
       "      <th>18910</th>\n",
       "      <td>-122.26</td>\n",
       "      <td>38.13</td>\n",
       "      <td>28.0</td>\n",
       "      <td>3072.0</td>\n",
       "      <td>790.0</td>\n",
       "      <td>1375.0</td>\n",
       "      <td>705.0</td>\n",
       "      <td>1.6368</td>\n",
       "      <td>91200.0</td>\n",
       "      <td>NEAR BAY</td>\n",
       "    </tr>\n",
       "    <tr>\n",
       "      <th>17871</th>\n",
       "      <td>-122.07</td>\n",
       "      <td>37.44</td>\n",
       "      <td>21.0</td>\n",
       "      <td>4599.0</td>\n",
       "      <td>986.0</td>\n",
       "      <td>2756.0</td>\n",
       "      <td>943.0</td>\n",
       "      <td>2.9817</td>\n",
       "      <td>225000.0</td>\n",
       "      <td>NEAR BAY</td>\n",
       "    </tr>\n",
       "    <tr>\n",
       "      <th>14345</th>\n",
       "      <td>-117.20</td>\n",
       "      <td>32.76</td>\n",
       "      <td>40.0</td>\n",
       "      <td>581.0</td>\n",
       "      <td>157.0</td>\n",
       "      <td>298.0</td>\n",
       "      <td>156.0</td>\n",
       "      <td>2.4000</td>\n",
       "      <td>255000.0</td>\n",
       "      <td>NEAR OCEAN</td>\n",
       "    </tr>\n",
       "    <tr>\n",
       "      <th>20462</th>\n",
       "      <td>-118.76</td>\n",
       "      <td>34.28</td>\n",
       "      <td>21.0</td>\n",
       "      <td>2786.0</td>\n",
       "      <td>342.0</td>\n",
       "      <td>1114.0</td>\n",
       "      <td>322.0</td>\n",
       "      <td>5.8578</td>\n",
       "      <td>266300.0</td>\n",
       "      <td>&lt;1H OCEAN</td>\n",
       "    </tr>\n",
       "    <tr>\n",
       "      <th>14980</th>\n",
       "      <td>-117.01</td>\n",
       "      <td>32.71</td>\n",
       "      <td>20.0</td>\n",
       "      <td>3506.0</td>\n",
       "      <td>692.0</td>\n",
       "      <td>1977.0</td>\n",
       "      <td>668.0</td>\n",
       "      <td>2.9810</td>\n",
       "      <td>129100.0</td>\n",
       "      <td>NEAR OCEAN</td>\n",
       "    </tr>\n",
       "  </tbody>\n",
       "</table>\n",
       "</div>"
      ],
      "text/plain": [
       "       longitude  latitude  housing_median_age  total_rooms  total_bedrooms  \\\n",
       "13027    -121.22     38.67                20.0       1412.0           226.0   \n",
       "5976     -117.77     34.11                28.0       1998.0           414.0   \n",
       "14475    -117.21     32.86                24.0       3596.0           494.0   \n",
       "12040    -117.48     33.89                14.0      10395.0          1799.0   \n",
       "19900    -119.29     36.32                27.0       1513.0           374.0   \n",
       "18910    -122.26     38.13                28.0       3072.0           790.0   \n",
       "17871    -122.07     37.44                21.0       4599.0           986.0   \n",
       "14345    -117.20     32.76                40.0        581.0           157.0   \n",
       "20462    -118.76     34.28                21.0       2786.0           342.0   \n",
       "14980    -117.01     32.71                20.0       3506.0           692.0   \n",
       "\n",
       "       population  households  median_income  median_house_value  \\\n",
       "13027       700.0       227.0         4.0500            130700.0   \n",
       "5976       1124.0       389.0         3.7500            180900.0   \n",
       "14475      1573.0       492.0         6.5382            326000.0   \n",
       "12040      6295.0      1855.0         4.7295            149900.0   \n",
       "19900       839.0       350.0         1.2012             64600.0   \n",
       "18910      1375.0       705.0         1.6368             91200.0   \n",
       "17871      2756.0       943.0         2.9817            225000.0   \n",
       "14345       298.0       156.0         2.4000            255000.0   \n",
       "20462      1114.0       322.0         5.8578            266300.0   \n",
       "14980      1977.0       668.0         2.9810            129100.0   \n",
       "\n",
       "      ocean_proximity  \n",
       "13027          INLAND  \n",
       "5976           INLAND  \n",
       "14475      NEAR OCEAN  \n",
       "12040          INLAND  \n",
       "19900          INLAND  \n",
       "18910        NEAR BAY  \n",
       "17871        NEAR BAY  \n",
       "14345      NEAR OCEAN  \n",
       "20462       <1H OCEAN  \n",
       "14980      NEAR OCEAN  "
      ]
     },
     "execution_count": 2,
     "metadata": {},
     "output_type": "execute_result"
    }
   ],
   "source": [
    "# Path do dataset na máquina\n",
    "df = pd.read_csv(\"dataset/Houses/housing.csv\")\n",
    "\n",
    "df.sample(10)"
   ]
  },
  {
   "cell_type": "markdown",
   "id": "50818b3f",
   "metadata": {
    "slideshow": {
     "slide_type": "subslide"
    }
   },
   "source": [
    "#### Sobre os dados\n",
    "\n",
    "* **01. longitude:** Uma medida de quão longe uma casa está a oeste; um valor mais alto é mais a oeste;\n",
    "\n",
    "* **02. latitude:** Uma medida de quão longe uma casa está ao norte; um valor mais alto é mais ao norte;\n",
    "\n",
    "* **03. housingMedianAge:** Idade mediana de uma casa dentro de um quarteirão; um número menor é um prédio mais novo;\n",
    "\n",
    "* **04. totalRooms:** Número total de salas dentro de um bloco;\n",
    "\n",
    "* **05. totalBedrooms:** Número total de quartos dentro de um bloco;"
   ]
  },
  {
   "cell_type": "markdown",
   "id": "bb524fa8",
   "metadata": {
    "slideshow": {
     "slide_type": "subslide"
    }
   },
   "source": [
    "* **06. population:** Número total de pessoas que residem em um quarteirão;\n",
    "\n",
    "* **07. households:** Número total de domicílios, grupo de pessoas que residem em uma unidade domiciliar, por quarteirão;\n",
    "\n",
    "* **08. medianIncome:** Renda mediana para as famílias dentro de um bloco de casas (medida em dezenas de milhares de dólares americanos);\n",
    "\n",
    "* **09. medianHouseValue:** Valor mediano da casa para residências dentro de um quarteirão (medido em dólares americanos);\n",
    "\n",
    "* **10. oceanProximity:** Localização da casa w.r.t oceano/mar."
   ]
  },
  {
   "cell_type": "code",
   "execution_count": 3,
   "id": "be9d7263",
   "metadata": {
    "slideshow": {
     "slide_type": "subslide"
    }
   },
   "outputs": [
    {
     "data": {
      "text/plain": [
       "Index(['longitude', 'latitude', 'housing_median_age', 'total_rooms',\n",
       "       'total_bedrooms', 'population', 'households', 'median_income',\n",
       "       'median_house_value', 'ocean_proximity'],\n",
       "      dtype='object')"
      ]
     },
     "execution_count": 3,
     "metadata": {},
     "output_type": "execute_result"
    }
   ],
   "source": [
    "# Visualizar todas as features do Dataframe\n",
    "df.columns"
   ]
  },
  {
   "cell_type": "code",
   "execution_count": 4,
   "id": "cf39c5f3",
   "metadata": {
    "slideshow": {
     "slide_type": "subslide"
    }
   },
   "outputs": [
    {
     "data": {
      "text/plain": [
       "(20640, 10)"
      ]
     },
     "execution_count": 4,
     "metadata": {},
     "output_type": "execute_result"
    }
   ],
   "source": [
    "# Visualiza a distribuição de Linhas e Colunas do Conjunto de Dados\n",
    "df.shape"
   ]
  },
  {
   "cell_type": "code",
   "execution_count": 5,
   "id": "d29f4ab0",
   "metadata": {
    "slideshow": {
     "slide_type": "subslide"
    }
   },
   "outputs": [
    {
     "data": {
      "text/html": [
       "<div>\n",
       "<style scoped>\n",
       "    .dataframe tbody tr th:only-of-type {\n",
       "        vertical-align: middle;\n",
       "    }\n",
       "\n",
       "    .dataframe tbody tr th {\n",
       "        vertical-align: top;\n",
       "    }\n",
       "\n",
       "    .dataframe thead th {\n",
       "        text-align: right;\n",
       "    }\n",
       "</style>\n",
       "<table border=\"1\" class=\"dataframe\">\n",
       "  <thead>\n",
       "    <tr style=\"text-align: right;\">\n",
       "      <th></th>\n",
       "      <th>longitude</th>\n",
       "      <th>latitude</th>\n",
       "      <th>housing_median_age</th>\n",
       "      <th>total_rooms</th>\n",
       "      <th>total_bedrooms</th>\n",
       "      <th>population</th>\n",
       "      <th>households</th>\n",
       "      <th>median_income</th>\n",
       "      <th>median_house_value</th>\n",
       "      <th>ocean_proximity</th>\n",
       "    </tr>\n",
       "  </thead>\n",
       "  <tbody>\n",
       "    <tr>\n",
       "      <th>0</th>\n",
       "      <td>-122.23</td>\n",
       "      <td>37.88</td>\n",
       "      <td>41.0</td>\n",
       "      <td>880.0</td>\n",
       "      <td>129.0</td>\n",
       "      <td>322.0</td>\n",
       "      <td>126.0</td>\n",
       "      <td>8.3252</td>\n",
       "      <td>452600.0</td>\n",
       "      <td>NEAR BAY</td>\n",
       "    </tr>\n",
       "    <tr>\n",
       "      <th>1</th>\n",
       "      <td>-122.22</td>\n",
       "      <td>37.86</td>\n",
       "      <td>21.0</td>\n",
       "      <td>7099.0</td>\n",
       "      <td>1106.0</td>\n",
       "      <td>2401.0</td>\n",
       "      <td>1138.0</td>\n",
       "      <td>8.3014</td>\n",
       "      <td>358500.0</td>\n",
       "      <td>NEAR BAY</td>\n",
       "    </tr>\n",
       "    <tr>\n",
       "      <th>2</th>\n",
       "      <td>-122.24</td>\n",
       "      <td>37.85</td>\n",
       "      <td>52.0</td>\n",
       "      <td>1467.0</td>\n",
       "      <td>190.0</td>\n",
       "      <td>496.0</td>\n",
       "      <td>177.0</td>\n",
       "      <td>7.2574</td>\n",
       "      <td>352100.0</td>\n",
       "      <td>NEAR BAY</td>\n",
       "    </tr>\n",
       "    <tr>\n",
       "      <th>3</th>\n",
       "      <td>-122.25</td>\n",
       "      <td>37.85</td>\n",
       "      <td>52.0</td>\n",
       "      <td>1274.0</td>\n",
       "      <td>235.0</td>\n",
       "      <td>558.0</td>\n",
       "      <td>219.0</td>\n",
       "      <td>5.6431</td>\n",
       "      <td>341300.0</td>\n",
       "      <td>NEAR BAY</td>\n",
       "    </tr>\n",
       "    <tr>\n",
       "      <th>4</th>\n",
       "      <td>-122.25</td>\n",
       "      <td>37.85</td>\n",
       "      <td>52.0</td>\n",
       "      <td>1627.0</td>\n",
       "      <td>280.0</td>\n",
       "      <td>565.0</td>\n",
       "      <td>259.0</td>\n",
       "      <td>3.8462</td>\n",
       "      <td>342200.0</td>\n",
       "      <td>NEAR BAY</td>\n",
       "    </tr>\n",
       "  </tbody>\n",
       "</table>\n",
       "</div>"
      ],
      "text/plain": [
       "   longitude  latitude  housing_median_age  total_rooms  total_bedrooms  \\\n",
       "0    -122.23     37.88                41.0        880.0           129.0   \n",
       "1    -122.22     37.86                21.0       7099.0          1106.0   \n",
       "2    -122.24     37.85                52.0       1467.0           190.0   \n",
       "3    -122.25     37.85                52.0       1274.0           235.0   \n",
       "4    -122.25     37.85                52.0       1627.0           280.0   \n",
       "\n",
       "   population  households  median_income  median_house_value ocean_proximity  \n",
       "0       322.0       126.0         8.3252            452600.0        NEAR BAY  \n",
       "1      2401.0      1138.0         8.3014            358500.0        NEAR BAY  \n",
       "2       496.0       177.0         7.2574            352100.0        NEAR BAY  \n",
       "3       558.0       219.0         5.6431            341300.0        NEAR BAY  \n",
       "4       565.0       259.0         3.8462            342200.0        NEAR BAY  "
      ]
     },
     "execution_count": 5,
     "metadata": {},
     "output_type": "execute_result"
    }
   ],
   "source": [
    "# Visualiza Parte dos dados carregados\n",
    "df.head(5)"
   ]
  },
  {
   "cell_type": "code",
   "execution_count": 6,
   "id": "670909bd",
   "metadata": {
    "slideshow": {
     "slide_type": "subslide"
    }
   },
   "outputs": [
    {
     "data": {
      "text/html": [
       "<div>\n",
       "<style scoped>\n",
       "    .dataframe tbody tr th:only-of-type {\n",
       "        vertical-align: middle;\n",
       "    }\n",
       "\n",
       "    .dataframe tbody tr th {\n",
       "        vertical-align: top;\n",
       "    }\n",
       "\n",
       "    .dataframe thead th {\n",
       "        text-align: right;\n",
       "    }\n",
       "</style>\n",
       "<table border=\"1\" class=\"dataframe\">\n",
       "  <thead>\n",
       "    <tr style=\"text-align: right;\">\n",
       "      <th></th>\n",
       "      <th>longitude</th>\n",
       "      <th>latitude</th>\n",
       "      <th>housing_median_age</th>\n",
       "      <th>total_rooms</th>\n",
       "      <th>total_bedrooms</th>\n",
       "      <th>population</th>\n",
       "      <th>households</th>\n",
       "      <th>median_income</th>\n",
       "      <th>median_house_value</th>\n",
       "      <th>ocean_proximity</th>\n",
       "    </tr>\n",
       "  </thead>\n",
       "  <tbody>\n",
       "    <tr>\n",
       "      <th>20635</th>\n",
       "      <td>-121.09</td>\n",
       "      <td>39.48</td>\n",
       "      <td>25.0</td>\n",
       "      <td>1665.0</td>\n",
       "      <td>374.0</td>\n",
       "      <td>845.0</td>\n",
       "      <td>330.0</td>\n",
       "      <td>1.5603</td>\n",
       "      <td>78100.0</td>\n",
       "      <td>INLAND</td>\n",
       "    </tr>\n",
       "    <tr>\n",
       "      <th>20636</th>\n",
       "      <td>-121.21</td>\n",
       "      <td>39.49</td>\n",
       "      <td>18.0</td>\n",
       "      <td>697.0</td>\n",
       "      <td>150.0</td>\n",
       "      <td>356.0</td>\n",
       "      <td>114.0</td>\n",
       "      <td>2.5568</td>\n",
       "      <td>77100.0</td>\n",
       "      <td>INLAND</td>\n",
       "    </tr>\n",
       "    <tr>\n",
       "      <th>20637</th>\n",
       "      <td>-121.22</td>\n",
       "      <td>39.43</td>\n",
       "      <td>17.0</td>\n",
       "      <td>2254.0</td>\n",
       "      <td>485.0</td>\n",
       "      <td>1007.0</td>\n",
       "      <td>433.0</td>\n",
       "      <td>1.7000</td>\n",
       "      <td>92300.0</td>\n",
       "      <td>INLAND</td>\n",
       "    </tr>\n",
       "    <tr>\n",
       "      <th>20638</th>\n",
       "      <td>-121.32</td>\n",
       "      <td>39.43</td>\n",
       "      <td>18.0</td>\n",
       "      <td>1860.0</td>\n",
       "      <td>409.0</td>\n",
       "      <td>741.0</td>\n",
       "      <td>349.0</td>\n",
       "      <td>1.8672</td>\n",
       "      <td>84700.0</td>\n",
       "      <td>INLAND</td>\n",
       "    </tr>\n",
       "    <tr>\n",
       "      <th>20639</th>\n",
       "      <td>-121.24</td>\n",
       "      <td>39.37</td>\n",
       "      <td>16.0</td>\n",
       "      <td>2785.0</td>\n",
       "      <td>616.0</td>\n",
       "      <td>1387.0</td>\n",
       "      <td>530.0</td>\n",
       "      <td>2.3886</td>\n",
       "      <td>89400.0</td>\n",
       "      <td>INLAND</td>\n",
       "    </tr>\n",
       "  </tbody>\n",
       "</table>\n",
       "</div>"
      ],
      "text/plain": [
       "       longitude  latitude  housing_median_age  total_rooms  total_bedrooms  \\\n",
       "20635    -121.09     39.48                25.0       1665.0           374.0   \n",
       "20636    -121.21     39.49                18.0        697.0           150.0   \n",
       "20637    -121.22     39.43                17.0       2254.0           485.0   \n",
       "20638    -121.32     39.43                18.0       1860.0           409.0   \n",
       "20639    -121.24     39.37                16.0       2785.0           616.0   \n",
       "\n",
       "       population  households  median_income  median_house_value  \\\n",
       "20635       845.0       330.0         1.5603             78100.0   \n",
       "20636       356.0       114.0         2.5568             77100.0   \n",
       "20637      1007.0       433.0         1.7000             92300.0   \n",
       "20638       741.0       349.0         1.8672             84700.0   \n",
       "20639      1387.0       530.0         2.3886             89400.0   \n",
       "\n",
       "      ocean_proximity  \n",
       "20635          INLAND  \n",
       "20636          INLAND  \n",
       "20637          INLAND  \n",
       "20638          INLAND  \n",
       "20639          INLAND  "
      ]
     },
     "execution_count": 6,
     "metadata": {},
     "output_type": "execute_result"
    }
   ],
   "source": [
    "df.tail(5)"
   ]
  },
  {
   "cell_type": "markdown",
   "id": "7c97e337",
   "metadata": {
    "slideshow": {
     "slide_type": "subslide"
    }
   },
   "source": [
    "**INFORMAÇÃO**\n",
    "\n",
    "* Conhecer os tipos de cada coluna pode ser muito útil se você estiver realizando análises com base em um subconjunto de tipos de dados específicos.<br><br>\n",
    "\n",
    "* Para fazer isso, você pode usar o método `select_dtypes()` e passar uma lista de tipos de dados relevantes para o argumento include.<br><br>\n",
    "\n",
    "* Por exemplo, se você quiser selecionar apenas as colunas inteiras, chame o método `select_dtypes()` em df e defina o argumento de inclusão como `int`."
   ]
  },
  {
   "cell_type": "code",
   "execution_count": 7,
   "id": "12ced2d9",
   "metadata": {
    "slideshow": {
     "slide_type": "subslide"
    }
   },
   "outputs": [
    {
     "data": {
      "text/plain": [
       "longitude             float64\n",
       "latitude              float64\n",
       "housing_median_age    float64\n",
       "total_rooms           float64\n",
       "total_bedrooms        float64\n",
       "population            float64\n",
       "households            float64\n",
       "median_income         float64\n",
       "median_house_value    float64\n",
       "ocean_proximity        object\n",
       "dtype: object"
      ]
     },
     "execution_count": 7,
     "metadata": {},
     "output_type": "execute_result"
    }
   ],
   "source": [
    "# Visualizar os Tipos de Dados de Cada Coluna\n",
    "df.dtypes"
   ]
  },
  {
   "cell_type": "code",
   "execution_count": 8,
   "id": "5f4e4775",
   "metadata": {
    "slideshow": {
     "slide_type": "subslide"
    }
   },
   "outputs": [
    {
     "name": "stdout",
     "output_type": "stream",
     "text": [
      "Index(['longitude', 'latitude', 'housing_median_age', 'total_rooms',\n",
      "       'total_bedrooms', 'population', 'households', 'median_income',\n",
      "       'median_house_value'],\n",
      "      dtype='object')\n"
     ]
    }
   ],
   "source": [
    "# Selecionar um tipo específico de dado no Dataframe\n",
    "only_floats = df.select_dtypes(include=['float64'])\n",
    "print(only_floats.columns)"
   ]
  },
  {
   "cell_type": "markdown",
   "id": "616978dc",
   "metadata": {
    "slideshow": {
     "slide_type": "subslide"
    }
   },
   "source": [
    "**INFORMAÇÃO**\n",
    "\n",
    "* Mesmo sem muito conhecimento sobre preço de casas na Califórnia, imaginamos que o valor por metro quadrado seja importante, e note que não temos esses dados.<br><br>\n",
    "* Se tivéssemos a metragem da casa, poderíamos construir essa feature fazendo a divisão do preço pelo tamanho da casa em metros.<br>"
   ]
  },
  {
   "cell_type": "code",
   "execution_count": 9,
   "id": "4bed6b45",
   "metadata": {
    "slideshow": {
     "slide_type": "subslide"
    }
   },
   "outputs": [],
   "source": [
    "# Criando uma nova variáveis\n",
    "\"\"\"\n",
    "Também podemos criar uma nova feature contendo a divisão de pessoas por quartos nas imoveis, \n",
    "e a partir disso é possível trabalhar com essa feature, arredondando, fazendo média, etc.\n",
    "\n",
    "\"\"\"\n",
    "\n",
    "df['population_per_bedrooms'] = ( df['population']/ df['total_bedrooms'] )"
   ]
  },
  {
   "cell_type": "code",
   "execution_count": 10,
   "id": "652e2677",
   "metadata": {
    "slideshow": {
     "slide_type": "subslide"
    }
   },
   "outputs": [
    {
     "data": {
      "text/html": [
       "<div>\n",
       "<style scoped>\n",
       "    .dataframe tbody tr th:only-of-type {\n",
       "        vertical-align: middle;\n",
       "    }\n",
       "\n",
       "    .dataframe tbody tr th {\n",
       "        vertical-align: top;\n",
       "    }\n",
       "\n",
       "    .dataframe thead th {\n",
       "        text-align: right;\n",
       "    }\n",
       "</style>\n",
       "<table border=\"1\" class=\"dataframe\">\n",
       "  <thead>\n",
       "    <tr style=\"text-align: right;\">\n",
       "      <th></th>\n",
       "      <th>longitude</th>\n",
       "      <th>latitude</th>\n",
       "      <th>housing_median_age</th>\n",
       "      <th>total_rooms</th>\n",
       "      <th>total_bedrooms</th>\n",
       "      <th>population</th>\n",
       "      <th>households</th>\n",
       "      <th>median_income</th>\n",
       "      <th>median_house_value</th>\n",
       "      <th>ocean_proximity</th>\n",
       "      <th>population_per_bedrooms</th>\n",
       "    </tr>\n",
       "  </thead>\n",
       "  <tbody>\n",
       "    <tr>\n",
       "      <th>0</th>\n",
       "      <td>-122.23</td>\n",
       "      <td>37.88</td>\n",
       "      <td>41.0</td>\n",
       "      <td>880.0</td>\n",
       "      <td>129.0</td>\n",
       "      <td>322.0</td>\n",
       "      <td>126.0</td>\n",
       "      <td>8.3252</td>\n",
       "      <td>452600.0</td>\n",
       "      <td>NEAR BAY</td>\n",
       "      <td>2.496124</td>\n",
       "    </tr>\n",
       "    <tr>\n",
       "      <th>1</th>\n",
       "      <td>-122.22</td>\n",
       "      <td>37.86</td>\n",
       "      <td>21.0</td>\n",
       "      <td>7099.0</td>\n",
       "      <td>1106.0</td>\n",
       "      <td>2401.0</td>\n",
       "      <td>1138.0</td>\n",
       "      <td>8.3014</td>\n",
       "      <td>358500.0</td>\n",
       "      <td>NEAR BAY</td>\n",
       "      <td>2.170886</td>\n",
       "    </tr>\n",
       "    <tr>\n",
       "      <th>2</th>\n",
       "      <td>-122.24</td>\n",
       "      <td>37.85</td>\n",
       "      <td>52.0</td>\n",
       "      <td>1467.0</td>\n",
       "      <td>190.0</td>\n",
       "      <td>496.0</td>\n",
       "      <td>177.0</td>\n",
       "      <td>7.2574</td>\n",
       "      <td>352100.0</td>\n",
       "      <td>NEAR BAY</td>\n",
       "      <td>2.610526</td>\n",
       "    </tr>\n",
       "    <tr>\n",
       "      <th>3</th>\n",
       "      <td>-122.25</td>\n",
       "      <td>37.85</td>\n",
       "      <td>52.0</td>\n",
       "      <td>1274.0</td>\n",
       "      <td>235.0</td>\n",
       "      <td>558.0</td>\n",
       "      <td>219.0</td>\n",
       "      <td>5.6431</td>\n",
       "      <td>341300.0</td>\n",
       "      <td>NEAR BAY</td>\n",
       "      <td>2.374468</td>\n",
       "    </tr>\n",
       "    <tr>\n",
       "      <th>4</th>\n",
       "      <td>-122.25</td>\n",
       "      <td>37.85</td>\n",
       "      <td>52.0</td>\n",
       "      <td>1627.0</td>\n",
       "      <td>280.0</td>\n",
       "      <td>565.0</td>\n",
       "      <td>259.0</td>\n",
       "      <td>3.8462</td>\n",
       "      <td>342200.0</td>\n",
       "      <td>NEAR BAY</td>\n",
       "      <td>2.017857</td>\n",
       "    </tr>\n",
       "  </tbody>\n",
       "</table>\n",
       "</div>"
      ],
      "text/plain": [
       "   longitude  latitude  housing_median_age  total_rooms  total_bedrooms  \\\n",
       "0    -122.23     37.88                41.0        880.0           129.0   \n",
       "1    -122.22     37.86                21.0       7099.0          1106.0   \n",
       "2    -122.24     37.85                52.0       1467.0           190.0   \n",
       "3    -122.25     37.85                52.0       1274.0           235.0   \n",
       "4    -122.25     37.85                52.0       1627.0           280.0   \n",
       "\n",
       "   population  households  median_income  median_house_value ocean_proximity  \\\n",
       "0       322.0       126.0         8.3252            452600.0        NEAR BAY   \n",
       "1      2401.0      1138.0         8.3014            358500.0        NEAR BAY   \n",
       "2       496.0       177.0         7.2574            352100.0        NEAR BAY   \n",
       "3       558.0       219.0         5.6431            341300.0        NEAR BAY   \n",
       "4       565.0       259.0         3.8462            342200.0        NEAR BAY   \n",
       "\n",
       "   population_per_bedrooms  \n",
       "0                 2.496124  \n",
       "1                 2.170886  \n",
       "2                 2.610526  \n",
       "3                 2.374468  \n",
       "4                 2.017857  "
      ]
     },
     "execution_count": 10,
     "metadata": {},
     "output_type": "execute_result"
    }
   ],
   "source": [
    "df.head()"
   ]
  },
  {
   "cell_type": "markdown",
   "id": "e25c1b7e",
   "metadata": {
    "slideshow": {
     "slide_type": "subslide"
    }
   },
   "source": [
    "## *Data Augmentation* (Aumentação de Dados)"
   ]
  },
  {
   "cell_type": "markdown",
   "id": "e56e9a95",
   "metadata": {
    "slideshow": {
     "slide_type": "subslide"
    }
   },
   "source": [
    "É uma técnica de aumentar **artificialmente** o conjunto de treinamento criando cópias modificadas de um conjunto de dados, **usando dados existentes**. Isso inclui fazer pequenas alterações no conjunto de dados ou usar a aprendizagem profunda para gerar novos pontos de dados. No caso do aumento de imagens, fazemos transformações geométricas e no espaço de cores (inversão, redimensionamento, corte, brilho, contraste) para aumentar o tamanho e a diversidade do conjunto de treinamento."
   ]
  },
  {
   "cell_type": "markdown",
   "id": "5067502c",
   "metadata": {
    "slideshow": {
     "slide_type": "subslide"
    }
   },
   "source": [
    "Tipos de dados que podem ser aumentados:\n",
    "\n",
    "* Imagens;\n",
    "\n",
    "* Vídeos;\n",
    "\n",
    "* Áudios;\n",
    "\n",
    "* Texto;\n",
    "\n",
    "* Dentre outros."
   ]
  },
  {
   "cell_type": "markdown",
   "id": "fc20aef7",
   "metadata": {
    "slideshow": {
     "slide_type": "subslide"
    }
   },
   "source": [
    "**Quando usar aumentação de dados?**"
   ]
  },
  {
   "cell_type": "markdown",
   "id": "3f3e5ea1",
   "metadata": {
    "slideshow": {
     "slide_type": "fragment"
    }
   },
   "source": [
    "1. Para evitar *overfitting*.\n",
    "\n",
    "2. Quando o conjunto de treinamento inicial é muito pequeno. \n",
    "\n",
    "3. Para aumentar a acurácia do modelo.\n",
    "\n",
    "4. Reduzir o custo operacional de rotulação e limpeza do conjunto de dados brutos."
   ]
  },
  {
   "cell_type": "markdown",
   "id": "b21f30b2",
   "metadata": {
    "slideshow": {
     "slide_type": "subslide"
    }
   },
   "source": [
    "**Limitações da aumentação de dados**"
   ]
  },
  {
   "cell_type": "markdown",
   "id": "567b559e",
   "metadata": {
    "slideshow": {
     "slide_type": "fragment"
    }
   },
   "source": [
    "1. Os *biases* (vieses) no conjunto de dados original permanecem nos dados aumentados.\n",
    "\n",
    "2. A vantagem da aumentar os dados não é clara e resulta em custos extras excessivos ao modelo.\n",
    "\n",
    "3. Encontrar uma abordagem eficaz de aumentação de dados pode ser um desafio."
   ]
  },
  {
   "cell_type": "markdown",
   "id": "78e168a8",
   "metadata": {
    "slideshow": {
     "slide_type": "subslide"
    }
   },
   "source": [
    "### Técnicas de aumentação de dados"
   ]
  },
  {
   "cell_type": "markdown",
   "id": "83e04b0b",
   "metadata": {
    "slideshow": {
     "slide_type": "subslide"
    }
   },
   "source": [
    "**Aumentação de Dados de Áudio**\n",
    "\n",
    "* **Injeção de Ruído:** adicionar ruído gaussiano ou aleatório ao conjunto de dados de áudio para melhorar o desempenho do modelo.\n",
    "\n",
    "* ***Shifting*:** Deslocar o áudio para a esquerda (avanço rápido) ou para a direita por segundos.\n",
    "\n",
    "* **Alteração da Velocidade:** alonga a série temporal por uma taxa fixa.\n",
    "\n",
    "* **Mudança de Tom:** altera aleatoriamente o tom do áudio."
   ]
  },
  {
   "cell_type": "markdown",
   "id": "f719d007",
   "metadata": {
    "slideshow": {
     "slide_type": "subslide"
    }
   },
   "source": [
    "**Aumentação de Dados de Texto**\n",
    "\n",
    "* **Embaralhamento de Palavras ou Frases:** Mudar aleatoriamente a posição de uma palavra ou frase.\n",
    "\n",
    "* **Substituição de Palavras:** substituir palavras por sinônimos.\n",
    "\n",
    "* **Manipulação da Árvore de Sintaxe:** parafrasear a frase usando a mesma palavra.\n",
    "\n",
    "* **Inserção Aleatória de Palavras:** insere palavras aleatoriamente.\n",
    "\n",
    "* **Exclusão Aleatória de Palavras:** exclui palavras aleatoriamente."
   ]
  },
  {
   "cell_type": "markdown",
   "id": "9384f726",
   "metadata": {
    "slideshow": {
     "slide_type": "subslide"
    }
   },
   "source": [
    "**Aumentação de Dados em Imagens**\n",
    "\n",
    "* **Transformações Geométricas:** inverter, cortar, girar, esticar e ampliar imagens aleatoriamente. É preciso ter cuidado ao aplicar várias transformações nas mesmas imagens, pois isso pode reduzir o desempenho do modelo.\n",
    "\n",
    "* **Transformações do Espaço de Cores:** altera aleatoriamente os canais de cores RGB, o contraste e o brilho."
   ]
  },
  {
   "cell_type": "markdown",
   "id": "81e37731",
   "metadata": {
    "slideshow": {
     "slide_type": "subslide"
    }
   },
   "source": [
    "* **Filtros de Kernel:** altera aleatoriamente a nitidez ou o desfoque da imagem.\n",
    "\n",
    "* **Apagamento Aleatório:** excluir alguma parte da imagem inicial.\n",
    "\n",
    "* **Mistura de Imagens:** mescla e mistura de várias imagens."
   ]
  },
  {
   "cell_type": "markdown",
   "id": "9f74db28",
   "metadata": {
    "slideshow": {
     "slide_type": "subslide"
    }
   },
   "source": [
    "**Técnicas Avançadas**\n",
    "\n",
    "* ***Generative Adversarial Networks* (GANs):** usado para gerar novos pontos de dados ou imagens. **Não requer dados existentes** para gerar dados sintéticos.\n",
    "\n",
    "* ***Neural Style Transfer:*** uma série de camadas convolucionais treinadas para desconstruir imagens e separar contexto e estilo."
   ]
  },
  {
   "cell_type": "markdown",
   "id": "092183a7",
   "metadata": {
    "slideshow": {
     "slide_type": "subslide"
    }
   },
   "source": [
    "**Aplicações da Aumentação de Dados**\n",
    "\n",
    "* Assistência à saúde por meio de reconhecimento de imagens para identificar possíveis doenças.\n",
    "\n",
    "* Carros autônomos.\n",
    "\n",
    "* Processamento de linguagem natural (NLP).\n",
    "\n",
    "* Reconhecimento automático de fala."
   ]
  },
  {
   "cell_type": "markdown",
   "id": "2ffcd974",
   "metadata": {
    "slideshow": {
     "slide_type": "subslide"
    }
   },
   "source": [
    "### Exemplo Prático:\n",
    "\n",
    "https://www.datacamp.com/tutorial/complete-guide-data-augmentation"
   ]
  },
  {
   "cell_type": "markdown",
   "id": "d0db92e4",
   "metadata": {
    "slideshow": {
     "slide_type": "slide"
    }
   },
   "source": [
    "## Parte 3: Transformação de Features"
   ]
  },
  {
   "cell_type": "markdown",
   "id": "fca7433d",
   "metadata": {
    "slideshow": {
     "slide_type": "skip"
    }
   },
   "source": [
    "<img src=\"imagens/transformationFeatures.png\">"
   ]
  },
  {
   "cell_type": "markdown",
   "id": "859d5c7a",
   "metadata": {
    "slideshow": {
     "slide_type": "subslide"
    }
   },
   "source": [
    "* A transformação de features leva em consideração o tipo de dados e sua compatibilidade com o modelo e também se o tipo da variável passa a maior quantidade de informação possível.<br><br>\n",
    "\n",
    "* Algumas técnicas de transformação mais comuns são: "
   ]
  },
  {
   "cell_type": "markdown",
   "id": "ab9c034a",
   "metadata": {
    "slideshow": {
     "slide_type": "subslide"
    }
   },
   "source": [
    "### Parte 3.1: Missing Values"
   ]
  },
  {
   "cell_type": "markdown",
   "id": "2e2bbc47",
   "metadata": {
    "slideshow": {
     "slide_type": "fragment"
    }
   },
   "source": [
    "* Valores ausentes na base de dados podem ocorrer por vários motivos:<br>\n",
    "    * Como questões de permissões, \n",
    "    * Erros humanos, \n",
    "    * Erros de código, etc.<br><br>\n",
    "    \n",
    "* A maioria dos algoritmos de aprendizado de máquina não aceitam conjuntos de dados com valores ausentes.<br><br>"
   ]
  },
  {
   "cell_type": "markdown",
   "id": "72a94f06",
   "metadata": {
    "slideshow": {
     "slide_type": "subslide"
    }
   },
   "source": [
    "* Há um consenso de que se uma feature tiver mais que 20% dos dados faltantes em sua coluna, é melhor não utilizá-la e entender porque esses valores estão faltando.<br><br>\n",
    "* Caso uma feature tenha até 20% dos valores faltando, preencher esses dados com a média ou a mediana da variável. Quando for um valor categórico preencher com o valor categórico médio.<br><br>\n",
    "* Quando se tem menos de 2% dos dados de uma feature faltando, o mais indicado é deletar esses registros, pois como são poucos, sua base de dados não vai diminuir muito, além de poder causar outros problemas. "
   ]
  },
  {
   "cell_type": "code",
   "execution_count": 11,
   "id": "7c379240",
   "metadata": {
    "slideshow": {
     "slide_type": "subslide"
    }
   },
   "outputs": [
    {
     "data": {
      "text/plain": [
       "longitude                    0\n",
       "latitude                     0\n",
       "housing_median_age           0\n",
       "total_rooms                  0\n",
       "total_bedrooms             207\n",
       "population                   0\n",
       "households                   0\n",
       "median_income                0\n",
       "median_house_value           0\n",
       "ocean_proximity              0\n",
       "population_per_bedrooms    207\n",
       "dtype: int64"
      ]
     },
     "execution_count": 11,
     "metadata": {},
     "output_type": "execute_result"
    }
   ],
   "source": [
    "# Verificando Dados Faltantes\n",
    "# Buscamos, então, o somatório de dados faltantes em todo o dataframe.\n",
    "df.isnull().sum()"
   ]
  },
  {
   "cell_type": "markdown",
   "id": "65e7269e",
   "metadata": {
    "slideshow": {
     "slide_type": "subslide"
    }
   },
   "source": [
    "* Encontramos apenas o total de quartos com 207 registros vazios.<br>\n",
    "* Mas qual é a porcentagem do total de quartos que está vazio? "
   ]
  },
  {
   "cell_type": "code",
   "execution_count": 12,
   "id": "0eabfa33",
   "metadata": {
    "slideshow": {
     "slide_type": "subslide"
    }
   },
   "outputs": [
    {
     "name": "stdout",
     "output_type": "stream",
     "text": [
      "Percentual de Dados Faltantes:\n",
      "\n",
      " longitude                  0.000000\n",
      "latitude                   0.000000\n",
      "housing_median_age         0.000000\n",
      "total_rooms                0.000000\n",
      "total_bedrooms             1.002907\n",
      "population                 0.000000\n",
      "households                 0.000000\n",
      "median_income              0.000000\n",
      "median_house_value         0.000000\n",
      "ocean_proximity            0.000000\n",
      "population_per_bedrooms    1.002907\n",
      "dtype: float64\n"
     ]
    }
   ],
   "source": [
    "perc_missing = df.isnull().sum() * 100 / len(df)\n",
    "print('Percentual de Dados Faltantes:\\n\\n',perc_missing)"
   ]
  },
  {
   "cell_type": "markdown",
   "id": "e72e4ba1",
   "metadata": {
    "slideshow": {
     "slide_type": "subslide"
    }
   },
   "source": [
    "<img src=\"imagens/transformationFeatures_01.png\">"
   ]
  },
  {
   "cell_type": "code",
   "execution_count": 13,
   "id": "3c469c0e",
   "metadata": {
    "slideshow": {
     "slide_type": "subslide"
    }
   },
   "outputs": [],
   "source": [
    "# Calculando a Média e adicionando aos campos faltantes\n",
    "df['total_bedrooms'].fillna(df['total_bedrooms'].mean(), inplace = True)"
   ]
  },
  {
   "cell_type": "code",
   "execution_count": 14,
   "id": "cab37c46",
   "metadata": {
    "slideshow": {
     "slide_type": "subslide"
    }
   },
   "outputs": [
    {
     "data": {
      "text/plain": [
       "longitude                    0\n",
       "latitude                     0\n",
       "housing_median_age           0\n",
       "total_rooms                  0\n",
       "total_bedrooms               0\n",
       "population                   0\n",
       "households                   0\n",
       "median_income                0\n",
       "median_house_value           0\n",
       "ocean_proximity              0\n",
       "population_per_bedrooms    207\n",
       "dtype: int64"
      ]
     },
     "execution_count": 14,
     "metadata": {},
     "output_type": "execute_result"
    }
   ],
   "source": [
    "# Exibir o somatório dos valores\n",
    "\"\"\"\n",
    "Utilizamos o fillna() do pandas, esse método recebe dois parâmetros: \n",
    "1. O valor que se está buscando preencher no lugar os dados vazios e \n",
    "2. O inplace=True que é necessário para realmente alterar o nosso dataframe.\n",
    "\n",
    "\"\"\"\n",
    "df.isnull().sum()"
   ]
  },
  {
   "cell_type": "markdown",
   "id": "281ecf34",
   "metadata": {
    "slideshow": {
     "slide_type": "subslide"
    }
   },
   "source": [
    "### Parte 3.2: Manipulação de Outliers"
   ]
  },
  {
   "cell_type": "markdown",
   "id": "97653128",
   "metadata": {
    "slideshow": {
     "slide_type": "fragment"
    }
   },
   "source": [
    "* Outliers são valores fora do \"padrão\" encontrados nos dados.<br><br>\n",
    "* Um valor é considerado um outlier quando: \n",
    "    * A diferença dele para a média é maior que **x * desvio padrão**, \n",
    "    * Quando os valores estão abaixo do primeiro quartil (Q1) \n",
    "    * Quando os valores estão acima do terceiro quartil (Q3) da distribuição de dados.<br>\n"
   ]
  },
  {
   "cell_type": "code",
   "execution_count": 39,
   "id": "dc1f87c9",
   "metadata": {
    "slideshow": {
     "slide_type": "subslide"
    }
   },
   "outputs": [
    {
     "data": {
      "image/png": "[encoded data removed]",
      "text/plain": [
       "<Figure size 1080x360 with 1 Axes>"
      ]
     },
     "metadata": {
      "needs_background": "light"
     },
     "output_type": "display_data"
    }
   ],
   "source": [
    "import seaborn as sns\n",
    "ax = sns.boxplot(x='median_house_value', data=df)\n",
    "ax;"
   ]
  },
  {
   "cell_type": "markdown",
   "id": "1c26ba25",
   "metadata": {
    "slideshow": {
     "slide_type": "subslide"
    }
   },
   "source": [
    "**Observação em relação ao Gráfico:**<br>\n",
    "* No gráfico acima podemos visualizar a distribuição da renda média de famílias dentro de uma casa. \n",
    "* O quadrado azul nos mostra a distribuição dos dados entre primeiro quartil (Q1), mediana e terceiro quartil (Q3). \n",
    "* Os traços afastados da caixa azul são os valores mínimo e máximo, e os pontos abaixo e acima do mínimo, bem como o máximo são considerados outliers. "
   ]
  },
  {
   "cell_type": "markdown",
   "id": "2ad450b7",
   "metadata": {
    "slideshow": {
     "slide_type": "subslide"
    }
   },
   "source": [
    "Após fazer a análise do porquê desses outliers, veja se você precisar removê-los. Se for o caso, pode fazer dessa forma: "
   ]
  },
  {
   "cell_type": "code",
   "execution_count": 16,
   "id": "f8f9af90",
   "metadata": {
    "slideshow": {
     "slide_type": "subslide"
    }
   },
   "outputs": [
    {
     "data": {
      "text/plain": [
       "(20640, 11)"
      ]
     },
     "execution_count": 16,
     "metadata": {},
     "output_type": "execute_result"
    }
   ],
   "source": [
    "df.shape"
   ]
  },
  {
   "cell_type": "code",
   "execution_count": 17,
   "id": "eec5a904",
   "metadata": {
    "slideshow": {
     "slide_type": "subslide"
    }
   },
   "outputs": [
    {
     "data": {
      "text/html": [
       "<div>\n",
       "<style scoped>\n",
       "    .dataframe tbody tr th:only-of-type {\n",
       "        vertical-align: middle;\n",
       "    }\n",
       "\n",
       "    .dataframe tbody tr th {\n",
       "        vertical-align: top;\n",
       "    }\n",
       "\n",
       "    .dataframe thead th {\n",
       "        text-align: right;\n",
       "    }\n",
       "</style>\n",
       "<table border=\"1\" class=\"dataframe\">\n",
       "  <thead>\n",
       "    <tr style=\"text-align: right;\">\n",
       "      <th></th>\n",
       "      <th>longitude</th>\n",
       "      <th>latitude</th>\n",
       "      <th>housing_median_age</th>\n",
       "      <th>total_rooms</th>\n",
       "      <th>total_bedrooms</th>\n",
       "      <th>population</th>\n",
       "      <th>households</th>\n",
       "      <th>median_income</th>\n",
       "      <th>median_house_value</th>\n",
       "      <th>ocean_proximity</th>\n",
       "      <th>population_per_bedrooms</th>\n",
       "    </tr>\n",
       "  </thead>\n",
       "  <tbody>\n",
       "    <tr>\n",
       "      <th>0</th>\n",
       "      <td>-122.23</td>\n",
       "      <td>37.88</td>\n",
       "      <td>41.0</td>\n",
       "      <td>880.0</td>\n",
       "      <td>129.0</td>\n",
       "      <td>322.0</td>\n",
       "      <td>126.0</td>\n",
       "      <td>8.3252</td>\n",
       "      <td>452600.0</td>\n",
       "      <td>NEAR BAY</td>\n",
       "      <td>2.496124</td>\n",
       "    </tr>\n",
       "    <tr>\n",
       "      <th>1</th>\n",
       "      <td>-122.22</td>\n",
       "      <td>37.86</td>\n",
       "      <td>21.0</td>\n",
       "      <td>7099.0</td>\n",
       "      <td>1106.0</td>\n",
       "      <td>2401.0</td>\n",
       "      <td>1138.0</td>\n",
       "      <td>8.3014</td>\n",
       "      <td>358500.0</td>\n",
       "      <td>NEAR BAY</td>\n",
       "      <td>2.170886</td>\n",
       "    </tr>\n",
       "    <tr>\n",
       "      <th>2</th>\n",
       "      <td>-122.24</td>\n",
       "      <td>37.85</td>\n",
       "      <td>52.0</td>\n",
       "      <td>1467.0</td>\n",
       "      <td>190.0</td>\n",
       "      <td>496.0</td>\n",
       "      <td>177.0</td>\n",
       "      <td>7.2574</td>\n",
       "      <td>352100.0</td>\n",
       "      <td>NEAR BAY</td>\n",
       "      <td>2.610526</td>\n",
       "    </tr>\n",
       "    <tr>\n",
       "      <th>3</th>\n",
       "      <td>-122.25</td>\n",
       "      <td>37.85</td>\n",
       "      <td>52.0</td>\n",
       "      <td>1274.0</td>\n",
       "      <td>235.0</td>\n",
       "      <td>558.0</td>\n",
       "      <td>219.0</td>\n",
       "      <td>5.6431</td>\n",
       "      <td>341300.0</td>\n",
       "      <td>NEAR BAY</td>\n",
       "      <td>2.374468</td>\n",
       "    </tr>\n",
       "    <tr>\n",
       "      <th>4</th>\n",
       "      <td>-122.25</td>\n",
       "      <td>37.85</td>\n",
       "      <td>52.0</td>\n",
       "      <td>1627.0</td>\n",
       "      <td>280.0</td>\n",
       "      <td>565.0</td>\n",
       "      <td>259.0</td>\n",
       "      <td>3.8462</td>\n",
       "      <td>342200.0</td>\n",
       "      <td>NEAR BAY</td>\n",
       "      <td>2.017857</td>\n",
       "    </tr>\n",
       "    <tr>\n",
       "      <th>...</th>\n",
       "      <td>...</td>\n",
       "      <td>...</td>\n",
       "      <td>...</td>\n",
       "      <td>...</td>\n",
       "      <td>...</td>\n",
       "      <td>...</td>\n",
       "      <td>...</td>\n",
       "      <td>...</td>\n",
       "      <td>...</td>\n",
       "      <td>...</td>\n",
       "      <td>...</td>\n",
       "    </tr>\n",
       "    <tr>\n",
       "      <th>20635</th>\n",
       "      <td>-121.09</td>\n",
       "      <td>39.48</td>\n",
       "      <td>25.0</td>\n",
       "      <td>1665.0</td>\n",
       "      <td>374.0</td>\n",
       "      <td>845.0</td>\n",
       "      <td>330.0</td>\n",
       "      <td>1.5603</td>\n",
       "      <td>78100.0</td>\n",
       "      <td>INLAND</td>\n",
       "      <td>2.259358</td>\n",
       "    </tr>\n",
       "    <tr>\n",
       "      <th>20636</th>\n",
       "      <td>-121.21</td>\n",
       "      <td>39.49</td>\n",
       "      <td>18.0</td>\n",
       "      <td>697.0</td>\n",
       "      <td>150.0</td>\n",
       "      <td>356.0</td>\n",
       "      <td>114.0</td>\n",
       "      <td>2.5568</td>\n",
       "      <td>77100.0</td>\n",
       "      <td>INLAND</td>\n",
       "      <td>2.373333</td>\n",
       "    </tr>\n",
       "    <tr>\n",
       "      <th>20637</th>\n",
       "      <td>-121.22</td>\n",
       "      <td>39.43</td>\n",
       "      <td>17.0</td>\n",
       "      <td>2254.0</td>\n",
       "      <td>485.0</td>\n",
       "      <td>1007.0</td>\n",
       "      <td>433.0</td>\n",
       "      <td>1.7000</td>\n",
       "      <td>92300.0</td>\n",
       "      <td>INLAND</td>\n",
       "      <td>2.076289</td>\n",
       "    </tr>\n",
       "    <tr>\n",
       "      <th>20638</th>\n",
       "      <td>-121.32</td>\n",
       "      <td>39.43</td>\n",
       "      <td>18.0</td>\n",
       "      <td>1860.0</td>\n",
       "      <td>409.0</td>\n",
       "      <td>741.0</td>\n",
       "      <td>349.0</td>\n",
       "      <td>1.8672</td>\n",
       "      <td>84700.0</td>\n",
       "      <td>INLAND</td>\n",
       "      <td>1.811736</td>\n",
       "    </tr>\n",
       "    <tr>\n",
       "      <th>20639</th>\n",
       "      <td>-121.24</td>\n",
       "      <td>39.37</td>\n",
       "      <td>16.0</td>\n",
       "      <td>2785.0</td>\n",
       "      <td>616.0</td>\n",
       "      <td>1387.0</td>\n",
       "      <td>530.0</td>\n",
       "      <td>2.3886</td>\n",
       "      <td>89400.0</td>\n",
       "      <td>INLAND</td>\n",
       "      <td>2.251623</td>\n",
       "    </tr>\n",
       "  </tbody>\n",
       "</table>\n",
       "<p>19569 rows × 11 columns</p>\n",
       "</div>"
      ],
      "text/plain": [
       "       longitude  latitude  housing_median_age  total_rooms  total_bedrooms  \\\n",
       "0        -122.23     37.88                41.0        880.0           129.0   \n",
       "1        -122.22     37.86                21.0       7099.0          1106.0   \n",
       "2        -122.24     37.85                52.0       1467.0           190.0   \n",
       "3        -122.25     37.85                52.0       1274.0           235.0   \n",
       "4        -122.25     37.85                52.0       1627.0           280.0   \n",
       "...          ...       ...                 ...          ...             ...   \n",
       "20635    -121.09     39.48                25.0       1665.0           374.0   \n",
       "20636    -121.21     39.49                18.0        697.0           150.0   \n",
       "20637    -121.22     39.43                17.0       2254.0           485.0   \n",
       "20638    -121.32     39.43                18.0       1860.0           409.0   \n",
       "20639    -121.24     39.37                16.0       2785.0           616.0   \n",
       "\n",
       "       population  households  median_income  median_house_value  \\\n",
       "0           322.0       126.0         8.3252            452600.0   \n",
       "1          2401.0      1138.0         8.3014            358500.0   \n",
       "2           496.0       177.0         7.2574            352100.0   \n",
       "3           558.0       219.0         5.6431            341300.0   \n",
       "4           565.0       259.0         3.8462            342200.0   \n",
       "...           ...         ...            ...                 ...   \n",
       "20635       845.0       330.0         1.5603             78100.0   \n",
       "20636       356.0       114.0         2.5568             77100.0   \n",
       "20637      1007.0       433.0         1.7000             92300.0   \n",
       "20638       741.0       349.0         1.8672             84700.0   \n",
       "20639      1387.0       530.0         2.3886             89400.0   \n",
       "\n",
       "      ocean_proximity  population_per_bedrooms  \n",
       "0            NEAR BAY                 2.496124  \n",
       "1            NEAR BAY                 2.170886  \n",
       "2            NEAR BAY                 2.610526  \n",
       "3            NEAR BAY                 2.374468  \n",
       "4            NEAR BAY                 2.017857  \n",
       "...               ...                      ...  \n",
       "20635          INLAND                 2.259358  \n",
       "20636          INLAND                 2.373333  \n",
       "20637          INLAND                 2.076289  \n",
       "20638          INLAND                 1.811736  \n",
       "20639          INLAND                 2.251623  \n",
       "\n",
       "[19569 rows x 11 columns]"
      ]
     },
     "execution_count": 17,
     "metadata": {},
     "output_type": "execute_result"
    }
   ],
   "source": [
    "Q1 = df['median_house_value'].quantile(0.25)\n",
    "Q3 = df['median_house_value'].quantile(0.75)\n",
    "\n",
    "IQR = Q3 - Q1\n",
    "\n",
    "df[-( (df['median_house_value'] < (Q1 - 1.5 * IQR)) | (df['median_house_value'] > (Q3 + 1.5 * IQR)))]"
   ]
  },
  {
   "cell_type": "markdown",
   "id": "b67c9520",
   "metadata": {
    "slideshow": {
     "slide_type": "subslide"
    }
   },
   "source": [
    "### Parte 3.3: Binning"
   ]
  },
  {
   "cell_type": "markdown",
   "id": "6010ec05",
   "metadata": {
    "slideshow": {
     "slide_type": "fragment"
    }
   },
   "source": [
    "* Essa técnica é geralmente utilizada em dados numéricos e tem objetivo de separar os dados em conjuntos ou intervalos.<br><br>\n",
    "* Considerando nosso exemplo, poderíamos transformar o preço das casas em categorias como Alto, Médio e Baixo.<br><br>"
   ]
  },
  {
   "cell_type": "markdown",
   "id": "e4373917",
   "metadata": {
    "slideshow": {
     "slide_type": "subslide"
    }
   },
   "source": [
    "* O *binning* pode reduzir o desempenho do modelo mas vai evitar bastante *overfitting*, então é preciso fazer um balanço entre o quanto você vai perder de desempenho versus o quanto você vai reduzir de *overfitting*. Sem contar que você pode acabar perdendo muita informação nesse processo, então, novamente, é preciso conhecer muito a área de negócios para entender se o *binning* vai valer a pena."
   ]
  },
  {
   "cell_type": "code",
   "execution_count": 18,
   "id": "b21b3858",
   "metadata": {
    "slideshow": {
     "slide_type": "subslide"
    }
   },
   "outputs": [],
   "source": [
    "# Criar uma nova feature e transformar dados numéricos em dados categóricos\n",
    "df['house_price_bin'] = pd.qcut(df['median_house_value'], \n",
    "                                q=[0, 1/3, 2/3, 1],\n",
    "                                labels=['Baixo','Medio','Alto'])"
   ]
  },
  {
   "cell_type": "code",
   "execution_count": 19,
   "id": "0bedc8fc",
   "metadata": {
    "slideshow": {
     "slide_type": "subslide"
    }
   },
   "outputs": [
    {
     "data": {
      "text/html": [
       "<div>\n",
       "<style scoped>\n",
       "    .dataframe tbody tr th:only-of-type {\n",
       "        vertical-align: middle;\n",
       "    }\n",
       "\n",
       "    .dataframe tbody tr th {\n",
       "        vertical-align: top;\n",
       "    }\n",
       "\n",
       "    .dataframe thead th {\n",
       "        text-align: right;\n",
       "    }\n",
       "</style>\n",
       "<table border=\"1\" class=\"dataframe\">\n",
       "  <thead>\n",
       "    <tr style=\"text-align: right;\">\n",
       "      <th></th>\n",
       "      <th>longitude</th>\n",
       "      <th>latitude</th>\n",
       "      <th>housing_median_age</th>\n",
       "      <th>total_rooms</th>\n",
       "      <th>total_bedrooms</th>\n",
       "      <th>population</th>\n",
       "      <th>households</th>\n",
       "      <th>median_income</th>\n",
       "      <th>median_house_value</th>\n",
       "      <th>ocean_proximity</th>\n",
       "      <th>population_per_bedrooms</th>\n",
       "      <th>house_price_bin</th>\n",
       "    </tr>\n",
       "  </thead>\n",
       "  <tbody>\n",
       "    <tr>\n",
       "      <th>0</th>\n",
       "      <td>-122.23</td>\n",
       "      <td>37.88</td>\n",
       "      <td>41.0</td>\n",
       "      <td>880.0</td>\n",
       "      <td>129.0</td>\n",
       "      <td>322.0</td>\n",
       "      <td>126.0</td>\n",
       "      <td>8.3252</td>\n",
       "      <td>452600.0</td>\n",
       "      <td>NEAR BAY</td>\n",
       "      <td>2.496124</td>\n",
       "      <td>Alto</td>\n",
       "    </tr>\n",
       "    <tr>\n",
       "      <th>1</th>\n",
       "      <td>-122.22</td>\n",
       "      <td>37.86</td>\n",
       "      <td>21.0</td>\n",
       "      <td>7099.0</td>\n",
       "      <td>1106.0</td>\n",
       "      <td>2401.0</td>\n",
       "      <td>1138.0</td>\n",
       "      <td>8.3014</td>\n",
       "      <td>358500.0</td>\n",
       "      <td>NEAR BAY</td>\n",
       "      <td>2.170886</td>\n",
       "      <td>Alto</td>\n",
       "    </tr>\n",
       "    <tr>\n",
       "      <th>2</th>\n",
       "      <td>-122.24</td>\n",
       "      <td>37.85</td>\n",
       "      <td>52.0</td>\n",
       "      <td>1467.0</td>\n",
       "      <td>190.0</td>\n",
       "      <td>496.0</td>\n",
       "      <td>177.0</td>\n",
       "      <td>7.2574</td>\n",
       "      <td>352100.0</td>\n",
       "      <td>NEAR BAY</td>\n",
       "      <td>2.610526</td>\n",
       "      <td>Alto</td>\n",
       "    </tr>\n",
       "    <tr>\n",
       "      <th>3</th>\n",
       "      <td>-122.25</td>\n",
       "      <td>37.85</td>\n",
       "      <td>52.0</td>\n",
       "      <td>1274.0</td>\n",
       "      <td>235.0</td>\n",
       "      <td>558.0</td>\n",
       "      <td>219.0</td>\n",
       "      <td>5.6431</td>\n",
       "      <td>341300.0</td>\n",
       "      <td>NEAR BAY</td>\n",
       "      <td>2.374468</td>\n",
       "      <td>Alto</td>\n",
       "    </tr>\n",
       "    <tr>\n",
       "      <th>4</th>\n",
       "      <td>-122.25</td>\n",
       "      <td>37.85</td>\n",
       "      <td>52.0</td>\n",
       "      <td>1627.0</td>\n",
       "      <td>280.0</td>\n",
       "      <td>565.0</td>\n",
       "      <td>259.0</td>\n",
       "      <td>3.8462</td>\n",
       "      <td>342200.0</td>\n",
       "      <td>NEAR BAY</td>\n",
       "      <td>2.017857</td>\n",
       "      <td>Alto</td>\n",
       "    </tr>\n",
       "    <tr>\n",
       "      <th>...</th>\n",
       "      <td>...</td>\n",
       "      <td>...</td>\n",
       "      <td>...</td>\n",
       "      <td>...</td>\n",
       "      <td>...</td>\n",
       "      <td>...</td>\n",
       "      <td>...</td>\n",
       "      <td>...</td>\n",
       "      <td>...</td>\n",
       "      <td>...</td>\n",
       "      <td>...</td>\n",
       "      <td>...</td>\n",
       "    </tr>\n",
       "    <tr>\n",
       "      <th>20635</th>\n",
       "      <td>-121.09</td>\n",
       "      <td>39.48</td>\n",
       "      <td>25.0</td>\n",
       "      <td>1665.0</td>\n",
       "      <td>374.0</td>\n",
       "      <td>845.0</td>\n",
       "      <td>330.0</td>\n",
       "      <td>1.5603</td>\n",
       "      <td>78100.0</td>\n",
       "      <td>INLAND</td>\n",
       "      <td>2.259358</td>\n",
       "      <td>Baixo</td>\n",
       "    </tr>\n",
       "    <tr>\n",
       "      <th>20636</th>\n",
       "      <td>-121.21</td>\n",
       "      <td>39.49</td>\n",
       "      <td>18.0</td>\n",
       "      <td>697.0</td>\n",
       "      <td>150.0</td>\n",
       "      <td>356.0</td>\n",
       "      <td>114.0</td>\n",
       "      <td>2.5568</td>\n",
       "      <td>77100.0</td>\n",
       "      <td>INLAND</td>\n",
       "      <td>2.373333</td>\n",
       "      <td>Baixo</td>\n",
       "    </tr>\n",
       "    <tr>\n",
       "      <th>20637</th>\n",
       "      <td>-121.22</td>\n",
       "      <td>39.43</td>\n",
       "      <td>17.0</td>\n",
       "      <td>2254.0</td>\n",
       "      <td>485.0</td>\n",
       "      <td>1007.0</td>\n",
       "      <td>433.0</td>\n",
       "      <td>1.7000</td>\n",
       "      <td>92300.0</td>\n",
       "      <td>INLAND</td>\n",
       "      <td>2.076289</td>\n",
       "      <td>Baixo</td>\n",
       "    </tr>\n",
       "    <tr>\n",
       "      <th>20638</th>\n",
       "      <td>-121.32</td>\n",
       "      <td>39.43</td>\n",
       "      <td>18.0</td>\n",
       "      <td>1860.0</td>\n",
       "      <td>409.0</td>\n",
       "      <td>741.0</td>\n",
       "      <td>349.0</td>\n",
       "      <td>1.8672</td>\n",
       "      <td>84700.0</td>\n",
       "      <td>INLAND</td>\n",
       "      <td>1.811736</td>\n",
       "      <td>Baixo</td>\n",
       "    </tr>\n",
       "    <tr>\n",
       "      <th>20639</th>\n",
       "      <td>-121.24</td>\n",
       "      <td>39.37</td>\n",
       "      <td>16.0</td>\n",
       "      <td>2785.0</td>\n",
       "      <td>616.0</td>\n",
       "      <td>1387.0</td>\n",
       "      <td>530.0</td>\n",
       "      <td>2.3886</td>\n",
       "      <td>89400.0</td>\n",
       "      <td>INLAND</td>\n",
       "      <td>2.251623</td>\n",
       "      <td>Baixo</td>\n",
       "    </tr>\n",
       "  </tbody>\n",
       "</table>\n",
       "<p>20640 rows × 12 columns</p>\n",
       "</div>"
      ],
      "text/plain": [
       "       longitude  latitude  housing_median_age  total_rooms  total_bedrooms  \\\n",
       "0        -122.23     37.88                41.0        880.0           129.0   \n",
       "1        -122.22     37.86                21.0       7099.0          1106.0   \n",
       "2        -122.24     37.85                52.0       1467.0           190.0   \n",
       "3        -122.25     37.85                52.0       1274.0           235.0   \n",
       "4        -122.25     37.85                52.0       1627.0           280.0   \n",
       "...          ...       ...                 ...          ...             ...   \n",
       "20635    -121.09     39.48                25.0       1665.0           374.0   \n",
       "20636    -121.21     39.49                18.0        697.0           150.0   \n",
       "20637    -121.22     39.43                17.0       2254.0           485.0   \n",
       "20638    -121.32     39.43                18.0       1860.0           409.0   \n",
       "20639    -121.24     39.37                16.0       2785.0           616.0   \n",
       "\n",
       "       population  households  median_income  median_house_value  \\\n",
       "0           322.0       126.0         8.3252            452600.0   \n",
       "1          2401.0      1138.0         8.3014            358500.0   \n",
       "2           496.0       177.0         7.2574            352100.0   \n",
       "3           558.0       219.0         5.6431            341300.0   \n",
       "4           565.0       259.0         3.8462            342200.0   \n",
       "...           ...         ...            ...                 ...   \n",
       "20635       845.0       330.0         1.5603             78100.0   \n",
       "20636       356.0       114.0         2.5568             77100.0   \n",
       "20637      1007.0       433.0         1.7000             92300.0   \n",
       "20638       741.0       349.0         1.8672             84700.0   \n",
       "20639      1387.0       530.0         2.3886             89400.0   \n",
       "\n",
       "      ocean_proximity  population_per_bedrooms house_price_bin  \n",
       "0            NEAR BAY                 2.496124            Alto  \n",
       "1            NEAR BAY                 2.170886            Alto  \n",
       "2            NEAR BAY                 2.610526            Alto  \n",
       "3            NEAR BAY                 2.374468            Alto  \n",
       "4            NEAR BAY                 2.017857            Alto  \n",
       "...               ...                      ...             ...  \n",
       "20635          INLAND                 2.259358           Baixo  \n",
       "20636          INLAND                 2.373333           Baixo  \n",
       "20637          INLAND                 2.076289           Baixo  \n",
       "20638          INLAND                 1.811736           Baixo  \n",
       "20639          INLAND                 2.251623           Baixo  \n",
       "\n",
       "[20640 rows x 12 columns]"
      ]
     },
     "execution_count": 19,
     "metadata": {},
     "output_type": "execute_result"
    }
   ],
   "source": [
    "df"
   ]
  },
  {
   "cell_type": "code",
   "execution_count": 20,
   "id": "c41b6897",
   "metadata": {
    "slideshow": {
     "slide_type": "subslide"
    }
   },
   "outputs": [
    {
     "data": {
      "text/plain": [
       "['Alto', 'Medio', 'Baixo']\n",
       "Categories (3, object): ['Baixo' < 'Medio' < 'Alto']"
      ]
     },
     "execution_count": 20,
     "metadata": {},
     "output_type": "execute_result"
    }
   ],
   "source": [
    "df['house_price_bin'].unique()"
   ]
  },
  {
   "cell_type": "markdown",
   "id": "5b70f6c2",
   "metadata": {
    "slideshow": {
     "slide_type": "slide"
    }
   },
   "source": [
    "### Parte 3.4: One-hot encoding"
   ]
  },
  {
   "cell_type": "markdown",
   "id": "6c595b66",
   "metadata": {
    "slideshow": {
     "slide_type": "fragment"
    }
   },
   "source": [
    "* O **one-hot encoding** é usado para transformar variáveis categóricas em colunas e atribuir valores 0 e 1 para os valores dessas colunas, ou seja, é uma técnica de pré-processamento de dados que converte variáveis categóricas em binários.<br><br>\n",
    "* O $0$ é usado para quando um registro não possui aquele valor, e 1 para quando ele tem aquele valor.<br><br> "
   ]
  },
  {
   "cell_type": "markdown",
   "id": "4a1865c8",
   "metadata": {
    "slideshow": {
     "slide_type": "subslide"
    }
   },
   "source": [
    "* O objetivo do **one-hot encoding** é deixar os dados mais entendíveis para os algoritmos, já que as máquinas entendem $0$'s e $1$'s."
   ]
  },
  {
   "cell_type": "markdown",
   "id": "03315de2",
   "metadata": {
    "slideshow": {
     "slide_type": "subslide"
    }
   },
   "source": [
    "<img src=\"imagens/transformationFeatures_02.png\">"
   ]
  },
  {
   "cell_type": "markdown",
   "id": "66d550d4",
   "metadata": {
    "slideshow": {
     "slide_type": "subslide"
    }
   },
   "source": [
    "<img src=\"imagens/transformationFeatures_03.png\">"
   ]
  },
  {
   "cell_type": "code",
   "execution_count": 21,
   "id": "f2e21267",
   "metadata": {
    "slideshow": {
     "slide_type": "subslide"
    }
   },
   "outputs": [],
   "source": [
    "encoded_ocean_proximity = pd.get_dummies(df['ocean_proximity'])"
   ]
  },
  {
   "cell_type": "code",
   "execution_count": 22,
   "id": "78564af2",
   "metadata": {
    "slideshow": {
     "slide_type": "subslide"
    }
   },
   "outputs": [
    {
     "data": {
      "text/html": [
       "<div>\n",
       "<style scoped>\n",
       "    .dataframe tbody tr th:only-of-type {\n",
       "        vertical-align: middle;\n",
       "    }\n",
       "\n",
       "    .dataframe tbody tr th {\n",
       "        vertical-align: top;\n",
       "    }\n",
       "\n",
       "    .dataframe thead th {\n",
       "        text-align: right;\n",
       "    }\n",
       "</style>\n",
       "<table border=\"1\" class=\"dataframe\">\n",
       "  <thead>\n",
       "    <tr style=\"text-align: right;\">\n",
       "      <th></th>\n",
       "      <th>longitude</th>\n",
       "      <th>latitude</th>\n",
       "      <th>housing_median_age</th>\n",
       "      <th>total_rooms</th>\n",
       "      <th>total_bedrooms</th>\n",
       "      <th>population</th>\n",
       "      <th>households</th>\n",
       "      <th>median_income</th>\n",
       "      <th>median_house_value</th>\n",
       "      <th>population_per_bedrooms</th>\n",
       "      <th>house_price_bin</th>\n",
       "      <th>&lt;1H OCEAN</th>\n",
       "      <th>INLAND</th>\n",
       "      <th>ISLAND</th>\n",
       "      <th>NEAR BAY</th>\n",
       "      <th>NEAR OCEAN</th>\n",
       "    </tr>\n",
       "  </thead>\n",
       "  <tbody>\n",
       "    <tr>\n",
       "      <th>0</th>\n",
       "      <td>-122.23</td>\n",
       "      <td>37.88</td>\n",
       "      <td>41.0</td>\n",
       "      <td>880.0</td>\n",
       "      <td>129.0</td>\n",
       "      <td>322.0</td>\n",
       "      <td>126.0</td>\n",
       "      <td>8.3252</td>\n",
       "      <td>452600.0</td>\n",
       "      <td>2.496124</td>\n",
       "      <td>Alto</td>\n",
       "      <td>0</td>\n",
       "      <td>0</td>\n",
       "      <td>0</td>\n",
       "      <td>1</td>\n",
       "      <td>0</td>\n",
       "    </tr>\n",
       "    <tr>\n",
       "      <th>1</th>\n",
       "      <td>-122.22</td>\n",
       "      <td>37.86</td>\n",
       "      <td>21.0</td>\n",
       "      <td>7099.0</td>\n",
       "      <td>1106.0</td>\n",
       "      <td>2401.0</td>\n",
       "      <td>1138.0</td>\n",
       "      <td>8.3014</td>\n",
       "      <td>358500.0</td>\n",
       "      <td>2.170886</td>\n",
       "      <td>Alto</td>\n",
       "      <td>0</td>\n",
       "      <td>0</td>\n",
       "      <td>0</td>\n",
       "      <td>1</td>\n",
       "      <td>0</td>\n",
       "    </tr>\n",
       "    <tr>\n",
       "      <th>2</th>\n",
       "      <td>-122.24</td>\n",
       "      <td>37.85</td>\n",
       "      <td>52.0</td>\n",
       "      <td>1467.0</td>\n",
       "      <td>190.0</td>\n",
       "      <td>496.0</td>\n",
       "      <td>177.0</td>\n",
       "      <td>7.2574</td>\n",
       "      <td>352100.0</td>\n",
       "      <td>2.610526</td>\n",
       "      <td>Alto</td>\n",
       "      <td>0</td>\n",
       "      <td>0</td>\n",
       "      <td>0</td>\n",
       "      <td>1</td>\n",
       "      <td>0</td>\n",
       "    </tr>\n",
       "    <tr>\n",
       "      <th>3</th>\n",
       "      <td>-122.25</td>\n",
       "      <td>37.85</td>\n",
       "      <td>52.0</td>\n",
       "      <td>1274.0</td>\n",
       "      <td>235.0</td>\n",
       "      <td>558.0</td>\n",
       "      <td>219.0</td>\n",
       "      <td>5.6431</td>\n",
       "      <td>341300.0</td>\n",
       "      <td>2.374468</td>\n",
       "      <td>Alto</td>\n",
       "      <td>0</td>\n",
       "      <td>0</td>\n",
       "      <td>0</td>\n",
       "      <td>1</td>\n",
       "      <td>0</td>\n",
       "    </tr>\n",
       "    <tr>\n",
       "      <th>4</th>\n",
       "      <td>-122.25</td>\n",
       "      <td>37.85</td>\n",
       "      <td>52.0</td>\n",
       "      <td>1627.0</td>\n",
       "      <td>280.0</td>\n",
       "      <td>565.0</td>\n",
       "      <td>259.0</td>\n",
       "      <td>3.8462</td>\n",
       "      <td>342200.0</td>\n",
       "      <td>2.017857</td>\n",
       "      <td>Alto</td>\n",
       "      <td>0</td>\n",
       "      <td>0</td>\n",
       "      <td>0</td>\n",
       "      <td>1</td>\n",
       "      <td>0</td>\n",
       "    </tr>\n",
       "    <tr>\n",
       "      <th>...</th>\n",
       "      <td>...</td>\n",
       "      <td>...</td>\n",
       "      <td>...</td>\n",
       "      <td>...</td>\n",
       "      <td>...</td>\n",
       "      <td>...</td>\n",
       "      <td>...</td>\n",
       "      <td>...</td>\n",
       "      <td>...</td>\n",
       "      <td>...</td>\n",
       "      <td>...</td>\n",
       "      <td>...</td>\n",
       "      <td>...</td>\n",
       "      <td>...</td>\n",
       "      <td>...</td>\n",
       "      <td>...</td>\n",
       "    </tr>\n",
       "    <tr>\n",
       "      <th>20635</th>\n",
       "      <td>-121.09</td>\n",
       "      <td>39.48</td>\n",
       "      <td>25.0</td>\n",
       "      <td>1665.0</td>\n",
       "      <td>374.0</td>\n",
       "      <td>845.0</td>\n",
       "      <td>330.0</td>\n",
       "      <td>1.5603</td>\n",
       "      <td>78100.0</td>\n",
       "      <td>2.259358</td>\n",
       "      <td>Baixo</td>\n",
       "      <td>0</td>\n",
       "      <td>1</td>\n",
       "      <td>0</td>\n",
       "      <td>0</td>\n",
       "      <td>0</td>\n",
       "    </tr>\n",
       "    <tr>\n",
       "      <th>20636</th>\n",
       "      <td>-121.21</td>\n",
       "      <td>39.49</td>\n",
       "      <td>18.0</td>\n",
       "      <td>697.0</td>\n",
       "      <td>150.0</td>\n",
       "      <td>356.0</td>\n",
       "      <td>114.0</td>\n",
       "      <td>2.5568</td>\n",
       "      <td>77100.0</td>\n",
       "      <td>2.373333</td>\n",
       "      <td>Baixo</td>\n",
       "      <td>0</td>\n",
       "      <td>1</td>\n",
       "      <td>0</td>\n",
       "      <td>0</td>\n",
       "      <td>0</td>\n",
       "    </tr>\n",
       "    <tr>\n",
       "      <th>20637</th>\n",
       "      <td>-121.22</td>\n",
       "      <td>39.43</td>\n",
       "      <td>17.0</td>\n",
       "      <td>2254.0</td>\n",
       "      <td>485.0</td>\n",
       "      <td>1007.0</td>\n",
       "      <td>433.0</td>\n",
       "      <td>1.7000</td>\n",
       "      <td>92300.0</td>\n",
       "      <td>2.076289</td>\n",
       "      <td>Baixo</td>\n",
       "      <td>0</td>\n",
       "      <td>1</td>\n",
       "      <td>0</td>\n",
       "      <td>0</td>\n",
       "      <td>0</td>\n",
       "    </tr>\n",
       "    <tr>\n",
       "      <th>20638</th>\n",
       "      <td>-121.32</td>\n",
       "      <td>39.43</td>\n",
       "      <td>18.0</td>\n",
       "      <td>1860.0</td>\n",
       "      <td>409.0</td>\n",
       "      <td>741.0</td>\n",
       "      <td>349.0</td>\n",
       "      <td>1.8672</td>\n",
       "      <td>84700.0</td>\n",
       "      <td>1.811736</td>\n",
       "      <td>Baixo</td>\n",
       "      <td>0</td>\n",
       "      <td>1</td>\n",
       "      <td>0</td>\n",
       "      <td>0</td>\n",
       "      <td>0</td>\n",
       "    </tr>\n",
       "    <tr>\n",
       "      <th>20639</th>\n",
       "      <td>-121.24</td>\n",
       "      <td>39.37</td>\n",
       "      <td>16.0</td>\n",
       "      <td>2785.0</td>\n",
       "      <td>616.0</td>\n",
       "      <td>1387.0</td>\n",
       "      <td>530.0</td>\n",
       "      <td>2.3886</td>\n",
       "      <td>89400.0</td>\n",
       "      <td>2.251623</td>\n",
       "      <td>Baixo</td>\n",
       "      <td>0</td>\n",
       "      <td>1</td>\n",
       "      <td>0</td>\n",
       "      <td>0</td>\n",
       "      <td>0</td>\n",
       "    </tr>\n",
       "  </tbody>\n",
       "</table>\n",
       "<p>20640 rows × 16 columns</p>\n",
       "</div>"
      ],
      "text/plain": [
       "       longitude  latitude  housing_median_age  total_rooms  total_bedrooms  \\\n",
       "0        -122.23     37.88                41.0        880.0           129.0   \n",
       "1        -122.22     37.86                21.0       7099.0          1106.0   \n",
       "2        -122.24     37.85                52.0       1467.0           190.0   \n",
       "3        -122.25     37.85                52.0       1274.0           235.0   \n",
       "4        -122.25     37.85                52.0       1627.0           280.0   \n",
       "...          ...       ...                 ...          ...             ...   \n",
       "20635    -121.09     39.48                25.0       1665.0           374.0   \n",
       "20636    -121.21     39.49                18.0        697.0           150.0   \n",
       "20637    -121.22     39.43                17.0       2254.0           485.0   \n",
       "20638    -121.32     39.43                18.0       1860.0           409.0   \n",
       "20639    -121.24     39.37                16.0       2785.0           616.0   \n",
       "\n",
       "       population  households  median_income  median_house_value  \\\n",
       "0           322.0       126.0         8.3252            452600.0   \n",
       "1          2401.0      1138.0         8.3014            358500.0   \n",
       "2           496.0       177.0         7.2574            352100.0   \n",
       "3           558.0       219.0         5.6431            341300.0   \n",
       "4           565.0       259.0         3.8462            342200.0   \n",
       "...           ...         ...            ...                 ...   \n",
       "20635       845.0       330.0         1.5603             78100.0   \n",
       "20636       356.0       114.0         2.5568             77100.0   \n",
       "20637      1007.0       433.0         1.7000             92300.0   \n",
       "20638       741.0       349.0         1.8672             84700.0   \n",
       "20639      1387.0       530.0         2.3886             89400.0   \n",
       "\n",
       "       population_per_bedrooms house_price_bin  <1H OCEAN  INLAND  ISLAND  \\\n",
       "0                     2.496124            Alto          0       0       0   \n",
       "1                     2.170886            Alto          0       0       0   \n",
       "2                     2.610526            Alto          0       0       0   \n",
       "3                     2.374468            Alto          0       0       0   \n",
       "4                     2.017857            Alto          0       0       0   \n",
       "...                        ...             ...        ...     ...     ...   \n",
       "20635                 2.259358           Baixo          0       1       0   \n",
       "20636                 2.373333           Baixo          0       1       0   \n",
       "20637                 2.076289           Baixo          0       1       0   \n",
       "20638                 1.811736           Baixo          0       1       0   \n",
       "20639                 2.251623           Baixo          0       1       0   \n",
       "\n",
       "       NEAR BAY  NEAR OCEAN  \n",
       "0             1           0  \n",
       "1             1           0  \n",
       "2             1           0  \n",
       "3             1           0  \n",
       "4             1           0  \n",
       "...         ...         ...  \n",
       "20635         0           0  \n",
       "20636         0           0  \n",
       "20637         0           0  \n",
       "20638         0           0  \n",
       "20639         0           0  \n",
       "\n",
       "[20640 rows x 16 columns]"
      ]
     },
     "execution_count": 22,
     "metadata": {},
     "output_type": "execute_result"
    }
   ],
   "source": [
    "df.join(encoded_ocean_proximity).drop('ocean_proximity', axis=1)"
   ]
  },
  {
   "cell_type": "code",
   "execution_count": 23,
   "id": "c3b61bf7",
   "metadata": {
    "slideshow": {
     "slide_type": "subslide"
    }
   },
   "outputs": [
    {
     "data": {
      "text/plain": [
       "array(['NEAR BAY', '<1H OCEAN', 'INLAND', 'NEAR OCEAN', 'ISLAND'],\n",
       "      dtype=object)"
      ]
     },
     "execution_count": 23,
     "metadata": {},
     "output_type": "execute_result"
    }
   ],
   "source": [
    "df['ocean_proximity'].unique()"
   ]
  },
  {
   "cell_type": "markdown",
   "id": "5af57c42",
   "metadata": {
    "slideshow": {
     "slide_type": "subslide"
    }
   },
   "source": [
    "* No exemplo acima, alteramos nossa variável de proximidade com o oceano, e todas as opções desta *feature* viraram uma coluna.<br><br>\n",
    "* Nos registros onde a proximidade com o oceano era próximo da baía (*near bay*) essa coluna recebeu $1$ e as outras opções de proximidade receberam $0$."
   ]
  },
  {
   "cell_type": "markdown",
   "id": "fb76bd5a",
   "metadata": {
    "slideshow": {
     "slide_type": "slide"
    }
   },
   "source": [
    "# Parte 4: Redução de Dimensionalidade"
   ]
  },
  {
   "cell_type": "markdown",
   "id": "1f63161c",
   "metadata": {
    "slideshow": {
     "slide_type": "subslide"
    }
   },
   "source": [
    "Quando falamos em **redução de dimensionalidade**, o que se deseja obter é uma representação compacta para os dados observados que **preserve a maior parte da informação ou da estrutura** que os dados possuem no espaço original."
   ]
  },
  {
   "cell_type": "markdown",
   "id": "6f1287f0",
   "metadata": {
    "slideshow": {
     "slide_type": "subslide"
    }
   },
   "source": [
    "Por que é, de fato, útil reduzir a dimensionalidade?\n",
    "\n",
    "Por conta da **Maldição da Dimensionalidade**. Richard E. Bellman utilizou esta expressão, em seu trabalho sobre programação dinâmica (1957), quando se referindo a vários fenômenos que surgem quando analisamos dados em espaços de alta dimensão."
   ]
  },
  {
   "cell_type": "markdown",
   "id": "dc10876d",
   "metadata": {
    "slideshow": {
     "slide_type": "subslide"
    }
   },
   "source": [
    "A maldição da dimensionalidade implica em:\n",
    "\n",
    "* Crescimento exponencial no número de exemplos necessários para manter uma determinada densidade de amostras.\n",
    "\n",
    "* Crescimento da complexidade da função objetivo envolvida no processo de aprendizado.\n",
    "\n",
    "* Tratamento estatístico em espaços de dimensão mais elevada: a distribuição Gaussiana admite uma extensão para este caso com uma parametrização relativamente simples; contudo, não há tantas opções quanto no caso unidimensional."
   ]
  },
  {
   "cell_type": "markdown",
   "id": "4ee12a90",
   "metadata": {
    "slideshow": {
     "slide_type": "subslide"
    }
   },
   "source": [
    "### Vantagens\n",
    "\n",
    "* Reduzir o custo computacional envolvido no processamento dos dados.\n",
    "\n",
    "* Eliminar redundâncias nas informações disponíveis.\n",
    "\n",
    "* Possibilitar a visualização dos dados."
   ]
  },
  {
   "cell_type": "markdown",
   "id": "0533817b",
   "metadata": {
    "slideshow": {
     "slide_type": "subslide"
    }
   },
   "source": [
    "A Redução de Dimensionalidade apoia-se no conceito de **Variáveis Latentes**:\n",
    "\n",
    "O conteito de **variáveis latentes** estão relacionados aos atributos que estavam escondidos em meio aos dados.\n",
    "\n",
    "Em outras palavras:\n",
    "\n",
    "Ao aplicarmos uma técnica em um conjunto de dados $\\mathbf{x} \\in \\mathbb{R}^{K \\times 1}$, onde $1 < i < K$, obteremos na saída $\\mathbf{y} \\in \\mathbb{R}^{M \\times 1}$, onde $M < K$."
   ]
  },
  {
   "cell_type": "markdown",
   "id": "576fd42c",
   "metadata": {
    "slideshow": {
     "slide_type": "subslide"
    }
   },
   "source": [
    "Reparem, o conjunto de entrada é dado por $\\mathbf{x} \\in \\mathbb{R}^{K \\times 1}$ e a saída $\\mathbf{y} \\in \\mathbb{R}^{M \\times 1}$. Os conjuntos $\\mathbf{x}$ e $\\mathbf{y}$ são diferentes. Isto significa que podemos dizer que houve uma transformação dos dados originais para aquele que obtivemos após a redução de dimensionalidade. Por isso precisamos destacar a diferença entre dois conceitos muito importantes: **seleção de features** e **extração de features**."
   ]
  },
  {
   "cell_type": "markdown",
   "id": "ab8edffc",
   "metadata": {
    "slideshow": {
     "slide_type": "subslide"
    }
   },
   "source": [
    "* **Seleção de Features:** do conjunto de atributos originais do dado, somente um subconjunto deles é selecionado para fazer parte da análise.\n",
    "\n",
    "* **Extração de Features:** os dados originais sofrem algum tipo de transformação (e.g., projeção linear ou não-linear), dando origem a novos atributos em um espaço de dimensão possivelmente diferente."
   ]
  },
  {
   "cell_type": "markdown",
   "id": "21b57f27",
   "metadata": {
    "slideshow": {
     "slide_type": "slide"
    }
   },
   "source": [
    "## Parte 4.1: Seleção de Features"
   ]
  },
  {
   "cell_type": "markdown",
   "id": "79e35efd",
   "metadata": {
    "slideshow": {
     "slide_type": "skip"
    }
   },
   "source": [
    "<img src=\"imagens/selectionFeatures.png\">"
   ]
  },
  {
   "cell_type": "markdown",
   "id": "9d9cdf70",
   "metadata": {
    "slideshow": {
     "slide_type": "subslide"
    }
   },
   "source": [
    "Ao final da transformação das features, é preciso escolher quais delas vão para o modelo, pois às vezes possuímos recursos demais e o modelo de previsão não vai conseguir aguentar todas as variáveis possíveis, ou o tempo de treinamento do modelo vai aumentar muito. "
   ]
  },
  {
   "cell_type": "markdown",
   "id": "e3e49c2d",
   "metadata": {
    "slideshow": {
     "slide_type": "subslide"
    }
   },
   "source": [
    "* Passar todas as features para o modelo pode fazer ele considerar relações que não existem e, até mesmo, considerar uma *feature* como mais importante do que ela realmente é.<br><br>\n",
    "* Por exemplo, se você tem uma grande quantidade de dados, algumas coincidências podem ter ocorrido e ficaram guardadas nos dados, e a máquina pode acabar considerando isso como uma regra com baixa correlação."
   ]
  },
  {
   "cell_type": "markdown",
   "id": "8e981c49",
   "metadata": {
    "slideshow": {
     "slide_type": "subslide"
    }
   },
   "source": [
    "#### Existem várias técnicas de seleção de recursos disponíveis, incluindo:\n",
    "\n",
    "* **Seleção univariada:**<br>\n",
    "Seleciona as características com base em estatísticas univariadas, como o teste qui-quadrado ou o teste F. Isso pode ser útil para eliminar rapidamente recursos irrelevantes ou redundantes.<br><br>\n",
    "\n",
    "* **Seleção baseada em modelo:** <br>\n",
    "Usa um modelo de aprendizado de máquina para avaliar a importância de cada recurso. As características menos importantes são removidas e o modelo é treinado novamente com as características restantes.<br><br>"
   ]
  },
  {
   "cell_type": "markdown",
   "id": "ab1d11c1",
   "metadata": {
    "slideshow": {
     "slide_type": "subslide"
    }
   },
   "source": [
    "* **Seleção de features recursivas:** <br>\n",
    "Começa com um modelo que usa todas as características e, em seguida, remove recursivamente as características menos importantes, até que um conjunto ideal de características seja alcançado.<br><br>\n",
    "\n",
    "* **Métodos de incorporação de recursos:** <br>\n",
    "Incluem técnicas como redes neurais profundas e árvores de decisão, que podem incorporar automaticamente a seleção de recursos durante o processo de treinamento do modelo."
   ]
  },
  {
   "cell_type": "markdown",
   "id": "3afb2355",
   "metadata": {
    "slideshow": {
     "slide_type": "subslide"
    }
   },
   "source": [
    "**Seleção de Features:**\n",
    "\n",
    "1) Modelos Não-supervisionados: Uso de correlação para eliminação de variáveis redundantes.\n",
    "\n",
    "2) Modelos Supervisionados: Remoção de variáveis irrelevantes através de técnicas específicas.\n",
    "* Wrapper: Busca o melhor sub-conjunto de *features* para alcançar melhor desempenho. Exemplo: *Recursive Feature Elimination* (RFE).\n",
    "* Filtros: Seleciona o melhor sub-conjunto de *features* baseado na relação estatística que apresentam com a variável *target*. Exemplos: Modelos estatísticos e Métodos de Importância de *Features*.\n",
    "* Intrínscecos: São algorítmos que realizam a seleção de *features* automaticamente durante a etapa de treinamento. Exemplo: Árvores de Decisão."
   ]
  },
  {
   "cell_type": "markdown",
   "id": "4a40f44e",
   "metadata": {
    "slideshow": {
     "slide_type": "subslide"
    }
   },
   "source": [
    "### Exemplo Baseado em Variância"
   ]
  },
  {
   "cell_type": "code",
   "execution_count": 48,
   "id": "ed2423d5",
   "metadata": {
    "slideshow": {
     "slide_type": "fragment"
    }
   },
   "outputs": [],
   "source": [
    "from sklearn.datasets import load_iris\n",
    "\n",
    "# Carrega o conjunto de dados\n",
    "iris = load_iris()\n",
    "X, y = iris.data, iris.target"
   ]
  },
  {
   "cell_type": "code",
   "execution_count": 49,
   "id": "4b805aad",
   "metadata": {
    "slideshow": {
     "slide_type": "subslide"
    }
   },
   "outputs": [
    {
     "name": "stdout",
     "output_type": "stream",
     "text": [
      "Formato dos dados Originais: (150, 4)\n",
      "Formato dos dados após a seleção de features: (150, 2)\n"
     ]
    }
   ],
   "source": [
    "from sklearn.feature_selection import VarianceThreshold\n",
    "\n",
    "# Estabelecendo o limiar de variancia\n",
    "limiar_de_variancia = 0.6\n",
    "\n",
    "# Criando o modelo de selecao\n",
    "selecao = VarianceThreshold(threshold = limiar_de_variancia)\n",
    "\n",
    "# Selecionando as features\n",
    "features_selecionadas = selecao.fit_transform(iris['data'])\n",
    "\n",
    "# Verificando a estrutura dos dados selecionados\n",
    "print(\"Formato dos dados Originais:\", np.shape(iris['data']))\n",
    "print(\"Formato dos dados após a seleção de features:\", np.shape(features_selecionadas))"
   ]
  },
  {
   "cell_type": "markdown",
   "id": "717b8e50",
   "metadata": {
    "slideshow": {
     "slide_type": "slide"
    }
   },
   "source": [
    "### Parte 4.1.1. Seleção Univariada"
   ]
  },
  {
   "cell_type": "markdown",
   "id": "6d71e96e",
   "metadata": {
    "slideshow": {
     "slide_type": "subslide"
    }
   },
   "source": [
    "### Chi-quadrado"
   ]
  },
  {
   "cell_type": "markdown",
   "id": "359f8b55",
   "metadata": {
    "slideshow": {
     "slide_type": "fragment"
    }
   },
   "source": [
    "O teste chi-quadrado é usado em estatística para testar a independência de dois eventos. Considerando os dados de duas variáveis, podemos obter a contagem observada O e a contagem esperada E. O chi-quadrado mede como a contagem esperada E e a contagem observada O se desviam uma da outra."
   ]
  },
  {
   "cell_type": "markdown",
   "id": "29c82749",
   "metadata": {
    "slideshow": {
     "slide_type": "subslide"
    }
   },
   "source": [
    "$$\n",
    "x_{c}^{2} = \\sum_{i=0}^{N-1} \\frac{(O_{i} - E_{i})^{2}}{E_{i}},\n",
    "$$\n",
    "\n",
    "onde:\n",
    "\n",
    "* $c$: Número de graus de liberdade;\n",
    "\n",
    "* $O$: Valores observados (preditos);\n",
    "\n",
    "* $E$: Valores esperados (reais)."
   ]
  },
  {
   "cell_type": "markdown",
   "id": "ecf51c96",
   "metadata": {
    "slideshow": {
     "slide_type": "subslide"
    }
   },
   "source": [
    "Quando dois recursos são independentes, a contagem observada se aproxima da contagem esperada e, portanto, teremos um valor de qui-quadrado menor. Portanto, um valor alto de chi-quadrado indica que a hipótese de independência está incorreta. Simplificando, quanto maior o valor de chi-quadrado, o recurso é mais dependente da resposta e pode ser selecionado para o treinamento do modelo."
   ]
  },
  {
   "cell_type": "markdown",
   "id": "a06ea81e",
   "metadata": {
    "slideshow": {
     "slide_type": "subslide"
    }
   },
   "source": [
    "**Etapas para realizar o teste chi-quadrado:**\n",
    "\n",
    "1. Definir Hipótese.\n",
    "\n",
    "2. Criar uma tabela de contingência.\n",
    "\n",
    "3. Encontrar os valores esperados.\n",
    "\n",
    "4. Calcular o valor de chi-quadrado.\n",
    "\n",
    "5. Aceitar ou rejeitar a hipótese nula."
   ]
  },
  {
   "cell_type": "markdown",
   "id": "7f0b5a1e",
   "metadata": {
    "slideshow": {
     "slide_type": "subslide"
    }
   },
   "source": [
    "1. **Definir Hipótese:**\n",
    "\n",
    "* Hipótese nula ($H_{0}$): Duas variáveis são independentes.\n",
    "\n",
    "* Hipótese alternativa ($H_{1}$): Duas variáveis não são independentes."
   ]
  },
  {
   "cell_type": "markdown",
   "id": "6d5ca57d",
   "metadata": {
    "slideshow": {
     "slide_type": "subslide"
    }
   },
   "source": [
    "2. **Criar uma tabela de contingência:**\n",
    "\n",
    "Uma tabela que mostra a distribuição de uma variável em linhas e outra em colunas. É usada para estudar a relação entre duas variáveis.\n",
    "\n",
    "Os graus de liberdade da tabela de contingência são dados como $(r-1) * (c-1)$, onde $r$ e $c$ são linhas e colunas."
   ]
  },
  {
   "cell_type": "markdown",
   "id": "543c9b1d",
   "metadata": {
    "slideshow": {
     "slide_type": "subslide"
    }
   },
   "source": [
    "3. **Encontrar os valores esperados:**\n",
    "\n",
    "Com base na hipótese nula de que as duas variáveis são independentes. Podemos dizer que se A e B são dois eventos independentes:\n",
    "\n",
    "$$\n",
    "\\text{P}(\\text{A} \\cap \\text{B}) = \\text{P}(\\text{A}) \\ast \\text{P}(\\text{B})\n",
    "$$"
   ]
  },
  {
   "cell_type": "markdown",
   "id": "0a33ce81",
   "metadata": {
    "slideshow": {
     "slide_type": "subslide"
    }
   },
   "source": [
    "4. **Calcular o valor de chi-quadrado:**\n",
    "\n",
    "Resumir os valores observados e os valores esperados calculados em uma tabela e determinar o valor do qui-quadrado através de:\n",
    "\n",
    "$$\n",
    "x_{c}^{2} = \\sum_{i=0}^{N-1} \\frac{(O_{i} - E_{i})^{2}}{E_{i}},\n",
    "$$"
   ]
  },
  {
   "cell_type": "markdown",
   "id": "e968294f",
   "metadata": {
    "slideshow": {
     "slide_type": "subslide"
    }
   },
   "source": [
    "5. **Aceitar ou rejeitar a hipótese nula:**\n",
    "\n",
    "Verificar se o valor calculado do chi-quadrado está na região de aceitação ou rejeição, através da tabela de chi-quadrado. Neste caso, se estabelece o valor de um parâmetro $\\alpha$ e verifica-se o resultado com base no grau de liberdade calculado na tabela de contingência. Caso o dado caia na região de rejeição, a hipótese $H_{0}$ é rejeitada e a *feature* não é selecionada para a sequência da tarefa."
   ]
  },
  {
   "cell_type": "code",
   "execution_count": 24,
   "id": "dfe09798",
   "metadata": {
    "slideshow": {
     "slide_type": "subslide"
    }
   },
   "outputs": [],
   "source": [
    "from sklearn.datasets import load_iris\n",
    "from sklearn.feature_selection import SelectKBest, chi2\n",
    "\n",
    "# Carrega o conjunto de dados\n",
    "iris = load_iris()\n",
    "X, y = iris.data, iris.target"
   ]
  },
  {
   "cell_type": "code",
   "execution_count": 25,
   "id": "e0a18640",
   "metadata": {
    "slideshow": {
     "slide_type": "subslide"
    }
   },
   "outputs": [
    {
     "data": {
      "text/plain": [
       "(150, 4)"
      ]
     },
     "execution_count": 25,
     "metadata": {},
     "output_type": "execute_result"
    }
   ],
   "source": [
    "X.shape"
   ]
  },
  {
   "cell_type": "code",
   "execution_count": 26,
   "id": "cf872426",
   "metadata": {},
   "outputs": [],
   "source": [
    "# Seleciona as 2 melhores características usando a estatística qui-quadrado\n",
    "X_new = SelectKBest(chi2, k=2).fit_transform(X, y)"
   ]
  },
  {
   "cell_type": "code",
   "execution_count": 27,
   "id": "cae7e75c",
   "metadata": {
    "slideshow": {
     "slide_type": "subslide"
    }
   },
   "outputs": [
    {
     "name": "stdout",
     "output_type": "stream",
     "text": [
      "(150, 2)\n"
     ]
    }
   ],
   "source": [
    "# Exibe as características selecionadas\n",
    "print(X_new.shape)"
   ]
  },
  {
   "cell_type": "markdown",
   "id": "2721b15a",
   "metadata": {
    "slideshow": {
     "slide_type": "subslide"
    }
   },
   "source": [
    "### Parte 4.1.2. Seleção baseada em modelo"
   ]
  },
  {
   "cell_type": "markdown",
   "id": "79f4f014",
   "metadata": {
    "slideshow": {
     "slide_type": "fragment"
    }
   },
   "source": [
    "Uma abordagem comum para seleção de características, onde um modelo preditivo é construído e as características são selecionadas com base na importância atribuída a elas pelo modelo."
   ]
  },
  {
   "cell_type": "markdown",
   "id": "aedba1ef",
   "metadata": {
    "slideshow": {
     "slide_type": "subslide"
    }
   },
   "source": [
    "### Construção do modelo preditivo:\n",
    "\n",
    "O primeiro passo dos métodos baseados em modelos é construir um modelo preditivo utilizando um algoritmo adequado. Algoritmos populares incluem Árvores de Decisão, Random Forest e Gradient Boosting Machine. Esses algoritmos são conhecidos por sua capacidade de aprender padrões complexos nos dados e gerar modelos preditivos de alta qualidade."
   ]
  },
  {
   "cell_type": "markdown",
   "id": "8593f77b",
   "metadata": {
    "slideshow": {
     "slide_type": "subslide"
    }
   },
   "source": [
    "### Treinamento do modelo:\n",
    "\n",
    "O próximo passo é treinar o modelo preditivo usando um conjunto de dados de treinamento. O algoritmo ajusta os parâmetros do modelo com base nos dados de treinamento, tentando encontrar a melhor maneira de prever a variável de interesse com base nas características fornecidas. Durante o treinamento, o algoritmo examina as diferentes combinações de características e seus valores para encontrar os padrões que melhor explicam a variabilidade nos dados."
   ]
  },
  {
   "cell_type": "markdown",
   "id": "399ce229",
   "metadata": {
    "slideshow": {
     "slide_type": "subslide"
    }
   },
   "source": [
    "### Importância das características:\n",
    "\n",
    "Uma vez que o modelo esteja treinado, é possível avaliar a importância das características usadas para fazer as previsões. Cada algoritmo possui sua própria maneira de calcular a importância das características, mas a ideia geral é determinar quais características têm maior influência nas previsões do modelo."
   ]
  },
  {
   "cell_type": "markdown",
   "id": "bff9a353",
   "metadata": {
    "slideshow": {
     "slide_type": "subslide"
    }
   },
   "source": [
    " - **Árvores de Decisão**: Uma árvore de decisão divide os dados com base nas características, criando ramos que representam diferentes combinações de valores das características. A importância de uma característica pode ser medida pela redução da impureza nos dados ao dividir as amostras com base nessa característica. Quanto maior a redução da impureza, maior é a importância da característica.\n",
    " \n",
    " \n",
    " - **Random Forest**: Uma Random Forest é uma coleção de várias árvores de decisão. A importância de uma característica em uma Random Forest é calculada pela média da importância da característica em cada árvore individual."
   ]
  },
  {
   "cell_type": "markdown",
   "id": "450cb07c",
   "metadata": {
    "slideshow": {
     "slide_type": "subslide"
    }
   },
   "source": [
    "  - **Gradient Boosting Machine**: O Gradient Boosting é um método de aprendizado de máquina que também usa árvores de decisão como componentes básicos. A importância das características é calculada com base na contribuição de cada característica para a redução da função de perda durante o processo de otimização do modelo."
   ]
  },
  {
   "cell_type": "markdown",
   "id": "578135df",
   "metadata": {
    "slideshow": {
     "slide_type": "subslide"
    }
   },
   "source": [
    "### Seleção das características:\n",
    "\n",
    "Uma vez que as importâncias das características são obtidas, é possível selecionar as mais relevantes para a tarefa em questão. Isso pode ser feito de várias maneiras, dependendo dos critérios e restrições específicos. Alguns métodos comuns incluem:"
   ]
  },
  {
   "cell_type": "markdown",
   "id": "10fd6696",
   "metadata": {
    "slideshow": {
     "slide_type": "subslide"
    }
   },
   "source": [
    "- **Definir um limiar**: As características com uma importância acima de um determinado limiar são selecionadas, enquanto as demais são descartadas.\n",
    "- **Seleção das melhores $K$ colunas**: As $K$ características com a maior importância são selecionadas.\n",
    "- **Seleção iterativa**: Começando com um conjunto inicial de características, as características são adicionadas ou removidas iterativamente com base em sua importância até que um critério de parada seja atingido."
   ]
  },
  {
   "cell_type": "code",
   "execution_count": 28,
   "id": "727978dd",
   "metadata": {
    "slideshow": {
     "slide_type": "subslide"
    }
   },
   "outputs": [],
   "source": [
    "from sklearn.ensemble import RandomForestClassifier\n",
    "from sklearn.feature_selection import SelectFromModel\n",
    "from sklearn.datasets import load_iris\n",
    "import numpy as np\n",
    "\n",
    "# Carregar o conjunto de dados\n",
    "data = load_iris()\n",
    "X = data.data\n",
    "y = data.target\n",
    "\n",
    "# Criar o modelo de Floresta Aleatória\n",
    "model = RandomForestClassifier()\n",
    "\n",
    "# Realizar a seleção de características baseada no modelo\n",
    "sfm = SelectFromModel(model)\n",
    "X_new = sfm.fit_transform(X, y)"
   ]
  },
  {
   "cell_type": "code",
   "execution_count": 29,
   "id": "7f0a557e",
   "metadata": {
    "slideshow": {
     "slide_type": "subslide"
    }
   },
   "outputs": [
    {
     "name": "stdout",
     "output_type": "stream",
     "text": [
      "Características selecionadas:\n",
      "['petal length (cm)' 'petal width (cm)']\n"
     ]
    }
   ],
   "source": [
    "# Obter as características selecionadas\n",
    "selected_features = np.array(data.feature_names)[sfm.get_support()]\n",
    "\n",
    "# Exibir as características selecionadas\n",
    "print(\"Características selecionadas:\")\n",
    "print(selected_features)"
   ]
  },
  {
   "cell_type": "markdown",
   "id": "a9d429b0",
   "metadata": {
    "slideshow": {
     "slide_type": "subslide"
    }
   },
   "source": [
    "### Parte 4.1.3. Seleção de features recursivas"
   ]
  },
  {
   "cell_type": "markdown",
   "id": "d7a91fb2",
   "metadata": {
    "slideshow": {
     "slide_type": "subslide"
    }
   },
   "source": [
    "### ***Recursive Feature Elimination* (RFE)**"
   ]
  },
  {
   "cell_type": "markdown",
   "id": "a15b7708",
   "metadata": {
    "slideshow": {
     "slide_type": "fragment"
    }
   },
   "source": [
    "O RFE é um método simples e comum para selecionar as melhores features para construção de modelos. Dado um modelo que atribui pesos às features, o objetivo da Recursive Feature Elimination (RFE) é selecionar as features considerando recursivamente conjuntos cada vez menores de features. Primeiro, o modelo é treinado no conjunto inicial de features e a importância de cada uma é obtida através de qualquer atributo específico. Em seguida, as features menos importantes são removidas do conjunto original. Esse procedimento é repetido recursivamente no dataset até que o número desejado de características a serem selecionadas seja obtido."
   ]
  },
  {
   "cell_type": "code",
   "execution_count": 30,
   "id": "28a3d9df",
   "metadata": {
    "slideshow": {
     "slide_type": "subslide"
    }
   },
   "outputs": [],
   "source": [
    "from sklearn.feature_selection import RFE\n",
    "from sklearn.linear_model import LogisticRegression\n",
    "from sklearn.datasets import make_classification\n",
    "\n",
    "# Gerando um conjunto de dados de exemplo\n",
    "X, y = make_classification(n_samples=100, n_features=10, random_state=0)\n",
    "\n",
    "# Criando um estimador/modelo\n",
    "estimator = LogisticRegression()\n",
    "\n",
    "# Criando o seletor de features RFE\n",
    "rfe = RFE(estimator, n_features_to_select=5)\n",
    "\n",
    "# Realizando a seleção de features\n",
    "X_selected = rfe.fit_transform(X, y)"
   ]
  },
  {
   "cell_type": "code",
   "execution_count": 31,
   "id": "cfe6ab30",
   "metadata": {
    "slideshow": {
     "slide_type": "subslide"
    }
   },
   "outputs": [
    {
     "name": "stdout",
     "output_type": "stream",
     "text": [
      "Features selecionadas:\n",
      "Feature 3\n",
      "Feature 7\n",
      "Feature 8\n",
      "Feature 9\n",
      "Feature 10\n",
      "\n",
      "Ranking das features:\n",
      "Feature 1: 5\n",
      "Feature 2: 3\n",
      "Feature 3: 1\n",
      "Feature 4: 2\n",
      "Feature 5: 6\n",
      "Feature 6: 4\n",
      "Feature 7: 1\n",
      "Feature 8: 1\n",
      "Feature 9: 1\n",
      "Feature 10: 1\n"
     ]
    }
   ],
   "source": [
    "# Obtendo as features selecionadas\n",
    "selected_features = rfe.support_\n",
    "feature_ranking = rfe.ranking_\n",
    "\n",
    "print(\"Features selecionadas:\")\n",
    "for feature, selected in enumerate(selected_features):\n",
    "    if selected:\n",
    "        print(f\"Feature {feature+1}\")\n",
    "\n",
    "print(\"\\nRanking das features:\")\n",
    "for feature, rank in enumerate(feature_ranking):\n",
    "    print(f\"Feature {feature+1}: {rank}\")"
   ]
  },
  {
   "cell_type": "markdown",
   "id": "8676be8d",
   "metadata": {
    "slideshow": {
     "slide_type": "slide"
    }
   },
   "source": [
    "# 4.2. Extração de Features "
   ]
  },
  {
   "cell_type": "markdown",
   "id": "25262b15",
   "metadata": {
    "slideshow": {
     "slide_type": "subslide"
    }
   },
   "source": [
    "Existem várias técnicas que podem ser utilizadas para realizar a redução de características, sendo as mais comuns: \n",
    "- Análise de Componentes Principais (PCA)\n",
    "- *t-distributed Stochastic Neighbor Embedding* (t-SNE)\n",
    "- Análise Discriminante Linear (LDA)\n",
    "- Fatoração de Matriz Não-Negativa (NMF), entre outras."
   ]
  },
  {
   "cell_type": "markdown",
   "id": "dc89cdfa",
   "metadata": {
    "slideshow": {
     "slide_type": "subslide"
    }
   },
   "source": [
    "### Análise de Componentes Principais\n",
    "\n",
    "A análise de componentes principais é uma técnica amplamente utilizada para redução de dimensionalidade, compressão de dados (com perda), extração de atributos e visualização de dados."
   ]
  },
  {
   "cell_type": "markdown",
   "id": "0c1d28bc",
   "metadata": {
    "slideshow": {
     "slide_type": "subslide"
    }
   },
   "source": [
    "Formulações possíveis para a PCA:\n",
    "\n",
    "* **Mínimo Erro de Reconstrução:** Encontrar a projeção linear dos dados em um espaço de dimensão reduzida $M < K$ que faça com que o erro quadrático médio de reconstrução seja minimizado.\n",
    "\n",
    "* **Máxima Variância:** Encontrar a projeção linear dos dados em um espaço de dimensão reduzida $M < K$ que faça com que as variáveis obtidas, denominadas de componentes principais (ou, simplesmente, features) possuam máxima variância (energia)."
   ]
  },
  {
   "cell_type": "markdown",
   "id": "b57df3c2",
   "metadata": {
    "slideshow": {
     "slide_type": "subslide"
    }
   },
   "source": [
    "Como funciona a PCA:\n",
    "\n",
    "1) Centraliza-se a matriz $\\mathbf{X}$, isso significa: $\\text{E}\\{\\mathbf{X}\\} = 0$, onde $\\mathbf{X} \\in \\mathbb{R}^{N \\times K}$;\n",
    "\n",
    "2) Calcula-se a matriz de covariância $\\mathbf{C}$;\n",
    "\n",
    "3) Autodecomposição de $\\mathbf{C}$ em autovalores e autovetores;\n",
    "\n",
    "4) Seleção das colunas de autovetores seguindo o número de componentes principais, através de uma metodologia definida para isso. Exemplos: *Elbow Method* e Taxa de Contribuição Acumulativa (ACR);\n",
    "\n",
    "5) Obtenção da matriz $\\mathbf{P}$ de dimensão reduzida, através de: $\\mathbf{P} = \\mathbf{A}^{T}_{m} \\cdot \\mathbf{C}$. Onde $\\mathbf{A}$ corresponde à matriz de autovetores e $\\cdot^{T}$ indica a matriz transposta."
   ]
  },
  {
   "cell_type": "code",
   "execution_count": 40,
   "id": "cf6f069c",
   "metadata": {
    "slideshow": {
     "slide_type": "subslide"
    }
   },
   "outputs": [
    {
     "data": {
      "text/html": [
       "<div>\n",
       "<style scoped>\n",
       "    .dataframe tbody tr th:only-of-type {\n",
       "        vertical-align: middle;\n",
       "    }\n",
       "\n",
       "    .dataframe tbody tr th {\n",
       "        vertical-align: top;\n",
       "    }\n",
       "\n",
       "    .dataframe thead th {\n",
       "        text-align: right;\n",
       "    }\n",
       "</style>\n",
       "<table border=\"1\" class=\"dataframe\">\n",
       "  <thead>\n",
       "    <tr style=\"text-align: right;\">\n",
       "      <th></th>\n",
       "      <th>sepal length (cm)</th>\n",
       "      <th>sepal width (cm)</th>\n",
       "      <th>petal length (cm)</th>\n",
       "      <th>petal width (cm)</th>\n",
       "      <th>target</th>\n",
       "    </tr>\n",
       "  </thead>\n",
       "  <tbody>\n",
       "    <tr>\n",
       "      <th>0</th>\n",
       "      <td>5.1</td>\n",
       "      <td>3.5</td>\n",
       "      <td>1.4</td>\n",
       "      <td>0.2</td>\n",
       "      <td>0.0</td>\n",
       "    </tr>\n",
       "    <tr>\n",
       "      <th>1</th>\n",
       "      <td>4.9</td>\n",
       "      <td>3.0</td>\n",
       "      <td>1.4</td>\n",
       "      <td>0.2</td>\n",
       "      <td>0.0</td>\n",
       "    </tr>\n",
       "    <tr>\n",
       "      <th>2</th>\n",
       "      <td>4.7</td>\n",
       "      <td>3.2</td>\n",
       "      <td>1.3</td>\n",
       "      <td>0.2</td>\n",
       "      <td>0.0</td>\n",
       "    </tr>\n",
       "    <tr>\n",
       "      <th>3</th>\n",
       "      <td>4.6</td>\n",
       "      <td>3.1</td>\n",
       "      <td>1.5</td>\n",
       "      <td>0.2</td>\n",
       "      <td>0.0</td>\n",
       "    </tr>\n",
       "    <tr>\n",
       "      <th>4</th>\n",
       "      <td>5.0</td>\n",
       "      <td>3.6</td>\n",
       "      <td>1.4</td>\n",
       "      <td>0.2</td>\n",
       "      <td>0.0</td>\n",
       "    </tr>\n",
       "  </tbody>\n",
       "</table>\n",
       "</div>"
      ],
      "text/plain": [
       "   sepal length (cm)  sepal width (cm)  petal length (cm)  petal width (cm)  \\\n",
       "0                5.1               3.5                1.4               0.2   \n",
       "1                4.9               3.0                1.4               0.2   \n",
       "2                4.7               3.2                1.3               0.2   \n",
       "3                4.6               3.1                1.5               0.2   \n",
       "4                5.0               3.6                1.4               0.2   \n",
       "\n",
       "   target  \n",
       "0     0.0  \n",
       "1     0.0  \n",
       "2     0.0  \n",
       "3     0.0  \n",
       "4     0.0  "
      ]
     },
     "execution_count": 40,
     "metadata": {},
     "output_type": "execute_result"
    }
   ],
   "source": [
    "# Importando o dataset \n",
    "from sklearn.datasets import load_iris\n",
    "import matplotlib.pyplot as plt\n",
    "import matplotlib.pylab as pylab\n",
    "\n",
    "# Carregando os dados\n",
    "iris = load_iris()\n",
    "\n",
    "df2 = pd.DataFrame(data = np.c_[iris['data'], iris['target']],\n",
    "                     columns = iris['feature_names'] + ['target'])\n",
    "df2.head()"
   ]
  },
  {
   "cell_type": "code",
   "execution_count": 36,
   "id": "7a85105b",
   "metadata": {
    "slideshow": {
     "slide_type": "skip"
    }
   },
   "outputs": [],
   "source": [
    "params = {'legend.fontsize': 20,\n",
    "          'figure.figsize': (15,5),\n",
    "         'axes.labelsize': 20,\n",
    "         'axes.titlesize': 20,\n",
    "         'xtick.labelsize': 20,\n",
    "         'ytick.labelsize': 20}"
   ]
  },
  {
   "cell_type": "code",
   "execution_count": 41,
   "id": "fb949926",
   "metadata": {
    "slideshow": {
     "slide_type": "subslide"
    }
   },
   "outputs": [
    {
     "name": "stdout",
     "output_type": "stream",
     "text": [
      "[[-2.68412563  0.31939725]\n",
      " [-2.71414169 -0.17700123]\n",
      " [-2.88899057 -0.14494943]\n",
      " [-2.74534286 -0.31829898]\n",
      " [-2.72871654  0.32675451]\n",
      " [-2.28085963  0.74133045]\n",
      " [-2.82053775 -0.08946138]\n",
      " [-2.62614497  0.16338496]\n",
      " [-2.88638273 -0.57831175]\n",
      " [-2.6727558  -0.11377425]\n",
      " [-2.50694709  0.6450689 ]\n",
      " [-2.61275523  0.01472994]\n",
      " [-2.78610927 -0.235112  ]\n",
      " [-3.22380374 -0.51139459]\n",
      " [-2.64475039  1.17876464]\n",
      " [-2.38603903  1.33806233]\n",
      " [-2.62352788  0.81067951]\n",
      " [-2.64829671  0.31184914]\n",
      " [-2.19982032  0.87283904]\n",
      " [-2.5879864   0.51356031]\n",
      " [-2.31025622  0.39134594]\n",
      " [-2.54370523  0.43299606]\n",
      " [-3.21593942  0.13346807]\n",
      " [-2.30273318  0.09870885]\n",
      " [-2.35575405 -0.03728186]\n",
      " [-2.50666891 -0.14601688]\n",
      " [-2.46882007  0.13095149]\n",
      " [-2.56231991  0.36771886]\n",
      " [-2.63953472  0.31203998]\n",
      " [-2.63198939 -0.19696122]\n",
      " [-2.58739848 -0.20431849]\n",
      " [-2.4099325   0.41092426]\n",
      " [-2.64886233  0.81336382]\n",
      " [-2.59873675  1.09314576]\n",
      " [-2.63692688 -0.12132235]\n",
      " [-2.86624165  0.06936447]\n",
      " [-2.62523805  0.59937002]\n",
      " [-2.80068412  0.26864374]\n",
      " [-2.98050204 -0.48795834]\n",
      " [-2.59000631  0.22904384]\n",
      " [-2.77010243  0.26352753]\n",
      " [-2.84936871 -0.94096057]\n",
      " [-2.99740655 -0.34192606]\n",
      " [-2.40561449  0.18887143]\n",
      " [-2.20948924  0.43666314]\n",
      " [-2.71445143 -0.2502082 ]\n",
      " [-2.53814826  0.50377114]\n",
      " [-2.83946217 -0.22794557]\n",
      " [-2.54308575  0.57941002]\n",
      " [-2.70335978  0.10770608]\n",
      " [ 1.28482569  0.68516047]\n",
      " [ 0.93248853  0.31833364]\n",
      " [ 1.46430232  0.50426282]\n",
      " [ 0.18331772 -0.82795901]\n",
      " [ 1.08810326  0.07459068]\n",
      " [ 0.64166908 -0.41824687]\n",
      " [ 1.09506066  0.28346827]\n",
      " [-0.74912267 -1.00489096]\n",
      " [ 1.04413183  0.2283619 ]\n",
      " [-0.0087454  -0.72308191]\n",
      " [-0.50784088 -1.26597119]\n",
      " [ 0.51169856 -0.10398124]\n",
      " [ 0.26497651 -0.55003646]\n",
      " [ 0.98493451 -0.12481785]\n",
      " [-0.17392537 -0.25485421]\n",
      " [ 0.92786078  0.46717949]\n",
      " [ 0.66028376 -0.35296967]\n",
      " [ 0.23610499 -0.33361077]\n",
      " [ 0.94473373 -0.54314555]\n",
      " [ 0.04522698 -0.58383438]\n",
      " [ 1.11628318 -0.08461685]\n",
      " [ 0.35788842 -0.06892503]\n",
      " [ 1.29818388 -0.32778731]\n",
      " [ 0.92172892 -0.18273779]\n",
      " [ 0.71485333  0.14905594]\n",
      " [ 0.90017437  0.32850447]\n",
      " [ 1.33202444  0.24444088]\n",
      " [ 1.55780216  0.26749545]\n",
      " [ 0.81329065 -0.1633503 ]\n",
      " [-0.30558378 -0.36826219]\n",
      " [-0.06812649 -0.70517213]\n",
      " [-0.18962247 -0.68028676]\n",
      " [ 0.13642871 -0.31403244]\n",
      " [ 1.38002644 -0.42095429]\n",
      " [ 0.58800644 -0.48428742]\n",
      " [ 0.80685831  0.19418231]\n",
      " [ 1.22069088  0.40761959]\n",
      " [ 0.81509524 -0.37203706]\n",
      " [ 0.24595768 -0.2685244 ]\n",
      " [ 0.16641322 -0.68192672]\n",
      " [ 0.46480029 -0.67071154]\n",
      " [ 0.8908152  -0.03446444]\n",
      " [ 0.23054802 -0.40438585]\n",
      " [-0.70453176 -1.01224823]\n",
      " [ 0.35698149 -0.50491009]\n",
      " [ 0.33193448 -0.21265468]\n",
      " [ 0.37621565 -0.29321893]\n",
      " [ 0.64257601  0.01773819]\n",
      " [-0.90646986 -0.75609337]\n",
      " [ 0.29900084 -0.34889781]\n",
      " [ 2.53119273 -0.00984911]\n",
      " [ 1.41523588 -0.57491635]\n",
      " [ 2.61667602  0.34390315]\n",
      " [ 1.97153105 -0.1797279 ]\n",
      " [ 2.35000592 -0.04026095]\n",
      " [ 3.39703874  0.55083667]\n",
      " [ 0.52123224 -1.19275873]\n",
      " [ 2.93258707  0.3555    ]\n",
      " [ 2.32122882 -0.2438315 ]\n",
      " [ 2.91675097  0.78279195]\n",
      " [ 1.66177415  0.24222841]\n",
      " [ 1.80340195 -0.21563762]\n",
      " [ 2.1655918   0.21627559]\n",
      " [ 1.34616358 -0.77681835]\n",
      " [ 1.58592822 -0.53964071]\n",
      " [ 1.90445637  0.11925069]\n",
      " [ 1.94968906  0.04194326]\n",
      " [ 3.48705536  1.17573933]\n",
      " [ 3.79564542  0.25732297]\n",
      " [ 1.30079171 -0.76114964]\n",
      " [ 2.42781791  0.37819601]\n",
      " [ 1.19900111 -0.60609153]\n",
      " [ 3.49992004  0.4606741 ]\n",
      " [ 1.38876613 -0.20439933]\n",
      " [ 2.2754305   0.33499061]\n",
      " [ 2.61409047  0.56090136]\n",
      " [ 1.25850816 -0.17970479]\n",
      " [ 1.29113206 -0.11666865]\n",
      " [ 2.12360872 -0.20972948]\n",
      " [ 2.38800302  0.4646398 ]\n",
      " [ 2.84167278  0.37526917]\n",
      " [ 3.23067366  1.37416509]\n",
      " [ 2.15943764 -0.21727758]\n",
      " [ 1.44416124 -0.14341341]\n",
      " [ 1.78129481 -0.49990168]\n",
      " [ 3.07649993  0.68808568]\n",
      " [ 2.14424331  0.1400642 ]\n",
      " [ 1.90509815  0.04930053]\n",
      " [ 1.16932634 -0.16499026]\n",
      " [ 2.10761114  0.37228787]\n",
      " [ 2.31415471  0.18365128]\n",
      " [ 1.9222678   0.40920347]\n",
      " [ 1.41523588 -0.57491635]\n",
      " [ 2.56301338  0.2778626 ]\n",
      " [ 2.41874618  0.3047982 ]\n",
      " [ 1.94410979  0.1875323 ]\n",
      " [ 1.52716661 -0.37531698]\n",
      " [ 1.76434572  0.07885885]\n",
      " [ 1.90094161  0.11662796]\n",
      " [ 1.39018886 -0.28266094]]\n"
     ]
    }
   ],
   "source": [
    "# Importando a PCA\n",
    "from sklearn.decomposition import PCA\n",
    "\n",
    "# Criando o modelo através de um número definido de componentes principais\n",
    "pca = PCA(n_components = 2)\n",
    "\n",
    "# Aplicando a PCA\n",
    "P = pca.fit_transform(iris['data'])\n",
    "\n",
    "print(P)"
   ]
  },
  {
   "cell_type": "code",
   "execution_count": 42,
   "id": "c74f92de",
   "metadata": {
    "slideshow": {
     "slide_type": "subslide"
    }
   },
   "outputs": [
    {
     "data": {
      "image/png": "[encoded data removed]",
      "text/plain": [
       "<Figure size 1080x360 with 1 Axes>"
      ]
     },
     "metadata": {
      "needs_background": "light"
     },
     "output_type": "display_data"
    }
   ],
   "source": [
    "y = iris.target\n",
    "\n",
    "df3 = pd.DataFrame()\n",
    "df3[\"y\"] = y\n",
    "df3[\"Componente 1\"] = P[:,0]\n",
    "df3[\"Componente 2\"] = P[:,1]\n",
    "\n",
    "sns.scatterplot(x = \"Componente 1\", y = \"Componente 2\", hue = df3.y.tolist(),\n",
    "                palette = sns.color_palette(\"hls\", 3),\n",
    "                data = df3).set(title = \"Projeção PCA para Dados do Iris\") \n",
    "plt.show()"
   ]
  },
  {
   "cell_type": "markdown",
   "id": "5c84e961",
   "metadata": {
    "slideshow": {
     "slide_type": "subslide"
    }
   },
   "source": [
    "**Seleção do Número de Componentes Principais**\n",
    "\n",
    "Existem alguns métodos que estabelecem o número de componentes principais através da porcentagem de variância que define a quantidade de informação que deve ser mantida na execução do problema. A porcentagem de variância pode variar de acordo com a literatura, mas normalmente é estabelecidade entre $95\\%$ a $99\\%$. Para se fazer esta escolha no *sklearn*, devemos:"
   ]
  },
  {
   "cell_type": "code",
   "execution_count": 45,
   "id": "b05135bf",
   "metadata": {
    "slideshow": {
     "slide_type": "subslide"
    }
   },
   "outputs": [
    {
     "name": "stdout",
     "output_type": "stream",
     "text": [
      "[[-2.68412563  0.31939725]\n",
      " [-2.71414169 -0.17700123]\n",
      " [-2.88899057 -0.14494943]\n",
      " [-2.74534286 -0.31829898]\n",
      " [-2.72871654  0.32675451]\n",
      " [-2.28085963  0.74133045]\n",
      " [-2.82053775 -0.08946138]\n",
      " [-2.62614497  0.16338496]\n",
      " [-2.88638273 -0.57831175]\n",
      " [-2.6727558  -0.11377425]\n",
      " [-2.50694709  0.6450689 ]\n",
      " [-2.61275523  0.01472994]\n",
      " [-2.78610927 -0.235112  ]\n",
      " [-3.22380374 -0.51139459]\n",
      " [-2.64475039  1.17876464]\n",
      " [-2.38603903  1.33806233]\n",
      " [-2.62352788  0.81067951]\n",
      " [-2.64829671  0.31184914]\n",
      " [-2.19982032  0.87283904]\n",
      " [-2.5879864   0.51356031]\n",
      " [-2.31025622  0.39134594]\n",
      " [-2.54370523  0.43299606]\n",
      " [-3.21593942  0.13346807]\n",
      " [-2.30273318  0.09870885]\n",
      " [-2.35575405 -0.03728186]\n",
      " [-2.50666891 -0.14601688]\n",
      " [-2.46882007  0.13095149]\n",
      " [-2.56231991  0.36771886]\n",
      " [-2.63953472  0.31203998]\n",
      " [-2.63198939 -0.19696122]\n",
      " [-2.58739848 -0.20431849]\n",
      " [-2.4099325   0.41092426]\n",
      " [-2.64886233  0.81336382]\n",
      " [-2.59873675  1.09314576]\n",
      " [-2.63692688 -0.12132235]\n",
      " [-2.86624165  0.06936447]\n",
      " [-2.62523805  0.59937002]\n",
      " [-2.80068412  0.26864374]\n",
      " [-2.98050204 -0.48795834]\n",
      " [-2.59000631  0.22904384]\n",
      " [-2.77010243  0.26352753]\n",
      " [-2.84936871 -0.94096057]\n",
      " [-2.99740655 -0.34192606]\n",
      " [-2.40561449  0.18887143]\n",
      " [-2.20948924  0.43666314]\n",
      " [-2.71445143 -0.2502082 ]\n",
      " [-2.53814826  0.50377114]\n",
      " [-2.83946217 -0.22794557]\n",
      " [-2.54308575  0.57941002]\n",
      " [-2.70335978  0.10770608]\n",
      " [ 1.28482569  0.68516047]\n",
      " [ 0.93248853  0.31833364]\n",
      " [ 1.46430232  0.50426282]\n",
      " [ 0.18331772 -0.82795901]\n",
      " [ 1.08810326  0.07459068]\n",
      " [ 0.64166908 -0.41824687]\n",
      " [ 1.09506066  0.28346827]\n",
      " [-0.74912267 -1.00489096]\n",
      " [ 1.04413183  0.2283619 ]\n",
      " [-0.0087454  -0.72308191]\n",
      " [-0.50784088 -1.26597119]\n",
      " [ 0.51169856 -0.10398124]\n",
      " [ 0.26497651 -0.55003646]\n",
      " [ 0.98493451 -0.12481785]\n",
      " [-0.17392537 -0.25485421]\n",
      " [ 0.92786078  0.46717949]\n",
      " [ 0.66028376 -0.35296967]\n",
      " [ 0.23610499 -0.33361077]\n",
      " [ 0.94473373 -0.54314555]\n",
      " [ 0.04522698 -0.58383438]\n",
      " [ 1.11628318 -0.08461685]\n",
      " [ 0.35788842 -0.06892503]\n",
      " [ 1.29818388 -0.32778731]\n",
      " [ 0.92172892 -0.18273779]\n",
      " [ 0.71485333  0.14905594]\n",
      " [ 0.90017437  0.32850447]\n",
      " [ 1.33202444  0.24444088]\n",
      " [ 1.55780216  0.26749545]\n",
      " [ 0.81329065 -0.1633503 ]\n",
      " [-0.30558378 -0.36826219]\n",
      " [-0.06812649 -0.70517213]\n",
      " [-0.18962247 -0.68028676]\n",
      " [ 0.13642871 -0.31403244]\n",
      " [ 1.38002644 -0.42095429]\n",
      " [ 0.58800644 -0.48428742]\n",
      " [ 0.80685831  0.19418231]\n",
      " [ 1.22069088  0.40761959]\n",
      " [ 0.81509524 -0.37203706]\n",
      " [ 0.24595768 -0.2685244 ]\n",
      " [ 0.16641322 -0.68192672]\n",
      " [ 0.46480029 -0.67071154]\n",
      " [ 0.8908152  -0.03446444]\n",
      " [ 0.23054802 -0.40438585]\n",
      " [-0.70453176 -1.01224823]\n",
      " [ 0.35698149 -0.50491009]\n",
      " [ 0.33193448 -0.21265468]\n",
      " [ 0.37621565 -0.29321893]\n",
      " [ 0.64257601  0.01773819]\n",
      " [-0.90646986 -0.75609337]\n",
      " [ 0.29900084 -0.34889781]\n",
      " [ 2.53119273 -0.00984911]\n",
      " [ 1.41523588 -0.57491635]\n",
      " [ 2.61667602  0.34390315]\n",
      " [ 1.97153105 -0.1797279 ]\n",
      " [ 2.35000592 -0.04026095]\n",
      " [ 3.39703874  0.55083667]\n",
      " [ 0.52123224 -1.19275873]\n",
      " [ 2.93258707  0.3555    ]\n",
      " [ 2.32122882 -0.2438315 ]\n",
      " [ 2.91675097  0.78279195]\n",
      " [ 1.66177415  0.24222841]\n",
      " [ 1.80340195 -0.21563762]\n",
      " [ 2.1655918   0.21627559]\n",
      " [ 1.34616358 -0.77681835]\n",
      " [ 1.58592822 -0.53964071]\n",
      " [ 1.90445637  0.11925069]\n",
      " [ 1.94968906  0.04194326]\n",
      " [ 3.48705536  1.17573933]\n",
      " [ 3.79564542  0.25732297]\n",
      " [ 1.30079171 -0.76114964]\n",
      " [ 2.42781791  0.37819601]\n",
      " [ 1.19900111 -0.60609153]\n",
      " [ 3.49992004  0.4606741 ]\n",
      " [ 1.38876613 -0.20439933]\n",
      " [ 2.2754305   0.33499061]\n",
      " [ 2.61409047  0.56090136]\n",
      " [ 1.25850816 -0.17970479]\n",
      " [ 1.29113206 -0.11666865]\n",
      " [ 2.12360872 -0.20972948]\n",
      " [ 2.38800302  0.4646398 ]\n",
      " [ 2.84167278  0.37526917]\n",
      " [ 3.23067366  1.37416509]\n",
      " [ 2.15943764 -0.21727758]\n",
      " [ 1.44416124 -0.14341341]\n",
      " [ 1.78129481 -0.49990168]\n",
      " [ 3.07649993  0.68808568]\n",
      " [ 2.14424331  0.1400642 ]\n",
      " [ 1.90509815  0.04930053]\n",
      " [ 1.16932634 -0.16499026]\n",
      " [ 2.10761114  0.37228787]\n",
      " [ 2.31415471  0.18365128]\n",
      " [ 1.9222678   0.40920347]\n",
      " [ 1.41523588 -0.57491635]\n",
      " [ 2.56301338  0.2778626 ]\n",
      " [ 2.41874618  0.3047982 ]\n",
      " [ 1.94410979  0.1875323 ]\n",
      " [ 1.52716661 -0.37531698]\n",
      " [ 1.76434572  0.07885885]\n",
      " [ 1.90094161  0.11662796]\n",
      " [ 1.39018886 -0.28266094]]\n"
     ]
    }
   ],
   "source": [
    "# Importando a PCA\n",
    "from sklearn.decomposition import PCA\n",
    "\n",
    "# Criando o modelo através de um número de componentes principais definido pela porcentagem de variancia\n",
    "pca = PCA(n_components = 0.95)\n",
    "\n",
    "# Aplicando a PCA\n",
    "P = pca.fit_transform(iris['data'])\n",
    "\n",
    "print(P)"
   ]
  },
  {
   "cell_type": "markdown",
   "id": "8c24a5f8",
   "metadata": {
    "slideshow": {
     "slide_type": "subslide"
    }
   },
   "source": [
    "### t-SNE\n",
    "\n",
    "É uma ferramenta para **visualizar** dados de alta dimensão. O T-SNE, baseado na incorporação estocástica de vizinhos, é uma técnica de redução de dimensionalidade não linear para visualizar dados em um espaço bi ou tridimensional. Foi desenvolvido por Laurens van der Maaten e Geoffrey Hinton."
   ]
  },
  {
   "cell_type": "markdown",
   "id": "01585825",
   "metadata": {
    "slideshow": {
     "slide_type": "subslide"
    }
   },
   "source": [
    "Características:\n",
    "\n",
    "1. Um algoritmo randomizado e não supervisionado, usado apenas para visualização;\n",
    "\n",
    "2. Aplica uma técnica de **redução de dimensionalidade** não linear, onde o foco está em manter os **pontos de dados muito semelhantes próximos no espaço de dimensão inferior**;\n",
    "\n",
    "3. Preserva a estrutura local dos dados usando a distribuição t de Student para calcular a similaridade entre dois pontos no espaço de dimensão inferior;"
   ]
  },
  {
   "cell_type": "markdown",
   "id": "41051aae",
   "metadata": {
    "slideshow": {
     "slide_type": "subslide"
    }
   },
   "source": [
    "4. O t-SNE usa uma distribuição de Student-t de cauda pesada para calcular a similaridade entre dois pontos no espaço de baixa dimensão, em vez de uma distribuição gaussiana, que ajuda a resolver os problemas de aglomeração e otimização;\n",
    "\n",
    "5. **Não é afetado por outliers**."
   ]
  },
  {
   "cell_type": "markdown",
   "id": "6088cfd8",
   "metadata": {
    "slideshow": {
     "slide_type": "subslide"
    }
   },
   "source": [
    "Funcionamento:\n",
    "\n",
    "1. Busca encontrar a similaridade entre dois pontos próximos em um espaço dimensão superior.\n",
    "\n",
    "2. Mapeia cada ponto no espaço de dimensão superior para um mapa em dimensão reduzida com base na semelhança de pares de pontos no espaço de dimensão superior.\n",
    "\n",
    "3. Encontra uma representação de dados de baixa dimensão que minimize a incompatibilidade entre padrões usando gradiente descendente com base na divergência de Kullback-Leibler.\n",
    "\n",
    "4. Usa a distribuição $t$-Student para calcular a similaridade entre dois pontos no espaço de dimensão reduzida."
   ]
  },
  {
   "cell_type": "markdown",
   "id": "a8a67af9",
   "metadata": {
    "slideshow": {
     "slide_type": "subslide"
    }
   },
   "source": [
    "### Exemplo\n",
    "\n",
    "Vamos aplicar o t-SNE no Iris dataset."
   ]
  },
  {
   "cell_type": "code",
   "execution_count": 46,
   "id": "b9ed3fce",
   "metadata": {
    "slideshow": {
     "slide_type": "subslide"
    }
   },
   "outputs": [
    {
     "name": "stdout",
     "output_type": "stream",
     "text": [
      "[t-SNE] Computing 91 nearest neighbors...\n",
      "[t-SNE] Indexed 150 samples in 0.000s...\n",
      "[t-SNE] Computed neighbors for 150 samples in 0.008s...\n",
      "[t-SNE] Computed conditional probabilities for sample 150 / 150\n",
      "[t-SNE] Mean sigma: 0.509910\n",
      "[t-SNE] KL divergence after 250 iterations with early exaggeration: 51.525864\n",
      "[t-SNE] KL divergence after 1000 iterations: 0.125683\n"
     ]
    }
   ],
   "source": [
    "# Importando o t-SNE\n",
    "from sklearn.manifold import TSNE\n",
    "\n",
    "# Separando os dados\n",
    "x = iris.data\n",
    "y = iris.target\n",
    "\n",
    "# Criando o modelo do t-SNE \n",
    "tsne = TSNE(n_components = 2, verbose = 1, random_state = 0)\n",
    "z = tsne.fit_transform(x)"
   ]
  },
  {
   "cell_type": "code",
   "execution_count": 47,
   "id": "ebe857c4",
   "metadata": {
    "slideshow": {
     "slide_type": "subslide"
    }
   },
   "outputs": [
    {
     "data": {
      "image/png": "[encoded data removed]",
      "text/plain": [
       "<Figure size 1080x360 with 1 Axes>"
      ]
     },
     "metadata": {
      "needs_background": "light"
     },
     "output_type": "display_data"
    }
   ],
   "source": [
    "df4 = pd.DataFrame()\n",
    "df4[\"y\"] = y\n",
    "df4[\"Componente 1\"] = z[:,0]\n",
    "df4[\"Componente 2\"] = z[:,1]\n",
    "\n",
    "sns.scatterplot(x = \"Componente 1\", y = \"Componente 2\", hue = df4.y.tolist(),\n",
    "                palette = sns.color_palette(\"hls\", 3),\n",
    "                data = df4).set(title = \"Projeção T-SNE para Dados do Iris\") \n",
    "plt.show()"
   ]
  },
  {
   "cell_type": "markdown",
   "id": "b9ebfbb7",
   "metadata": {
    "slideshow": {
     "slide_type": "subslide"
    }
   },
   "source": [
    "### Análise Discriminante Linear (LDA):\n",
    "\n",
    "A LDA é uma técnica que busca encontrar uma combinação linear das características originais que maximize a separação entre diferentes classes ou categorias dos dados. \n",
    "\n",
    "Diferentemente do PCA, que é uma técnica não supervisionada, a LDA leva em consideração as classes dos dados para realizar a redução de características. \n",
    "\n",
    "O objetivo é encontrar um subespaço de características onde as diferentes classes estejam bem separadas, o que pode ser útil em problemas de classificação."
   ]
  },
  {
   "cell_type": "code",
   "execution_count": 35,
   "id": "b6cc79f8",
   "metadata": {
    "slideshow": {
     "slide_type": "subslide"
    }
   },
   "outputs": [],
   "source": [
    "from sklearn.discriminant_analysis import LinearDiscriminantAnalysis\n",
    "\n",
    "# Carrega o conjunto de dados\n",
    "iris = load_iris()\n",
    "X, y = iris.data, iris.target\n",
    "\n",
    "# Aplicando a LDA\n",
    "lda = LinearDiscriminantAnalysis(n_components=2)\n",
    "X_lda = lda.fit_transform(X, y)"
   ]
  },
  {
   "cell_type": "code",
   "execution_count": 37,
   "id": "01d767c1",
   "metadata": {
    "slideshow": {
     "slide_type": "subslide"
    }
   },
   "outputs": [
    {
     "data": {
      "image/png": "[encoded data removed]",
      "text/plain": [
       "<Figure size 1080x360 with 1 Axes>"
      ]
     },
     "metadata": {
      "needs_background": "light"
     },
     "output_type": "display_data"
    }
   ],
   "source": [
    "# Plotando as duas primeiras componentes discriminantes\n",
    "pylab.rcParams.update(params)\n",
    "plt.scatter(X_lda[:, 0], X_lda[:, 1], c=y)\n",
    "plt.xlabel('Componente Discriminante 1')\n",
    "plt.ylabel('Componente Discriminante 2')\n",
    "plt.title('LDA - Iris dataset')\n",
    "plt.show()"
   ]
  },
  {
   "cell_type": "markdown",
   "id": "2fd20b44",
   "metadata": {
    "slideshow": {
     "slide_type": "subslide"
    }
   },
   "source": [
    "### Fatoração de Matriz Não-Negativa (NMF):\n",
    "\n",
    "A NMF é uma técnica que busca representar uma matriz de dados não negativos como o produto de duas matrizes não negativas de menor dimensão. \n",
    "\n",
    "Essa técnica é amplamente utilizada para a extração de características em dados, como imagens, áudio e texto. \n",
    "\n",
    "Através da NMF, é possível encontrar uma representação mais compacta dos dados, mantendo as características mais relevantes."
   ]
  },
  {
   "cell_type": "code",
   "execution_count": 38,
   "id": "352ea31a",
   "metadata": {
    "slideshow": {
     "slide_type": "subslide"
    }
   },
   "outputs": [
    {
     "data": {
      "image/png": "[encoded data removed]",
      "text/plain": [
       "<Figure size 1080x360 with 1 Axes>"
      ]
     },
     "metadata": {
      "needs_background": "light"
     },
     "output_type": "display_data"
    }
   ],
   "source": [
    "from sklearn.decomposition import NMF\n",
    "\n",
    "# Aplicando a NMF\n",
    "nmf = NMF(n_components=2, max_iter=500)\n",
    "X_nmf = nmf.fit_transform(X)\n",
    "\n",
    "# Plotando as duas primeiras componentes da NMF\n",
    "plt.scatter(X_nmf[:, 0], X_nmf[:, 1], c=y)\n",
    "plt.xlabel('Componente 1 (NMF)')\n",
    "plt.ylabel('Componente 2 (NMF)')\n",
    "plt.title('NMF - Iris dataset')\n",
    "plt.show()"
   ]
  }
 ],
 "metadata": {
  "celltoolbar": "Slideshow",
  "kernelspec": {
   "display_name": "Python 3 (ipykernel)",
   "language": "python",
   "name": "python3"
  },
  "language_info": {
   "codemirror_mode": {
    "name": "ipython",
    "version": 3
   },
   "file_extension": ".py",
   "mimetype": "text/x-python",
   "name": "python",
   "nbconvert_exporter": "python",
   "pygments_lexer": "ipython3",
   "version": "3.9.12"
  }
 },
 "nbformat": 4,
 "nbformat_minor": 5
}
