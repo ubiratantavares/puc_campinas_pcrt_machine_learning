{
 "cells": [
  {
   "cell_type": "markdown",
   "id": "85abc51f",
   "metadata": {},
   "source": [
    "# Aula 13 - Assíncrona - Atividade Prática 02\n",
    "\n",
    "## Análise de Desempenho do Modelo Através de Engenharia de *Features*\n",
    "\n",
    "### Grupo 15\n",
    "\n",
    "#### Ubiratan da Silva Tavares - RA: 23031559"
   ]
  },
  {
   "cell_type": "markdown",
   "id": "b01e9023",
   "metadata": {},
   "source": [
    "Esta atividade corresponde à nossa segunda atividade prática **valorizada** do curso de *Machine Learning*.\n",
    "\n",
    "### Instruções:\n",
    "\n",
    "1 - Reunam-se em grupos de **no máximo 3 pessoas**;\n",
    "\n",
    "2 - A entrega deve ser realizada via CANVAS através de um artigo no formato PDF gerado a partir do *notebook*. Para tal fim, os grupos poderão utilizar o *Jupyter Notebook* ou o *Google Drive* para implementação do que foi solicitado.\n",
    "\n",
    "3 - O período de disponibilidade para recebimento da atividade será de **11/09/23 às 17h, até 21/09/23, às 17h**.\n",
    "\n",
    "4 - No cabeçalho do documento devem constar o **nome completo e o RA de TODOS os membros do grupo**."
   ]
  },
  {
   "cell_type": "markdown",
   "id": "c59769d8",
   "metadata": {},
   "source": [
    "### Práticas a serem desenvolvidas\n",
    "\n",
    "1. Leitura de *dataset* presente em diretório do computador\n",
    "\n",
    "2. Divisão de dados em grupos de treinamento e teste\n",
    "\n",
    "3. Criação e aplicação de modelo de *Machine Learning*\n",
    "\n",
    "4. Seleção de *features* por critério de limiar de variância\n",
    "\n",
    "5. Extração de *features* por Análise de Componentes Principais (PCA)"
   ]
  },
  {
   "cell_type": "markdown",
   "id": "f73b2484",
   "metadata": {},
   "source": [
    "**Questão 1)** Nesta atividade, utilize o *k-Nearest Neighbor* para verificar o desempenho do algoritmo de acordo com a engenharia de features empregada. Para tal fim, siga os seguintes passos:\n",
    "\n",
    "1. Utilize o *dataset ionosphere* presente na pasta datasets para realizar uma tarefa de **classificação binária**.\n",
    "\n",
    "2. Separe os dados de entrada e saída considerando que a coluna de índice $34$ corresponde ao *label* (*target*) dos dados de cada linha.\n",
    "\n",
    "3. Separe os dados em dados de treinamento e teste utilizando a proporção $70\\%$ e $30\\%$, respectivamente, e\n",
    "`random state = 0`.\n",
    "\n",
    "4. Estabeleça arbitrariamente o número de vizinhos $k = 5$, inicialmente.\n",
    "\n",
    "5. Realize a classificação e obtenha os seguintes resultados:\n",
    "\n",
    "  a) Acurácia\n",
    "  \n",
    "  b) Precisão\n",
    "      \n",
    "  c) *Recall*\n",
    "      \n",
    "  d) F1-Score\n",
    "      \n",
    "  e) Plote a Matriz de Confusão\n",
    "  \n",
    "      \n",
    "6. Repita todo o processo dos itens 1 até 5 utilizando o método de **Seleção de *Features* por limiar de variância**, considerando o limiar de $35\\%$.\n",
    "\n",
    "7. Repita todo o processo dos itens 1 até 5 utilizando o método de **Extração de *Features* por Análise de Componentes Principais (PCA)**, considerando a porcentagem de informação a ser mantida no problema de $85\\%$."
   ]
  },
  {
   "cell_type": "code",
   "execution_count": 1,
   "id": "869ecb7e",
   "metadata": {},
   "outputs": [],
   "source": [
    "# importando as bibliotecas\n",
    "import warnings\n",
    "import pandas as pd\n",
    "import numpy as np\n",
    "import seaborn as sns\n",
    "import matplotlib.pyplot as plt\n",
    "from sklearn.preprocessing import LabelEncoder, MinMaxScaler\n",
    "from sklearn.pipeline import Pipeline\n",
    "from sklearn.model_selection import train_test_split\n",
    "from sklearn.neighbors import KNeighborsClassifier\n",
    "from sklearn.metrics import accuracy_score, precision_score, recall_score, f1_score, confusion_matrix, classification_report\n",
    "from sklearn.feature_selection import VarianceThreshold\n",
    "from sklearn.decomposition import PCA"
   ]
  },
  {
   "cell_type": "code",
   "execution_count": 2,
   "id": "b3eff834",
   "metadata": {},
   "outputs": [],
   "source": [
    "%matplotlib inline\n",
    "warnings.filterwarnings('ignore')"
   ]
  },
  {
   "cell_type": "code",
   "execution_count": 3,
   "id": "33135345",
   "metadata": {},
   "outputs": [],
   "source": [
    "pd.set_option('display.float_format', lambda x: '%.2f' % x)\n",
    "pd.options.display.max_columns = None"
   ]
  },
  {
   "cell_type": "code",
   "execution_count": 4,
   "id": "f2de9b2c",
   "metadata": {},
   "outputs": [],
   "source": [
    "# Criando a classe DataSet para a manipulação do conjunto de dados\n",
    "class DataSet:\n",
    "    \n",
    "    def __init__(self, data, header=None):\n",
    "        self.__df = pd.read_csv(data, header=header)\n",
    "        \n",
    "    def get_DataFrame(self):\n",
    "        return self.__df\n",
    "    \n",
    "    # dividindo o conjunto de dados em atributos previsores e atributo alvo (target)\n",
    "    def select_XY(self):\n",
    "        data = self.__df.values\n",
    "        X = data[:, :-1]\n",
    "        y = data[:, -1]\n",
    "        # converte os atributos previsores para tipo float\n",
    "        X = X.astype('float32')\n",
    "        # realiza o pré-processamento do atributo alvo (target) para valores 0 e 1\n",
    "        label = LabelEncoder()\n",
    "        y = label.fit_transform(y.astype('str'))\n",
    "        return X, y\n",
    "      \n",
    "    # separando os dados em conjuntos de treinamento e teste (70% treinamento, 30% teste)\n",
    "    def set_train_test(self, X, y, test_size=0.3):        \n",
    "        X_train, X_test, y_train, y_test = train_test_split(X, y, test_size=test_size, random_state=0)\n",
    "        return X_train, X_test, y_train, y_test\n",
    "    \n",
    "    # Método para seleção de atributos por limiar de variância\n",
    "    def select_XY_variance_threshold(self, limiar_de_variancia=0.35):\n",
    "        X, y = self.select_XY()\n",
    "        selecao = VarianceThreshold(threshold=limiar_de_variancia)\n",
    "        X_new = selecao.fit_transform(X)\n",
    "        return X_new, y\n",
    "\n",
    "    # Método para seleção de atributos por PCA\n",
    "    def select_XY_pca(self, percentual_variancia=0.85):\n",
    "        X, y = self.select_XY()\n",
    "        pca = PCA(n_components=percentual_variancia)\n",
    "        X_new = pca.fit_transform(X)\n",
    "        return X_new, y"
   ]
  },
  {
   "cell_type": "code",
   "execution_count": 5,
   "id": "a586cb1f",
   "metadata": {},
   "outputs": [],
   "source": [
    "# criando a classe do modelo k-Nearest Neighbor\n",
    "class KNN:\n",
    "    \n",
    "    # criando o modelo k-Nearest Neighbor com k=5\n",
    "    def __init__(self, n_neighbors=5):        \n",
    "        self.__modelo = KNeighborsClassifier(n_neighbors=n_neighbors)\n",
    "        \n",
    "    # treinando o modelo com o dados de treinamento sem seleção de features\n",
    "    def treinamento(self, X_train, y_train):\n",
    "        # criando um pipeline com MinMaxScaler e o modelo\n",
    "        steps = [('mms', MinMaxScaler()), \n",
    "                 ('m', self.__modelo)]\n",
    "        pipeline = Pipeline(steps=steps)\n",
    "        return pipeline.fit(X_train, y_train)    \n",
    "   \n",
    "    # prevendo com o modelo treinado\n",
    "    def prevendo(self, X_train, X_test, y_train):\n",
    "        modelo_treinado = self.treinamento(X_train, y_train)\n",
    "        return modelo_treinado.predict(X_test)      \n",
    "   \n",
    "    # avaliando o desempenho do modelo treinado\n",
    "    def avaliando(self, X_train, X_test, y_train, y_test):\n",
    "        y_prev = self.prevendo(X_train, X_test, y_train)\n",
    "        accuracy = accuracy_score(y_test, y_prev)\n",
    "        precision = precision_score(y_test, y_prev)\n",
    "        recall = recall_score(y_test, y_prev)\n",
    "        f1 = f1_score(y_test, y_prev)\n",
    "        matrix = confusion_matrix(y_test, y_prev)\n",
    "        report = classification_report(y_test, y_prev, target_names = ['B', 'G'])        \n",
    "        return y_prev, accuracy, precision, recall, f1, matrix, report\n",
    "                                    \n",
    "    # plote\n",
    "    def plotando(self, matrix):\n",
    "        plt.figure(figsize=(8, 6))\n",
    "        sns.heatmap(matrix, annot=True, fmt=\"d\", cmap=\"Blues\", xticklabels=['B', 'G'], yticklabels=['B', 'G'])\n",
    "        plt.xlabel(\"Predito\")\n",
    "        plt.ylabel(\"Verdadeiro\")\n",
    "        plt.title(\"Matriz de Confusão\")\n",
    "        plt.show()\n",
    "\n",
    "    # exibindo os resultados das métricas avaliativas\n",
    "    def resultados(self, X_train, X_test, y_train, y_test):\n",
    "        y_prev, accuracy, precision, recall, f1, matrix, report = self.avaliando(X_train, X_test, y_train, y_test)\n",
    "        print(f\"\\nAcurácia: {accuracy*100:.2f} %\")\n",
    "        print(f\"Precisão: {precision*100:.2f} %\")\n",
    "        print(f\"Recall: {recall*100:.2f} %\")\n",
    "        print(f\"F1-Score: {f1*100:.2f} %\")\n",
    "        print(f\"Relatório da avaliação:\\n\\n{report}\\n\")\n",
    "        self.plotando(matrix)        "
   ]
  },
  {
   "cell_type": "markdown",
   "id": "10a77994",
   "metadata": {},
   "source": [
    "### 1. Leitura de dataset presente em diretório do computador"
   ]
  },
  {
   "cell_type": "code",
   "execution_count": 6,
   "id": "a1fa51a7",
   "metadata": {},
   "outputs": [],
   "source": [
    "# carrega o conjunto de dados\n",
    "ds = DataSet('dataset/ionosphere.data')"
   ]
  },
  {
   "cell_type": "code",
   "execution_count": 7,
   "id": "6b48b60f",
   "metadata": {},
   "outputs": [],
   "source": [
    "# retornando o dataframe pandas\n",
    "df = ds.get_DataFrame()"
   ]
  },
  {
   "cell_type": "code",
   "execution_count": 8,
   "id": "c594f148",
   "metadata": {},
   "outputs": [
    {
     "data": {
      "text/html": [
       "<div>\n",
       "<style scoped>\n",
       "    .dataframe tbody tr th:only-of-type {\n",
       "        vertical-align: middle;\n",
       "    }\n",
       "\n",
       "    .dataframe tbody tr th {\n",
       "        vertical-align: top;\n",
       "    }\n",
       "\n",
       "    .dataframe thead th {\n",
       "        text-align: right;\n",
       "    }\n",
       "</style>\n",
       "<table border=\"1\" class=\"dataframe\">\n",
       "  <thead>\n",
       "    <tr style=\"text-align: right;\">\n",
       "      <th></th>\n",
       "      <th>0</th>\n",
       "      <th>1</th>\n",
       "      <th>2</th>\n",
       "      <th>3</th>\n",
       "      <th>4</th>\n",
       "      <th>5</th>\n",
       "      <th>6</th>\n",
       "      <th>7</th>\n",
       "      <th>8</th>\n",
       "      <th>9</th>\n",
       "      <th>10</th>\n",
       "      <th>11</th>\n",
       "      <th>12</th>\n",
       "      <th>13</th>\n",
       "      <th>14</th>\n",
       "      <th>15</th>\n",
       "      <th>16</th>\n",
       "      <th>17</th>\n",
       "      <th>18</th>\n",
       "      <th>19</th>\n",
       "      <th>20</th>\n",
       "      <th>21</th>\n",
       "      <th>22</th>\n",
       "      <th>23</th>\n",
       "      <th>24</th>\n",
       "      <th>25</th>\n",
       "      <th>26</th>\n",
       "      <th>27</th>\n",
       "      <th>28</th>\n",
       "      <th>29</th>\n",
       "      <th>30</th>\n",
       "      <th>31</th>\n",
       "      <th>32</th>\n",
       "      <th>33</th>\n",
       "      <th>34</th>\n",
       "    </tr>\n",
       "  </thead>\n",
       "  <tbody>\n",
       "    <tr>\n",
       "      <th>0</th>\n",
       "      <td>1</td>\n",
       "      <td>0</td>\n",
       "      <td>1.00</td>\n",
       "      <td>-0.06</td>\n",
       "      <td>0.85</td>\n",
       "      <td>0.02</td>\n",
       "      <td>0.83</td>\n",
       "      <td>-0.38</td>\n",
       "      <td>1.00</td>\n",
       "      <td>0.04</td>\n",
       "      <td>0.85</td>\n",
       "      <td>-0.18</td>\n",
       "      <td>0.60</td>\n",
       "      <td>-0.45</td>\n",
       "      <td>0.61</td>\n",
       "      <td>-0.38</td>\n",
       "      <td>0.84</td>\n",
       "      <td>-0.39</td>\n",
       "      <td>0.58</td>\n",
       "      <td>-0.32</td>\n",
       "      <td>0.57</td>\n",
       "      <td>-0.30</td>\n",
       "      <td>0.37</td>\n",
       "      <td>-0.47</td>\n",
       "      <td>0.57</td>\n",
       "      <td>-0.51</td>\n",
       "      <td>0.41</td>\n",
       "      <td>-0.46</td>\n",
       "      <td>0.21</td>\n",
       "      <td>-0.34</td>\n",
       "      <td>0.42</td>\n",
       "      <td>-0.54</td>\n",
       "      <td>0.19</td>\n",
       "      <td>-0.45</td>\n",
       "      <td>g</td>\n",
       "    </tr>\n",
       "    <tr>\n",
       "      <th>1</th>\n",
       "      <td>1</td>\n",
       "      <td>0</td>\n",
       "      <td>1.00</td>\n",
       "      <td>-0.19</td>\n",
       "      <td>0.93</td>\n",
       "      <td>-0.36</td>\n",
       "      <td>-0.11</td>\n",
       "      <td>-0.94</td>\n",
       "      <td>1.00</td>\n",
       "      <td>-0.05</td>\n",
       "      <td>0.51</td>\n",
       "      <td>-0.68</td>\n",
       "      <td>0.34</td>\n",
       "      <td>-0.70</td>\n",
       "      <td>-0.52</td>\n",
       "      <td>-0.98</td>\n",
       "      <td>0.05</td>\n",
       "      <td>-0.62</td>\n",
       "      <td>0.33</td>\n",
       "      <td>-1.00</td>\n",
       "      <td>-0.13</td>\n",
       "      <td>-0.45</td>\n",
       "      <td>-0.18</td>\n",
       "      <td>-0.36</td>\n",
       "      <td>-0.20</td>\n",
       "      <td>-0.27</td>\n",
       "      <td>-0.20</td>\n",
       "      <td>-0.18</td>\n",
       "      <td>-0.19</td>\n",
       "      <td>-0.12</td>\n",
       "      <td>-0.17</td>\n",
       "      <td>-0.06</td>\n",
       "      <td>-0.14</td>\n",
       "      <td>-0.02</td>\n",
       "      <td>b</td>\n",
       "    </tr>\n",
       "    <tr>\n",
       "      <th>2</th>\n",
       "      <td>1</td>\n",
       "      <td>0</td>\n",
       "      <td>1.00</td>\n",
       "      <td>-0.03</td>\n",
       "      <td>1.00</td>\n",
       "      <td>0.00</td>\n",
       "      <td>1.00</td>\n",
       "      <td>-0.12</td>\n",
       "      <td>0.89</td>\n",
       "      <td>0.01</td>\n",
       "      <td>0.73</td>\n",
       "      <td>0.05</td>\n",
       "      <td>0.85</td>\n",
       "      <td>0.01</td>\n",
       "      <td>0.55</td>\n",
       "      <td>0.00</td>\n",
       "      <td>0.84</td>\n",
       "      <td>-0.14</td>\n",
       "      <td>0.76</td>\n",
       "      <td>-0.09</td>\n",
       "      <td>0.71</td>\n",
       "      <td>-0.28</td>\n",
       "      <td>0.43</td>\n",
       "      <td>-0.12</td>\n",
       "      <td>0.58</td>\n",
       "      <td>-0.40</td>\n",
       "      <td>0.59</td>\n",
       "      <td>-0.22</td>\n",
       "      <td>0.43</td>\n",
       "      <td>-0.17</td>\n",
       "      <td>0.60</td>\n",
       "      <td>-0.24</td>\n",
       "      <td>0.56</td>\n",
       "      <td>-0.38</td>\n",
       "      <td>g</td>\n",
       "    </tr>\n",
       "    <tr>\n",
       "      <th>3</th>\n",
       "      <td>1</td>\n",
       "      <td>0</td>\n",
       "      <td>1.00</td>\n",
       "      <td>-0.45</td>\n",
       "      <td>1.00</td>\n",
       "      <td>1.00</td>\n",
       "      <td>0.71</td>\n",
       "      <td>-1.00</td>\n",
       "      <td>0.00</td>\n",
       "      <td>0.00</td>\n",
       "      <td>0.00</td>\n",
       "      <td>0.00</td>\n",
       "      <td>0.00</td>\n",
       "      <td>0.00</td>\n",
       "      <td>-1.00</td>\n",
       "      <td>0.15</td>\n",
       "      <td>0.54</td>\n",
       "      <td>-0.39</td>\n",
       "      <td>-1.00</td>\n",
       "      <td>-0.54</td>\n",
       "      <td>-0.70</td>\n",
       "      <td>1.00</td>\n",
       "      <td>0.00</td>\n",
       "      <td>0.00</td>\n",
       "      <td>1.00</td>\n",
       "      <td>0.91</td>\n",
       "      <td>0.52</td>\n",
       "      <td>1.00</td>\n",
       "      <td>1.00</td>\n",
       "      <td>-0.20</td>\n",
       "      <td>0.26</td>\n",
       "      <td>1.00</td>\n",
       "      <td>-0.32</td>\n",
       "      <td>1.00</td>\n",
       "      <td>b</td>\n",
       "    </tr>\n",
       "    <tr>\n",
       "      <th>4</th>\n",
       "      <td>1</td>\n",
       "      <td>0</td>\n",
       "      <td>1.00</td>\n",
       "      <td>-0.02</td>\n",
       "      <td>0.94</td>\n",
       "      <td>0.07</td>\n",
       "      <td>0.92</td>\n",
       "      <td>-0.23</td>\n",
       "      <td>0.77</td>\n",
       "      <td>-0.16</td>\n",
       "      <td>0.53</td>\n",
       "      <td>-0.20</td>\n",
       "      <td>0.56</td>\n",
       "      <td>-0.01</td>\n",
       "      <td>0.34</td>\n",
       "      <td>-0.27</td>\n",
       "      <td>0.53</td>\n",
       "      <td>-0.22</td>\n",
       "      <td>0.45</td>\n",
       "      <td>-0.18</td>\n",
       "      <td>0.06</td>\n",
       "      <td>-0.36</td>\n",
       "      <td>0.02</td>\n",
       "      <td>-0.53</td>\n",
       "      <td>0.03</td>\n",
       "      <td>-0.65</td>\n",
       "      <td>0.13</td>\n",
       "      <td>-0.53</td>\n",
       "      <td>0.02</td>\n",
       "      <td>-0.62</td>\n",
       "      <td>-0.06</td>\n",
       "      <td>-0.60</td>\n",
       "      <td>-0.05</td>\n",
       "      <td>-0.66</td>\n",
       "      <td>g</td>\n",
       "    </tr>\n",
       "  </tbody>\n",
       "</table>\n",
       "</div>"
      ],
      "text/plain": [
       "   0   1    2     3    4     5     6     7    8     9    10    11   12    13  \\\n",
       "0   1   0 1.00 -0.06 0.85  0.02  0.83 -0.38 1.00  0.04 0.85 -0.18 0.60 -0.45   \n",
       "1   1   0 1.00 -0.19 0.93 -0.36 -0.11 -0.94 1.00 -0.05 0.51 -0.68 0.34 -0.70   \n",
       "2   1   0 1.00 -0.03 1.00  0.00  1.00 -0.12 0.89  0.01 0.73  0.05 0.85  0.01   \n",
       "3   1   0 1.00 -0.45 1.00  1.00  0.71 -1.00 0.00  0.00 0.00  0.00 0.00  0.00   \n",
       "4   1   0 1.00 -0.02 0.94  0.07  0.92 -0.23 0.77 -0.16 0.53 -0.20 0.56 -0.01   \n",
       "\n",
       "     14    15   16    17    18    19    20    21    22    23    24    25  \\\n",
       "0  0.61 -0.38 0.84 -0.39  0.58 -0.32  0.57 -0.30  0.37 -0.47  0.57 -0.51   \n",
       "1 -0.52 -0.98 0.05 -0.62  0.33 -1.00 -0.13 -0.45 -0.18 -0.36 -0.20 -0.27   \n",
       "2  0.55  0.00 0.84 -0.14  0.76 -0.09  0.71 -0.28  0.43 -0.12  0.58 -0.40   \n",
       "3 -1.00  0.15 0.54 -0.39 -1.00 -0.54 -0.70  1.00  0.00  0.00  1.00  0.91   \n",
       "4  0.34 -0.27 0.53 -0.22  0.45 -0.18  0.06 -0.36  0.02 -0.53  0.03 -0.65   \n",
       "\n",
       "     26    27    28    29    30    31    32    33 34  \n",
       "0  0.41 -0.46  0.21 -0.34  0.42 -0.54  0.19 -0.45  g  \n",
       "1 -0.20 -0.18 -0.19 -0.12 -0.17 -0.06 -0.14 -0.02  b  \n",
       "2  0.59 -0.22  0.43 -0.17  0.60 -0.24  0.56 -0.38  g  \n",
       "3  0.52  1.00  1.00 -0.20  0.26  1.00 -0.32  1.00  b  \n",
       "4  0.13 -0.53  0.02 -0.62 -0.06 -0.60 -0.05 -0.66  g  "
      ]
     },
     "execution_count": 8,
     "metadata": {},
     "output_type": "execute_result"
    }
   ],
   "source": [
    "# exibindo as 5 primeiras instâncias do conjunto de dados\n",
    "df.head()"
   ]
  },
  {
   "cell_type": "code",
   "execution_count": 9,
   "id": "a6c464fc",
   "metadata": {},
   "outputs": [
    {
     "data": {
      "text/plain": [
       "(351, 35)"
      ]
     },
     "execution_count": 9,
     "metadata": {},
     "output_type": "execute_result"
    }
   ],
   "source": [
    "# verificando a quantidade de instâncias e atributos\n",
    "df.shape"
   ]
  },
  {
   "cell_type": "code",
   "execution_count": 10,
   "id": "0623d552",
   "metadata": {},
   "outputs": [
    {
     "data": {
      "text/plain": [
       "0       int64\n",
       "1       int64\n",
       "2     float64\n",
       "3     float64\n",
       "4     float64\n",
       "5     float64\n",
       "6     float64\n",
       "7     float64\n",
       "8     float64\n",
       "9     float64\n",
       "10    float64\n",
       "11    float64\n",
       "12    float64\n",
       "13    float64\n",
       "14    float64\n",
       "15    float64\n",
       "16    float64\n",
       "17    float64\n",
       "18    float64\n",
       "19    float64\n",
       "20    float64\n",
       "21    float64\n",
       "22    float64\n",
       "23    float64\n",
       "24    float64\n",
       "25    float64\n",
       "26    float64\n",
       "27    float64\n",
       "28    float64\n",
       "29    float64\n",
       "30    float64\n",
       "31    float64\n",
       "32    float64\n",
       "33    float64\n",
       "34     object\n",
       "dtype: object"
      ]
     },
     "execution_count": 10,
     "metadata": {},
     "output_type": "execute_result"
    }
   ],
   "source": [
    "# verificando os tipos dos atributos\n",
    "df.dtypes"
   ]
  },
  {
   "cell_type": "code",
   "execution_count": 11,
   "id": "9f9d92ae",
   "metadata": {},
   "outputs": [
    {
     "data": {
      "text/plain": [
       "0     0\n",
       "1     0\n",
       "2     0\n",
       "3     0\n",
       "4     0\n",
       "5     0\n",
       "6     0\n",
       "7     0\n",
       "8     0\n",
       "9     0\n",
       "10    0\n",
       "11    0\n",
       "12    0\n",
       "13    0\n",
       "14    0\n",
       "15    0\n",
       "16    0\n",
       "17    0\n",
       "18    0\n",
       "19    0\n",
       "20    0\n",
       "21    0\n",
       "22    0\n",
       "23    0\n",
       "24    0\n",
       "25    0\n",
       "26    0\n",
       "27    0\n",
       "28    0\n",
       "29    0\n",
       "30    0\n",
       "31    0\n",
       "32    0\n",
       "33    0\n",
       "34    0\n",
       "dtype: int64"
      ]
     },
     "execution_count": 11,
     "metadata": {},
     "output_type": "execute_result"
    }
   ],
   "source": [
    "# verificando se há dados faltantes\n",
    "df.isnull().sum()"
   ]
  },
  {
   "cell_type": "markdown",
   "id": "06ffe3f0",
   "metadata": {},
   "source": [
    "### 2 - Análise de Desempenho do Modelo *k-Nearest Neighbor* sem Engenharia de Features"
   ]
  },
  {
   "cell_type": "markdown",
   "id": "6b6def31",
   "metadata": {},
   "source": [
    "#### 2.1 - Divisão de dados em grupos de treinamento e teste"
   ]
  },
  {
   "cell_type": "code",
   "execution_count": 12,
   "id": "d414d92f",
   "metadata": {},
   "outputs": [],
   "source": [
    "# criando os atributos previsores X e o atributo alvo y\n",
    "X, y = ds.select_XY()       "
   ]
  },
  {
   "cell_type": "code",
   "execution_count": 13,
   "id": "2e4a3d0a",
   "metadata": {},
   "outputs": [],
   "source": [
    "# separando o atributos previsores e o atributo alvo nos conjuntos de treinamento e teste\n",
    "X_train, X_test, y_train, y_test = ds.set_train_test(X, y)"
   ]
  },
  {
   "cell_type": "markdown",
   "id": "f8ffd053",
   "metadata": {},
   "source": [
    "#### 2.2 - Criação do Modelo k-Nearest Neighbor"
   ]
  },
  {
   "cell_type": "code",
   "execution_count": 14,
   "id": "e6b6325a",
   "metadata": {},
   "outputs": [],
   "source": [
    "# criando o modelo\n",
    "knn = KNN()"
   ]
  },
  {
   "cell_type": "markdown",
   "id": "8bc5ebd5",
   "metadata": {},
   "source": [
    "#### 2.3 - Avaliação do Modelo k-Nearest Neighbor"
   ]
  },
  {
   "cell_type": "code",
   "execution_count": 15,
   "id": "133667f2",
   "metadata": {},
   "outputs": [
    {
     "name": "stdout",
     "output_type": "stream",
     "text": [
      "\n",
      "Acurácia: 84.91 %\n",
      "Precisão: 81.08 %\n",
      "Recall: 96.77 %\n",
      "F1-Score: 88.24 %\n",
      "Relatório da avaliação:\n",
      "\n",
      "              precision    recall  f1-score   support\n",
      "\n",
      "           B       0.94      0.68      0.79        44\n",
      "           G       0.81      0.97      0.88        62\n",
      "\n",
      "    accuracy                           0.85       106\n",
      "   macro avg       0.87      0.82      0.84       106\n",
      "weighted avg       0.86      0.85      0.84       106\n",
      "\n",
      "\n"
     ]
    },
    {
     "data": {
      "image/png": "[encoded data removed]",
      "text/plain": [
       "<Figure size 800x600 with 2 Axes>"
      ]
     },
     "metadata": {},
     "output_type": "display_data"
    }
   ],
   "source": [
    "# exibindo os resultados da performance do modelo no conjunto de treinamento\n",
    "knn.resultados(X_train, X_test, y_train, y_test)"
   ]
  },
  {
   "cell_type": "markdown",
   "id": "e581bb1f",
   "metadata": {},
   "source": [
    "### 3 - Análise de Desempenho do Modelo *k-Nearest Neighbor* com Engenharia de Features"
   ]
  },
  {
   "cell_type": "markdown",
   "id": "8183f0b0",
   "metadata": {},
   "source": [
    "#### 3.1 - Seleção de features por critério de limiar de variância"
   ]
  },
  {
   "cell_type": "code",
   "execution_count": 16,
   "id": "45f2a065",
   "metadata": {},
   "outputs": [],
   "source": [
    "# criando os atributos previsores X pelo método da seleção de features e o atributo alvo y\n",
    "X, y = ds.select_XY_variance_threshold()"
   ]
  },
  {
   "cell_type": "code",
   "execution_count": 17,
   "id": "470e011e",
   "metadata": {},
   "outputs": [],
   "source": [
    "# separando o atributos previsores e o atributo alvo nos conjuntos de treinamento e teste\n",
    "X_train, X_test, y_train, y_test = ds.set_train_test(X, y)"
   ]
  },
  {
   "cell_type": "code",
   "execution_count": 18,
   "id": "a9fe0085",
   "metadata": {},
   "outputs": [
    {
     "name": "stdout",
     "output_type": "stream",
     "text": [
      "\n",
      "Acurácia: 81.13 %\n",
      "Precisão: 77.63 %\n",
      "Recall: 95.16 %\n",
      "F1-Score: 85.51 %\n",
      "Relatório da avaliação:\n",
      "\n",
      "              precision    recall  f1-score   support\n",
      "\n",
      "           B       0.90      0.61      0.73        44\n",
      "           G       0.78      0.95      0.86        62\n",
      "\n",
      "    accuracy                           0.81       106\n",
      "   macro avg       0.84      0.78      0.79       106\n",
      "weighted avg       0.83      0.81      0.80       106\n",
      "\n",
      "\n"
     ]
    },
    {
     "data": {
      "image/png": "[encoded data removed]",
      "text/plain": [
       "<Figure size 800x600 with 2 Axes>"
      ]
     },
     "metadata": {},
     "output_type": "display_data"
    }
   ],
   "source": [
    "# exibindo os resultados da performance do modelo no conjunto de treinamento\n",
    "knn.resultados(X_train, X_test, y_train, y_test)"
   ]
  },
  {
   "cell_type": "markdown",
   "id": "280f3c79",
   "metadata": {},
   "source": [
    "#### 3.2 - Extração de features por Análise de Componentes Principais (PCA)"
   ]
  },
  {
   "cell_type": "code",
   "execution_count": 19,
   "id": "faac3393",
   "metadata": {},
   "outputs": [],
   "source": [
    "# criando os atributos previsores X pelo método de extração de features por análise de componentes principais e o atributo alvo y\n",
    "X, y = ds.select_XY_pca()"
   ]
  },
  {
   "cell_type": "code",
   "execution_count": 20,
   "id": "12afef6e",
   "metadata": {},
   "outputs": [],
   "source": [
    "# separando o atributos previsores e o atributo alvo nos conjuntos de treinamento e teste\n",
    "X_train, X_test, y_train, y_test = ds.set_train_test(X, y)"
   ]
  },
  {
   "cell_type": "code",
   "execution_count": 21,
   "id": "bde99af0",
   "metadata": {},
   "outputs": [
    {
     "name": "stdout",
     "output_type": "stream",
     "text": [
      "\n",
      "Acurácia: 87.74 %\n",
      "Precisão: 84.51 %\n",
      "Recall: 96.77 %\n",
      "F1-Score: 90.23 %\n",
      "Relatório da avaliação:\n",
      "\n",
      "              precision    recall  f1-score   support\n",
      "\n",
      "           B       0.94      0.75      0.84        44\n",
      "           G       0.85      0.97      0.90        62\n",
      "\n",
      "    accuracy                           0.88       106\n",
      "   macro avg       0.89      0.86      0.87       106\n",
      "weighted avg       0.89      0.88      0.87       106\n",
      "\n",
      "\n"
     ]
    },
    {
     "data": {
      "image/png": "[encoded data removed]",
      "text/plain": [
       "<Figure size 800x600 with 2 Axes>"
      ]
     },
     "metadata": {},
     "output_type": "display_data"
    }
   ],
   "source": [
    "knn.resultados(X_train, X_test, y_train, y_test)"
   ]
  },
  {
   "cell_type": "markdown",
   "id": "d97a1c75",
   "metadata": {},
   "source": [
    "**Questão 2)** Compare os resultados obtidos em todos os processos do item anterior e justifique as diferenças obtidas através dos conceitos de engenharia de *features* estudados durante as aulas síncronas."
   ]
  },
  {
   "cell_type": "markdown",
   "id": "7fda1f4f",
   "metadata": {},
   "source": [
    "A análise dos resultados de desempenho do modelo k-Nearest Neighbor (KNN) nos cenários de sem e com engenharia de features, revela algumas diferenças significativas que podem ser justificadas."
   ]
  },
  {
   "cell_type": "markdown",
   "id": "9fa220a3",
   "metadata": {},
   "source": [
    "##### 1 -  Análise de Desempenho do Modelo KNN sem Engenharia de Features:\n",
    "\n",
    "Acurácia: 84.91%\n",
    "Precisão: 81.08%\n",
    "Recall: 96.77%\n",
    "F1-Score: 88.24%\n",
    "\n",
    "Neste cenário, o KNN foi aplicado nos atributos pré-processados pela classe MinMaxScaler() no conjunto de dados originais. \n",
    "\n",
    "Os resultados mostram uma acurácia relativamente alta, com um recall notavelmente alto, o que significa que o modelo conseguiu identificar a maioria das observações positivas (classe \"G\"). No entanto, a precisão é um pouco mais baixa, indicando que o modelo também classificou alguns observações negativas (classe \"B\") incorretamente como positivas."
   ]
  },
  {
   "cell_type": "markdown",
   "id": "a1d551f8",
   "metadata": {},
   "source": [
    "##### 2 - Análise de Desempenho do Modelo KNN com Engenharia de Features:\n",
    "\n",
    "###### 2.1 - Seleção de Features por Critério de Limiar de Variância:\n",
    "\n",
    "Acurácia: 81.13%\n",
    "Precisão: 77.63%\n",
    "Recall: 95.16%\n",
    "F1-Score: 85.51%\n",
    "\n",
    "Neste cenário, a engenharia de features foi aplicada na forma de seleção de features por critério de limiar de variância. Isso significa que os atributos com baixa variância foram removidos do conjunto de dados. As diferenças em relação ao cenário sem engenharia de features são as seguintes:\n",
    "\n",
    "A acurácia diminuiu ligeiramente, indicando que a seleção de features por limiar de variância removeu alguns atributos que poderiam ser úteis para a classificação.\n",
    "\n",
    "A precisão diminuiu, o que significa que o modelo está classificando mais exemplos negativos como positivos. Isso pode ser devido à perda de informações causada pela remoção de atributos com baixa variância.\n",
    "\n",
    "O recall melhorou significativamente. Isso ocorre porque o modelo se tornou mais sensível à classe \"B\", identificando mais exemplos positivos dessa classe. A seleção de features ajudou a reduzir a confusão com a classe \"G\".\n"
   ]
  },
  {
   "cell_type": "markdown",
   "id": "aed777d1",
   "metadata": {},
   "source": [
    "###### 2.2 -  Extração de Features por Análise de Componentes Principais (PCA):\n",
    "\n",
    "Acurácia: 87.74%\n",
    "Precisão: 84.51%\n",
    "Recall: 96.77%\n",
    "F1-Score: 90.23%\n",
    "\n",
    "Neste cenário, a engenharia de features foi realizada por meio da extração de features usando Análise de Componentes Principais (PCA). Isso significa que os atributos originais foram transformados em um novo conjunto de atributos que são combinações lineares dos atributos originais. As diferenças em relação ao cenário sem engenharia de features são as seguintes:\n",
    "\n",
    "A acurácia aumentou, indicando que a extração de features por PCA conseguiu capturar informações relevantes de forma mais eficaz do que os atributos originais.\n",
    "\n",
    "A precisão também melhorou, indicando que o modelo está cometendo menos falsos positivos em comparação com o cenário sem engenharia de features.\n",
    "\n",
    "O recall permaneceu alto, o que significa que o modelo ainda é capaz de identificar a maioria dos exemplos positivos.\n"
   ]
  },
  {
   "cell_type": "markdown",
   "id": "c062b471",
   "metadata": {},
   "source": [
    "##### Justificando as Diferenças:\n",
    "\n",
    "As diferenças observadas nos resultados podem ser justificadas da seguinte forma:\n",
    "\n",
    "* A seleção de features por limiar de variância removeu atributos com baixa variância, o que pode ter removido ruídos, mas também informações úteis. Isso levou a uma redução na acurácia e precisão, mas com uma melhoria no recall.\n",
    "\n",
    "\n",
    "* A extração de features por PCA transformou os atributos originais em um novo espaço de features que captura a variabilidade dos dados de forma mais eficiente. Isso resultou em um aumento na acurácia, precisão e recall."
   ]
  },
  {
   "cell_type": "markdown",
   "id": "1ed6dc7f",
   "metadata": {},
   "source": [
    "Em resumo, a engenharia de features desempenhou um papel crucial na melhoria do desempenho do modelo KNN, permitindo que ele aprendesse representações mais informativas dos dados, o que se refletiu em melhores métricas de avaliação. A escolha entre a seleção de features e a extração de features depende do conjunto de dados e dos objetivos do modelo."
   ]
  }
 ],
 "metadata": {
  "kernelspec": {
   "display_name": "Python 3 (ipykernel)",
   "language": "python",
   "name": "python3"
  },
  "language_info": {
   "codemirror_mode": {
    "name": "ipython",
    "version": 3
   },
   "file_extension": ".py",
   "mimetype": "text/x-python",
   "name": "python",
   "nbconvert_exporter": "python",
   "pygments_lexer": "ipython3",
   "version": "3.10.9"
  }
 },
 "nbformat": 4,
 "nbformat_minor": 5
}
