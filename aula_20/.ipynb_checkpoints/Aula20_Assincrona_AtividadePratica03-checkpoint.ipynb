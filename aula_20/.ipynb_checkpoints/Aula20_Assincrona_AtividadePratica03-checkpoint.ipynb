{
 "cells": [
  {
   "cell_type": "markdown",
   "id": "fada07c6",
   "metadata": {},
   "source": [
    "# Aula 20 - Assícrona - Atividade Prática 03\n",
    "\n",
    "##  Implementação de modelos e verificação de eficiência da estratégia adotada em problemas de classificação considerando diferentes métodos de engenharia de features\n",
    "\n",
    "### Grupo 15\n",
    "\n",
    "### Nome: Ubiratan da Silva Tavares - RA: 23031559"
   ]
  },
  {
   "cell_type": "markdown",
   "id": "e6599460",
   "metadata": {},
   "source": [
    "#### Práticas a serem desenvolvidas:\n",
    "\n",
    "1 - Substituição de valores inválidos;\n",
    "\n",
    "2 - Verificação de eficiência considerando técnicas de normalização;\n",
    "\n",
    "3 - Seleção de *Features*;\n",
    "\n",
    "4 - Extração de *Features*;\n",
    "\n",
    "5 - Validação Cruzada considerando o método *k-fold*."
   ]
  },
  {
   "cell_type": "markdown",
   "id": "a2234f54",
   "metadata": {},
   "source": [
    "### Parâmetros fixos a serem utilizados:\n",
    "\n",
    "1 - Classificador ***Random Forest*** com `random_state = 0`;\n",
    "\n",
    "2 - Função `train_test_split`:\n",
    "\n",
    "     - Proporção de divisão de dados de treinamento e teste: 70% e 30%, respectivamente;\n",
    "     - `random_state = 42`.\n",
    "     \n"
   ]
  },
  {
   "cell_type": "code",
   "execution_count": 1,
   "id": "27db5242",
   "metadata": {},
   "outputs": [],
   "source": [
    "from pandas import read_csv\n",
    "from sklearn.preprocessing import MinMaxScaler\n",
    "from sklearn.model_selection import train_test_split\n",
    "\n",
    "class DataSet:\n",
    "    \n",
    "    def __init__(self, nome_arquivo):\n",
    "        self.__dataframe = read_csv(nome_arquivo, delimiter=',', header=0)\n",
    "\n",
    "    @property\n",
    "    def dataframe(self):\n",
    "        return self.__dataframe\n",
    "    \n",
    "    def getXy(self):\n",
    "        X = self.dataframe.iloc[:, :-1]\n",
    "        y = self.dataframe.iloc[:, -1]        \n",
    "        return X, y    \n",
    "    \n",
    "    # verificando a existência de valores inválidos\n",
    "    def verificar_valores_invalidos(self):\n",
    "        return self.dataframe.isnull().sum() / len(self.dataframe) * 100    \n",
    "  \n",
    "    # transformando a base de dados após a verificação da existência de valores inválidos\n",
    "    def transformar(self):\n",
    "        percentual_invalidos = self.verificar_valores_invalidos()\n",
    "        # iterando sobre cada coluna da base de dados\n",
    "        for coluna in self.dataframe.columns:\n",
    "            if percentual_invalidos[coluna] > 20:\n",
    "                # excluindo a coluna se a porcentagem de valores inválidos for maior que 20%\n",
    "                self.dataframe.drop(coluna, axis=1, inplace=True)\n",
    "            elif percentual_invalidos[coluna] > 0:\n",
    "                # substituindo os valores inválidos pelo valor imediatamente anterior utilizando o método bfill\n",
    "                self.dataframe[coluna].fillna(method='bfill', inplace=True)\n",
    "                \n",
    "    # normalizando os atributos previsores (atributos de entrada)\n",
    "    def normalizar(self, X):\n",
    "        # criando uma instância do MinMaxScaler\n",
    "        scaler = MinMaxScaler(feature_range=(0, 1))        \n",
    "        # ajustando e transformando com o scaler os dados dos atributos previsores\n",
    "        X_norm = scaler.fit_transform(X)\n",
    "        return scaler, X_norm\n",
    "    \n",
    "    # desnormalizando os atributos previsores (atributos de entrada)\n",
    "    def desnormalizar(self, scaler, X_norm):\n",
    "        X = scaler.inverse_transform(X_norm)\n",
    "        colunas = len(X_norm[-1, :])\n",
    "        X = X.reshape(-1, colunas)\n",
    "        return X        \n",
    "        \n",
    "    def get_train_test_split(self, test_size=0.3, random_state=42):\n",
    "        X, y = self.getXy()\n",
    "        _, X_norm = self.normalizar(X)\n",
    "        X_train, X_test, y_train, y_test = train_test_split(X_norm, y, test_size=test_size, random_state=random_state)\n",
    "        return X_train, X_test, y_train, y_test"
   ]
  },
  {
   "cell_type": "code",
   "execution_count": 2,
   "id": "2cdd675c",
   "metadata": {},
   "outputs": [],
   "source": [
    "# Criando a classe abstrata para ser herdado pelos modelos k-Nearest Neighbor e Random Forest\n",
    "\n",
    "from abc import ABC, abstractmethod\n",
    "import matplotlib.pyplot as plt\n",
    "from sklearn.feature_selection import RFE\n",
    "from sklearn.decomposition import PCA\n",
    "from sklearn.model_selection import KFold\n",
    "from sklearn.metrics import classification_report\n",
    "from yellowbrick.classifier import ClassificationReport\n",
    "\n",
    "import numpy as np\n",
    "\n",
    "class Modelo(ABC):    \n",
    "   \n",
    "    @abstractmethod\n",
    "    def criar(self, parametro):\n",
    "        pass\n",
    "    \n",
    "    # treinando o classificador com os dados de treinamento\n",
    "    def treinar(self, modelo, X_train, y_train):\n",
    "        modelo_fit = modelo.fit(X_train, y_train)\n",
    "        return modelo_fit\n",
    "    \n",
    "    # aplicando o método de seleção de recursos com RFE, considerando n recursos\n",
    "    def aplicar_rfe(self, modelo, X_train, y_train, n_recursos=3):\n",
    "        rfe = RFE(estimator=modelo, n_features_to_select=n_recursos, step=1)\n",
    "        X_rfe = rfe.fit_transform(X_train, y_train)\n",
    "        return rfe, X_rfe\n",
    "    \n",
    "    # identificando os recursos selecionados com o método RFE\n",
    "    def identificar_recursos_rfe(self, rfe):\n",
    "        return np.where(rfe.support_)[0]\n",
    "    \n",
    "    def exibir_informacoes_rfe(self, rfe):\n",
    "        recursos = np.where(rfe.support_)[0]\n",
    "        print(f\"Ranking dos atributos: {rfe.ranking_}\")\n",
    "        print(f\"\\nSuporte dos atributos selecionados: {rfe.support_}\")\n",
    "        print(f\"\\nAtributos selecionados: {self.identificar_recursos_rfe(rfe)}\")        \n",
    "\n",
    "    # aplicando o método de extração de recursos com PCA, considerando n componentes\n",
    "    def aplicar_pca(self, X_train, X_test, n_components=3):\n",
    "        pca = PCA(n_components=n_components)\n",
    "        X_train_pca = pca.fit_transform(X_train)\n",
    "        X_test_pca = pca.transform(X_test)\n",
    "        return pca, X_train_pca, X_test_pca\n",
    "    \n",
    "    # exibindo as informações relevantes do modelo PCA\n",
    "    def exibir_informacoes_pca(self, pca):\n",
    "        print(f\"Variância explicada por cada componente principal: {pca.explained_variance_ratio_}\")\n",
    "        print(f\"\\nVariância explicada acumulada: {np.cumsum(pca.explained_variance_ratio_)}\")\n",
    "    \n",
    "    # realizando as previsões com os dados de teste\n",
    "    def prever(self, modelo_treinado, X_test):\n",
    "        return modelo_treinado.predict(X_test)\n",
    "    \n",
    "    # avaliando o desempenho do modelo\n",
    "    def avaliar(self, y_test, y_pred, classes):\n",
    "        return classification_report(y_test, y_pred, target_names=classes)\n",
    "    \n",
    "    # imprimindo o resultado da avaliação do desempenho do modelo\n",
    "    def imprimir_avaliacao(self, avaliacao):\n",
    "        print(avaliacao)\n",
    "        \n",
    "    # plotando o resultado da avaliação do desempenho do modelo com a classe ClassificationReport da biblioteca yellowbrick\n",
    "    def plotar_avaliacao(self, modelo, X_train, X_test, y_train, y_test):        \n",
    "        cr = ClassificationReport(modelo, classes=[0, 1], support=True)\n",
    "        cr.fit(X_train, y_train)\n",
    "        cr.score(X_test, y_test)\n",
    "        cr.poof()\n",
    "        \n",
    "    # plotando o resultado da acurácia do modelo de acordo com o número de árvores na floresta.\n",
    "    def plotar_numero_arvores(self, grid_search):\n",
    "        resultados = grid_search.cv_results_\n",
    "        scores = resultados['mean_test_score']\n",
    "        num_arvores = resultados['param_n_estimators'].data\n",
    "        plt.figure(figsize=(10, 6))\n",
    "        plt.plot(num_arvores, scores, marker='o', linestyle='-')\n",
    "        plt.title('Acurácia em função do número de árvores na Floresta Aleatória')\n",
    "        plt.xlabel('Número de Árvores na Floresta')\n",
    "        plt.ylabel('Acurácia Média (Validação Cruzada)')\n",
    "        plt.grid(True)\n",
    "        plt.show()\n",
    "        \n",
    "    # buscando o numero de arvores com a validação cruzada\n",
    "    def buscar_melhor_numero_arvores(self, X_train, y_train, cv=10):\n",
    "        melhor_score = 0\n",
    "        melhor_numero_arvores = None\n",
    "        for n_arvore in range(10, 101, 10):\n",
    "            model = self.create_model(n_arvore)\n",
    "            kfold = KFold(n_splits=cv, shuffle=True, random_state=0)\n",
    "            scores = cross_val_score(model, X_train, y_train, cv=kfold, scoring='accuracy')\n",
    "            mean_score = scores.mean()\n",
    "            if mean_score > melhor_score:\n",
    "                melhor_score = mean_score\n",
    "                melhor_num_trees = num_trees\n",
    "\n",
    "        return best_num_trees"
   ]
  },
  {
   "cell_type": "code",
   "execution_count": 3,
   "id": "f65d1129",
   "metadata": {},
   "outputs": [],
   "source": [
    "# Criando a classe para o modelo Random Forest\n",
    "\n",
    "from sklearn.ensemble import RandomForestClassifier\n",
    "\n",
    "class RandomForest(Modelo):\n",
    "    \n",
    "    #  criando o modelo do classificador Ranfom Forest com 10 árvores como default\n",
    "    def criar(self, parametro):\n",
    "        return RandomForestClassifier(n_estimators=parametro, random_state=0) \n"
   ]
  },
  {
   "cell_type": "markdown",
   "id": "55393e1d",
   "metadata": {},
   "source": [
    "**Questão 1)** Considere o banco de dados `water_potability.csv`."
   ]
  },
  {
   "cell_type": "code",
   "execution_count": 4,
   "id": "aa20e790",
   "metadata": {},
   "outputs": [],
   "source": [
    "data = DataSet(\"water_potability.csv\")"
   ]
  },
  {
   "cell_type": "code",
   "execution_count": 5,
   "id": "4cfa171f",
   "metadata": {},
   "outputs": [],
   "source": [
    "# obtendo o dataframe\n",
    "df = data.dataframe"
   ]
  },
  {
   "cell_type": "code",
   "execution_count": 6,
   "id": "634cad97",
   "metadata": {},
   "outputs": [
    {
     "data": {
      "text/html": [
       "<div>\n",
       "<style scoped>\n",
       "    .dataframe tbody tr th:only-of-type {\n",
       "        vertical-align: middle;\n",
       "    }\n",
       "\n",
       "    .dataframe tbody tr th {\n",
       "        vertical-align: top;\n",
       "    }\n",
       "\n",
       "    .dataframe thead th {\n",
       "        text-align: right;\n",
       "    }\n",
       "</style>\n",
       "<table border=\"1\" class=\"dataframe\">\n",
       "  <thead>\n",
       "    <tr style=\"text-align: right;\">\n",
       "      <th></th>\n",
       "      <th>ph</th>\n",
       "      <th>Hardness</th>\n",
       "      <th>Solids</th>\n",
       "      <th>Chloramines</th>\n",
       "      <th>Sulfate</th>\n",
       "      <th>Conductivity</th>\n",
       "      <th>Organic_carbon</th>\n",
       "      <th>Trihalomethanes</th>\n",
       "      <th>Turbidity</th>\n",
       "      <th>Potability</th>\n",
       "    </tr>\n",
       "  </thead>\n",
       "  <tbody>\n",
       "    <tr>\n",
       "      <th>0</th>\n",
       "      <td>NaN</td>\n",
       "      <td>204.890455</td>\n",
       "      <td>20791.318981</td>\n",
       "      <td>7.300212</td>\n",
       "      <td>368.516441</td>\n",
       "      <td>564.308654</td>\n",
       "      <td>10.379783</td>\n",
       "      <td>86.990970</td>\n",
       "      <td>2.963135</td>\n",
       "      <td>0</td>\n",
       "    </tr>\n",
       "    <tr>\n",
       "      <th>1</th>\n",
       "      <td>3.716080</td>\n",
       "      <td>129.422921</td>\n",
       "      <td>18630.057858</td>\n",
       "      <td>6.635246</td>\n",
       "      <td>NaN</td>\n",
       "      <td>592.885359</td>\n",
       "      <td>15.180013</td>\n",
       "      <td>56.329076</td>\n",
       "      <td>4.500656</td>\n",
       "      <td>0</td>\n",
       "    </tr>\n",
       "    <tr>\n",
       "      <th>2</th>\n",
       "      <td>8.099124</td>\n",
       "      <td>224.236259</td>\n",
       "      <td>19909.541732</td>\n",
       "      <td>9.275884</td>\n",
       "      <td>NaN</td>\n",
       "      <td>418.606213</td>\n",
       "      <td>16.868637</td>\n",
       "      <td>66.420093</td>\n",
       "      <td>3.055934</td>\n",
       "      <td>0</td>\n",
       "    </tr>\n",
       "    <tr>\n",
       "      <th>3</th>\n",
       "      <td>8.316766</td>\n",
       "      <td>214.373394</td>\n",
       "      <td>22018.417441</td>\n",
       "      <td>8.059332</td>\n",
       "      <td>356.886136</td>\n",
       "      <td>363.266516</td>\n",
       "      <td>18.436524</td>\n",
       "      <td>100.341674</td>\n",
       "      <td>4.628771</td>\n",
       "      <td>0</td>\n",
       "    </tr>\n",
       "    <tr>\n",
       "      <th>4</th>\n",
       "      <td>9.092223</td>\n",
       "      <td>181.101509</td>\n",
       "      <td>17978.986339</td>\n",
       "      <td>6.546600</td>\n",
       "      <td>310.135738</td>\n",
       "      <td>398.410813</td>\n",
       "      <td>11.558279</td>\n",
       "      <td>31.997993</td>\n",
       "      <td>4.075075</td>\n",
       "      <td>0</td>\n",
       "    </tr>\n",
       "  </tbody>\n",
       "</table>\n",
       "</div>"
      ],
      "text/plain": [
       "         ph    Hardness        Solids  Chloramines     Sulfate  Conductivity  \\\n",
       "0       NaN  204.890455  20791.318981     7.300212  368.516441    564.308654   \n",
       "1  3.716080  129.422921  18630.057858     6.635246         NaN    592.885359   \n",
       "2  8.099124  224.236259  19909.541732     9.275884         NaN    418.606213   \n",
       "3  8.316766  214.373394  22018.417441     8.059332  356.886136    363.266516   \n",
       "4  9.092223  181.101509  17978.986339     6.546600  310.135738    398.410813   \n",
       "\n",
       "   Organic_carbon  Trihalomethanes  Turbidity  Potability  \n",
       "0       10.379783        86.990970   2.963135           0  \n",
       "1       15.180013        56.329076   4.500656           0  \n",
       "2       16.868637        66.420093   3.055934           0  \n",
       "3       18.436524       100.341674   4.628771           0  \n",
       "4       11.558279        31.997993   4.075075           0  "
      ]
     },
     "execution_count": 6,
     "metadata": {},
     "output_type": "execute_result"
    }
   ],
   "source": [
    "# visualizando as 5 primeiras instâncias dos atributos da base de dados\n",
    "df.head()"
   ]
  },
  {
   "cell_type": "code",
   "execution_count": 7,
   "id": "b5e25b4a",
   "metadata": {},
   "outputs": [
    {
     "data": {
      "text/plain": [
       "(3276, 10)"
      ]
     },
     "execution_count": 7,
     "metadata": {},
     "output_type": "execute_result"
    }
   ],
   "source": [
    "# verificando a quantidade de instâncias e atributos da base de dados\n",
    "df.shape"
   ]
  },
  {
   "cell_type": "markdown",
   "id": "25bd46c9",
   "metadata": {},
   "source": [
    "**a)** Verifique a existência de valores inválidos nos dados de entrada do *dataset* e, caso existam, observe os seguintes pontos:\n",
    "\n",
    "    - Se a porcentagem de dados inválidos for maior do que 20%, exclua esta(s) coluna(s);\n",
    "    - Se a porcentagem de dados inválidos for inferior a 20%, substitua os valores inválidos pelo valor imediatamente anterior, o método `bfill`."
   ]
  },
  {
   "cell_type": "code",
   "execution_count": 8,
   "id": "40d2e472",
   "metadata": {},
   "outputs": [],
   "source": [
    "# verificando a existência de valores inválidos na base de dados\n",
    "percentual_invalidos = data.verificar_valores_invalidos()"
   ]
  },
  {
   "cell_type": "code",
   "execution_count": 9,
   "id": "b83a4e3f",
   "metadata": {},
   "outputs": [
    {
     "data": {
      "text/plain": [
       "ph                 14.987790\n",
       "Hardness            0.000000\n",
       "Solids              0.000000\n",
       "Chloramines         0.000000\n",
       "Sulfate            23.840049\n",
       "Conductivity        0.000000\n",
       "Organic_carbon      0.000000\n",
       "Trihalomethanes     4.945055\n",
       "Turbidity           0.000000\n",
       "Potability          0.000000\n",
       "dtype: float64"
      ]
     },
     "execution_count": 9,
     "metadata": {},
     "output_type": "execute_result"
    }
   ],
   "source": [
    "# exibindo o percentual de valores inválidos na base de dados\n",
    "percentual_invalidos"
   ]
  },
  {
   "cell_type": "code",
   "execution_count": 10,
   "id": "7adf274c",
   "metadata": {},
   "outputs": [],
   "source": [
    "# transformando a base de dados após a verificação da existência de valores inválidos\n",
    "data.transformar()"
   ]
  },
  {
   "cell_type": "code",
   "execution_count": 11,
   "id": "99a258bc",
   "metadata": {},
   "outputs": [],
   "source": [
    "# obtendo o novo dataframe\n",
    "df = data.dataframe"
   ]
  },
  {
   "cell_type": "code",
   "execution_count": 12,
   "id": "f361a02d",
   "metadata": {},
   "outputs": [
    {
     "data": {
      "text/html": [
       "<div>\n",
       "<style scoped>\n",
       "    .dataframe tbody tr th:only-of-type {\n",
       "        vertical-align: middle;\n",
       "    }\n",
       "\n",
       "    .dataframe tbody tr th {\n",
       "        vertical-align: top;\n",
       "    }\n",
       "\n",
       "    .dataframe thead th {\n",
       "        text-align: right;\n",
       "    }\n",
       "</style>\n",
       "<table border=\"1\" class=\"dataframe\">\n",
       "  <thead>\n",
       "    <tr style=\"text-align: right;\">\n",
       "      <th></th>\n",
       "      <th>ph</th>\n",
       "      <th>Hardness</th>\n",
       "      <th>Solids</th>\n",
       "      <th>Chloramines</th>\n",
       "      <th>Conductivity</th>\n",
       "      <th>Organic_carbon</th>\n",
       "      <th>Trihalomethanes</th>\n",
       "      <th>Turbidity</th>\n",
       "      <th>Potability</th>\n",
       "    </tr>\n",
       "  </thead>\n",
       "  <tbody>\n",
       "    <tr>\n",
       "      <th>0</th>\n",
       "      <td>3.716080</td>\n",
       "      <td>204.890455</td>\n",
       "      <td>20791.318981</td>\n",
       "      <td>7.300212</td>\n",
       "      <td>564.308654</td>\n",
       "      <td>10.379783</td>\n",
       "      <td>86.990970</td>\n",
       "      <td>2.963135</td>\n",
       "      <td>0</td>\n",
       "    </tr>\n",
       "    <tr>\n",
       "      <th>1</th>\n",
       "      <td>3.716080</td>\n",
       "      <td>129.422921</td>\n",
       "      <td>18630.057858</td>\n",
       "      <td>6.635246</td>\n",
       "      <td>592.885359</td>\n",
       "      <td>15.180013</td>\n",
       "      <td>56.329076</td>\n",
       "      <td>4.500656</td>\n",
       "      <td>0</td>\n",
       "    </tr>\n",
       "    <tr>\n",
       "      <th>2</th>\n",
       "      <td>8.099124</td>\n",
       "      <td>224.236259</td>\n",
       "      <td>19909.541732</td>\n",
       "      <td>9.275884</td>\n",
       "      <td>418.606213</td>\n",
       "      <td>16.868637</td>\n",
       "      <td>66.420093</td>\n",
       "      <td>3.055934</td>\n",
       "      <td>0</td>\n",
       "    </tr>\n",
       "    <tr>\n",
       "      <th>3</th>\n",
       "      <td>8.316766</td>\n",
       "      <td>214.373394</td>\n",
       "      <td>22018.417441</td>\n",
       "      <td>8.059332</td>\n",
       "      <td>363.266516</td>\n",
       "      <td>18.436524</td>\n",
       "      <td>100.341674</td>\n",
       "      <td>4.628771</td>\n",
       "      <td>0</td>\n",
       "    </tr>\n",
       "    <tr>\n",
       "      <th>4</th>\n",
       "      <td>9.092223</td>\n",
       "      <td>181.101509</td>\n",
       "      <td>17978.986339</td>\n",
       "      <td>6.546600</td>\n",
       "      <td>398.410813</td>\n",
       "      <td>11.558279</td>\n",
       "      <td>31.997993</td>\n",
       "      <td>4.075075</td>\n",
       "      <td>0</td>\n",
       "    </tr>\n",
       "  </tbody>\n",
       "</table>\n",
       "</div>"
      ],
      "text/plain": [
       "         ph    Hardness        Solids  Chloramines  Conductivity  \\\n",
       "0  3.716080  204.890455  20791.318981     7.300212    564.308654   \n",
       "1  3.716080  129.422921  18630.057858     6.635246    592.885359   \n",
       "2  8.099124  224.236259  19909.541732     9.275884    418.606213   \n",
       "3  8.316766  214.373394  22018.417441     8.059332    363.266516   \n",
       "4  9.092223  181.101509  17978.986339     6.546600    398.410813   \n",
       "\n",
       "   Organic_carbon  Trihalomethanes  Turbidity  Potability  \n",
       "0       10.379783        86.990970   2.963135           0  \n",
       "1       15.180013        56.329076   4.500656           0  \n",
       "2       16.868637        66.420093   3.055934           0  \n",
       "3       18.436524       100.341674   4.628771           0  \n",
       "4       11.558279        31.997993   4.075075           0  "
      ]
     },
     "execution_count": 12,
     "metadata": {},
     "output_type": "execute_result"
    }
   ],
   "source": [
    "# visualizando as 5 primeiras instâncias dos atributos da base de dados\n",
    "df.head()"
   ]
  },
  {
   "cell_type": "code",
   "execution_count": 13,
   "id": "7450380d",
   "metadata": {},
   "outputs": [
    {
     "data": {
      "text/plain": [
       "(3276, 9)"
      ]
     },
     "execution_count": 13,
     "metadata": {},
     "output_type": "execute_result"
    }
   ],
   "source": [
    "# verificando a quantidade de instâncias e atributos da base de dados\n",
    "df.shape"
   ]
  },
  {
   "cell_type": "code",
   "execution_count": 14,
   "id": "05c1c480",
   "metadata": {},
   "outputs": [],
   "source": [
    "# verificando a existência de valores inválidos na base de dados\n",
    "percentual_invalidos = data.verificar_valores_invalidos()"
   ]
  },
  {
   "cell_type": "code",
   "execution_count": 15,
   "id": "c142a909",
   "metadata": {},
   "outputs": [
    {
     "data": {
      "text/plain": [
       "ph                 0.0\n",
       "Hardness           0.0\n",
       "Solids             0.0\n",
       "Chloramines        0.0\n",
       "Conductivity       0.0\n",
       "Organic_carbon     0.0\n",
       "Trihalomethanes    0.0\n",
       "Turbidity          0.0\n",
       "Potability         0.0\n",
       "dtype: float64"
      ]
     },
     "execution_count": 15,
     "metadata": {},
     "output_type": "execute_result"
    }
   ],
   "source": [
    "# exibindo o percentual de valores inválidos na base de dados\n",
    "percentual_invalidos"
   ]
  },
  {
   "cell_type": "code",
   "execution_count": 16,
   "id": "0b0e187b",
   "metadata": {},
   "outputs": [
    {
     "data": {
      "text/plain": [
       "0    1998\n",
       "1    1278\n",
       "Name: Potability, dtype: int64"
      ]
     },
     "execution_count": 16,
     "metadata": {},
     "output_type": "execute_result"
    }
   ],
   "source": [
    "classes = df['Potability'].value_counts()\n",
    "classes"
   ]
  },
  {
   "cell_type": "markdown",
   "id": "fd5b20d2",
   "metadata": {},
   "source": [
    "**b)** Normalize os dados de entrada através do método `MinMaxScaler`."
   ]
  },
  {
   "cell_type": "code",
   "execution_count": 17,
   "id": "84770089",
   "metadata": {},
   "outputs": [],
   "source": [
    "X, y = data.getXy()"
   ]
  },
  {
   "cell_type": "code",
   "execution_count": 18,
   "id": "d11803f5",
   "metadata": {},
   "outputs": [
    {
     "name": "stdout",
     "output_type": "stream",
     "text": [
      "(3276, 8) (3276,)\n"
     ]
    }
   ],
   "source": [
    "print(X.shape, y.shape)"
   ]
  },
  {
   "cell_type": "code",
   "execution_count": 19,
   "id": "aef47f00",
   "metadata": {},
   "outputs": [
    {
     "name": "stdout",
     "output_type": "stream",
     "text": [
      "0       0\n",
      "1       0\n",
      "2       0\n",
      "3       0\n",
      "4       0\n",
      "       ..\n",
      "3271    1\n",
      "3272    1\n",
      "3273    1\n",
      "3274    1\n",
      "3275    1\n",
      "Name: Potability, Length: 3276, dtype: int64\n"
     ]
    }
   ],
   "source": [
    "print(y)"
   ]
  },
  {
   "cell_type": "code",
   "execution_count": 20,
   "id": "a9fab6c0",
   "metadata": {},
   "outputs": [
    {
     "name": "stdout",
     "output_type": "stream",
     "text": [
      "(3276, 8) (3276,)\n"
     ]
    }
   ],
   "source": [
    "print(X.shape, y.shape)"
   ]
  },
  {
   "cell_type": "code",
   "execution_count": 21,
   "id": "809a6363",
   "metadata": {},
   "outputs": [
    {
     "name": "stdout",
     "output_type": "stream",
     "text": [
      "         ph    Hardness        Solids  Chloramines  Conductivity  \\\n",
      "0  3.716080  204.890455  20791.318981     7.300212    564.308654   \n",
      "1  3.716080  129.422921  18630.057858     6.635246    592.885359   \n",
      "2  8.099124  224.236259  19909.541732     9.275884    418.606213   \n",
      "3  8.316766  214.373394  22018.417441     8.059332    363.266516   \n",
      "4  9.092223  181.101509  17978.986339     6.546600    398.410813   \n",
      "\n",
      "   Organic_carbon  Trihalomethanes  Turbidity  \n",
      "0       10.379783        86.990970   2.963135  \n",
      "1       15.180013        56.329076   4.500656  \n",
      "2       16.868637        66.420093   3.055934  \n",
      "3       18.436524       100.341674   4.628771  \n",
      "4       11.558279        31.997993   4.075075  \n"
     ]
    }
   ],
   "source": [
    "print(X.iloc[0:5, :])"
   ]
  },
  {
   "cell_type": "code",
   "execution_count": 22,
   "id": "55172bf8",
   "metadata": {},
   "outputs": [],
   "source": [
    "# normalizando os dados de entrada para o modelo de classificação\n",
    "scaler, X_norm = data.normalizar(X)"
   ]
  },
  {
   "cell_type": "code",
   "execution_count": 23,
   "id": "b67e8e33",
   "metadata": {},
   "outputs": [
    {
     "name": "stdout",
     "output_type": "stream",
     "text": [
      "[[0.26543429 0.57113901 0.33609646 0.54389134 0.66943948 0.31340165\n",
      "  0.69975313 0.28609102]\n",
      " [0.26543429 0.29740043 0.30061142 0.49183921 0.71941108 0.49731851\n",
      "  0.4509993  0.57679264]\n",
      " [0.57850887 0.64131081 0.32161885 0.69854275 0.41465206 0.56201674\n",
      "  0.5328657  0.30363656]\n",
      " [0.59405471 0.60553587 0.35624379 0.60331369 0.31788047 0.62208906\n",
      "  0.80806473 0.60101542]\n",
      " [0.64944453 0.48485088 0.28992169 0.48490019 0.37933671 0.35855477\n",
      "  0.25360608 0.49632736]]\n"
     ]
    }
   ],
   "source": [
    "print(X_norm[0:5, :])"
   ]
  },
  {
   "cell_type": "code",
   "execution_count": 24,
   "id": "505f2c0e",
   "metadata": {},
   "outputs": [],
   "source": [
    "# desnormalizando os dados de entrada para verificação\n",
    "X = data.desnormalizar(scaler, X_norm)"
   ]
  },
  {
   "cell_type": "code",
   "execution_count": 25,
   "id": "07767d73",
   "metadata": {},
   "outputs": [
    {
     "name": "stdout",
     "output_type": "stream",
     "text": [
      "(3276, 8) (3276,)\n"
     ]
    }
   ],
   "source": [
    "print(X.shape, y.shape)"
   ]
  },
  {
   "cell_type": "markdown",
   "id": "17fe1a32",
   "metadata": {},
   "source": [
    "**c)** Realize a tarefa de classificação utilizando ***Random Forest***, considerando 10 árvores na floresta."
   ]
  },
  {
   "cell_type": "code",
   "execution_count": 26,
   "id": "9fc2a03b",
   "metadata": {},
   "outputs": [],
   "source": [
    "# dividindo a base de dados em dados de treinamento e teste\n",
    "X_train, X_test, y_train, y_test = data.get_train_test_split()"
   ]
  },
  {
   "cell_type": "code",
   "execution_count": 27,
   "id": "787ce5b0",
   "metadata": {},
   "outputs": [
    {
     "name": "stdout",
     "output_type": "stream",
     "text": [
      "(2293, 8) (983, 8) (2293,) (983,)\n"
     ]
    }
   ],
   "source": [
    "# verificando as dimensões dos arrays\n",
    "print(X_train.shape, X_test.shape, y_train.shape, y_test.shape)"
   ]
  },
  {
   "cell_type": "code",
   "execution_count": 28,
   "id": "d719a4a6",
   "metadata": {},
   "outputs": [],
   "source": [
    "# criando uma instância da classe RandomForest\n",
    "rf = RandomForest()"
   ]
  },
  {
   "cell_type": "code",
   "execution_count": 29,
   "id": "32bd9ae0",
   "metadata": {},
   "outputs": [],
   "source": [
    "# criando o modelo Random Forest\n",
    "modelo_rf = rf.criar(10)"
   ]
  },
  {
   "cell_type": "code",
   "execution_count": 30,
   "id": "e0fb46c5",
   "metadata": {},
   "outputs": [],
   "source": [
    "# treinando o modelo com os dados de treinamento\n",
    "modelo_rf_treinado = rf.treinar(modelo_rf, X_train, y_train)"
   ]
  },
  {
   "cell_type": "code",
   "execution_count": 31,
   "id": "f18852f3",
   "metadata": {},
   "outputs": [],
   "source": [
    "# utilizando o modelo treinado para prever o atributo alvo a partir dos dados de teste\n",
    "y_pred = rf.prever(modelo_rf_treinado, X_test)"
   ]
  },
  {
   "cell_type": "markdown",
   "id": "3bbcbe2b",
   "metadata": {},
   "source": [
    "**d)** Verifique a eficiência do método empregado utilizando a função `classification_report`."
   ]
  },
  {
   "cell_type": "code",
   "execution_count": 32,
   "id": "28bb1bd5",
   "metadata": {},
   "outputs": [],
   "source": [
    "# avaliando a performance do modelo classificador a partir dos dados de teste e o resultado das previsões\n",
    "avaliacao_classificador = rf.avaliar(y_test, y_pred, ['0', '1'])"
   ]
  },
  {
   "cell_type": "code",
   "execution_count": 33,
   "id": "489099a5",
   "metadata": {},
   "outputs": [
    {
     "name": "stdout",
     "output_type": "stream",
     "text": [
      "              precision    recall  f1-score   support\n",
      "\n",
      "           0       0.66      0.81      0.72       617\n",
      "           1       0.47      0.29      0.36       366\n",
      "\n",
      "    accuracy                           0.61       983\n",
      "   macro avg       0.56      0.55      0.54       983\n",
      "weighted avg       0.59      0.61      0.59       983\n",
      "\n"
     ]
    }
   ],
   "source": [
    "# exibindo avaliação do classificador\n",
    "rf.imprimir_avaliacao(avaliacao_classificador)"
   ]
  },
  {
   "cell_type": "code",
   "execution_count": 34,
   "id": "f23f9a6f",
   "metadata": {},
   "outputs": [
    {
     "data": {
      "image/png": "[encoded data removed]",
      "text/plain": [
       "<Figure size 800x550 with 2 Axes>"
      ]
     },
     "metadata": {},
     "output_type": "display_data"
    }
   ],
   "source": [
    "# plotando a avaliação do classificador\n",
    "rf.plotar_avaliacao(modelo_rf, X_train, X_test, y_train, y_test)"
   ]
  },
  {
   "cell_type": "markdown",
   "id": "e874efbf",
   "metadata": {},
   "source": [
    "**Questão 2)** Considerando os dados normalizados e o modelo do classificador criado no exercício anterior, utilize o método de **seleção de features** **RFE** (*Recursive Feature Elimination*) para selecionar **3** *features* que farão parte da tarefa de classificação. Identifique quais colunas foram selecionadas. Analise os resultados por meio da função `classification_report`."
   ]
  },
  {
   "cell_type": "code",
   "execution_count": 35,
   "id": "5d031075",
   "metadata": {},
   "outputs": [],
   "source": [
    "# selecionando os atributos com o método RFE\n",
    "rfe, X_train_rfe = rf.aplicar_rfe(modelo_rf, X_train, y_train)"
   ]
  },
  {
   "cell_type": "code",
   "execution_count": 36,
   "id": "553d5385",
   "metadata": {},
   "outputs": [
    {
     "data": {
      "text/plain": [
       "(2293, 3)"
      ]
     },
     "execution_count": 36,
     "metadata": {},
     "output_type": "execute_result"
    }
   ],
   "source": [
    "X_train_rfe.shape"
   ]
  },
  {
   "cell_type": "code",
   "execution_count": 37,
   "id": "57d9514e",
   "metadata": {},
   "outputs": [
    {
     "name": "stdout",
     "output_type": "stream",
     "text": [
      "Ranking dos atributos: [1 1 1 3 6 2 5 4]\n",
      "\n",
      "Suporte dos atributos selecionados: [ True  True  True False False False False False]\n",
      "\n",
      "Atributos selecionados: [0 1 2]\n"
     ]
    }
   ],
   "source": [
    "# exibindo os atributos selecionados com o método RFE\n",
    "rf.exibir_informacoes_rfe(rfe)"
   ]
  },
  {
   "cell_type": "code",
   "execution_count": 38,
   "id": "083322df",
   "metadata": {},
   "outputs": [],
   "source": [
    "modelo_rf_treinado_rfe = rf.treinar(modelo_rf, X_train_rfe, y_train)"
   ]
  },
  {
   "cell_type": "code",
   "execution_count": 39,
   "id": "3ae301c8",
   "metadata": {},
   "outputs": [
    {
     "data": {
      "text/plain": [
       "(983, 3)"
      ]
     },
     "execution_count": 39,
     "metadata": {},
     "output_type": "execute_result"
    }
   ],
   "source": [
    "# identificando os atributos selecionados com o método RFE\n",
    "atributos_selecionados = rf.identificar_recursos_rfe(rfe)\n",
    "\n",
    "X_test_rfe = X_test[:, atributos_selecionados]\n",
    "\n",
    "X_test_rfe.shape"
   ]
  },
  {
   "cell_type": "code",
   "execution_count": 40,
   "id": "15c6ac76",
   "metadata": {},
   "outputs": [],
   "source": [
    "# realizando previsões com os dados de teste após aplicar o RFE\n",
    "y_pred_rfe = rf.prever(modelo_rf_treinado_rfe, X_test_rfe)"
   ]
  },
  {
   "cell_type": "code",
   "execution_count": 41,
   "id": "e8224f0a",
   "metadata": {},
   "outputs": [
    {
     "name": "stdout",
     "output_type": "stream",
     "text": [
      "              precision    recall  f1-score   support\n",
      "\n",
      "           0       0.66      0.82      0.73       617\n",
      "           1       0.48      0.28      0.35       366\n",
      "\n",
      "    accuracy                           0.62       983\n",
      "   macro avg       0.57      0.55      0.54       983\n",
      "weighted avg       0.59      0.62      0.59       983\n",
      "\n"
     ]
    },
    {
     "data": {
      "image/png": "[encoded data removed]",
      "text/plain": [
       "<Figure size 800x550 with 2 Axes>"
      ]
     },
     "metadata": {},
     "output_type": "display_data"
    }
   ],
   "source": [
    "# avaliando o desempenho do modelo após aplicar o RFE\n",
    "avaliacao_classificador_rfe = rf.avaliar(y_test, y_pred_rfe, ['0', '1'])\n",
    "rf.imprimir_avaliacao(avaliacao_classificador_rfe)\n",
    "rf.plotar_avaliacao(modelo_rf, X_train_rfe, X_test_rfe, y_train, y_test)"
   ]
  },
  {
   "cell_type": "markdown",
   "id": "61277e1f",
   "metadata": {},
   "source": [
    "**Questão 3)** Considerando os dados normalizados e o modelo do classificador criado na **Questão 1)**, utilize a **Análise de Componentes Principais** para extrair as *features* que farão parte da tarefa de classificação. Considere utilizar **3** componentes principais e analise os resultados por meio da função `classification_report`."
   ]
  },
  {
   "cell_type": "code",
   "execution_count": 42,
   "id": "0a864a97",
   "metadata": {},
   "outputs": [
    {
     "name": "stdout",
     "output_type": "stream",
     "text": [
      "Variância explicada por cada componente principal: [0.16312044 0.14989963 0.14660769]\n",
      "\n",
      "Variância explicada acumulada: [0.16312044 0.31302007 0.45962776]\n"
     ]
    }
   ],
   "source": [
    "# aplicando PCA com 3 componentes principais\n",
    "pca, X_train_pca, X_test_pca = rf.aplicar_pca(X_train, X_test)\n",
    "\n",
    "#  visualizando as informações relevantes do modelo PCA\n",
    "rf.exibir_informacoes_pca(pca)"
   ]
  },
  {
   "cell_type": "code",
   "execution_count": 43,
   "id": "320e532a",
   "metadata": {},
   "outputs": [],
   "source": [
    "# treinando o modelo Random Forest com os dados de treinamento após o PCA\n",
    "modelo_rf_treinado_pca = rf.treinar(modelo_rf, X_train_pca, y_train)"
   ]
  },
  {
   "cell_type": "code",
   "execution_count": 44,
   "id": "cca14bb8",
   "metadata": {},
   "outputs": [],
   "source": [
    "# realizando previsões com os dados de teste após o PCA\n",
    "y_pred_pca = rf.prever(modelo_rf_treinado_pca, X_test_pca)"
   ]
  },
  {
   "cell_type": "code",
   "execution_count": 45,
   "id": "2ee7a402",
   "metadata": {},
   "outputs": [
    {
     "name": "stdout",
     "output_type": "stream",
     "text": [
      "              precision    recall  f1-score   support\n",
      "\n",
      "           0       0.63      0.75      0.69       617\n",
      "           1       0.38      0.26      0.31       366\n",
      "\n",
      "    accuracy                           0.57       983\n",
      "   macro avg       0.51      0.51      0.50       983\n",
      "weighted avg       0.54      0.57      0.55       983\n",
      "\n"
     ]
    },
    {
     "data": {
      "image/png": "[encoded data removed]",
      "text/plain": [
       "<Figure size 800x550 with 2 Axes>"
      ]
     },
     "metadata": {},
     "output_type": "display_data"
    }
   ],
   "source": [
    "# avaliando o desempenho do modelo após o PCA\n",
    "avaliacao_classificador_pca = rf.avaliar(y_test, y_pred_pca, ['0', '1'])\n",
    "rf.imprimir_avaliacao(avaliacao_classificador_pca)\n",
    "rf.plotar_avaliacao(modelo_rf, X_train_pca, X_test_pca, y_train, y_test)"
   ]
  },
  {
   "cell_type": "markdown",
   "id": "a1ae4b84",
   "metadata": {},
   "source": [
    "**Questão 4)** Considerando as componentes principais extraídas na **Questão 3)**, utilize o método de **Validação Cruzada** por ***k-fold*** para verificar o número de àrvores adequado para a floresta na solução do problema. Considere variar o número de árvores entre 10 e 100, com passo de 10. Considere também `k = 10`, no método *k-fold*. Plote o resultado da acurácia do modelo de acordo com o número de árvores na floresta e realize a classificação considerando o melhor resultado alcançado na etapa de validação."
   ]
  },
  {
   "cell_type": "code",
   "execution_count": 46,
   "id": "9064390e",
   "metadata": {},
   "outputs": [
    {
     "name": "stdout",
     "output_type": "stream",
     "text": [
      "Variância explicada por cada componente principal: [0.16312044 0.14989963 0.14660769]\n",
      "\n",
      "Variância explicada acumulada: [0.16312044 0.31302007 0.45962776]\n"
     ]
    }
   ],
   "source": [
    "# aplicando PCA com 3 componentes principais\n",
    "pca, X_train_pca, X_test_pca = rf.aplicar_pca(X_train, X_test)\n",
    "\n",
    "#  visualizando as informações relevantes do modelo PCA\n",
    "rf.exibir_informacoes_pca(pca)"
   ]
  },
  {
   "cell_type": "code",
   "execution_count": 47,
   "id": "7452334e",
   "metadata": {},
   "outputs": [
    {
     "ename": "TypeError",
     "evalue": "RandomForest.criar() missing 1 required positional argument: 'parametro'",
     "output_type": "error",
     "traceback": [
      "\u001b[1;31m---------------------------------------------------------------------------\u001b[0m",
      "\u001b[1;31mTypeError\u001b[0m                                 Traceback (most recent call last)",
      "Cell \u001b[1;32mIn[47], line 2\u001b[0m\n\u001b[0;32m      1\u001b[0m \u001b[38;5;66;03m# buescar o número de árvores adequado\u001b[39;00m\n\u001b[1;32m----> 2\u001b[0m melhor_numero_arvores \u001b[38;5;241m=\u001b[39m \u001b[43mrf\u001b[49m\u001b[38;5;241;43m.\u001b[39;49m\u001b[43mbuscar_numero_arvores\u001b[49m\u001b[43m(\u001b[49m\u001b[43mX_train_pca\u001b[49m\u001b[43m,\u001b[49m\u001b[43m \u001b[49m\u001b[43my_train\u001b[49m\u001b[43m)\u001b[49m\n",
      "Cell \u001b[1;32mIn[2], line 86\u001b[0m, in \u001b[0;36mModelo.buscar_numero_arvores\u001b[1;34m(self, X_train, y_train, num_trees_range, cv)\u001b[0m\n\u001b[0;32m     84\u001b[0m \u001b[38;5;28;01mdef\u001b[39;00m \u001b[38;5;21mbuscar_numero_arvores\u001b[39m(\u001b[38;5;28mself\u001b[39m, X_train, y_train, num_trees_range\u001b[38;5;241m=\u001b[39m\u001b[38;5;28mrange\u001b[39m(\u001b[38;5;241m10\u001b[39m, \u001b[38;5;241m101\u001b[39m, \u001b[38;5;241m10\u001b[39m), cv\u001b[38;5;241m=\u001b[39m\u001b[38;5;241m10\u001b[39m):\n\u001b[0;32m     85\u001b[0m     param_grid \u001b[38;5;241m=\u001b[39m {\u001b[38;5;124m'\u001b[39m\u001b[38;5;124mn_estimators\u001b[39m\u001b[38;5;124m'\u001b[39m: num_trees_range}\n\u001b[1;32m---> 86\u001b[0m     grid_search \u001b[38;5;241m=\u001b[39m GridSearchCV(\u001b[38;5;28;43mself\u001b[39;49m\u001b[38;5;241;43m.\u001b[39;49m\u001b[43mcriar\u001b[49m\u001b[43m(\u001b[49m\u001b[43m)\u001b[49m, param_grid, cv\u001b[38;5;241m=\u001b[39mcv, scoring\u001b[38;5;241m=\u001b[39m\u001b[38;5;124m'\u001b[39m\u001b[38;5;124maccuracy\u001b[39m\u001b[38;5;124m'\u001b[39m)\n\u001b[0;32m     87\u001b[0m     grid_search\u001b[38;5;241m.\u001b[39mfit(X_train, y_train)\n\u001b[0;32m     88\u001b[0m     \u001b[38;5;66;03m# Obtendo o número de árvores com melhor desempenho\u001b[39;00m\n",
      "\u001b[1;31mTypeError\u001b[0m: RandomForest.criar() missing 1 required positional argument: 'parametro'"
     ]
    }
   ],
   "source": [
    "# buescar o número de árvores adequado\n",
    "melhor_numero_arvores = rf.buscar_numero_arvores(X_train_pca, y_train)"
   ]
  },
  {
   "cell_type": "code",
   "execution_count": null,
   "id": "8c079ed1",
   "metadata": {},
   "outputs": [],
   "source": []
  },
  {
   "cell_type": "markdown",
   "id": "e3119b75",
   "metadata": {},
   "source": [
    "**Questão 5)** Explique os resultados obtidos nos exercícios anteriores."
   ]
  }
 ],
 "metadata": {
  "kernelspec": {
   "display_name": "Python 3 (ipykernel)",
   "language": "python",
   "name": "python3"
  },
  "language_info": {
   "codemirror_mode": {
    "name": "ipython",
    "version": 3
   },
   "file_extension": ".py",
   "mimetype": "text/x-python",
   "name": "python",
   "nbconvert_exporter": "python",
   "pygments_lexer": "ipython3",
   "version": "3.10.9"
  }
 },
 "nbformat": 4,
 "nbformat_minor": 5
}
