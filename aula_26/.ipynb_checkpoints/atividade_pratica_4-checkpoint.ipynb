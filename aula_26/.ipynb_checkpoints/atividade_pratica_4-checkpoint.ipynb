{
 "cells": [
  {
   "cell_type": "markdown",
   "metadata": {
    "id": "WuPBzAQ10EKN"
   },
   "source": [
    "# Aula 26 - Assícrona - Atividade Prática 4\n",
    "\n",
    "##  Implementação de modelos e verificação de eficiência da estratégia adotada com redes neurais e busca de parâmetros por grid search/random search\n",
    "\n",
    "### Grupo 15\n",
    "\n",
    "### Nome: Ubiratan da Silva Tavares - RA: 23031559"
   ]
  }
 ],
 "metadata": {
  "colab": {
   "authorship_tag": "ABX9TyMCmHPzxoyRVunOSY9PMKsx",
   "provenance": []
  },
  "kernelspec": {
   "display_name": "Python 3 (ipykernel)",
   "language": "python",
   "name": "python3"
  },
  "language_info": {
   "codemirror_mode": {
    "name": "ipython",
    "version": 3
   },
   "file_extension": ".py",
   "mimetype": "text/x-python",
   "name": "python",
   "nbconvert_exporter": "python",
   "pygments_lexer": "ipython3",
   "version": "3.10.9"
  }
 },
 "nbformat": 4,
 "nbformat_minor": 1
}
