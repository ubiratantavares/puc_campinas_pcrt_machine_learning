{
 "cells": [
  {
   "cell_type": "markdown",
   "metadata": {
    "id": "WuPBzAQ10EKN"
   },
   "source": [
    "# Aula 26 - Assícrona - Atividade Prática 4\n",
    "\n",
    "##  Implementação de modelos e verificação de eficiência da estratégia adotada com redes neurais e busca de parâmetros por grid search/random search\n",
    "\n",
    "### Grupo 15\n",
    "\n",
    "### Nome: Ubiratan da Silva Tavares - RA: 23031559"
   ]
  },
  {
   "cell_type": "markdown",
   "metadata": {},
   "source": [
    "### Otimização de hiperparâmetros do modelo\n",
    "\n",
    "* Os modelos de aprendizado de máquina têm hiperparâmetros que podem ser definidos para configurar um modelo de acordo com a base de dados de treinamento.\n",
    "\n",
    "* A melhor forma para se definir um hiperparâmetro e combinações de hiperparâmetros para um determinado conjunto de dados é um desafio.\n",
    "\n",
    "* A melhor abordagem é realizar pesquisar com diferentes valores para os hiperparâmetros do modelo e escolher um subconjunto que resulte em um modelo que alcance o melhor desempenho em um determinado conjunto de dados (otimização de hiperparâmetros ou ajuste de hiperparâmetro)\n",
    "\n",
    "* O resultado de uma otimização de hiperparâmetros é um conjunto único de hiperparâmetros de bom desempenho que pode ser usado para configurar o modelo.\n",
    "\n",
    "* Um ponto no espaço de busca é um vetor com um valor específico para cada valor de hiperparâmetro. \n",
    "\n",
    "* O objetivo do procedimento de otimização é encontrar um vetor que resulte no melhor desempenho do modelo após o aprendizado, como precisão máxima ou erro mínimo.\n",
    "\n",
    "* Uma variedade de algoritmos de otimização diferentes podem ser usados, entretanto os métodos de busca em grade e busca aleatória são os mais comuns.\n",
    "\n",
    "    * **Pesquisa em grade**: define um espaço de pesquisa como uma grade de valores de hiperparâmetros e avalie cada posição na grade. É um método ideal para combinações de verificação pontual que geralmente apresentam bom desempenho.\n",
    "    \n",
    "    * **Pesquisa aleatória**: define um espaço de pesquisa como um domínio limitado de valores de hiperparâmetros e amostra aleatoriamente pontos nesse domínio. É um método ideal descobrir e obter combinações de hiperparâmetros que não foram considerados na pesquisa em grade."
   ]
  },
  {
   "cell_type": "markdown",
   "metadata": {},
   "source": [
    "### API Scikit-Learn de otimização de hiperparâmetros\n",
    "\n",
    "* A biblioteca scikit-learn fornece técnicas para ajustar hiperparâmetros de modelo.\n",
    "\n",
    "    * A classe GridSearchCV para pesquisa em grade.\n",
    "    * A classe RandomizedSearchCV para pesquisa aleatória.\n",
    "    \n",
    "\n",
    "* Ambas as técnicas acima avaliam modelos para um determinado vetor de hiperparâmetros usando validação cruzada.\n",
    "\n",
    "\n",
    "* Ambas as classes requerem dois argumentos:\n",
    "\n",
    "    * O primeiro é o modelo a ser otimizado. \n",
    "    * O segundo é o espaço de busca."
   ]
  },
  {
   "cell_type": "code",
   "execution_count": 1,
   "metadata": {},
   "outputs": [],
   "source": [
    "# importando as bibliotecas\n",
    "import numpy as np\n",
    "from sklearn.datasets import load_breast_cancer\n",
    "from sklearn.neural_network import MLPClassifier\n",
    "from sklearn.model_selection import GridSearchCV, RandomizedSearchCV, train_test_split\n",
    "from sklearn.metrics import classification_report"
   ]
  },
  {
   "cell_type": "code",
   "execution_count": 2,
   "metadata": {},
   "outputs": [
    {
     "name": "stdout",
     "output_type": "stream",
     "text": [
      "(569, 30) (569,)\n"
     ]
    }
   ],
   "source": [
    "# importando a base dados\n",
    "X, y = load_breast_cancer(return_X_y=True)\n",
    "print(X.shape, y.shape)"
   ]
  },
  {
   "cell_type": "code",
   "execution_count": 3,
   "metadata": {},
   "outputs": [],
   "source": [
    "# dividindo a base de dados em treinamento e teste\n",
    "X_train, X_test, y_train, y_test = train_test_split(X, y, test_size=0.2, random_state=42)"
   ]
  },
  {
   "cell_type": "code",
   "execution_count": 4,
   "metadata": {},
   "outputs": [],
   "source": [
    "# criando o modelo classificador \n",
    "mlp = MLPClassifier(max_iter=1000, random_state=42)"
   ]
  },
  {
   "cell_type": "markdown",
   "metadata": {},
   "source": [
    "### Pesquisa em grade para classificação"
   ]
  },
  {
   "cell_type": "code",
   "execution_count": 5,
   "metadata": {},
   "outputs": [],
   "source": [
    "# definindo o espaço de busca para os hiperparâmetros\n",
    "space = {'hidden_layer_sizes': [(64, 64), (128, 128)],\n",
    "         'activation': ['tanh', 'relu'],\n",
    "         'solver': ['sgd', 'adam'],\n",
    "         'alpha': [0.0001, 0.001],\n",
    "         'learning_rate': ['constant', 'adaptive']}"
   ]
  },
  {
   "cell_type": "code",
   "execution_count": 6,
   "metadata": {},
   "outputs": [],
   "source": [
    "# criando o objeto da classe GridSearchCV\n",
    "grid_search = GridSearchCV(estimator=mlp, param_grid=space, cv=5, n_jobs=1)"
   ]
  },
  {
   "cell_type": "code",
   "execution_count": 7,
   "metadata": {},
   "outputs": [
    {
     "data": {
      "text/html": [
       "<style>#sk-container-id-1 {color: black;}#sk-container-id-1 pre{padding: 0;}#sk-container-id-1 div.sk-toggleable {background-color: white;}#sk-container-id-1 label.sk-toggleable__label {cursor: pointer;display: block;width: 100%;margin-bottom: 0;padding: 0.3em;box-sizing: border-box;text-align: center;}#sk-container-id-1 label.sk-toggleable__label-arrow:before {content: \"▸\";float: left;margin-right: 0.25em;color: #696969;}#sk-container-id-1 label.sk-toggleable__label-arrow:hover:before {color: black;}#sk-container-id-1 div.sk-estimator:hover label.sk-toggleable__label-arrow:before {color: black;}#sk-container-id-1 div.sk-toggleable__content {max-height: 0;max-width: 0;overflow: hidden;text-align: left;background-color: #f0f8ff;}#sk-container-id-1 div.sk-toggleable__content pre {margin: 0.2em;color: black;border-radius: 0.25em;background-color: #f0f8ff;}#sk-container-id-1 input.sk-toggleable__control:checked~div.sk-toggleable__content {max-height: 200px;max-width: 100%;overflow: auto;}#sk-container-id-1 input.sk-toggleable__control:checked~label.sk-toggleable__label-arrow:before {content: \"▾\";}#sk-container-id-1 div.sk-estimator input.sk-toggleable__control:checked~label.sk-toggleable__label {background-color: #d4ebff;}#sk-container-id-1 div.sk-label input.sk-toggleable__control:checked~label.sk-toggleable__label {background-color: #d4ebff;}#sk-container-id-1 input.sk-hidden--visually {border: 0;clip: rect(1px 1px 1px 1px);clip: rect(1px, 1px, 1px, 1px);height: 1px;margin: -1px;overflow: hidden;padding: 0;position: absolute;width: 1px;}#sk-container-id-1 div.sk-estimator {font-family: monospace;background-color: #f0f8ff;border: 1px dotted black;border-radius: 0.25em;box-sizing: border-box;margin-bottom: 0.5em;}#sk-container-id-1 div.sk-estimator:hover {background-color: #d4ebff;}#sk-container-id-1 div.sk-parallel-item::after {content: \"\";width: 100%;border-bottom: 1px solid gray;flex-grow: 1;}#sk-container-id-1 div.sk-label:hover label.sk-toggleable__label {background-color: #d4ebff;}#sk-container-id-1 div.sk-serial::before {content: \"\";position: absolute;border-left: 1px solid gray;box-sizing: border-box;top: 0;bottom: 0;left: 50%;z-index: 0;}#sk-container-id-1 div.sk-serial {display: flex;flex-direction: column;align-items: center;background-color: white;padding-right: 0.2em;padding-left: 0.2em;position: relative;}#sk-container-id-1 div.sk-item {position: relative;z-index: 1;}#sk-container-id-1 div.sk-parallel {display: flex;align-items: stretch;justify-content: center;background-color: white;position: relative;}#sk-container-id-1 div.sk-item::before, #sk-container-id-1 div.sk-parallel-item::before {content: \"\";position: absolute;border-left: 1px solid gray;box-sizing: border-box;top: 0;bottom: 0;left: 50%;z-index: -1;}#sk-container-id-1 div.sk-parallel-item {display: flex;flex-direction: column;z-index: 1;position: relative;background-color: white;}#sk-container-id-1 div.sk-parallel-item:first-child::after {align-self: flex-end;width: 50%;}#sk-container-id-1 div.sk-parallel-item:last-child::after {align-self: flex-start;width: 50%;}#sk-container-id-1 div.sk-parallel-item:only-child::after {width: 0;}#sk-container-id-1 div.sk-dashed-wrapped {border: 1px dashed gray;margin: 0 0.4em 0.5em 0.4em;box-sizing: border-box;padding-bottom: 0.4em;background-color: white;}#sk-container-id-1 div.sk-label label {font-family: monospace;font-weight: bold;display: inline-block;line-height: 1.2em;}#sk-container-id-1 div.sk-label-container {text-align: center;}#sk-container-id-1 div.sk-container {/* jupyter's `normalize.less` sets `[hidden] { display: none; }` but bootstrap.min.css set `[hidden] { display: none !important; }` so we also need the `!important` here to be able to override the default hidden behavior on the sphinx rendered scikit-learn.org. See: https://github.com/scikit-learn/scikit-learn/issues/21755 */display: inline-block !important;position: relative;}#sk-container-id-1 div.sk-text-repr-fallback {display: none;}</style><div id=\"sk-container-id-1\" class=\"sk-top-container\"><div class=\"sk-text-repr-fallback\"><pre>GridSearchCV(cv=5, estimator=MLPClassifier(max_iter=1000, random_state=42),\n",
       "             n_jobs=1,\n",
       "             param_grid={&#x27;activation&#x27;: [&#x27;tanh&#x27;, &#x27;relu&#x27;],\n",
       "                         &#x27;alpha&#x27;: [0.0001, 0.001],\n",
       "                         &#x27;hidden_layer_sizes&#x27;: [(64, 64), (128, 128)],\n",
       "                         &#x27;learning_rate&#x27;: [&#x27;constant&#x27;, &#x27;adaptive&#x27;],\n",
       "                         &#x27;solver&#x27;: [&#x27;sgd&#x27;, &#x27;adam&#x27;]})</pre><b>In a Jupyter environment, please rerun this cell to show the HTML representation or trust the notebook. <br />On GitHub, the HTML representation is unable to render, please try loading this page with nbviewer.org.</b></div><div class=\"sk-container\" hidden><div class=\"sk-item sk-dashed-wrapped\"><div class=\"sk-label-container\"><div class=\"sk-label sk-toggleable\"><input class=\"sk-toggleable__control sk-hidden--visually\" id=\"sk-estimator-id-1\" type=\"checkbox\" ><label for=\"sk-estimator-id-1\" class=\"sk-toggleable__label sk-toggleable__label-arrow\">GridSearchCV</label><div class=\"sk-toggleable__content\"><pre>GridSearchCV(cv=5, estimator=MLPClassifier(max_iter=1000, random_state=42),\n",
       "             n_jobs=1,\n",
       "             param_grid={&#x27;activation&#x27;: [&#x27;tanh&#x27;, &#x27;relu&#x27;],\n",
       "                         &#x27;alpha&#x27;: [0.0001, 0.001],\n",
       "                         &#x27;hidden_layer_sizes&#x27;: [(64, 64), (128, 128)],\n",
       "                         &#x27;learning_rate&#x27;: [&#x27;constant&#x27;, &#x27;adaptive&#x27;],\n",
       "                         &#x27;solver&#x27;: [&#x27;sgd&#x27;, &#x27;adam&#x27;]})</pre></div></div></div><div class=\"sk-parallel\"><div class=\"sk-parallel-item\"><div class=\"sk-item\"><div class=\"sk-label-container\"><div class=\"sk-label sk-toggleable\"><input class=\"sk-toggleable__control sk-hidden--visually\" id=\"sk-estimator-id-2\" type=\"checkbox\" ><label for=\"sk-estimator-id-2\" class=\"sk-toggleable__label sk-toggleable__label-arrow\">estimator: MLPClassifier</label><div class=\"sk-toggleable__content\"><pre>MLPClassifier(max_iter=1000, random_state=42)</pre></div></div></div><div class=\"sk-serial\"><div class=\"sk-item\"><div class=\"sk-estimator sk-toggleable\"><input class=\"sk-toggleable__control sk-hidden--visually\" id=\"sk-estimator-id-3\" type=\"checkbox\" ><label for=\"sk-estimator-id-3\" class=\"sk-toggleable__label sk-toggleable__label-arrow\">MLPClassifier</label><div class=\"sk-toggleable__content\"><pre>MLPClassifier(max_iter=1000, random_state=42)</pre></div></div></div></div></div></div></div></div></div></div>"
      ],
      "text/plain": [
       "GridSearchCV(cv=5, estimator=MLPClassifier(max_iter=1000, random_state=42),\n",
       "             n_jobs=1,\n",
       "             param_grid={'activation': ['tanh', 'relu'],\n",
       "                         'alpha': [0.0001, 0.001],\n",
       "                         'hidden_layer_sizes': [(64, 64), (128, 128)],\n",
       "                         'learning_rate': ['constant', 'adaptive'],\n",
       "                         'solver': ['sgd', 'adam']})"
      ]
     },
     "execution_count": 7,
     "metadata": {},
     "output_type": "execute_result"
    }
   ],
   "source": [
    "# realizando a busca em grade com a Validação Cruzada\n",
    "grid_search.fit(X_train, y_train)"
   ]
  },
  {
   "cell_type": "code",
   "execution_count": 8,
   "metadata": {},
   "outputs": [
    {
     "name": "stdout",
     "output_type": "stream",
     "text": [
      "A melhor performance do modelo foi 0.93\n",
      "Os melhores hiperparâmatros encontrados: {'activation': 'relu', 'alpha': 0.0001, 'hidden_layer_sizes': (128, 128), 'learning_rate': 'constant', 'solver': 'adam'}\n"
     ]
    }
   ],
   "source": [
    "# obtendo os melhores hiperparâmetros encontrados na pesquisa em grade\n",
    "best_params = grid_search.best_params_\n",
    "best_score = grid_search.best_score_\n",
    "print(f\"A melhor performance do modelo foi {best_score:.2f}\")\n",
    "print(f\"Os melhores hiperparâmatros encontrados: {best_params}\")"
   ]
  },
  {
   "cell_type": "code",
   "execution_count": 9,
   "metadata": {},
   "outputs": [
    {
     "name": "stdout",
     "output_type": "stream",
     "text": [
      "1: 0.93 (0.03): {'activation': 'relu', 'alpha': 0.0001, 'hidden_layer_sizes': (128, 128), 'learning_rate': 'constant', 'solver': 'adam'}\n",
      "2: 0.93 (0.03): {'activation': 'relu', 'alpha': 0.0001, 'hidden_layer_sizes': (128, 128), 'learning_rate': 'adaptive', 'solver': 'adam'}\n",
      "3: 0.92 (0.04): {'activation': 'relu', 'alpha': 0.0001, 'hidden_layer_sizes': (64, 64), 'learning_rate': 'constant', 'solver': 'adam'}\n",
      "4: 0.92 (0.04): {'activation': 'relu', 'alpha': 0.0001, 'hidden_layer_sizes': (64, 64), 'learning_rate': 'adaptive', 'solver': 'adam'}\n",
      "5: 0.92 (0.05): {'activation': 'tanh', 'alpha': 0.0001, 'hidden_layer_sizes': (128, 128), 'learning_rate': 'constant', 'solver': 'adam'}\n",
      "6: 0.92 (0.05): {'activation': 'tanh', 'alpha': 0.0001, 'hidden_layer_sizes': (128, 128), 'learning_rate': 'adaptive', 'solver': 'adam'}\n",
      "7: 0.92 (0.03): {'activation': 'relu', 'alpha': 0.001, 'hidden_layer_sizes': (128, 128), 'learning_rate': 'constant', 'solver': 'adam'}\n",
      "8: 0.92 (0.03): {'activation': 'relu', 'alpha': 0.001, 'hidden_layer_sizes': (128, 128), 'learning_rate': 'adaptive', 'solver': 'adam'}\n",
      "9: 0.92 (0.05): {'activation': 'relu', 'alpha': 0.001, 'hidden_layer_sizes': (64, 64), 'learning_rate': 'constant', 'solver': 'adam'}\n",
      "10: 0.92 (0.05): {'activation': 'relu', 'alpha': 0.001, 'hidden_layer_sizes': (64, 64), 'learning_rate': 'adaptive', 'solver': 'adam'}\n",
      "11: 0.92 (0.04): {'activation': 'tanh', 'alpha': 0.001, 'hidden_layer_sizes': (128, 128), 'learning_rate': 'constant', 'solver': 'adam'}\n",
      "12: 0.92 (0.04): {'activation': 'tanh', 'alpha': 0.001, 'hidden_layer_sizes': (128, 128), 'learning_rate': 'adaptive', 'solver': 'adam'}\n",
      "13: 0.91 (0.04): {'activation': 'tanh', 'alpha': 0.0001, 'hidden_layer_sizes': (64, 64), 'learning_rate': 'constant', 'solver': 'adam'}\n",
      "14: 0.91 (0.04): {'activation': 'tanh', 'alpha': 0.0001, 'hidden_layer_sizes': (64, 64), 'learning_rate': 'adaptive', 'solver': 'adam'}\n",
      "15: 0.91 (0.04): {'activation': 'tanh', 'alpha': 0.0001, 'hidden_layer_sizes': (128, 128), 'learning_rate': 'adaptive', 'solver': 'sgd'}\n",
      "16: 0.91 (0.05): {'activation': 'tanh', 'alpha': 0.001, 'hidden_layer_sizes': (64, 64), 'learning_rate': 'constant', 'solver': 'adam'}\n",
      "17: 0.91 (0.05): {'activation': 'tanh', 'alpha': 0.001, 'hidden_layer_sizes': (64, 64), 'learning_rate': 'adaptive', 'solver': 'adam'}\n",
      "18: 0.90 (0.05): {'activation': 'tanh', 'alpha': 0.001, 'hidden_layer_sizes': (64, 64), 'learning_rate': 'adaptive', 'solver': 'sgd'}\n",
      "19: 0.89 (0.05): {'activation': 'tanh', 'alpha': 0.001, 'hidden_layer_sizes': (64, 64), 'learning_rate': 'constant', 'solver': 'sgd'}\n",
      "20: 0.89 (0.05): {'activation': 'tanh', 'alpha': 0.001, 'hidden_layer_sizes': (128, 128), 'learning_rate': 'adaptive', 'solver': 'sgd'}\n",
      "21: 0.89 (0.04): {'activation': 'tanh', 'alpha': 0.0001, 'hidden_layer_sizes': (64, 64), 'learning_rate': 'constant', 'solver': 'sgd'}\n",
      "22: 0.89 (0.04): {'activation': 'tanh', 'alpha': 0.0001, 'hidden_layer_sizes': (128, 128), 'learning_rate': 'constant', 'solver': 'sgd'}\n",
      "23: 0.89 (0.04): {'activation': 'tanh', 'alpha': 0.0001, 'hidden_layer_sizes': (64, 64), 'learning_rate': 'adaptive', 'solver': 'sgd'}\n",
      "24: 0.87 (0.05): {'activation': 'tanh', 'alpha': 0.001, 'hidden_layer_sizes': (128, 128), 'learning_rate': 'constant', 'solver': 'sgd'}\n",
      "25: 0.68 (0.11): {'activation': 'relu', 'alpha': 0.0001, 'hidden_layer_sizes': (128, 128), 'learning_rate': 'constant', 'solver': 'sgd'}\n",
      "26: 0.68 (0.10): {'activation': 'relu', 'alpha': 0.0001, 'hidden_layer_sizes': (128, 128), 'learning_rate': 'adaptive', 'solver': 'sgd'}\n",
      "27: 0.68 (0.11): {'activation': 'relu', 'alpha': 0.001, 'hidden_layer_sizes': (128, 128), 'learning_rate': 'constant', 'solver': 'sgd'}\n",
      "28: 0.68 (0.10): {'activation': 'relu', 'alpha': 0.001, 'hidden_layer_sizes': (128, 128), 'learning_rate': 'adaptive', 'solver': 'sgd'}\n",
      "29: 0.67 (0.26): {'activation': 'relu', 'alpha': 0.0001, 'hidden_layer_sizes': (64, 64), 'learning_rate': 'adaptive', 'solver': 'sgd'}\n",
      "30: 0.67 (0.26): {'activation': 'relu', 'alpha': 0.001, 'hidden_layer_sizes': (64, 64), 'learning_rate': 'adaptive', 'solver': 'sgd'}\n",
      "31: 0.65 (0.26): {'activation': 'relu', 'alpha': 0.0001, 'hidden_layer_sizes': (64, 64), 'learning_rate': 'constant', 'solver': 'sgd'}\n",
      "32: 0.64 (0.24): {'activation': 'relu', 'alpha': 0.001, 'hidden_layer_sizes': (64, 64), 'learning_rate': 'constant', 'solver': 'sgd'}\n"
     ]
    }
   ],
   "source": [
    "medias = grid_search.cv_results_['mean_test_score']\n",
    "desvios = grid_search.cv_results_['std_test_score']\n",
    "parametros = grid_search.cv_results_['params']\n",
    "\n",
    "# combinando as médias, desvios e parâmetros em uma lista de tuplas\n",
    "resultados = list(zip(medias, desvios, parametros))\n",
    "\n",
    "# classificando a lista de tuplas com base na média em ordem decrescente\n",
    "resultados.sort(reverse=True, key=lambda x: x[0])\n",
    "\n",
    "contador = 1\n",
    "# imprimindo os resultados em ordem decrescente\n",
    "for media, desvio, parametro in resultados:\n",
    "    print(f\"{contador}: {media:.2f} ({desvio:.2f}): {parametro}\")\n",
    "    contador += 1"
   ]
  },
  {
   "cell_type": "code",
   "execution_count": 10,
   "metadata": {},
   "outputs": [],
   "source": [
    "# treinando o modelo com os melhores hiperparâmetros com os dados de treinamento\n",
    "best_mlp = MLPClassifier(max_iter=1000, random_state=42, **best_params)"
   ]
  },
  {
   "cell_type": "code",
   "execution_count": 11,
   "metadata": {},
   "outputs": [
    {
     "data": {
      "text/html": [
       "<style>#sk-container-id-2 {color: black;}#sk-container-id-2 pre{padding: 0;}#sk-container-id-2 div.sk-toggleable {background-color: white;}#sk-container-id-2 label.sk-toggleable__label {cursor: pointer;display: block;width: 100%;margin-bottom: 0;padding: 0.3em;box-sizing: border-box;text-align: center;}#sk-container-id-2 label.sk-toggleable__label-arrow:before {content: \"▸\";float: left;margin-right: 0.25em;color: #696969;}#sk-container-id-2 label.sk-toggleable__label-arrow:hover:before {color: black;}#sk-container-id-2 div.sk-estimator:hover label.sk-toggleable__label-arrow:before {color: black;}#sk-container-id-2 div.sk-toggleable__content {max-height: 0;max-width: 0;overflow: hidden;text-align: left;background-color: #f0f8ff;}#sk-container-id-2 div.sk-toggleable__content pre {margin: 0.2em;color: black;border-radius: 0.25em;background-color: #f0f8ff;}#sk-container-id-2 input.sk-toggleable__control:checked~div.sk-toggleable__content {max-height: 200px;max-width: 100%;overflow: auto;}#sk-container-id-2 input.sk-toggleable__control:checked~label.sk-toggleable__label-arrow:before {content: \"▾\";}#sk-container-id-2 div.sk-estimator input.sk-toggleable__control:checked~label.sk-toggleable__label {background-color: #d4ebff;}#sk-container-id-2 div.sk-label input.sk-toggleable__control:checked~label.sk-toggleable__label {background-color: #d4ebff;}#sk-container-id-2 input.sk-hidden--visually {border: 0;clip: rect(1px 1px 1px 1px);clip: rect(1px, 1px, 1px, 1px);height: 1px;margin: -1px;overflow: hidden;padding: 0;position: absolute;width: 1px;}#sk-container-id-2 div.sk-estimator {font-family: monospace;background-color: #f0f8ff;border: 1px dotted black;border-radius: 0.25em;box-sizing: border-box;margin-bottom: 0.5em;}#sk-container-id-2 div.sk-estimator:hover {background-color: #d4ebff;}#sk-container-id-2 div.sk-parallel-item::after {content: \"\";width: 100%;border-bottom: 1px solid gray;flex-grow: 1;}#sk-container-id-2 div.sk-label:hover label.sk-toggleable__label {background-color: #d4ebff;}#sk-container-id-2 div.sk-serial::before {content: \"\";position: absolute;border-left: 1px solid gray;box-sizing: border-box;top: 0;bottom: 0;left: 50%;z-index: 0;}#sk-container-id-2 div.sk-serial {display: flex;flex-direction: column;align-items: center;background-color: white;padding-right: 0.2em;padding-left: 0.2em;position: relative;}#sk-container-id-2 div.sk-item {position: relative;z-index: 1;}#sk-container-id-2 div.sk-parallel {display: flex;align-items: stretch;justify-content: center;background-color: white;position: relative;}#sk-container-id-2 div.sk-item::before, #sk-container-id-2 div.sk-parallel-item::before {content: \"\";position: absolute;border-left: 1px solid gray;box-sizing: border-box;top: 0;bottom: 0;left: 50%;z-index: -1;}#sk-container-id-2 div.sk-parallel-item {display: flex;flex-direction: column;z-index: 1;position: relative;background-color: white;}#sk-container-id-2 div.sk-parallel-item:first-child::after {align-self: flex-end;width: 50%;}#sk-container-id-2 div.sk-parallel-item:last-child::after {align-self: flex-start;width: 50%;}#sk-container-id-2 div.sk-parallel-item:only-child::after {width: 0;}#sk-container-id-2 div.sk-dashed-wrapped {border: 1px dashed gray;margin: 0 0.4em 0.5em 0.4em;box-sizing: border-box;padding-bottom: 0.4em;background-color: white;}#sk-container-id-2 div.sk-label label {font-family: monospace;font-weight: bold;display: inline-block;line-height: 1.2em;}#sk-container-id-2 div.sk-label-container {text-align: center;}#sk-container-id-2 div.sk-container {/* jupyter's `normalize.less` sets `[hidden] { display: none; }` but bootstrap.min.css set `[hidden] { display: none !important; }` so we also need the `!important` here to be able to override the default hidden behavior on the sphinx rendered scikit-learn.org. See: https://github.com/scikit-learn/scikit-learn/issues/21755 */display: inline-block !important;position: relative;}#sk-container-id-2 div.sk-text-repr-fallback {display: none;}</style><div id=\"sk-container-id-2\" class=\"sk-top-container\"><div class=\"sk-text-repr-fallback\"><pre>MLPClassifier(hidden_layer_sizes=(128, 128), max_iter=1000, random_state=42)</pre><b>In a Jupyter environment, please rerun this cell to show the HTML representation or trust the notebook. <br />On GitHub, the HTML representation is unable to render, please try loading this page with nbviewer.org.</b></div><div class=\"sk-container\" hidden><div class=\"sk-item\"><div class=\"sk-estimator sk-toggleable\"><input class=\"sk-toggleable__control sk-hidden--visually\" id=\"sk-estimator-id-4\" type=\"checkbox\" checked><label for=\"sk-estimator-id-4\" class=\"sk-toggleable__label sk-toggleable__label-arrow\">MLPClassifier</label><div class=\"sk-toggleable__content\"><pre>MLPClassifier(hidden_layer_sizes=(128, 128), max_iter=1000, random_state=42)</pre></div></div></div></div></div>"
      ],
      "text/plain": [
       "MLPClassifier(hidden_layer_sizes=(128, 128), max_iter=1000, random_state=42)"
      ]
     },
     "execution_count": 11,
     "metadata": {},
     "output_type": "execute_result"
    }
   ],
   "source": [
    "# ajustando os dados de treinamento npara treinamento do modelo classificador\n",
    "best_mlp.fit(X_train, y_train)"
   ]
  },
  {
   "cell_type": "code",
   "execution_count": 12,
   "metadata": {},
   "outputs": [],
   "source": [
    "# fazendo as previsões do modelo treinado com os dados de teste\n",
    "y_pred = best_mlp.predict(X_test)"
   ]
  },
  {
   "cell_type": "code",
   "execution_count": 13,
   "metadata": {},
   "outputs": [
    {
     "name": "stdout",
     "output_type": "stream",
     "text": [
      "\n",
      "Relatório de Classificação:\n",
      "              precision    recall  f1-score   support\n",
      "\n",
      "           0       0.81      0.98      0.88        43\n",
      "           1       0.98      0.86      0.92        71\n",
      "\n",
      "    accuracy                           0.90       114\n",
      "   macro avg       0.90      0.92      0.90       114\n",
      "weighted avg       0.92      0.90      0.90       114\n",
      "\n"
     ]
    }
   ],
   "source": [
    "# avaliando o desempenho do modelo classificador\n",
    "report = classification_report(y_test, y_pred)\n",
    "print(\"\\nRelatório de Classificação:\")\n",
    "print(report)"
   ]
  },
  {
   "cell_type": "markdown",
   "metadata": {},
   "source": [
    "### Análise do Desempenho do Modelo Classificador com uso dos melhores hiperparâmetros obtidos com a técnica da Pesquisa em Grade\n",
    "\n",
    "- **Precision (Precisão):** Para a classe 0, a precisão é de 0.81, o que significa que 81% das previsões da classe 0 estão corretas. Para a classe 1, a precisão é de 0.98, o que indica que 98% das previsões da classe 1 estão corretas.\n",
    "\n",
    "- **Recall (Revocação):** Para a classe 0, o recall é de 0.98, o que significa que o modelo identificou 98% dos verdadeiros exemplos da classe 0. Para a classe 1, o recall é de 0.86, indicando que o modelo identificou 86% dos verdadeiros exemplos da classe 1.\n",
    "\n",
    "- **F1-score:** O F1-score é uma métrica que combina precisão e recall em uma única medida. Para a classe 0, o F1-score é 0.88, e para a classe 1, é 0.92.\n",
    "\n",
    "- **Accuracy (Precisão Global):** A precisão global do modelo é de 90%. Isso significa que o modelo classificou corretamente 90% das amostras no conjunto de dados."
   ]
  },
  {
   "cell_type": "markdown",
   "metadata": {},
   "source": [
    "### Pesquisa em aleatória para classificação"
   ]
  },
  {
   "cell_type": "code",
   "execution_count": 24,
   "metadata": {},
   "outputs": [],
   "source": [
    "# definindo o espaço de busca para os hiperparâmetros\n",
    "space = {'hidden_layer_sizes': [(64, 64), (128, 128)],\n",
    "         'activation': ['tanh', 'relu'],\n",
    "         'solver': ['sgd', 'adam'],\n",
    "         'alpha': np.logspace(-4, 0, 5),  \n",
    "         'learning_rate': ['constant', 'adaptive']}"
   ]
  },
  {
   "cell_type": "code",
   "execution_count": 25,
   "metadata": {},
   "outputs": [],
   "source": [
    "# criando o objeto da classe RandomizedSearchCV\n",
    "random_search = RandomizedSearchCV(mlp, param_distributions=space, n_iter=10, cv=5, n_jobs=1, random_state=42)"
   ]
  },
  {
   "cell_type": "code",
   "execution_count": 26,
   "metadata": {},
   "outputs": [
    {
     "data": {
      "text/html": [
       "<style>#sk-container-id-5 {color: black;}#sk-container-id-5 pre{padding: 0;}#sk-container-id-5 div.sk-toggleable {background-color: white;}#sk-container-id-5 label.sk-toggleable__label {cursor: pointer;display: block;width: 100%;margin-bottom: 0;padding: 0.3em;box-sizing: border-box;text-align: center;}#sk-container-id-5 label.sk-toggleable__label-arrow:before {content: \"▸\";float: left;margin-right: 0.25em;color: #696969;}#sk-container-id-5 label.sk-toggleable__label-arrow:hover:before {color: black;}#sk-container-id-5 div.sk-estimator:hover label.sk-toggleable__label-arrow:before {color: black;}#sk-container-id-5 div.sk-toggleable__content {max-height: 0;max-width: 0;overflow: hidden;text-align: left;background-color: #f0f8ff;}#sk-container-id-5 div.sk-toggleable__content pre {margin: 0.2em;color: black;border-radius: 0.25em;background-color: #f0f8ff;}#sk-container-id-5 input.sk-toggleable__control:checked~div.sk-toggleable__content {max-height: 200px;max-width: 100%;overflow: auto;}#sk-container-id-5 input.sk-toggleable__control:checked~label.sk-toggleable__label-arrow:before {content: \"▾\";}#sk-container-id-5 div.sk-estimator input.sk-toggleable__control:checked~label.sk-toggleable__label {background-color: #d4ebff;}#sk-container-id-5 div.sk-label input.sk-toggleable__control:checked~label.sk-toggleable__label {background-color: #d4ebff;}#sk-container-id-5 input.sk-hidden--visually {border: 0;clip: rect(1px 1px 1px 1px);clip: rect(1px, 1px, 1px, 1px);height: 1px;margin: -1px;overflow: hidden;padding: 0;position: absolute;width: 1px;}#sk-container-id-5 div.sk-estimator {font-family: monospace;background-color: #f0f8ff;border: 1px dotted black;border-radius: 0.25em;box-sizing: border-box;margin-bottom: 0.5em;}#sk-container-id-5 div.sk-estimator:hover {background-color: #d4ebff;}#sk-container-id-5 div.sk-parallel-item::after {content: \"\";width: 100%;border-bottom: 1px solid gray;flex-grow: 1;}#sk-container-id-5 div.sk-label:hover label.sk-toggleable__label {background-color: #d4ebff;}#sk-container-id-5 div.sk-serial::before {content: \"\";position: absolute;border-left: 1px solid gray;box-sizing: border-box;top: 0;bottom: 0;left: 50%;z-index: 0;}#sk-container-id-5 div.sk-serial {display: flex;flex-direction: column;align-items: center;background-color: white;padding-right: 0.2em;padding-left: 0.2em;position: relative;}#sk-container-id-5 div.sk-item {position: relative;z-index: 1;}#sk-container-id-5 div.sk-parallel {display: flex;align-items: stretch;justify-content: center;background-color: white;position: relative;}#sk-container-id-5 div.sk-item::before, #sk-container-id-5 div.sk-parallel-item::before {content: \"\";position: absolute;border-left: 1px solid gray;box-sizing: border-box;top: 0;bottom: 0;left: 50%;z-index: -1;}#sk-container-id-5 div.sk-parallel-item {display: flex;flex-direction: column;z-index: 1;position: relative;background-color: white;}#sk-container-id-5 div.sk-parallel-item:first-child::after {align-self: flex-end;width: 50%;}#sk-container-id-5 div.sk-parallel-item:last-child::after {align-self: flex-start;width: 50%;}#sk-container-id-5 div.sk-parallel-item:only-child::after {width: 0;}#sk-container-id-5 div.sk-dashed-wrapped {border: 1px dashed gray;margin: 0 0.4em 0.5em 0.4em;box-sizing: border-box;padding-bottom: 0.4em;background-color: white;}#sk-container-id-5 div.sk-label label {font-family: monospace;font-weight: bold;display: inline-block;line-height: 1.2em;}#sk-container-id-5 div.sk-label-container {text-align: center;}#sk-container-id-5 div.sk-container {/* jupyter's `normalize.less` sets `[hidden] { display: none; }` but bootstrap.min.css set `[hidden] { display: none !important; }` so we also need the `!important` here to be able to override the default hidden behavior on the sphinx rendered scikit-learn.org. See: https://github.com/scikit-learn/scikit-learn/issues/21755 */display: inline-block !important;position: relative;}#sk-container-id-5 div.sk-text-repr-fallback {display: none;}</style><div id=\"sk-container-id-5\" class=\"sk-top-container\"><div class=\"sk-text-repr-fallback\"><pre>RandomizedSearchCV(cv=5,\n",
       "                   estimator=MLPClassifier(max_iter=1000, random_state=42),\n",
       "                   n_jobs=1,\n",
       "                   param_distributions={&#x27;activation&#x27;: [&#x27;tanh&#x27;, &#x27;relu&#x27;],\n",
       "                                        &#x27;alpha&#x27;: array([1.e-04, 1.e-03, 1.e-02, 1.e-01, 1.e+00]),\n",
       "                                        &#x27;hidden_layer_sizes&#x27;: [(64, 64),\n",
       "                                                               (128, 128)],\n",
       "                                        &#x27;learning_rate&#x27;: [&#x27;constant&#x27;,\n",
       "                                                          &#x27;adaptive&#x27;],\n",
       "                                        &#x27;solver&#x27;: [&#x27;sgd&#x27;, &#x27;adam&#x27;]},\n",
       "                   random_state=42)</pre><b>In a Jupyter environment, please rerun this cell to show the HTML representation or trust the notebook. <br />On GitHub, the HTML representation is unable to render, please try loading this page with nbviewer.org.</b></div><div class=\"sk-container\" hidden><div class=\"sk-item sk-dashed-wrapped\"><div class=\"sk-label-container\"><div class=\"sk-label sk-toggleable\"><input class=\"sk-toggleable__control sk-hidden--visually\" id=\"sk-estimator-id-9\" type=\"checkbox\" ><label for=\"sk-estimator-id-9\" class=\"sk-toggleable__label sk-toggleable__label-arrow\">RandomizedSearchCV</label><div class=\"sk-toggleable__content\"><pre>RandomizedSearchCV(cv=5,\n",
       "                   estimator=MLPClassifier(max_iter=1000, random_state=42),\n",
       "                   n_jobs=1,\n",
       "                   param_distributions={&#x27;activation&#x27;: [&#x27;tanh&#x27;, &#x27;relu&#x27;],\n",
       "                                        &#x27;alpha&#x27;: array([1.e-04, 1.e-03, 1.e-02, 1.e-01, 1.e+00]),\n",
       "                                        &#x27;hidden_layer_sizes&#x27;: [(64, 64),\n",
       "                                                               (128, 128)],\n",
       "                                        &#x27;learning_rate&#x27;: [&#x27;constant&#x27;,\n",
       "                                                          &#x27;adaptive&#x27;],\n",
       "                                        &#x27;solver&#x27;: [&#x27;sgd&#x27;, &#x27;adam&#x27;]},\n",
       "                   random_state=42)</pre></div></div></div><div class=\"sk-parallel\"><div class=\"sk-parallel-item\"><div class=\"sk-item\"><div class=\"sk-label-container\"><div class=\"sk-label sk-toggleable\"><input class=\"sk-toggleable__control sk-hidden--visually\" id=\"sk-estimator-id-10\" type=\"checkbox\" ><label for=\"sk-estimator-id-10\" class=\"sk-toggleable__label sk-toggleable__label-arrow\">estimator: MLPClassifier</label><div class=\"sk-toggleable__content\"><pre>MLPClassifier(max_iter=1000, random_state=42)</pre></div></div></div><div class=\"sk-serial\"><div class=\"sk-item\"><div class=\"sk-estimator sk-toggleable\"><input class=\"sk-toggleable__control sk-hidden--visually\" id=\"sk-estimator-id-11\" type=\"checkbox\" ><label for=\"sk-estimator-id-11\" class=\"sk-toggleable__label sk-toggleable__label-arrow\">MLPClassifier</label><div class=\"sk-toggleable__content\"><pre>MLPClassifier(max_iter=1000, random_state=42)</pre></div></div></div></div></div></div></div></div></div></div>"
      ],
      "text/plain": [
       "RandomizedSearchCV(cv=5,\n",
       "                   estimator=MLPClassifier(max_iter=1000, random_state=42),\n",
       "                   n_jobs=1,\n",
       "                   param_distributions={'activation': ['tanh', 'relu'],\n",
       "                                        'alpha': array([1.e-04, 1.e-03, 1.e-02, 1.e-01, 1.e+00]),\n",
       "                                        'hidden_layer_sizes': [(64, 64),\n",
       "                                                               (128, 128)],\n",
       "                                        'learning_rate': ['constant',\n",
       "                                                          'adaptive'],\n",
       "                                        'solver': ['sgd', 'adam']},\n",
       "                   random_state=42)"
      ]
     },
     "execution_count": 26,
     "metadata": {},
     "output_type": "execute_result"
    }
   ],
   "source": [
    "# realizando a busca aleatória com a Validação Cruzada\n",
    "random_search.fit(X_train, y_train)"
   ]
  },
  {
   "cell_type": "code",
   "execution_count": 27,
   "metadata": {},
   "outputs": [
    {
     "name": "stdout",
     "output_type": "stream",
     "text": [
      "A melhor performance do modelo foi 0.93\n",
      "Os melhores hiperparâmatros encontrados: {'solver': 'adam', 'learning_rate': 'adaptive', 'hidden_layer_sizes': (128, 128), 'alpha': 0.1, 'activation': 'tanh'}\n"
     ]
    }
   ],
   "source": [
    "# obtendo os melhores hiperparâmetros encontrados na pesquisa em grade\n",
    "best_params = random_search.best_params_\n",
    "best_score = random_search.best_score_\n",
    "print(f\"A melhor performance do modelo foi {best_score:.2f}\")\n",
    "print(f\"Os melhores hiperparâmatros encontrados: {best_params}\")"
   ]
  },
  {
   "cell_type": "code",
   "execution_count": 28,
   "metadata": {},
   "outputs": [
    {
     "name": "stdout",
     "output_type": "stream",
     "text": [
      "1: 0.93 (0.03): {'solver': 'adam', 'learning_rate': 'adaptive', 'hidden_layer_sizes': (128, 128), 'alpha': 0.1, 'activation': 'tanh'}\n",
      "2: 0.90 (0.05): {'solver': 'sgd', 'learning_rate': 'adaptive', 'hidden_layer_sizes': (64, 64), 'alpha': 0.001, 'activation': 'tanh'}\n",
      "3: 0.89 (0.04): {'solver': 'sgd', 'learning_rate': 'adaptive', 'hidden_layer_sizes': (128, 128), 'alpha': 0.01, 'activation': 'tanh'}\n",
      "4: 0.89 (0.05): {'solver': 'sgd', 'learning_rate': 'adaptive', 'hidden_layer_sizes': (128, 128), 'alpha': 0.1, 'activation': 'tanh'}\n",
      "5: 0.89 (0.04): {'solver': 'sgd', 'learning_rate': 'adaptive', 'hidden_layer_sizes': (64, 64), 'alpha': 0.01, 'activation': 'tanh'}\n",
      "6: 0.89 (0.04): {'solver': 'sgd', 'learning_rate': 'constant', 'hidden_layer_sizes': (64, 64), 'alpha': 0.0001, 'activation': 'tanh'}\n",
      "7: 0.89 (0.04): {'solver': 'sgd', 'learning_rate': 'constant', 'hidden_layer_sizes': (128, 128), 'alpha': 0.0001, 'activation': 'tanh'}\n",
      "8: 0.87 (0.05): {'solver': 'sgd', 'learning_rate': 'constant', 'hidden_layer_sizes': (128, 128), 'alpha': 0.001, 'activation': 'tanh'}\n",
      "9: 0.86 (0.05): {'solver': 'sgd', 'learning_rate': 'constant', 'hidden_layer_sizes': (128, 128), 'alpha': 0.1, 'activation': 'tanh'}\n",
      "10: 0.69 (0.12): {'solver': 'sgd', 'learning_rate': 'adaptive', 'hidden_layer_sizes': (128, 128), 'alpha': 0.1, 'activation': 'relu'}\n"
     ]
    }
   ],
   "source": [
    "medias = random_search.cv_results_['mean_test_score']\n",
    "desvios = random_search.cv_results_['std_test_score']\n",
    "parametros = random_search.cv_results_['params']\n",
    "\n",
    "# combinando as médias, desvios e parâmetros em uma lista de tuplas\n",
    "resultados = list(zip(medias, desvios, parametros))\n",
    "\n",
    "# classificando a lista de tuplas com base na média em ordem decrescente\n",
    "resultados.sort(reverse=True, key=lambda x: x[0])\n",
    "\n",
    "contador = 1\n",
    "# imprimindo os resultados em ordem decrescente\n",
    "for media, desvio, parametro in resultados:\n",
    "    print(f\"{contador}: {media:.2f} ({desvio:.2f}): {parametro}\")\n",
    "    contador += 1"
   ]
  },
  {
   "cell_type": "code",
   "execution_count": 29,
   "metadata": {},
   "outputs": [],
   "source": [
    "# treinando o modelo com os melhores hiperparâmetros com os dados de treinamento\n",
    "best_mlp = MLPClassifier(max_iter=1000, random_state=42, **best_params)"
   ]
  },
  {
   "cell_type": "code",
   "execution_count": 30,
   "metadata": {},
   "outputs": [
    {
     "data": {
      "text/html": [
       "<style>#sk-container-id-6 {color: black;}#sk-container-id-6 pre{padding: 0;}#sk-container-id-6 div.sk-toggleable {background-color: white;}#sk-container-id-6 label.sk-toggleable__label {cursor: pointer;display: block;width: 100%;margin-bottom: 0;padding: 0.3em;box-sizing: border-box;text-align: center;}#sk-container-id-6 label.sk-toggleable__label-arrow:before {content: \"▸\";float: left;margin-right: 0.25em;color: #696969;}#sk-container-id-6 label.sk-toggleable__label-arrow:hover:before {color: black;}#sk-container-id-6 div.sk-estimator:hover label.sk-toggleable__label-arrow:before {color: black;}#sk-container-id-6 div.sk-toggleable__content {max-height: 0;max-width: 0;overflow: hidden;text-align: left;background-color: #f0f8ff;}#sk-container-id-6 div.sk-toggleable__content pre {margin: 0.2em;color: black;border-radius: 0.25em;background-color: #f0f8ff;}#sk-container-id-6 input.sk-toggleable__control:checked~div.sk-toggleable__content {max-height: 200px;max-width: 100%;overflow: auto;}#sk-container-id-6 input.sk-toggleable__control:checked~label.sk-toggleable__label-arrow:before {content: \"▾\";}#sk-container-id-6 div.sk-estimator input.sk-toggleable__control:checked~label.sk-toggleable__label {background-color: #d4ebff;}#sk-container-id-6 div.sk-label input.sk-toggleable__control:checked~label.sk-toggleable__label {background-color: #d4ebff;}#sk-container-id-6 input.sk-hidden--visually {border: 0;clip: rect(1px 1px 1px 1px);clip: rect(1px, 1px, 1px, 1px);height: 1px;margin: -1px;overflow: hidden;padding: 0;position: absolute;width: 1px;}#sk-container-id-6 div.sk-estimator {font-family: monospace;background-color: #f0f8ff;border: 1px dotted black;border-radius: 0.25em;box-sizing: border-box;margin-bottom: 0.5em;}#sk-container-id-6 div.sk-estimator:hover {background-color: #d4ebff;}#sk-container-id-6 div.sk-parallel-item::after {content: \"\";width: 100%;border-bottom: 1px solid gray;flex-grow: 1;}#sk-container-id-6 div.sk-label:hover label.sk-toggleable__label {background-color: #d4ebff;}#sk-container-id-6 div.sk-serial::before {content: \"\";position: absolute;border-left: 1px solid gray;box-sizing: border-box;top: 0;bottom: 0;left: 50%;z-index: 0;}#sk-container-id-6 div.sk-serial {display: flex;flex-direction: column;align-items: center;background-color: white;padding-right: 0.2em;padding-left: 0.2em;position: relative;}#sk-container-id-6 div.sk-item {position: relative;z-index: 1;}#sk-container-id-6 div.sk-parallel {display: flex;align-items: stretch;justify-content: center;background-color: white;position: relative;}#sk-container-id-6 div.sk-item::before, #sk-container-id-6 div.sk-parallel-item::before {content: \"\";position: absolute;border-left: 1px solid gray;box-sizing: border-box;top: 0;bottom: 0;left: 50%;z-index: -1;}#sk-container-id-6 div.sk-parallel-item {display: flex;flex-direction: column;z-index: 1;position: relative;background-color: white;}#sk-container-id-6 div.sk-parallel-item:first-child::after {align-self: flex-end;width: 50%;}#sk-container-id-6 div.sk-parallel-item:last-child::after {align-self: flex-start;width: 50%;}#sk-container-id-6 div.sk-parallel-item:only-child::after {width: 0;}#sk-container-id-6 div.sk-dashed-wrapped {border: 1px dashed gray;margin: 0 0.4em 0.5em 0.4em;box-sizing: border-box;padding-bottom: 0.4em;background-color: white;}#sk-container-id-6 div.sk-label label {font-family: monospace;font-weight: bold;display: inline-block;line-height: 1.2em;}#sk-container-id-6 div.sk-label-container {text-align: center;}#sk-container-id-6 div.sk-container {/* jupyter's `normalize.less` sets `[hidden] { display: none; }` but bootstrap.min.css set `[hidden] { display: none !important; }` so we also need the `!important` here to be able to override the default hidden behavior on the sphinx rendered scikit-learn.org. See: https://github.com/scikit-learn/scikit-learn/issues/21755 */display: inline-block !important;position: relative;}#sk-container-id-6 div.sk-text-repr-fallback {display: none;}</style><div id=\"sk-container-id-6\" class=\"sk-top-container\"><div class=\"sk-text-repr-fallback\"><pre>MLPClassifier(activation=&#x27;tanh&#x27;, alpha=0.1, hidden_layer_sizes=(128, 128),\n",
       "              learning_rate=&#x27;adaptive&#x27;, max_iter=1000, random_state=42)</pre><b>In a Jupyter environment, please rerun this cell to show the HTML representation or trust the notebook. <br />On GitHub, the HTML representation is unable to render, please try loading this page with nbviewer.org.</b></div><div class=\"sk-container\" hidden><div class=\"sk-item\"><div class=\"sk-estimator sk-toggleable\"><input class=\"sk-toggleable__control sk-hidden--visually\" id=\"sk-estimator-id-12\" type=\"checkbox\" checked><label for=\"sk-estimator-id-12\" class=\"sk-toggleable__label sk-toggleable__label-arrow\">MLPClassifier</label><div class=\"sk-toggleable__content\"><pre>MLPClassifier(activation=&#x27;tanh&#x27;, alpha=0.1, hidden_layer_sizes=(128, 128),\n",
       "              learning_rate=&#x27;adaptive&#x27;, max_iter=1000, random_state=42)</pre></div></div></div></div></div>"
      ],
      "text/plain": [
       "MLPClassifier(activation='tanh', alpha=0.1, hidden_layer_sizes=(128, 128),\n",
       "              learning_rate='adaptive', max_iter=1000, random_state=42)"
      ]
     },
     "execution_count": 30,
     "metadata": {},
     "output_type": "execute_result"
    }
   ],
   "source": [
    "# ajustando os dados de treinamento npara treinamento do modelo classificador\n",
    "best_mlp.fit(X_train, y_train)"
   ]
  },
  {
   "cell_type": "code",
   "execution_count": 31,
   "metadata": {},
   "outputs": [],
   "source": [
    "# fazendo as previsões do modelo treinado com os dados de teste\n",
    "y_pred = best_mlp.predict(X_test)"
   ]
  },
  {
   "cell_type": "code",
   "execution_count": 32,
   "metadata": {},
   "outputs": [
    {
     "name": "stdout",
     "output_type": "stream",
     "text": [
      "\n",
      "Relatório de Classificação:\n",
      "              precision    recall  f1-score   support\n",
      "\n",
      "           0       0.95      0.93      0.94        43\n",
      "           1       0.96      0.97      0.97        71\n",
      "\n",
      "    accuracy                           0.96       114\n",
      "   macro avg       0.96      0.95      0.95       114\n",
      "weighted avg       0.96      0.96      0.96       114\n",
      "\n"
     ]
    }
   ],
   "source": [
    "# avaliando o desempenho do modelo classificador\n",
    "report = classification_report(y_test, y_pred)\n",
    "print(\"\\nRelatório de Classificação:\")\n",
    "print(report)"
   ]
  },
  {
   "cell_type": "markdown",
   "metadata": {},
   "source": [
    "### Análise do Desempenho do Modelo Classificador com uso dos melhores hiperparâmetros obtidos com a técnica da Pesquisa Aleatória\n",
    "\n",
    "- **Precision (Precisão):** Para a classe 0, a precisão é de 0.95, indicando que 95% das previsões da classe 0 estão corretas. Para a classe 1, a precisão é de 0.96, o que significa que 96% das previsões da classe 1 estão corretas.\n",
    "\n",
    "- **Recall (Revocação):** Para a classe 0, o recall é de 0.93, indicando que o modelo identificou 93% dos verdadeiros exemplos da classe 0. Para a classe 1, o recall é de 0.97, o que significa que o modelo identificou 97% dos verdadeiros exemplos da classe 1.\n",
    "\n",
    "- **F1-score:** O F1-score é uma métrica que combina precisão e recall em uma única medida. Para a classe 0, o F1-score é 0.94, e para a classe 1, é 0.97.\n",
    "\n",
    "- **Accuracy (Precisão Global):** A precisão global do modelo é de 96%. Isso significa que o modelo classificou corretamente 96% das amostras no conjunto de dados."
   ]
  },
  {
   "cell_type": "markdown",
   "metadata": {},
   "source": [
    "### Comparação entre os métodos de pesquisa em grade e pesquisa aleatória\n",
    "\n",
    "- O método de pesquisa aleatória (`RandomizedSearchCV`) obteve resultados ligeiramente melhores em termos de precisão, recall e F1-score para ambas as classes (0 e 1) em comparação com o método de pesquisa em grade (`GridSearchCV`).\n",
    "\n",
    "- Além disso, o método de pesquisa aleatória alcançou uma precisão global (accuracy) de 96%, enquanto o método de pesquisa em grade alcançou uma precisão global de 90%. \n",
    "\n",
    "- Isso sugere que a pesquisa aleatória conseguiu encontrar uma combinação de hiperparâmetros que resultou em um modelo com melhor desempenho geral no conjunto de dados.\n",
    "\n",
    "Portanto, com base nos resultados apresentados, o método de pesquisa aleatória parece ter sido mais eficaz na otimização dos hiperparâmetros do modelo em comparação com o método de pesquisa em grade para o seu conjunto de dados específico."
   ]
  }
 ],
 "metadata": {
  "colab": {
   "authorship_tag": "ABX9TyMCmHPzxoyRVunOSY9PMKsx",
   "provenance": []
  },
  "kernelspec": {
   "display_name": "Python 3 (ipykernel)",
   "language": "python",
   "name": "python3"
  },
  "language_info": {
   "codemirror_mode": {
    "name": "ipython",
    "version": 3
   },
   "file_extension": ".py",
   "mimetype": "text/x-python",
   "name": "python",
   "nbconvert_exporter": "python",
   "pygments_lexer": "ipython3",
   "version": "3.10.9"
  }
 },
 "nbformat": 4,
 "nbformat_minor": 1
}
